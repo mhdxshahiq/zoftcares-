{
  "nbformat": 4,
  "nbformat_minor": 0,
  "metadata": {
    "colab": {
      "provenance": [],
      "gpuType": "T4"
    },
    "kernelspec": {
      "name": "python3",
      "display_name": "Python 3"
    },
    "language_info": {
      "name": "python"
    },
    "accelerator": "GPU"
  },
  "cells": [
    {
      "cell_type": "code",
      "source": [
        "!pip install -q kaggle ultralytics xmltodict\n"
      ],
      "metadata": {
        "colab": {
          "base_uri": "https://localhost:8080/"
        },
        "id": "nnjalqb1aD2p",
        "outputId": "f33431f6-3670-4c95-ffea-73c03eee7af2"
      },
      "execution_count": null,
      "outputs": [
        {
          "output_type": "stream",
          "name": "stdout",
          "text": [
            "\u001b[2K   \u001b[90m━━━━━━━━━━━━━━━━━━━━━━━━━━━━━━━━━━━━━━━━\u001b[0m \u001b[32m974.5/974.5 kB\u001b[0m \u001b[31m18.9 MB/s\u001b[0m eta \u001b[36m0:00:00\u001b[0m\n",
            "\u001b[2K   \u001b[90m━━━━━━━━━━━━━━━━━━━━━━━━━━━━━━━━━━━━━━━━\u001b[0m \u001b[32m363.4/363.4 MB\u001b[0m \u001b[31m3.7 MB/s\u001b[0m eta \u001b[36m0:00:00\u001b[0m\n",
            "\u001b[2K   \u001b[90m━━━━━━━━━━━━━━━━━━━━━━━━━━━━━━━━━━━━━━━━\u001b[0m \u001b[32m13.8/13.8 MB\u001b[0m \u001b[31m43.8 MB/s\u001b[0m eta \u001b[36m0:00:00\u001b[0m\n",
            "\u001b[2K   \u001b[90m━━━━━━━━━━━━━━━━━━━━━━━━━━━━━━━━━━━━━━━━\u001b[0m \u001b[32m24.6/24.6 MB\u001b[0m \u001b[31m31.1 MB/s\u001b[0m eta \u001b[36m0:00:00\u001b[0m\n",
            "\u001b[2K   \u001b[90m━━━━━━━━━━━━━━━━━━━━━━━━━━━━━━━━━━━━━━━━\u001b[0m \u001b[32m883.7/883.7 kB\u001b[0m \u001b[31m20.0 MB/s\u001b[0m eta \u001b[36m0:00:00\u001b[0m\n",
            "\u001b[2K   \u001b[90m━━━━━━━━━━━━━━━━━━━━━━━━━━━━━━━━━━━━━━━━\u001b[0m \u001b[32m664.8/664.8 MB\u001b[0m \u001b[31m3.1 MB/s\u001b[0m eta \u001b[36m0:00:00\u001b[0m\n",
            "\u001b[2K   \u001b[90m━━━━━━━━━━━━━━━━━━━━━━━━━━━━━━━━━━━━━━━━\u001b[0m \u001b[32m211.5/211.5 MB\u001b[0m \u001b[31m4.9 MB/s\u001b[0m eta \u001b[36m0:00:00\u001b[0m\n",
            "\u001b[2K   \u001b[90m━━━━━━━━━━━━━━━━━━━━━━━━━━━━━━━━━━━━━━━━\u001b[0m \u001b[32m56.3/56.3 MB\u001b[0m \u001b[31m10.6 MB/s\u001b[0m eta \u001b[36m0:00:00\u001b[0m\n",
            "\u001b[2K   \u001b[90m━━━━━━━━━━━━━━━━━━━━━━━━━━━━━━━━━━━━━━━━\u001b[0m \u001b[32m127.9/127.9 MB\u001b[0m \u001b[31m10.0 MB/s\u001b[0m eta \u001b[36m0:00:00\u001b[0m\n",
            "\u001b[2K   \u001b[90m━━━━━━━━━━━━━━━━━━━━━━━━━━━━━━━━━━━━━━━━\u001b[0m \u001b[32m207.5/207.5 MB\u001b[0m \u001b[31m3.3 MB/s\u001b[0m eta \u001b[36m0:00:00\u001b[0m\n",
            "\u001b[2K   \u001b[90m━━━━━━━━━━━━━━━━━━━━━━━━━━━━━━━━━━━━━━━━\u001b[0m \u001b[32m21.1/21.1 MB\u001b[0m \u001b[31m28.4 MB/s\u001b[0m eta \u001b[36m0:00:00\u001b[0m\n",
            "\u001b[?25h"
          ]
        }
      ]
    },
    {
      "cell_type": "code",
      "source": [
        "import os\n",
        "import json\n",
        "\n",
        "# Set up Kaggle API credentials\n",
        "os.makedirs('/root/.kaggle', exist_ok=True)\n",
        "\n",
        "kaggle_json = {\n",
        "    \"username\": \"jun4id\",  # 🔁 Replace with your actual Kaggle username if different\n",
        "    \"key\": \"727ddfb29983b0f606feccd167776920\"  # 🔁 Replace with your Kaggle API key if different\n",
        "}\n",
        "\n",
        "with open('/root/.kaggle/kaggle.json', 'w') as f:\n",
        "    json.dump(kaggle_json, f)\n",
        "\n",
        "# Set proper permissions for the Kaggle file\n",
        "!chmod 600 /root/.kaggle/kaggle.json\n"
      ],
      "metadata": {
        "id": "vCncE3-pbTuP"
      },
      "execution_count": null,
      "outputs": []
    },
    {
      "cell_type": "code",
      "source": [
        "# Download datasets from Kaggle\n",
        "!kaggle datasets download -d hakantaskiner/personforklift-dataset\n",
        "!kaggle datasets download -d saharshsinha/forklift-dataset\n"
      ],
      "metadata": {
        "colab": {
          "base_uri": "https://localhost:8080/"
        },
        "id": "fgL-z5kAbaIl",
        "outputId": "be3376f7-e299-47d0-9019-e54a0f02423f"
      },
      "execution_count": null,
      "outputs": [
        {
          "output_type": "stream",
          "name": "stdout",
          "text": [
            "Dataset URL: https://www.kaggle.com/datasets/hakantaskiner/personforklift-dataset\n",
            "License(s): CC0-1.0\n",
            "Dataset URL: https://www.kaggle.com/datasets/saharshsinha/forklift-dataset\n",
            "License(s): unknown\n"
          ]
        }
      ]
    },
    {
      "cell_type": "code",
      "source": [
        "import zipfile\n",
        "import os\n",
        "import time\n",
        "\n",
        "# Create data directory\n",
        "os.makedirs('/content/data', exist_ok=True)\n",
        "\n",
        "# Extract personforklift dataset\n",
        "with zipfile.ZipFile('personforklift-dataset.zip', 'r') as zip_ref:\n",
        "    zip_ref.extractall('/content/data')\n",
        "\n",
        "# Extract forklift dataset\n",
        "with zipfile.ZipFile('forklift-dataset.zip', 'r') as zip_ref:\n",
        "    zip_ref.extractall('/content/data')\n",
        "\n",
        "# Wait a bit to ensure extraction completes\n",
        "time.sleep(2)\n",
        "\n",
        "# Show extracted directory contents\n",
        "!ls -la /content/data\n"
      ],
      "metadata": {
        "colab": {
          "base_uri": "https://localhost:8080/"
        },
        "id": "5Y8gGaYobgME",
        "outputId": "da0d0dc1-8899-4f02-e3a7-28b4339f731f"
      },
      "execution_count": null,
      "outputs": [
        {
          "output_type": "stream",
          "name": "stdout",
          "text": [
            "total 16\n",
            "drwxr-xr-x 4 root root 4096 Apr 12 14:36 .\n",
            "drwxr-xr-x 1 root root 4096 Apr 12 14:36 ..\n",
            "drwxr-xr-x 4 root root 4096 Apr 12 14:36 hf-dataset\n",
            "drwxr-xr-x 5 root root 4096 Apr 12 14:36 images-\n"
          ]
        }
      ]
    },
    {
      "cell_type": "code",
      "source": [
        "# Define base directory for YOLO dataset\n",
        "base_dir = '/content/forklift_dataset'\n",
        "\n",
        "# Create train, val, test folders with subfolders for images and labels\n",
        "for split in ['train', 'val', 'test']:\n",
        "    os.makedirs(f'{base_dir}/{split}/images', exist_ok=True)\n",
        "    os.makedirs(f'{base_dir}/{split}/labels', exist_ok=True)\n",
        "\n",
        "print(\"✅ Created YOLOv8 dataset folder structure.\")\n"
      ],
      "metadata": {
        "colab": {
          "base_uri": "https://localhost:8080/"
        },
        "id": "LsJdj4BRbn4D",
        "outputId": "1dc91187-38e3-4338-e3e7-4eebbf2aa23b"
      },
      "execution_count": null,
      "outputs": [
        {
          "output_type": "stream",
          "name": "stdout",
          "text": [
            "✅ Created YOLOv8 dataset folder structure.\n"
          ]
        }
      ]
    },
    {
      "cell_type": "code",
      "source": [
        "import xmltodict\n",
        "import os\n",
        "\n",
        "def convert_xml_to_yolo(xml_file, output_dir):\n",
        "    \"\"\"Convert XML annotation file to YOLO format\"\"\"\n",
        "    try:\n",
        "        # Parse XML file\n",
        "        with open(xml_file, 'r') as f:\n",
        "            xml_content = f.read()\n",
        "        xml_dict = xmltodict.parse(xml_content)\n",
        "\n",
        "        # Get image dimensions\n",
        "        try:\n",
        "            width = int(xml_dict['annotation']['size']['width'])\n",
        "            height = int(xml_dict['annotation']['size']['height'])\n",
        "        except:\n",
        "            print(f\"Error: Missing size info in {xml_file}\")\n",
        "            return None\n",
        "\n",
        "        # Extract objects\n",
        "        yolo_lines = []\n",
        "        objects = xml_dict['annotation'].get('object', [])\n",
        "\n",
        "        # Handle single object case\n",
        "        if not isinstance(objects, list):\n",
        "            objects = [objects]\n",
        "\n",
        "        # Process each object\n",
        "        for obj in objects:\n",
        "            try:\n",
        "                class_name = obj['name'].lower()\n",
        "                if 'forklift' not in class_name:\n",
        "                    continue\n",
        "\n",
        "                box = obj['bndbox']\n",
        "                xmin = float(box['xmin'])\n",
        "                ymin = float(box['ymin'])\n",
        "                xmax = float(box['xmax'])\n",
        "                ymax = float(box['ymax'])\n",
        "\n",
        "                x_center = ((xmin + xmax) / 2) / width\n",
        "                y_center = ((ymin + ymax) / 2) / height\n",
        "                box_width = (xmax - xmin) / width\n",
        "                box_height = (ymax - ymin) / height\n",
        "\n",
        "                yolo_lines.append(f\"0 {x_center} {y_center} {box_width} {box_height}\")\n",
        "            except Exception as e:\n",
        "                print(f\"Error in {xml_file}: {e}\")\n",
        "                continue\n",
        "\n",
        "        if not yolo_lines:\n",
        "            return None\n",
        "\n",
        "        output_file = os.path.join(output_dir, os.path.basename(xml_file).replace('.xml', '.txt'))\n",
        "        with open(output_file, 'w') as f:\n",
        "            f.write('\\n'.join(yolo_lines))\n",
        "\n",
        "        return output_file\n",
        "    except Exception as e:\n",
        "        print(f\"Failed to process {xml_file}: {e}\")\n",
        "        return None\n"
      ],
      "metadata": {
        "id": "dpgZ5CQibwRi"
      },
      "execution_count": null,
      "outputs": []
    },
    {
      "cell_type": "code",
      "source": [
        "import glob\n",
        "import shutil\n",
        "import random\n",
        "\n",
        "def process_dataset(images_dir, annotations_dir, split_ratios=[0.7, 0.2, 0.1]):\n",
        "    \"\"\"Process dataset, convert annotations, and split into train/val/test\"\"\"\n",
        "\n",
        "    image_files = []\n",
        "    for ext in ['.jpg', '.jpeg', '.png']:\n",
        "        image_files.extend(glob.glob(os.path.join(images_dir, f'*{ext}')))\n",
        "\n",
        "    if not image_files:\n",
        "        print(f\"No images found in {images_dir}\")\n",
        "        return\n",
        "\n",
        "    print(f\"Found {len(image_files)} images in {images_dir}\")\n",
        "    random.shuffle(image_files)\n",
        "\n",
        "    train_end = int(len(image_files) * split_ratios[0])\n",
        "    val_end = train_end + int(len(image_files) * split_ratios[1])\n",
        "\n",
        "    train_images = image_files[:train_end]\n",
        "    val_images = image_files[train_end:val_end]\n",
        "    test_images = image_files[val_end:]\n",
        "\n",
        "    splits = {\n",
        "        'train': train_images,\n",
        "        'val': val_images,\n",
        "        'test': test_images\n",
        "    }\n",
        "\n",
        "    for split_name, split_images in splits.items():\n",
        "        print(f\"Processing {len(split_images)} images for {split_name} split...\")\n",
        "        for img_path in split_images:\n",
        "            try:\n",
        "                img_filename = os.path.basename(img_path)\n",
        "                base_filename = os.path.splitext(img_filename)[0]\n",
        "                xml_filename = base_filename + '.xml'\n",
        "\n",
        "                dst_img_path = os.path.join(base_dir, split_name, 'images', img_filename)\n",
        "                shutil.copy(img_path, dst_img_path)\n",
        "\n",
        "                xml_path = os.path.join(annotations_dir, xml_filename)\n",
        "                if os.path.exists(xml_path):\n",
        "                    labels_dir = os.path.join(base_dir, split_name, 'labels')\n",
        "                    convert_xml_to_yolo(xml_path, labels_dir)\n",
        "                else:\n",
        "                    print(f\"Annotation not found for {img_filename}\")\n",
        "            except Exception as e:\n",
        "                print(f\"Error processing {img_path}: {e}\")\n"
      ],
      "metadata": {
        "id": "87iWXrSIb3g7"
      },
      "execution_count": null,
      "outputs": []
    },
    {
      "cell_type": "code",
      "source": [
        "print(\"\\nAnalyzing dataset structure...\")\n",
        "\n",
        "# Check first dataset structure (hf-dataset)\n",
        "if os.path.exists('/content/data/hf-dataset'):\n",
        "    print(\"Found hf-dataset\")\n",
        "    hf_images_dir = '/content/data/hf-dataset/images'\n",
        "    hf_labels_dir = '/content/data/hf-dataset/labels'\n",
        "\n",
        "    if os.path.exists(os.path.join(hf_images_dir, 'train')):\n",
        "        hf_images_dir = os.path.join(hf_images_dir, 'train')\n",
        "        print(f\"Images found in train subdirectory: {hf_images_dir}\")\n",
        "else:\n",
        "    hf_dirs = glob.glob('/content/data/**/hf-dataset', recursive=True)\n",
        "    if hf_dirs:\n",
        "        print(f\"Found hf-dataset at {hf_dirs[0]}\")\n",
        "        hf_images_dir = os.path.join(hf_dirs[0], 'images')\n",
        "        hf_labels_dir = os.path.join(hf_dirs[0], 'labels')\n",
        "\n",
        "        if os.path.exists(os.path.join(hf_images_dir, 'train')):\n",
        "            hf_images_dir = os.path.join(hf_images_dir, 'train')\n",
        "            print(f\"Images found in train subdirectory: {hf_images_dir}\")\n",
        "    else:\n",
        "        print(\"Could not find hf-dataset\")\n",
        "        hf_images_dir = None\n",
        "        hf_labels_dir = None\n",
        "\n",
        "# Check second dataset structure (images-)\n",
        "if os.path.exists('/content/data/images-'):\n",
        "    print(\"Found images- dataset\")\n",
        "    images_dir = '/content/data/images-/train'\n",
        "else:\n",
        "    images_dirs = glob.glob('/content/data/**/images-', recursive=True)\n",
        "    if images_dirs:\n",
        "        print(f\"Found images- dataset at {images_dirs[0]}\")\n",
        "        images_dir = os.path.join(images_dirs[0], 'train')\n",
        "    else:\n",
        "        print(\"Could not find images- dataset\")\n",
        "        images_dir = None\n",
        "\n",
        "# Process both datasets\n",
        "if hf_images_dir and hf_labels_dir and os.path.exists(hf_images_dir) and os.path.exists(hf_labels_dir):\n",
        "    print(f\"\\nProcessing first dataset (HF dataset) from {hf_images_dir}...\")\n",
        "    process_dataset(hf_images_dir, hf_labels_dir)\n",
        "else:\n",
        "    print(\"\\nSkipping first dataset (HF dataset) as it was not found or is incomplete\")\n",
        "\n",
        "if images_dir and os.path.exists(images_dir):\n",
        "    print(f\"\\nProcessing second dataset (images-) from {images_dir}...\")\n",
        "    process_dataset(images_dir, images_dir)\n",
        "else:\n",
        "    print(\"\\nSkipping second dataset (images-) as it was not found\")\n"
      ],
      "metadata": {
        "colab": {
          "base_uri": "https://localhost:8080/"
        },
        "id": "R-3Tv3Q3b-P-",
        "outputId": "53c6d8fd-2e0b-4cfc-c483-68a6b2e0d6cc"
      },
      "execution_count": null,
      "outputs": [
        {
          "output_type": "stream",
          "name": "stdout",
          "text": [
            "\n",
            "Analyzing dataset structure...\n",
            "Found hf-dataset\n",
            "Images found in train subdirectory: /content/data/hf-dataset/images/train\n",
            "Found images- dataset\n",
            "\n",
            "Processing first dataset (HF dataset) from /content/data/hf-dataset/images/train...\n",
            "Found 1249 images in /content/data/hf-dataset/images/train\n",
            "Processing 874 images for train split...\n",
            "Annotation not found for data_261.jpg\n",
            "Annotation not found for SQ1SU8KS5WNU_jpg.rf.1490e0727e20d7c0d5cbf62276817665.jpg\n",
            "Annotation not found for datax_132.jpg\n",
            "Annotation not found for dataq_75.jpg\n",
            "Annotation not found for dataq_114.jpg\n",
            "Annotation not found for image_341.jpg\n",
            "Annotation not found for data_10.jpg\n",
            "Annotation not found for HILZJIWVPORL_jpg.rf.26acc4deb2f0c0667ca4a09ca046c390.jpg\n",
            "Annotation not found for X7LY4HTFT2XE_jpg.rf.b171bec13657347f0bd0af194cd38960.jpg\n",
            "Annotation not found for NVL8YR7VSQ04_jpg.rf.5d32a227590c79db13af3f53bb45f5ae.jpg\n",
            "Annotation not found for 62LXGO7FCDAQ_jpg.rf.466228aac3eae9cdb9408bd443c444c4.jpg\n",
            "Annotation not found for dataq_108.jpg\n",
            "Annotation not found for dataq_123.jpg\n",
            "Annotation not found for data_133.jpg\n",
            "Annotation not found for 763BMAGH3BSH_jpg.rf.1c2a64bdc3f648c1605bc534b8dda1bb.jpg\n",
            "Annotation not found for HM5MUXJZWV0G_jpg.rf.0eb977e4840822e0cd9ba158ed5a5acb.jpg\n",
            "Annotation not found for VMHRC1AX0XUM_jpg.rf.a21e66e89f1c670fae27f928c6e4416d.jpg\n",
            "Annotation not found for 1KXGJDQVOGTU_jpg.rf.15b09883a1a931d6de8b40029cef47f6.jpg\n",
            "Annotation not found for dataq_127.jpg\n",
            "Annotation not found for Y32JRLFRW6UD_jpg.rf.9b927bea08137222ec365ad8498762d2.jpg\n",
            "Annotation not found for image_50.jpg\n",
            "Annotation not found for data_79.jpg\n",
            "Annotation not found for data_4.jpg\n",
            "Annotation not found for dataq_148.jpg\n",
            "Annotation not found for image_244.jpg\n",
            "Annotation not found for image_343.jpg\n",
            "Annotation not found for B5IBHEJZOKCH_jpg.rf.7b6edccd22c6dfeb9360b40abc32871b.jpg\n",
            "Annotation not found for datax_76.jpg\n",
            "Annotation not found for data_257.jpg\n",
            "Annotation not found for data_194.jpg\n",
            "Annotation not found for DTL2QW4REEMH_jpg.rf.ce54c8a5bdcd9c2776a5459dd8944e6f.jpg\n",
            "Annotation not found for image_76.jpg\n",
            "Annotation not found for image_17.jpg\n",
            "Annotation not found for data_217.jpg\n",
            "Annotation not found for dataq_166.jpg\n",
            "Annotation not found for image_125.jpg\n",
            "Annotation not found for datax_154.jpg\n",
            "Annotation not found for E2GAOUTOJRFX_jpg.rf.891aff0f48e7db1d72fab573f4f2ada9.jpg\n",
            "Annotation not found for CP48052GSNSS_jpg.rf.05de97259e34d87f6fbd41f0d5dc39b9.jpg\n",
            "Annotation not found for data_54.jpg\n",
            "Annotation not found for data_52.jpg\n",
            "Annotation not found for image_247.jpg\n",
            "Annotation not found for data_61.jpg\n",
            "Annotation not found for image_112.jpg\n",
            "Annotation not found for data_86.jpg\n",
            "Annotation not found for datax_7.jpg\n",
            "Annotation not found for data_173.jpg\n",
            "Annotation not found for dataq_61.jpg\n",
            "Annotation not found for image_8.jpg\n",
            "Annotation not found for datax_92.jpg\n",
            "Annotation not found for data_60.jpg\n",
            "Annotation not found for UZBHPVVIXNC7_jpg.rf.2d540b1ab441a96ad92ebcde098ec2b5.jpg\n",
            "Annotation not found for image_197.jpg\n",
            "Annotation not found for data_103.jpg\n",
            "Annotation not found for dataq_145.jpg\n",
            "Annotation not found for 9EGOYISWUUGP_jpg.rf.4daab9570c6b4538409a20846dbb347c.jpg\n",
            "Annotation not found for image_188.jpg\n",
            "Annotation not found for image_284.jpg\n",
            "Annotation not found for datax_69.jpg\n",
            "Annotation not found for data_272.jpg\n",
            "Annotation not found for dataq_132.jpg\n",
            "Annotation not found for datax_53.jpg\n",
            "Annotation not found for A7LYTN2N8DZQ_jpg.rf.ddae6349fa54cc7209d7cf406f099631.jpg\n",
            "Annotation not found for 1KILJRO4UDBB_jpg.rf.cd8d721dabf39a247ac44d2518a1dfc0.jpg\n",
            "Annotation not found for data_156.jpg\n",
            "Annotation not found for data_189.jpg\n",
            "Annotation not found for data_248.jpg\n",
            "Annotation not found for CGQYWW74UBH4_jpg.rf.7e591f9f8731dfaddab811c210ffd4e9.jpg\n",
            "Annotation not found for data_242.jpg\n",
            "Annotation not found for datax_60.jpg\n",
            "Annotation not found for image_307.jpg\n",
            "Annotation not found for dataq_23.jpg\n",
            "Annotation not found for data_100.jpg\n",
            "Annotation not found for data_185.jpg\n",
            "Annotation not found for data_208.jpg\n",
            "Annotation not found for data_63.jpg\n",
            "Annotation not found for datax_26.jpg\n",
            "Annotation not found for data_228.jpg\n",
            "Annotation not found for data_46.jpg\n",
            "Annotation not found for ZGIOEFI2A67T_jpg.rf.840eefc04e892ddaaa2f5cb95798b2e7.jpg\n",
            "Annotation not found for image_267.jpg\n",
            "Annotation not found for datax_102.jpg\n",
            "Annotation not found for TIXFXMK7GTGU_jpg.rf.8e8b0b0d029bc11d87582cd1f11ebd60.jpg\n",
            "Annotation not found for BKSPW6S722PU_jpg.rf.6481f5e8012a615c0b4444689c2c82b0.jpg\n",
            "Annotation not found for data_55.jpg\n",
            "Annotation not found for data_214.jpg\n",
            "Annotation not found for image_278.jpg\n",
            "Annotation not found for data_80.jpg\n",
            "Annotation not found for datax_123.jpg\n",
            "Annotation not found for image_81.jpg\n",
            "Annotation not found for dataq_56.jpg\n",
            "Annotation not found for B3OV5EXCX9TH_jpg.rf.a0b339082101ede7c07c0d08e2e4c9dc.jpg\n",
            "Annotation not found for D8MXVDW1HP24_jpg.rf.f0846facc9f4fc97b4d0c36e09b9a83e.jpg\n",
            "Annotation not found for image_37.jpg\n",
            "Annotation not found for image_183.jpg\n",
            "Annotation not found for LHZFP7ZD002E_jpg.rf.42e1944f3b6db5d402836fbcbba9630c.jpg\n",
            "Annotation not found for image_305.jpg\n",
            "Annotation not found for data_23.jpg\n",
            "Annotation not found for image_70.jpg\n",
            "Annotation not found for data_237.jpg\n",
            "Annotation not found for data_98.jpg\n",
            "Annotation not found for 3L1GJ68D5QBZ_jpg.rf.75fc4440dd4ff85620051f73fadac950.jpg\n",
            "Annotation not found for 4YADSLP6QWWA_jpg.rf.adfc3c0489075fc8c84bbc2479b6aa37.jpg\n",
            "Annotation not found for datax_155.jpg\n",
            "Annotation not found for ME0I4GI2F986_jpg.rf.e378acce6c3fc1d74c2fe1acbcb495b9.jpg\n",
            "Annotation not found for datax_31.jpg\n",
            "Annotation not found for dataq_44.jpg\n",
            "Annotation not found for image_157.jpg\n",
            "Annotation not found for datax_113.jpg\n",
            "Annotation not found for CYSZU4EXSO3X_jpg.rf.09d459df973aeb29d1303a5ea6244d8d.jpg\n",
            "Annotation not found for image_26.jpg\n",
            "Annotation not found for 1DUOU2W1RCVI_jpg.rf.834c5eacbff2f12b18bd7c666ef7d218.jpg\n",
            "Annotation not found for image_100.jpg\n",
            "Annotation not found for data_126.jpg\n",
            "Annotation not found for image_189.jpg\n",
            "Annotation not found for NWY6NE0QBQTD_jpg.rf.6f4a93363f77876399c07240061cd1dd.jpg\n",
            "Annotation not found for image_255.jpg\n",
            "Annotation not found for 8YVPWMG6TN0R_jpg.rf.bd4c56428686f49a204ecde8af10340b.jpg\n",
            "Annotation not found for image_38.jpg\n",
            "Annotation not found for datax_14.jpg\n",
            "Annotation not found for image_202.jpg\n",
            "Annotation not found for image_87.jpg\n",
            "Annotation not found for 7QENMANN1XF8_jpg.rf.655d10e07cd9751f83d56a880597943f.jpg\n",
            "Annotation not found for CV6GGJVE91XB_jpg.rf.48e1e11c36bb58e04866cc4be9a262ed.jpg\n",
            "Annotation not found for OPOED6W5KKC8_jpg.rf.a59840763525d19127044785c7f591d9.jpg\n",
            "Annotation not found for image_177.jpg\n",
            "Annotation not found for UB0BIMJEO6VV_jpg.rf.6c01854b34b3a3dea71351807ddb4a8e.jpg\n",
            "Annotation not found for data_138.jpg\n",
            "Annotation not found for ML0NSNEGZ1QK_jpg.rf.251ed0e307f6b3bb31e62a124aa8bf97.jpg\n",
            "Annotation not found for dataq_134.jpg\n",
            "Annotation not found for datax_129.jpg\n",
            "Annotation not found for data_206.jpg\n",
            "Annotation not found for WDEHB328UV9W_jpg.rf.6f017f93bdd2cee4c48d660050c18e9e.jpg\n",
            "Annotation not found for datax_45.jpg\n",
            "Annotation not found for dataq_13.jpg\n",
            "Annotation not found for image_99.jpg\n",
            "Annotation not found for image_349.jpg\n",
            "Annotation not found for image_228.jpg\n",
            "Annotation not found for image_254.jpg\n",
            "Annotation not found for image_338.jpg\n",
            "Annotation not found for image_54.jpg\n",
            "Annotation not found for dataq_159.jpg\n",
            "Annotation not found for datax_32.jpg\n",
            "Annotation not found for image_142.jpg\n",
            "Annotation not found for dataq_32.jpg\n",
            "Annotation not found for image_217.jpg\n",
            "Annotation not found for 6LOT4117QFN2_jpg.rf.110f6e2eb11bdf3f9ad1e5ca5db73ce5.jpg\n",
            "Annotation not found for 86CPNVRFXWD6_jpg.rf.e56a2ad8ed6c3ee116bba2772cac5252.jpg\n",
            "Annotation not found for datax_10.jpg\n",
            "Annotation not found for image_137.jpg\n",
            "Annotation not found for 319D3HVXW50D_jpg.rf.bd075421c763b4564992318e87a52e83.jpg\n",
            "Annotation not found for data_146.jpg\n",
            "Annotation not found for datax_100.jpg\n",
            "Annotation not found for DVV0R1ZWB0T4_jpg.rf.b0b085ea929a6d9da2424bcc458d1517.jpg\n",
            "Annotation not found for image_1.jpg\n",
            "Annotation not found for datax_107.jpg\n",
            "Annotation not found for image_317.jpg\n",
            "Annotation not found for dataq_130.jpg\n",
            "Annotation not found for JXFPTRHR122O_jpg.rf.a8ffd7b5721b67ff3f5543782042a408.jpg\n",
            "Annotation not found for FL3QPQ46X92C_jpg.rf.b21090647576749f483d788055499207.jpg\n",
            "Annotation not found for dataq_172.jpg\n",
            "Annotation not found for data_117.jpg\n",
            "Annotation not found for data_129.jpg\n",
            "Annotation not found for data_92.jpg\n",
            "Annotation not found for LM7V587BDJ37_jpg.rf.2fca458aa485655d62ef513f78955b20.jpg\n",
            "Annotation not found for 8R2637B47YNB_jpg.rf.9399103580b3f39bc7cff59c6de90d13.jpg\n",
            "Annotation not found for 6FEAR0NVGC6S_jpg.rf.7aabc56774e1458eff91f1c2b82b5ae8.jpg\n",
            "Annotation not found for datax_51.jpg\n",
            "Annotation not found for datax_96.jpg\n",
            "Annotation not found for datax_36.jpg\n",
            "Annotation not found for image_308.jpg\n",
            "Annotation not found for image_31.jpg\n",
            "Annotation not found for data_82.jpg\n",
            "Annotation not found for image_265.jpg\n",
            "Annotation not found for image_261.jpg\n",
            "Annotation not found for 72HAX054J94Q_jpg.rf.08964ac92336c0b211aedad01e4c4bb4.jpg\n",
            "Annotation not found for image_140.jpg\n",
            "Annotation not found for data_153.jpg\n",
            "Annotation not found for ZBSHFC3OHSL5_jpg.rf.2d0351e8d6b3cd6cb45d75679f20b908.jpg\n",
            "Annotation not found for datax_119.jpg\n",
            "Annotation not found for image_227.jpg\n",
            "Annotation not found for datax_23.jpg\n",
            "Annotation not found for image_148.jpg\n",
            "Annotation not found for data_135.jpg\n",
            "Annotation not found for data_29.jpg\n",
            "Annotation not found for image_314.jpg\n",
            "Annotation not found for dataq_88.jpg\n",
            "Annotation not found for datax_6.jpg\n",
            "Annotation not found for dataq_83.jpg\n",
            "Annotation not found for YZQKBUBHA9E9_jpg.rf.281e99a5a2797d74088e8daeeb51460c.jpg\n",
            "Annotation not found for dataq_151.jpg\n",
            "Annotation not found for data_12.jpg\n",
            "Annotation not found for image_115.jpg\n",
            "Annotation not found for dataq_112.jpg\n",
            "Annotation not found for dataq_131.jpg\n",
            "Annotation not found for dataq_49.jpg\n",
            "Annotation not found for FC0LO1BEY9ME_jpg.rf.c4793fab237dc2d90ad78a89590d8b75.jpg\n",
            "Annotation not found for image_60.jpg\n",
            "Annotation not found for image_354.jpg\n",
            "Annotation not found for datax_118.jpg\n",
            "Annotation not found for image_204.jpg\n",
            "Annotation not found for image_161.jpg\n",
            "Annotation not found for dataq_5.jpg\n",
            "Annotation not found for data_210.jpg\n",
            "Annotation not found for datax_19.jpg\n",
            "Annotation not found for data_70.jpg\n",
            "Annotation not found for 1JR7XIDE4BF5_jpg.rf.474256f377911cb4ad555cf10f0bbfed.jpg\n",
            "Annotation not found for image_306.jpg\n",
            "Annotation not found for image_318.jpg\n",
            "Annotation not found for data_255.jpg\n",
            "Annotation not found for datax_39.jpg\n",
            "Annotation not found for datax_85.jpg\n",
            "Annotation not found for image_170.jpg\n",
            "Annotation not found for dataq_138.jpg\n",
            "Annotation not found for Q2FFU22M82PS_jpg.rf.1d13865d4efd7b3d89121545dfecff22.jpg\n",
            "Annotation not found for dataq_153.jpg\n",
            "Annotation not found for dataq_51.jpg\n",
            "Annotation not found for dataq_121.jpg\n",
            "Annotation not found for datax_97.jpg\n",
            "Annotation not found for image_199.jpg\n",
            "Annotation not found for image_299.jpg\n",
            "Annotation not found for LBU741FZX1OZ_jpg.rf.b8e8ed7b2d98f6a7a8c5066302631fed.jpg\n",
            "Annotation not found for image_18.jpg\n",
            "Annotation not found for dataq_17.jpg\n",
            "Annotation not found for datax_28.jpg\n",
            "Annotation not found for image_98.jpg\n",
            "Annotation not found for datax_71.jpg\n",
            "Annotation not found for data_32.jpg\n",
            "Annotation not found for 0PJKAIHB0TLE_jpg.rf.da056805067b55bb6f11d6dc9ed37e7b.jpg\n",
            "Annotation not found for VNNBSPZ8J2DR_jpg.rf.712d620307cee3a0c966ba41e451c21e.jpg\n",
            "Annotation not found for data_20.jpg\n",
            "Annotation not found for 0VE1OCAVLKMX_jpg.rf.dec9354f703dcc5640de737e852d21b1.jpg\n",
            "Annotation not found for dataq_35.jpg\n",
            "Annotation not found for data_8.jpg\n",
            "Annotation not found for datax_50.jpg\n",
            "Annotation not found for dataq_40.jpg\n",
            "Annotation not found for 49GDHT7BA1NR_jpg.rf.70010631b1017d08a7b673979c6320ca.jpg\n",
            "Annotation not found for image_77.jpg\n",
            "Annotation not found for dataq_158.jpg\n",
            "Annotation not found for data_121.jpg\n",
            "Annotation not found for data_71.jpg\n",
            "Annotation not found for datax_44.jpg\n",
            "Annotation not found for 09B3JULPBRKM_jpg.rf.ab6ad0205a722550a1e497c2e5b56f1a.jpg\n",
            "Annotation not found for datax_120.jpg\n",
            "Annotation not found for data_19.jpg\n",
            "Annotation not found for datax_135.jpg\n",
            "Annotation not found for image_39.jpg\n",
            "Annotation not found for image_49.jpg\n",
            "Annotation not found for P3G04BX2HDK4_jpg.rf.49778a358aff6d2934f131b0cbde9129.jpg\n",
            "Annotation not found for R4UNYJMX3UHU_jpg.rf.9f7132f99e91ab2bf43236a0ff602545.jpg\n",
            "Annotation not found for image_102.jpg\n",
            "Annotation not found for image_231.jpg\n",
            "Annotation not found for data_104.jpg\n",
            "Annotation not found for WT2U7751A11M_jpg.rf.28f660e7a98604eed3de5b9162d0389e.jpg\n",
            "Annotation not found for dataq_94.jpg\n",
            "Annotation not found for image_253.jpg\n",
            "Annotation not found for dataq_53.jpg\n",
            "Annotation not found for WWZ21AAHCGUY_jpg.rf.f198f072bacdab36fe799ea60fa418fa.jpg\n",
            "Annotation not found for GER9Y0HATREU_jpg.rf.a1fb41438d5b270f2c3231d9bf0b4952.jpg\n",
            "Annotation not found for YF1N3QSY4MUB_jpg.rf.0c1cf291460c99882266deb395795a4d.jpg\n",
            "Annotation not found for datax_67.jpg\n",
            "Annotation not found for Z2FAFX4CS2XI_jpg.rf.29dc33e2add5f7ef288e9ecb8d67f1c5.jpg\n",
            "Annotation not found for image_136.jpg\n",
            "Annotation not found for N0QDCGT2KPQ2_jpg.rf.ffda381fe9c8252e7e10e3480a45c1be.jpg\n",
            "Annotation not found for data_171.jpg\n",
            "Annotation not found for datax_140.jpg\n",
            "Annotation not found for HTIB1XCJVBEW_jpg.rf.511db9336b1e473fd431d86ff928d630.jpg\n",
            "Annotation not found for data_177.jpg\n",
            "Annotation not found for E8JGRHSLXB8M_jpg.rf.ad3aff029253dca0868be248d96397ae.jpg\n",
            "Annotation not found for image_48.jpg\n",
            "Annotation not found for UHL11BOVQLWU_jpg.rf.7a095417fb77feb38b63491454216e3e.jpg\n",
            "Annotation not found for datax_125.jpg\n",
            "Annotation not found for image_304.jpg\n",
            "Annotation not found for data_132.jpg\n",
            "Annotation not found for QMFL1WEQF1EH_jpg.rf.5d322c704a8c67f93df40179b4e166e0.jpg\n",
            "Annotation not found for TV64DR0YEUCU_jpg.rf.f3eccd12a819546f86812268a9a848c0.jpg\n",
            "Annotation not found for dataq_22.jpg\n",
            "Annotation not found for dataq_128.jpg\n",
            "Annotation not found for datax_47.jpg\n",
            "Annotation not found for datax_156.jpg\n",
            "Annotation not found for O54VSCTXSW3J_jpg.rf.2d825228547c8e29409f694fe94f5871.jpg\n",
            "Annotation not found for ZOS2FGOQVQTY_jpg.rf.d8390bad94bff4affb56eab8d95606d9.jpg\n",
            "Annotation not found for QSB2QBZHFMEP_jpg.rf.9ed510146de498487a58138f9650763d.jpg\n",
            "Annotation not found for image_348.jpg\n",
            "Annotation not found for image_73.jpg\n",
            "Annotation not found for image_325.jpg\n",
            "Annotation not found for P08XRYYM03NL_jpg.rf.b20f7e8b74cfd7b004abe80dee17785c.jpg\n",
            "Annotation not found for TTF1451D6VP9_jpg.rf.b0567bbc98ab0810d562b8884515cb5b.jpg\n",
            "Annotation not found for image_159.jpg\n",
            "Annotation not found for image_333.jpg\n",
            "Annotation not found for image_75.jpg\n",
            "Annotation not found for Y3VTQRM6PQOD_jpg.rf.895325c4b770c65c71cd2bccba46f993.jpg\n",
            "Annotation not found for data_204.jpg\n",
            "Annotation not found for P773XJ9TA9IM_jpg.rf.00513d510bdca103f50f69d7ec7649d5.jpg\n",
            "Annotation not found for BFDH7R1MHSA3_jpg.rf.8a5daa9f6b4119a24d1b28d9c5427109.jpg\n",
            "Annotation not found for image_25.jpg\n",
            "Annotation not found for 1V6ZQK9T48OP_jpg.rf.21e287769300a9a273fbf4e810cadee6.jpg\n",
            "Annotation not found for RE9TB10QGJ1K_jpg.rf.bc3cf0f08abd18362b792fe0f4605b28.jpg\n",
            "Annotation not found for datax_56.jpg\n",
            "Annotation not found for HZHVKCK0L21E_jpg.rf.f338b623d23492c5a2355b527930d1d3.jpg\n",
            "Annotation not found for data_130.jpg\n",
            "Annotation not found for datax_127.jpg\n",
            "Annotation not found for data_142.jpg\n",
            "Annotation not found for image_33.jpg\n",
            "Annotation not found for data_280.jpg\n",
            "Annotation not found for image_276.jpg\n",
            "Annotation not found for datax_137.jpg\n",
            "Annotation not found for image_42.jpg\n",
            "Annotation not found for data_198.jpg\n",
            "Annotation not found for datax_114.jpg\n",
            "Annotation not found for data_136.jpg\n",
            "Annotation not found for data_193.jpg\n",
            "Annotation not found for data_18.jpg\n",
            "Annotation not found for 5LX6AEYSTTOX_jpg.rf.9d665077d62dda43d2acd02eb103f4b4.jpg\n",
            "Annotation not found for YE5E5VJUJ61O_jpg.rf.c30a778caf181048980d339e21e8f37f.jpg\n",
            "Annotation not found for LJ18KOWHMS4W_jpg.rf.86bd9b16c6d2faf79cf168064eed4cc1.jpg\n",
            "Annotation not found for dataq_146.jpg\n",
            "Annotation not found for K68OOWL2DK7Z_jpg.rf.43409b3cb7da5089c9e0f3f9572df84d.jpg\n",
            "Annotation not found for image_346.jpg\n",
            "Annotation not found for image_219.jpg\n",
            "Annotation not found for image_47.jpg\n",
            "Annotation not found for datax_46.jpg\n",
            "Annotation not found for data_236.jpg\n",
            "Annotation not found for KVTAIUOFGV35_jpg.rf.ca3e30ffb3d04f52d3abdd3a300f5c73.jpg\n",
            "Annotation not found for dataq_46.jpg\n",
            "Annotation not found for I2THEGI0PUST_jpg.rf.310d716f79969dd052f5b46efbf2904d.jpg\n",
            "Annotation not found for UQ5KLWBW4QHF_jpg.rf.7f2b0e0b12d5202438a0ceb80da75867.jpg\n",
            "Annotation not found for image_350.jpg\n",
            "Annotation not found for dataq_96.jpg\n",
            "Annotation not found for image_167.jpg\n",
            "Annotation not found for image_191.jpg\n",
            "Annotation not found for image_110.jpg\n",
            "Annotation not found for datax_93.jpg\n",
            "Annotation not found for image_212.jpg\n",
            "Annotation not found for data_222.jpg\n",
            "Annotation not found for dataq_163.jpg\n",
            "Annotation not found for A49XU2OFO50J_jpg.rf.58f0270212cea4c1d4c876bc5215659e.jpg\n",
            "Annotation not found for datax_5.jpg\n",
            "Annotation not found for data_225.jpg\n",
            "Annotation not found for image_83.jpg\n",
            "Annotation not found for dataq_147.jpg\n",
            "Annotation not found for data_110.jpg\n",
            "Annotation not found for data_226.jpg\n",
            "Annotation not found for image_135.jpg\n",
            "Annotation not found for IQ0JL0PHTGG5_jpg.rf.3a2d3489568072c0d8c75fc8bff525cb.jpg\n",
            "Annotation not found for image_156.jpg\n",
            "Annotation not found for HY9NCZ3KS3VW_jpg.rf.89837c6669e340f10a48f34acf1b5368.jpg\n",
            "Annotation not found for data_168.jpg\n",
            "Annotation not found for YNXXF05Z27WV_jpg.rf.5054095245b19f6c21eedc2fb65e6428.jpg\n",
            "Annotation not found for image_11.jpg\n",
            "Annotation not found for image_166.jpg\n",
            "Annotation not found for data_161.jpg\n",
            "Annotation not found for image_294.jpg\n",
            "Annotation not found for image_296.jpg\n",
            "Annotation not found for AXK2DBQQL7IC_jpg.rf.0c0622e354d7b0503eb18c866a6c62ec.jpg\n",
            "Annotation not found for dataq_33.jpg\n",
            "Annotation not found for TGXQXDIUNCIH_jpg.rf.b2439424403676e32e9dae367a2ffa2f.jpg\n",
            "Annotation not found for TB4VLOPQQGWS_jpg.rf.79650197d0cc79cbe065d42343f48fc4.jpg\n",
            "Annotation not found for datax_42.jpg\n",
            "Annotation not found for image_68.jpg\n",
            "Annotation not found for 8H6PR7AKW29O_jpg.rf.7e2c0ff4a52a61a1defef7a036e3c215.jpg\n",
            "Annotation not found for image_35.jpg\n",
            "Annotation not found for datax_57.jpg\n",
            "Annotation not found for image_111.jpg\n",
            "Annotation not found for RL4ECQ76XGJL_jpg.rf.ecad473d096b5d762836f2ca1f818196.jpg\n",
            "Annotation not found for dataq_28.jpg\n",
            "Annotation not found for data_40.jpg\n",
            "Annotation not found for RXPYYD9ZW5KH_jpg.rf.4417234dad9a1c01e7bc58d0c48141fd.jpg\n",
            "Annotation not found for 7B57Z09MAMWO_jpg.rf.62fea6f17201a316f767c90d5f252ebf.jpg\n",
            "Annotation not found for image_277.jpg\n",
            "Annotation not found for image_357.jpg\n",
            "Annotation not found for image_56.jpg\n",
            "Annotation not found for image_155.jpg\n",
            "Annotation not found for image_248.jpg\n",
            "Annotation not found for image_225.jpg\n",
            "Annotation not found for image_113.jpg\n",
            "Annotation not found for image_32.jpg\n",
            "Annotation not found for image_281.jpg\n",
            "Annotation not found for datax_101.jpg\n",
            "Annotation not found for data_163.jpg\n",
            "Annotation not found for dataq_115.jpg\n",
            "Annotation not found for image_210.jpg\n",
            "Annotation not found for VLHQCQLIBED6_jpg.rf.57b54fba8e0350044f5a13bc8c3da85d.jpg\n",
            "Annotation not found for data_97.jpg\n",
            "Annotation not found for data_72.jpg\n",
            "Annotation not found for image_249.jpg\n",
            "Annotation not found for image_214.jpg\n",
            "Annotation not found for image_207.jpg\n",
            "Annotation not found for image_105.jpg\n",
            "Annotation not found for image_262.jpg\n",
            "Annotation not found for datax_133.jpg\n",
            "Annotation not found for 2JXIC0X5D240_jpg.rf.e8ab797b68f2a83072398a0db4a0a99a.jpg\n",
            "Annotation not found for data_144.jpg\n",
            "Annotation not found for image_154.jpg\n",
            "Annotation not found for datax_25.jpg\n",
            "Annotation not found for image_95.jpg\n",
            "Annotation not found for data_64.jpg\n",
            "Annotation not found for datax_105.jpg\n",
            "Annotation not found for WIIG5IL08DRO_jpg.rf.dd5cde8a727a00daaec4a5a51e1bee4c.jpg\n",
            "Annotation not found for data_211.jpg\n",
            "Annotation not found for data_16.jpg\n",
            "Annotation not found for image_233.jpg\n",
            "Annotation not found for data_96.jpg\n",
            "Annotation not found for data_276.jpg\n",
            "Annotation not found for image_195.jpg\n",
            "Annotation not found for datax_1.jpg\n",
            "Annotation not found for data_229.jpg\n",
            "Annotation not found for WVA72LIT2FCZ_jpg.rf.f789dc72a547f969db1eb852e5ac6e75.jpg\n",
            "Annotation not found for data_183.jpg\n",
            "Annotation not found for data_74.jpg\n",
            "Annotation not found for data_88.jpg\n",
            "Annotation not found for data_269.jpg\n",
            "Annotation not found for dataq_4.jpg\n",
            "Annotation not found for dataq_160.jpg\n",
            "Annotation not found for datax_122.jpg\n",
            "Annotation not found for data_105.jpg\n",
            "Annotation not found for FU46N5R9C6B3_jpg.rf.bae1afc6398d4d4572162904cdd52956.jpg\n",
            "Annotation not found for data_152.jpg\n",
            "Annotation not found for 2ITU1GQBQO6Y_jpg.rf.d4ede5610eceecbb3062029bded3c70e.jpg\n",
            "Annotation not found for image_79.jpg\n",
            "Annotation not found for MV9PL3LER0UU_jpg.rf.1cd4eac99e5a0c019f182c4e86ba430f.jpg\n",
            "Annotation not found for dataq_118.jpg\n",
            "Annotation not found for image_226.jpg\n",
            "Annotation not found for dataq_102.jpg\n",
            "Annotation not found for datax_58.jpg\n",
            "Annotation not found for data_25.jpg\n",
            "Annotation not found for data_48.jpg\n",
            "Annotation not found for data_22.jpg\n",
            "Annotation not found for dataq_162.jpg\n",
            "Annotation not found for dataq_14.jpg\n",
            "Annotation not found for image_259.jpg\n",
            "Annotation not found for image_324.jpg\n",
            "Annotation not found for image_193.jpg\n",
            "Annotation not found for image_215.jpg\n",
            "Annotation not found for CT0EQTGAECMD_jpg.rf.81bd3397137ef75dff832fc41b20387a.jpg\n",
            "Annotation not found for image_13.jpg\n",
            "Annotation not found for JTBIAXQ7ML1C_jpg.rf.e4ab1405ed1a1b0b7399890239290275.jpg\n",
            "Annotation not found for image_322.jpg\n",
            "Annotation not found for data_207.jpg\n",
            "Annotation not found for DWW0BQXCK5CS_jpg.rf.95e2527faea0523963265b9dfc5cfd1a.jpg\n",
            "Annotation not found for BO40JH95XNW3_jpg.rf.86d3e71c2020e4ca945899b764d4d5e0.jpg\n",
            "Annotation not found for image_21.jpg\n",
            "Annotation not found for U7LEQ7JP4PBE_jpg.rf.1ca10fd8b53dabf372769a3feb0891ce.jpg\n",
            "Annotation not found for dataq_20.jpg\n",
            "Annotation not found for image_218.jpg\n",
            "Annotation not found for image_234.jpg\n",
            "Annotation not found for datax_144.jpg\n",
            "Annotation not found for image_169.jpg\n",
            "Annotation not found for datax_33.jpg\n",
            "Annotation not found for AF4GT1WMLS49_jpg.rf.ea0c29bc111e600503da87e6d750108b.jpg\n",
            "Annotation not found for data_99.jpg\n",
            "Annotation not found for datax_147.jpg\n",
            "Annotation not found for image_92.jpg\n",
            "Annotation not found for image_14.jpg\n",
            "Annotation not found for image_270.jpg\n",
            "Annotation not found for dataq_85.jpg\n",
            "Annotation not found for data_39.jpg\n",
            "Annotation not found for image_129.jpg\n",
            "Annotation not found for data_215.jpg\n",
            "Annotation not found for DWGGM031MW2M_jpg.rf.2e47fd5320ad4825516e146d5590ae63.jpg\n",
            "Annotation not found for data_270.jpg\n",
            "Annotation not found for datax_143.jpg\n",
            "Annotation not found for data_245.jpg\n",
            "Annotation not found for dataq_156.jpg\n",
            "Annotation not found for dataq_89.jpg\n",
            "Annotation not found for EB2UHJDEOVJY_jpg.rf.fb7c74028a8632321e684da30efbcbed.jpg\n",
            "Annotation not found for CKBQWZS8TGOP_jpg.rf.ac644cc141ebadce5bb801aad5a637ae.jpg\n",
            "Annotation not found for image_223.jpg\n",
            "Annotation not found for datax_40.jpg\n",
            "Annotation not found for VZO029HKTGO8_jpg.rf.5580679bd4b534876c7640f8582ed051.jpg\n",
            "Annotation not found for datax_20.jpg\n",
            "Annotation not found for data_84.jpg\n",
            "Annotation not found for datax_27.jpg\n",
            "Annotation not found for data_81.jpg\n",
            "Annotation not found for data_59.jpg\n",
            "Annotation not found for dataq_104.jpg\n",
            "Annotation not found for data_160.jpg\n",
            "Annotation not found for image_4.jpg\n",
            "Annotation not found for image_257.jpg\n",
            "Annotation not found for image_133.jpg\n",
            "Annotation not found for image_360.jpg\n",
            "Annotation not found for data_120.jpg\n",
            "Annotation not found for P4I54EOIJE0U_jpg.rf.4ea2e0db8d30a4ea17b1cec155b0ba2e.jpg\n",
            "Annotation not found for 8GJBGVEOJD8P_jpg.rf.4e2219e7dd7b0ce993d448ad0895ac21.jpg\n",
            "Annotation not found for image_101.jpg\n",
            "Annotation not found for image_176.jpg\n",
            "Annotation not found for MCGG9NQ3ZS1R_jpg.rf.aee6501a4180110ce31254afe51d4942.jpg\n",
            "Annotation not found for dataq_97.jpg\n",
            "Annotation not found for S6A3DS0KYLLO_jpg.rf.9910bf2382a3e6ded3177a2e30f1bab1.jpg\n",
            "Annotation not found for dataq_129.jpg\n",
            "Annotation not found for datax_117.jpg\n",
            "Annotation not found for datax_139.jpg\n",
            "Annotation not found for image_208.jpg\n",
            "Annotation not found for QHC4SD50LRK2_jpg.rf.8f436303155b54b0963b50c931af05f8.jpg\n",
            "Annotation not found for image_29.jpg\n",
            "Annotation not found for datax_82.jpg\n",
            "Annotation not found for dataq_120.jpg\n",
            "Annotation not found for image_289.jpg\n",
            "Annotation not found for data_151.jpg\n",
            "Annotation not found for data_186.jpg\n",
            "Annotation not found for image_319.jpg\n",
            "Annotation not found for datax_72.jpg\n",
            "Annotation not found for image_356.jpg\n",
            "Annotation not found for image_222.jpg\n",
            "Annotation not found for dataq_63.jpg\n",
            "Annotation not found for data_268.jpg\n",
            "Annotation not found for data_170.jpg\n",
            "Annotation not found for dataq_95.jpg\n",
            "Annotation not found for image_51.jpg\n",
            "Annotation not found for dataq_25.jpg\n",
            "Annotation not found for dataq_68.jpg\n",
            "Annotation not found for data_271.jpg\n",
            "Annotation not found for data_68.jpg\n",
            "Annotation not found for image_242.jpg\n",
            "Annotation not found for image_256.jpg\n",
            "Annotation not found for image_300.jpg\n",
            "Annotation not found for data_169.jpg\n",
            "Annotation not found for dataq_58.jpg\n",
            "Annotation not found for data_230.jpg\n",
            "Annotation not found for JTCM1X8BZSN2_jpg.rf.bed84c76e6fc7957db3a4136a2ea7114.jpg\n",
            "Annotation not found for data_134.jpg\n",
            "Annotation not found for image_168.jpg\n",
            "Annotation not found for data_101.jpg\n",
            "Annotation not found for dataq_78.jpg\n",
            "Annotation not found for datax_151.jpg\n",
            "Annotation not found for data_67.jpg\n",
            "Annotation not found for image_12.jpg\n",
            "Annotation not found for 02I0NSL4O8BH_jpg.rf.fc9973bd72f912957908767054d0431e.jpg\n",
            "Annotation not found for RRZW0OJLETZU_jpg.rf.476c844c905fb9fba1d2e94cd07b13b7.jpg\n",
            "Annotation not found for image_235.jpg\n",
            "Annotation not found for data_165.jpg\n",
            "Annotation not found for image_85.jpg\n",
            "Annotation not found for A1VPFOL50SNO_jpg.rf.e350de6314c893e7ac73330a7dabdf35.jpg\n",
            "Annotation not found for datax_111.jpg\n",
            "Annotation not found for image_339.jpg\n",
            "Annotation not found for data_154.jpg\n",
            "Annotation not found for image_269.jpg\n",
            "Annotation not found for COQD0I9TAYIZ_jpg.rf.cf8c04ac0776f0ba9e03a5c60d71a88e.jpg\n",
            "Annotation not found for image_290.jpg\n",
            "Annotation not found for data_102.jpg\n",
            "Annotation not found for image_332.jpg\n",
            "Annotation not found for data_85.jpg\n",
            "Annotation not found for I01WFPT9SHJQ_jpg.rf.aa814ce1b7b755a931808b62a58ab7c7.jpg\n",
            "Annotation not found for image_286.jpg\n",
            "Annotation not found for image_20.jpg\n",
            "Annotation not found for data_247.jpg\n",
            "Annotation not found for data_41.jpg\n",
            "Annotation not found for image_303.jpg\n",
            "Annotation not found for image_19.jpg\n",
            "Annotation not found for image_121.jpg\n",
            "Annotation not found for 39CTE9EAHXHY_jpg.rf.764c2e1e2a180c457e902bee4f2e37a2.jpg\n",
            "Annotation not found for image_196.jpg\n",
            "Annotation not found for datax_29.jpg\n",
            "Annotation not found for image_351.jpg\n",
            "Annotation not found for dataq_167.jpg\n",
            "Annotation not found for datax_109.jpg\n",
            "Annotation not found for datax_88.jpg\n",
            "Annotation not found for NFNL5ZEZHVMZ_jpg.rf.1e2254031841f92e9b3c6fdd38834740.jpg\n",
            "Annotation not found for image_127.jpg\n",
            "Annotation not found for datax_24.jpg\n",
            "Annotation not found for image_185.jpg\n",
            "Annotation not found for data_244.jpg\n",
            "Annotation not found for data_131.jpg\n",
            "Annotation not found for dataq_103.jpg\n",
            "Annotation not found for image_211.jpg\n",
            "Annotation not found for image_340.jpg\n",
            "Annotation not found for PR3NBPY5W1U3_jpg.rf.bec18ee4171299b41b5f3375d772b4ea.jpg\n",
            "Annotation not found for image_358.jpg\n",
            "Annotation not found for 0PVKVE0CITYQ_jpg.rf.d803acad3a851f22fe52bd560bc2a37c.jpg\n",
            "Annotation not found for XJ884TROR3EL_jpg.rf.804d5442e37da6fb6d45f2fe55e13784.jpg\n",
            "Annotation not found for 836G7KZ7KH4P_jpg.rf.3407fa94db0bf485a20475f960ea4402.jpg\n",
            "Annotation not found for YEA2G9OZQ3FB_jpg.rf.d6a4da1fe5f8a62e3f276a807afac085.jpg\n",
            "Annotation not found for IFJXK18NO1FX_jpg.rf.2cb979f456d5228c99f2b9b8e0fd9385.jpg\n",
            "Annotation not found for HLHO9S5T01KM_jpg.rf.4c7fd0a8705316493f84ea0632e66954.jpg\n",
            "Annotation not found for image_288.jpg\n",
            "Annotation not found for data_28.jpg\n",
            "Annotation not found for image_311.jpg\n",
            "Annotation not found for image_291.jpg\n",
            "Annotation not found for image_238.jpg\n",
            "Annotation not found for data_203.jpg\n",
            "Annotation not found for MN8O0XOXWRAL_jpg.rf.3d84a2e0c3ae6bee60e3f6eedc6fff58.jpg\n",
            "Annotation not found for dataq_173.jpg\n",
            "Annotation not found for ZVVKFJVWEFSB_jpg.rf.4ed5afb471c28a7a644deae8537bbcaa.jpg\n",
            "Annotation not found for AZBJKOXZQ49X_jpg.rf.12a1af6e7e34383305fc877348b1d747.jpg\n",
            "Annotation not found for image_192.jpg\n",
            "Annotation not found for KDX23LXHAQVK_jpg.rf.48e5134149e0774486f5cf31414b2e8d.jpg\n",
            "Annotation not found for image_16.jpg\n",
            "Annotation not found for dataq_1.jpg\n",
            "Annotation not found for D92FYEQMT0BY_jpg.rf.fe0f88a820073099eb9d6cc775c6ef71.jpg\n",
            "Annotation not found for S401A14VR21B_jpg.rf.32934433cc30cd425ff886ca7cf73efd.jpg\n",
            "Annotation not found for image_200.jpg\n",
            "Annotation not found for image_27.jpg\n",
            "Annotation not found for QT10A4SD4PBY_jpg.rf.940a189a7bc52b2a24fbd5c12edc53ff.jpg\n",
            "Annotation not found for data_143.jpg\n",
            "Annotation not found for G4LHLDE31ELB_jpg.rf.e9c72a4c643e8b60e7704e4d354645f4.jpg\n",
            "Annotation not found for image_23.jpg\n",
            "Annotation not found for ED0QGZ9QBCIJ_jpg.rf.12c14230a0a1c92a5e9e0141a98aa32a.jpg\n",
            "Annotation not found for image_282.jpg\n",
            "Annotation not found for image_86.jpg\n",
            "Annotation not found for NZTA0I39NFW9_jpg.rf.562c5133af7203fdbd7cdd0ec6d27b9d.jpg\n",
            "Annotation not found for datax_157.jpg\n",
            "Annotation not found for image_310.jpg\n",
            "Annotation not found for DBJKWHEXGQ1B_jpg.rf.b34f62a900b65f571d9082eef3c14af6.jpg\n",
            "Annotation not found for image_84.jpg\n",
            "Annotation not found for image_271.jpg\n",
            "Annotation not found for D8Q5OLA7OB6D_jpg.rf.25ca6d6c4d8664dd6e4c4987fa028c79.jpg\n",
            "Annotation not found for data_139.jpg\n",
            "Annotation not found for image_24.jpg\n",
            "Annotation not found for data_53.jpg\n",
            "Annotation not found for datax_112.jpg\n",
            "Annotation not found for data_278.jpg\n",
            "Annotation not found for datax_41.jpg\n",
            "Annotation not found for 5WHXJUOX6BH2_jpg.rf.4be681875b71f3b27ebd458625d8482b.jpg\n",
            "Annotation not found for data_233.jpg\n",
            "Annotation not found for datax_75.jpg\n",
            "Annotation not found for data_34.jpg\n",
            "Annotation not found for 678D6SF75N64_jpg.rf.0671093665f19a427d2730af8a62000f.jpg\n",
            "Annotation not found for 01FVZIGPUGWI_jpg.rf.aba0f700dd5dbecf27af2f25d719b757.jpg\n",
            "Annotation not found for datax_142.jpg\n",
            "Annotation not found for image_62.jpg\n",
            "Annotation not found for BIGAAI46KMG1_jpg.rf.2ff347a9a279c86cb0476310e0fb23e1.jpg\n",
            "Annotation not found for RCLDXPA1L3O2_jpg.rf.26bc1f08646b59d5633cbcbf3fc64c9c.jpg\n",
            "Annotation not found for dataq_125.jpg\n",
            "Annotation not found for image_104.jpg\n",
            "Annotation not found for image_273.jpg\n",
            "Annotation not found for image_237.jpg\n",
            "Annotation not found for image_138.jpg\n",
            "Annotation not found for VO83XQZF8H1R_jpg.rf.b46a4dabf5f9ea5fd8ac8cad9be2968d.jpg\n",
            "Annotation not found for N8G06BFROO8O_jpg.rf.e1739061c6edd3f0e3d4a2a259b253ae.jpg\n",
            "Annotation not found for 9KJVN6G84JL2_jpg.rf.8d8220a48ca73186b8bd441bbe62ff77.jpg\n",
            "Annotation not found for image_43.jpg\n",
            "Annotation not found for dataq_10.jpg\n",
            "Annotation not found for data_75.jpg\n",
            "Annotation not found for 3JZYZSJC4MC7_jpg.rf.fa8b9ce0b911a566ebf49ede2cb3c385.jpg\n",
            "Annotation not found for dataq_64.jpg\n",
            "Annotation not found for image_180.jpg\n",
            "Annotation not found for datax_78.jpg\n",
            "Annotation not found for data_38.jpg\n",
            "Annotation not found for data_249.jpg\n",
            "Annotation not found for dataq_86.jpg\n",
            "Annotation not found for data_273.jpg\n",
            "Annotation not found for KDUZLTHRYNK4_jpg.rf.f3dc280b5a2f12e4ff264663d759d213.jpg\n",
            "Annotation not found for image_96.jpg\n",
            "Annotation not found for data_87.jpg\n",
            "Annotation not found for OUAFY9ZVRAE4_jpg.rf.18790450471c5333e1cc29e4ca48a59d.jpg\n",
            "Annotation not found for data_7.jpg\n",
            "Annotation not found for image_260.jpg\n",
            "Annotation not found for UOAH3FM819VX_jpg.rf.a85b165b1e77c79cb9c8d4ed00afafff.jpg\n",
            "Annotation not found for data_218.jpg\n",
            "Annotation not found for dataq_69.jpg\n",
            "Annotation not found for dataq_141.jpg\n",
            "Annotation not found for dataq_30.jpg\n",
            "Annotation not found for image_175.jpg\n",
            "Annotation not found for dataq_136.jpg\n",
            "Annotation not found for image_164.jpg\n",
            "Annotation not found for image_216.jpg\n",
            "Annotation not found for datax_153.jpg\n",
            "Annotation not found for 7Y8VMEQ934RX_jpg.rf.e232eac3a352e683504947d37a4e25c1.jpg\n",
            "Annotation not found for datax_136.jpg\n",
            "Annotation not found for GHRMLV7CGPRQ_jpg.rf.6256b704b1b803014fbf92519a0df5ff.jpg\n",
            "Annotation not found for image_252.jpg\n",
            "Annotation not found for JKUGCIV85GXR_jpg.rf.5410e305782ec5971d2bd01c51434561.jpg\n",
            "Annotation not found for image_89.jpg\n",
            "Annotation not found for image_82.jpg\n",
            "Annotation not found for J5Z515I5PZJL_jpg.rf.63963958f386b6a5b1a0b0129202db3c.jpg\n",
            "Annotation not found for image_250.jpg\n",
            "Annotation not found for data_224.jpg\n",
            "Annotation not found for dataq_165.jpg\n",
            "Annotation not found for F67VXFAH8U9F_jpg.rf.7b4dd8377183a43250bead3609f529e2.jpg\n",
            "Annotation not found for dataq_110.jpg\n",
            "Annotation not found for data_267.jpg\n",
            "Annotation not found for data_199.jpg\n",
            "Annotation not found for data_127.jpg\n",
            "Annotation not found for data_37.jpg\n",
            "Annotation not found for datax_95.jpg\n",
            "Annotation not found for data_65.jpg\n",
            "Annotation not found for image_326.jpg\n",
            "Annotation not found for image_118.jpg\n",
            "Annotation not found for datax_130.jpg\n",
            "Annotation not found for datax_59.jpg\n",
            "Annotation not found for Y3CQCAW80H94_jpg.rf.f1643255043a07a26b505d98cd4803f3.jpg\n",
            "Annotation not found for image_240.jpg\n",
            "Annotation not found for image_174.jpg\n",
            "Annotation not found for data_150.jpg\n",
            "Annotation not found for image_298.jpg\n",
            "Annotation not found for YV6W2UZOQXDM_jpg.rf.5524e0d82c123ef16434b8692c6a4ec5.jpg\n",
            "Annotation not found for datax_83.jpg\n",
            "Annotation not found for datax_90.jpg\n",
            "Annotation not found for M9BJHHMZ7WTZ_jpg.rf.fb297f9ca9422f881c15e792c1dfe88e.jpg\n",
            "Annotation not found for datax_86.jpg\n",
            "Annotation not found for 6FIV4WUB8IRH_jpg.rf.0bab8d64d5af527146d43d831664a15d.jpg\n",
            "Annotation not found for data_223.jpg\n",
            "Annotation not found for dataq_180.jpg\n",
            "Annotation not found for image_15.jpg\n",
            "Annotation not found for JVI8NV97S5EF_jpg.rf.f3e81ec86d26d03e4b4adc8b573b463b.jpg\n",
            "Annotation not found for HYU3I5172K0I_jpg.rf.e95df8aaf283548aed65a21506d72a5d.jpg\n",
            "Annotation not found for datax_65.jpg\n",
            "Annotation not found for image_147.jpg\n",
            "Annotation not found for dataq_111.jpg\n",
            "Annotation not found for GHK3D16K1LR4_jpg.rf.ce3bea80aea54e97a00f2e496f10c9c5.jpg\n",
            "Annotation not found for data_188.jpg\n",
            "Annotation not found for 159NHJ4X1O6C_jpg.rf.f9368d111407fbcdb7a8a5701482fce6.jpg\n",
            "Annotation not found for image_10.jpg\n",
            "Annotation not found for data_192.jpg\n",
            "Annotation not found for image_158.jpg\n",
            "Annotation not found for image_316.jpg\n",
            "Annotation not found for datax_84.jpg\n",
            "Annotation not found for QHT3U4AXROLF_jpg.rf.bb82c62b3582f0f8ec25a3a7939904cd.jpg\n",
            "Annotation not found for O8OEYK11CI5G_jpg.rf.4edf386c5b8c63559371fcd403096012.jpg\n",
            "Annotation not found for dataq_106.jpg\n",
            "Annotation not found for dataq_65.jpg\n",
            "Annotation not found for image_57.jpg\n",
            "Annotation not found for image_203.jpg\n",
            "Annotation not found for data_111.jpg\n",
            "Annotation not found for image_143.jpg\n",
            "Annotation not found for image_236.jpg\n",
            "Annotation not found for dataq_150.jpg\n",
            "Annotation not found for image_146.jpg\n",
            "Annotation not found for HHA0M56UCNZU_jpg.rf.275d8171739877e21dcea27613725ead.jpg\n",
            "Annotation not found for Q0GRGJIJ7177_jpg.rf.9fed84c88fc25b7e53f52e766660c735.jpg\n",
            "Annotation not found for NU2QXBMCMT62_jpg.rf.ffdda94abfb227112ff9893e60d4fd0a.jpg\n",
            "Annotation not found for data_157.jpg\n",
            "Annotation not found for image_90.jpg\n",
            "Annotation not found for 770S4VA5QUAX_jpg.rf.3c678368aa7ed51e0348d16f74f132c5.jpg\n",
            "Annotation not found for data_3.jpg\n",
            "Annotation not found for data_115.jpg\n",
            "Annotation not found for data_252.jpg\n",
            "Annotation not found for image_5.jpg\n",
            "Annotation not found for image_45.jpg\n",
            "Annotation not found for image_179.jpg\n",
            "Annotation not found for data_13.jpg\n",
            "Annotation not found for datax_149.jpg\n",
            "Annotation not found for datax_145.jpg\n",
            "Annotation not found for image_287.jpg\n",
            "Annotation not found for data_155.jpg\n",
            "Annotation not found for image_272.jpg\n",
            "Annotation not found for datax_89.jpg\n",
            "Annotation not found for data_282.jpg\n",
            "Annotation not found for 43ECQ1JZ5A17_jpg.rf.ec7d205254be8567737ed84a94b457c0.jpg\n",
            "Annotation not found for dataq_152.jpg\n",
            "Annotation not found for image_344.jpg\n",
            "Annotation not found for 1IY60E8WI66F_jpg.rf.d0436c04b7e98e77d907f98b62339ed6.jpg\n",
            "Annotation not found for NTQ9Q8LQVG7E_jpg.rf.a38c240af209562fab231f7365ee134e.jpg\n",
            "Annotation not found for image_243.jpg\n",
            "Annotation not found for data_260.jpg\n",
            "Annotation not found for image_312.jpg\n",
            "Annotation not found for data_243.jpg\n",
            "Annotation not found for image_187.jpg\n",
            "Annotation not found for dataq_31.jpg\n",
            "Annotation not found for dataq_39.jpg\n",
            "Annotation not found for dataq_43.jpg\n",
            "Annotation not found for image_34.jpg\n",
            "Annotation not found for Z7FVMQ9KVVQ4_jpg.rf.76af85b7af3fa747ddb375b4ec65f1bd.jpg\n",
            "Annotation not found for dataq_157.jpg\n",
            "Annotation not found for data_24.jpg\n",
            "Annotation not found for dataq_55.jpg\n",
            "Annotation not found for ZCKROF0UR45E_jpg.rf.1ca089ca2f579e2576bb80588645c16b.jpg\n",
            "Annotation not found for image_94.jpg\n",
            "Annotation not found for datax_61.jpg\n",
            "Annotation not found for data_11.jpg\n",
            "Annotation not found for image_268.jpg\n",
            "Annotation not found for image_355.jpg\n",
            "Annotation not found for datax_141.jpg\n",
            "Annotation not found for G67JOACJXYE5_jpg.rf.dc6cf1c326c7fc7ad67dd11ba2aa3db5.jpg\n",
            "Annotation not found for image_58.jpg\n",
            "Annotation not found for dataq_107.jpg\n",
            "Annotation not found for data_31.jpg\n",
            "Annotation not found for image_337.jpg\n",
            "Annotation not found for image_107.jpg\n",
            "Annotation not found for data_275.jpg\n",
            "Annotation not found for P84CZ2MLASEZ_jpg.rf.15df96dcdf02c16e227ffee835d53711.jpg\n",
            "Annotation not found for data_116.jpg\n",
            "Annotation not found for S8OYO5MBFMJJ_jpg.rf.aaa36f9c3f52de73c3508d06274fc148.jpg\n",
            "Annotation not found for image_106.jpg\n",
            "Annotation not found for datax_116.jpg\n",
            "Annotation not found for data_209.jpg\n",
            "Annotation not found for KR4VY0QY6H20_jpg.rf.35256dd398264e7650e18639d08e560c.jpg\n",
            "Annotation not found for image_251.jpg\n",
            "Annotation not found for XAJ6ZAC975XQ_jpg.rf.62c3f8b8f1ecb3977a1665b258be0542.jpg\n",
            "Annotation not found for TA8S8MRA9CO6_jpg.rf.2d4e55d85f04179641771fdd1896b3f7.jpg\n",
            "Annotation not found for image_80.jpg\n",
            "Annotation not found for data_279.jpg\n",
            "Annotation not found for dataq_59.jpg\n",
            "Annotation not found for dataq_48.jpg\n",
            "Annotation not found for O1P0IK3IK3A1_jpg.rf.96c4d82ccf697654bef51f08b50b83e5.jpg\n",
            "Annotation not found for datax_138.jpg\n",
            "Annotation not found for datax_64.jpg\n",
            "Annotation not found for JR43V3D9QMTL_jpg.rf.807ff7d192e531762cb38dbacbe187c0.jpg\n",
            "Annotation not found for image_116.jpg\n",
            "Annotation not found for data_83.jpg\n",
            "Annotation not found for data_281.jpg\n",
            "Annotation not found for image_221.jpg\n",
            "Annotation not found for datax_131.jpg\n",
            "Annotation not found for dataq_124.jpg\n",
            "Annotation not found for 3QGVJAU50BJJ_jpg.rf.01d5eae20d94eb06b4a16c45d9fcd690.jpg\n",
            "Annotation not found for dataq_105.jpg\n",
            "Annotation not found for image_36.jpg\n",
            "Annotation not found for image_182.jpg\n",
            "Annotation not found for dataq_70.jpg\n",
            "Annotation not found for image_266.jpg\n",
            "Annotation not found for dataq_37.jpg\n",
            "Annotation not found for image_69.jpg\n",
            "Annotation not found for data_201.jpg\n",
            "Annotation not found for image_78.jpg\n",
            "Annotation not found for X1301M7WYHN4_jpg.rf.c6c9de660006dbdf831e341b565f7c1d.jpg\n",
            "Annotation not found for image_59.jpg\n",
            "Annotation not found for image_264.jpg\n",
            "Annotation not found for O4JB34D5BW0Q_jpg.rf.9928a17c35820a78c18843e68e50d855.jpg\n",
            "Annotation not found for data_49.jpg\n",
            "Annotation not found for image_302.jpg\n",
            "Annotation not found for 9TFH23H15BVX_jpg.rf.f803783bcedc7588eabd3ea4a9057b51.jpg\n",
            "Annotation not found for data_47.jpg\n",
            "Annotation not found for dataq_154.jpg\n",
            "Annotation not found for image_3.jpg\n",
            "Annotation not found for datax_18.jpg\n",
            "Annotation not found for dataq_21.jpg\n",
            "Annotation not found for image_334.jpg\n",
            "Annotation not found for image_320.jpg\n",
            "Annotation not found for AOJABFLL5ZMF_jpg.rf.eefb86279f7c81180ae9d15f201e5d25.jpg\n",
            "Annotation not found for image_347.jpg\n",
            "Annotation not found for datax_124.jpg\n",
            "Annotation not found for image_91.jpg\n",
            "Annotation not found for 08R9ND0N8GXW_jpg.rf.dd5dcaceb6b502fdf2f795c428e84364.jpg\n",
            "Annotation not found for data_212.jpg\n",
            "Annotation not found for data_191.jpg\n",
            "Annotation not found for F3H1FDT1AIMA_jpg.rf.441b4b7f6f8e332ab049ad88a8563644.jpg\n",
            "Annotation not found for data_262.jpg\n",
            "Annotation not found for data_141.jpg\n",
            "Annotation not found for data_213.jpg\n",
            "Annotation not found for datax_146.jpg\n",
            "Annotation not found for data_258.jpg\n",
            "Annotation not found for datax_4.jpg\n",
            "Annotation not found for 9IBST0ZJQXMB_jpg.rf.3775b6e77dc9710474925435071f0353.jpg\n",
            "Annotation not found for 1JHQ0M6SUPZN_jpg.rf.59f03d96dda7ea598bfdc7aa0a4ab8d4.jpg\n",
            "Annotation not found for data_239.jpg\n",
            "Annotation not found for datax_108.jpg\n",
            "Annotation not found for data_184.jpg\n",
            "Annotation not found for dataq_67.jpg\n",
            "Annotation not found for data_167.jpg\n",
            "Annotation not found for dataq_24.jpg\n",
            "Annotation not found for datax_52.jpg\n",
            "Annotation not found for image_279.jpg\n",
            "Annotation not found for data_14.jpg\n",
            "Annotation not found for image_41.jpg\n",
            "Annotation not found for data_26.jpg\n",
            "Annotation not found for data_158.jpg\n",
            "Annotation not found for data_62.jpg\n",
            "Annotation not found for data_17.jpg\n",
            "Annotation not found for 0R4V5100QSN6_jpg.rf.25313596875a8780852383090b176212.jpg\n",
            "Annotation not found for data_166.jpg\n",
            "Annotation not found for image_229.jpg\n",
            "Annotation not found for WN3IK0S4ULLL_jpg.rf.97c513dac8f0b6c24cc89587613b7be7.jpg\n",
            "Annotation not found for data_164.jpg\n",
            "Annotation not found for image_301.jpg\n",
            "Annotation not found for SITAQO3FHUZD_jpg.rf.972dbb64b0690174651768ce9b16eff7.jpg\n",
            "Annotation not found for dataq_26.jpg\n",
            "Annotation not found for dataq_8.jpg\n",
            "Annotation not found for dataq_91.jpg\n",
            "Annotation not found for dataq_15.jpg\n",
            "Annotation not found for data_159.jpg\n",
            "Annotation not found for image_2.jpg\n",
            "Annotation not found for data_238.jpg\n",
            "Annotation not found for image_122.jpg\n",
            "Annotation not found for data_5.jpg\n",
            "Annotation not found for image_139.jpg\n",
            "Annotation not found for image_160.jpg\n",
            "Annotation not found for datax_55.jpg\n",
            "Annotation not found for data_91.jpg\n",
            "Annotation not found for data_78.jpg\n",
            "Annotation not found for data_122.jpg\n",
            "Annotation not found for BEH607T8L0CW_jpg.rf.7522102c57b594081f21b0bb2cb3fd92.jpg\n",
            "Annotation not found for datax_106.jpg\n",
            "Annotation not found for data_232.jpg\n",
            "Annotation not found for FMPQF2M0X2PF_jpg.rf.69b9629f7ebe68a9a4703238b09e3b66.jpg\n",
            "Processing 249 images for val split...\n",
            "Annotation not found for data_108.jpg\n",
            "Annotation not found for ESOPR4IXWXEE_jpg.rf.5ed295e9a4ec04dafe886a9f90060467.jpg\n",
            "Annotation not found for data_36.jpg\n",
            "Annotation not found for image_152.jpg\n",
            "Annotation not found for datax_121.jpg\n",
            "Annotation not found for image_153.jpg\n",
            "Annotation not found for dataq_54.jpg\n",
            "Annotation not found for image_335.jpg\n",
            "Annotation not found for BQ1J39DG8EFC_jpg.rf.c73f86418f754cb4ae3e40a6f7eb92e2.jpg\n",
            "Annotation not found for data_56.jpg\n",
            "Annotation not found for image_352.jpg\n",
            "Annotation not found for data_234.jpg\n",
            "Annotation not found for image_258.jpg\n",
            "Annotation not found for image_245.jpg\n",
            "Annotation not found for data_251.jpg\n",
            "Annotation not found for datax_54.jpg\n",
            "Annotation not found for datax_15.jpg\n",
            "Annotation not found for image_141.jpg\n",
            "Annotation not found for ZI89ROYM87IW_jpg.rf.08354055ec4d73f593712290a8517533.jpg\n",
            "Annotation not found for data_30.jpg\n",
            "Annotation not found for datax_37.jpg\n",
            "Annotation not found for AEDEGSL64GH9_jpg.rf.e1cc57977017392b97b1c2f6e6775d39.jpg\n",
            "Annotation not found for image_353.jpg\n",
            "Annotation not found for dataq_73.jpg\n",
            "Annotation not found for image_9.jpg\n",
            "Annotation not found for image_150.jpg\n",
            "Annotation not found for dataq_47.jpg\n",
            "Annotation not found for image_323.jpg\n",
            "Annotation not found for datax_35.jpg\n",
            "Annotation not found for dataq_11.jpg\n",
            "Annotation not found for dataq_178.jpg\n",
            "Annotation not found for data_123.jpg\n",
            "Annotation not found for data_21.jpg\n",
            "Annotation not found for 4ZD5D5B6YEND_jpg.rf.114234902775594574f8bca8b01021b2.jpg\n",
            "Annotation not found for dataq_60.jpg\n",
            "Annotation not found for image_280.jpg\n",
            "Annotation not found for image_145.jpg\n",
            "Annotation not found for data_195.jpg\n",
            "Annotation not found for PH2LGQ76AMCK_jpg.rf.60ddc59620762f9081d72766dd9db8bf.jpg\n",
            "Annotation not found for TZ3Y2NSQILO2_jpg.rf.250d2addaf05568356f1f57ab6228297.jpg\n",
            "Annotation not found for CU8C39JDIJ9X_jpg.rf.0f24471ab85b71c7333ebb7933a3933b.jpg\n",
            "Annotation not found for data_45.jpg\n",
            "Annotation not found for M0R0VLUKY2DP_jpg.rf.a2ff3db3e1bbaaaaacdd98d8f2fb7f84.jpg\n",
            "Annotation not found for 5GEH29PPLAYC_jpg.rf.f17ebcf9a0619d01597c406bb7205fd7.jpg\n",
            "Annotation not found for datax_16.jpg\n",
            "Annotation not found for NZHVKUMJ0D77_jpg.rf.dc469449f59926ea6cf203e78fee9a63.jpg\n",
            "Annotation not found for PA553OKVYVT8_jpg.rf.636195807bd8f18c5927eaf493f249bf.jpg\n",
            "Annotation not found for data_109.jpg\n",
            "Annotation not found for image_162.jpg\n",
            "Annotation not found for dataq_18.jpg\n",
            "Annotation not found for data_172.jpg\n",
            "Annotation not found for data_106.jpg\n",
            "Annotation not found for dataq_92.jpg\n",
            "Annotation not found for datax_99.jpg\n",
            "Annotation not found for image_293.jpg\n",
            "Annotation not found for Z690CTXIZ456_jpg.rf.02c97af535a56ef02945d904f5da08cb.jpg\n",
            "Annotation not found for image_124.jpg\n",
            "Annotation not found for dataq_113.jpg\n",
            "Annotation not found for data_90.jpg\n",
            "Annotation not found for datax_148.jpg\n",
            "Annotation not found for image_213.jpg\n",
            "Annotation not found for image_120.jpg\n",
            "Annotation not found for data_265.jpg\n",
            "Annotation not found for dataq_29.jpg\n",
            "Annotation not found for datax_43.jpg\n",
            "Annotation not found for datax_87.jpg\n",
            "Annotation not found for 62LQY0VI1CKT_jpg.rf.76dbe484ee46acd3389ffd48fbdce9d6.jpg\n",
            "Annotation not found for data_119.jpg\n",
            "Annotation not found for QWXLQOR02ED4_jpg.rf.a9dc7d9c036524c5d704a09ce8bf1494.jpg\n",
            "Annotation not found for data_114.jpg\n",
            "Annotation not found for image_71.jpg\n",
            "Annotation not found for datax_3.jpg\n",
            "Annotation not found for HPMATMGB7XCS_jpg.rf.5376713448d0e2b4c5bb4806153c114f.jpg\n",
            "Annotation not found for dataq_62.jpg\n",
            "Annotation not found for datax_98.jpg\n",
            "Annotation not found for dataq_135.jpg\n",
            "Annotation not found for image_201.jpg\n",
            "Annotation not found for CA8AYOHAH0NE_jpg.rf.79a1c205b62993475731fce494d87197.jpg\n",
            "Annotation not found for JDU110AVBREE_jpg.rf.106ba2148cfd685e3ae7b3890e8974a0.jpg\n",
            "Annotation not found for data_182.jpg\n",
            "Annotation not found for BFZKH8ZQMQXT_jpg.rf.6680a4038c815ac500b5ed4930ad8af4.jpg\n",
            "Annotation not found for data_196.jpg\n",
            "Annotation not found for datax_11.jpg\n",
            "Annotation not found for image_285.jpg\n",
            "Annotation not found for dataq_66.jpg\n",
            "Annotation not found for dataq_175.jpg\n",
            "Annotation not found for dataq_36.jpg\n",
            "Annotation not found for data_149.jpg\n",
            "Annotation not found for 9DUC3W8KLTSX_jpg.rf.22674b2547f1d8c6b2d058f3934e7ed4.jpg\n",
            "Annotation not found for P6RHLIBE8IIA_jpg.rf.4b0a16490e75ebb88e4e2e558aa37042.jpg\n",
            "Annotation not found for image_315.jpg\n",
            "Annotation not found for image_64.jpg\n",
            "Annotation not found for image_163.jpg\n",
            "Annotation not found for dataq_19.jpg\n",
            "Annotation not found for image_297.jpg\n",
            "Annotation not found for IV8TLVKXHSSF_jpg.rf.43f4c050ef2e0474cbaca786e4e67a5c.jpg\n",
            "Annotation not found for data_256.jpg\n",
            "Annotation not found for image_246.jpg\n",
            "Annotation not found for datax_91.jpg\n",
            "Annotation not found for 4PUI1WUNR9BV_jpg.rf.e83702a41866c2bba4a03363cd85f29f.jpg\n",
            "Annotation not found for image_336.jpg\n",
            "Annotation not found for data_89.jpg\n",
            "Annotation not found for K4XTNJQSWHWP_jpg.rf.aef2513fd22e8568692bf316f4f158be.jpg\n",
            "Annotation not found for data_253.jpg\n",
            "Annotation not found for datax_8.jpg\n",
            "Annotation not found for dataq_6.jpg\n",
            "Annotation not found for MW7788LHNP9N_jpg.rf.82735c44e6856cf341915ffd2d6dcca3.jpg\n",
            "Annotation not found for image_331.jpg\n",
            "Annotation not found for data_147.jpg\n",
            "Annotation not found for image_46.jpg\n",
            "Annotation not found for O0LGBOYUUI7J_jpg.rf.d5d3cba883a00852f980874651830c2b.jpg\n",
            "Annotation not found for image_97.jpg\n",
            "Annotation not found for datax_62.jpg\n",
            "Annotation not found for datax_94.jpg\n",
            "Annotation not found for image_190.jpg\n",
            "Annotation not found for dataq_77.jpg\n",
            "Annotation not found for image_241.jpg\n",
            "Annotation not found for datax_2.jpg\n",
            "Annotation not found for 538PJ11WP67J_jpg.rf.e71740a26a7100c3378ed0f793da49a9.jpg\n",
            "Annotation not found for image_22.jpg\n",
            "Annotation not found for A5I41ONMH4X9_jpg.rf.1d506dc5f5bbfa0d7bd52e99746ab896.jpg\n",
            "Annotation not found for dataq_122.jpg\n",
            "Annotation not found for data_250.jpg\n",
            "Annotation not found for data_94.jpg\n",
            "Annotation not found for image_345.jpg\n",
            "Annotation not found for image_274.jpg\n",
            "Annotation not found for image_330.jpg\n",
            "Annotation not found for dataq_41.jpg\n",
            "Annotation not found for dataq_50.jpg\n",
            "Annotation not found for IO1OQLR0VHX3_jpg.rf.f0184e15e66914ccd7c0e9d0cf89638c.jpg\n",
            "Annotation not found for dataq_164.jpg\n",
            "Annotation not found for data_266.jpg\n",
            "Annotation not found for image_109.jpg\n",
            "Annotation not found for data_2.jpg\n",
            "Annotation not found for datax_9.jpg\n",
            "Annotation not found for data_137.jpg\n",
            "Annotation not found for dataq_98.jpg\n",
            "Annotation not found for dataq_133.jpg\n",
            "Annotation not found for 2ZEX9SO1O79P_jpg.rf.ed775df29113d51aa4a3885ed0d6bfd8.jpg\n",
            "Annotation not found for dataq_100.jpg\n",
            "Annotation not found for datax_68.jpg\n",
            "Annotation not found for data_200.jpg\n",
            "Annotation not found for image_230.jpg\n",
            "Annotation not found for data_140.jpg\n",
            "Annotation not found for NDIZ6V6VRZG6_jpg.rf.a32cec4d7ea7a3d380eeb812dc35c645.jpg\n",
            "Annotation not found for datax_103.jpg\n",
            "Annotation not found for image_7.jpg\n",
            "Annotation not found for datax_30.jpg\n",
            "Annotation not found for data_175.jpg\n",
            "Annotation not found for 0DBZCMRDL65L_jpg.rf.3f1e720d887bd8e482f2a713d1c08494.jpg\n",
            "Annotation not found for data_44.jpg\n",
            "Annotation not found for RPUBT6GIO2GC_jpg.rf.693e39193fcfdad3e2840d515bb5604e.jpg\n",
            "Annotation not found for datax_110.jpg\n",
            "Annotation not found for XDWZW1MYORCB_jpg.rf.f61632f88d98f9db6a23656110ed93e4.jpg\n",
            "Annotation not found for image_220.jpg\n",
            "Annotation not found for datax_134.jpg\n",
            "Annotation not found for TI7MLSL5RT4D_jpg.rf.302b5bb1acc2acaa4ffbf0a29bfc10f3.jpg\n",
            "Annotation not found for datax_104.jpg\n",
            "Annotation not found for RPZXJD3O5GLN_jpg.rf.e2e86a0051ebfd1fa25224535ab09614.jpg\n",
            "Annotation not found for image_173.jpg\n",
            "Annotation not found for data_205.jpg\n",
            "Annotation not found for data_246.jpg\n",
            "Annotation not found for image_88.jpg\n",
            "Annotation not found for image_172.jpg\n",
            "Annotation not found for datax_77.jpg\n",
            "Annotation not found for image_275.jpg\n",
            "Annotation not found for datax_21.jpg\n",
            "Annotation not found for data_227.jpg\n",
            "Annotation not found for image_359.jpg\n",
            "Annotation not found for data_35.jpg\n",
            "Annotation not found for datax_66.jpg\n",
            "Annotation not found for data_179.jpg\n",
            "Annotation not found for dataq_7.jpg\n",
            "Annotation not found for image_194.jpg\n",
            "Annotation not found for 9EAIWF6MSFDH_jpg.rf.20d6a147e856575abb0031debc2095d6.jpg\n",
            "Annotation not found for dataq_109.jpg\n",
            "Annotation not found for dataq_3.jpg\n",
            "Annotation not found for RLBUPVCF7IK5_jpg.rf.c8ea9feaef8ca8a36e134ac79273a154.jpg\n",
            "Annotation not found for image_144.jpg\n",
            "Annotation not found for image_134.jpg\n",
            "Annotation not found for image_128.jpg\n",
            "Annotation not found for KN5F7C3Q15A9_jpg.rf.8b64fe6c6d9101e80be64db5d9996637.jpg\n",
            "Annotation not found for data_6.jpg\n",
            "Annotation not found for dataq_38.jpg\n",
            "Annotation not found for data_263.jpg\n",
            "Annotation not found for image_263.jpg\n",
            "Annotation not found for dataq_176.jpg\n",
            "Annotation not found for data_50.jpg\n",
            "Annotation not found for image_149.jpg\n",
            "Annotation not found for data_57.jpg\n",
            "Annotation not found for image_52.jpg\n",
            "Annotation not found for image_283.jpg\n",
            "Annotation not found for image_321.jpg\n",
            "Annotation not found for 6FW39Q68WR1F_jpg.rf.55f64f0ea377a6ad4e24cd9a7d367738.jpg\n",
            "Annotation not found for 40RYVAAKAGDC_jpg.rf.56b57a3b86a3ae85d3ab3d65269bd8ec.jpg\n",
            "Annotation not found for datax_70.jpg\n",
            "Annotation not found for EHX63JQ3HRGA_jpg.rf.c218c9ccde35be140ce0d18537e80859.jpg\n",
            "Annotation not found for X2D2MMSF5YCF_jpg.rf.8bfdd6b2a79ba8875557f5a2bc5cb31a.jpg\n",
            "Annotation not found for dataq_126.jpg\n",
            "Annotation not found for COW60W8PPCQW_jpg.rf.6a9413ebcb209789c7137a9ae4725e04.jpg\n",
            "Annotation not found for datax_150.jpg\n",
            "Annotation not found for image_171.jpg\n",
            "Annotation not found for P8YAHMOAPHW0_jpg.rf.84cdb3790cbecb9dac5ca7376d4100e1.jpg\n",
            "Annotation not found for image_119.jpg\n",
            "Annotation not found for dataq_119.jpg\n",
            "Annotation not found for data_128.jpg\n",
            "Annotation not found for ET54G43B0F92_jpg.rf.f68ae7f92dabc3dcc4345b0f381adecf.jpg\n",
            "Annotation not found for GGHN7T2R5XQG_jpg.rf.47daca3a922667f14f4ddc3857121a25.jpg\n",
            "Annotation not found for datax_80.jpg\n",
            "Annotation not found for data_43.jpg\n",
            "Annotation not found for datax_34.jpg\n",
            "Annotation not found for dataq_45.jpg\n",
            "Annotation not found for dataq_90.jpg\n",
            "Annotation not found for image_329.jpg\n",
            "Annotation not found for data_113.jpg\n",
            "Annotation not found for datax_63.jpg\n",
            "Annotation not found for image_40.jpg\n",
            "Annotation not found for ZMGPHSMTZU0W_jpg.rf.18caa8285056ec99ffa0be9fb430c992.jpg\n",
            "Annotation not found for datax_81.jpg\n",
            "Annotation not found for dataq_2.jpg\n",
            "Annotation not found for data_125.jpg\n",
            "Annotation not found for dataq_140.jpg\n",
            "Annotation not found for Y2XP2SL5FXFD_jpg.rf.63493914e9ca063c8a1d341a2095b825.jpg\n",
            "Annotation not found for image_63.jpg\n",
            "Annotation not found for image_126.jpg\n",
            "Annotation not found for dataq_57.jpg\n",
            "Annotation not found for image_132.jpg\n",
            "Annotation not found for image_198.jpg\n",
            "Annotation not found for datax_49.jpg\n",
            "Annotation not found for image_65.jpg\n",
            "Annotation not found for 7NM9XVI2RLDJ_jpg.rf.18df9ad2a6cf2c281769ae99451cd097.jpg\n",
            "Annotation not found for dataq_84.jpg\n",
            "Annotation not found for data_216.jpg\n",
            "Annotation not found for image_181.jpg\n",
            "Annotation not found for dataq_52.jpg\n",
            "Annotation not found for A11BBYO93AJU_jpg.rf.2fd99c5cb96e3931c64dbc9ada63481f.jpg\n",
            "Annotation not found for data_162.jpg\n",
            "Annotation not found for data_241.jpg\n",
            "Annotation not found for data_42.jpg\n",
            "Annotation not found for data_264.jpg\n",
            "Annotation not found for 3PDJJJC5A6WD_jpg.rf.a7c1be380430d5f0b800254844aadd3e.jpg\n",
            "Annotation not found for image_205.jpg\n",
            "Annotation not found for image_313.jpg\n",
            "Annotation not found for image_178.jpg\n",
            "Annotation not found for 0G9I5DS07WIS_jpg.rf.1bc3c57d9d180c6451a50511c93f6aa5.jpg\n",
            "Annotation not found for LM324M9ASGHY_jpg.rf.22fe090ea98e851d1a3c332e92a662ca.jpg\n",
            "Annotation not found for datax_128.jpg\n",
            "Annotation not found for datax_73.jpg\n",
            "Annotation not found for image_6.jpg\n",
            "Processing 126 images for test split...\n",
            "Annotation not found for dataq_155.jpg\n",
            "Annotation not found for data_118.jpg\n",
            "Annotation not found for HMCZ8BJ51CR7_jpg.rf.2a555bbd1f2f40a3d571cdb9814b4cf0.jpg\n",
            "Annotation not found for data_235.jpg\n",
            "Annotation not found for datax_115.jpg\n",
            "Annotation not found for dataq_9.jpg\n",
            "Annotation not found for data_221.jpg\n",
            "Annotation not found for image_292.jpg\n",
            "Annotation not found for image_93.jpg\n",
            "Annotation not found for data_1.jpg\n",
            "Annotation not found for data_219.jpg\n",
            "Annotation not found for image_328.jpg\n",
            "Annotation not found for H6IVAWULXGZ8_jpg.rf.59c8b21eafb4bf06014f82c6b3f02c80.jpg\n",
            "Annotation not found for data_33.jpg\n",
            "Annotation not found for image_55.jpg\n",
            "Annotation not found for I8FA5DI4IH0S_jpg.rf.00e74df9568ae81eae9173480281bec7.jpg\n",
            "Annotation not found for KRF2MXZHR7U3_jpg.rf.b44e6a2f5f6efc3f2d4b90d7afb27588.jpg\n",
            "Annotation not found for datax_79.jpg\n",
            "Annotation not found for data_77.jpg\n",
            "Annotation not found for dataq_149.jpg\n",
            "Annotation not found for Q4BPRQXQNGI5_jpg.rf.6e6625449ee084c6a86c6584cab08ff4.jpg\n",
            "Annotation not found for data_220.jpg\n",
            "Annotation not found for ZNIMO19IHZOK_jpg.rf.d8a1bdb45a2cf0f9ee41cfe6679130a0.jpg\n",
            "Annotation not found for data_73.jpg\n",
            "Annotation not found for TF2ZYE7IQENS_jpg.rf.4a5af6fd5884349cc5d5f74260fbf6c5.jpg\n",
            "Annotation not found for image_342.jpg\n",
            "Annotation not found for datax_22.jpg\n",
            "Annotation not found for data_76.jpg\n",
            "Annotation not found for Y4Y4IQOWJ9NM_jpg.rf.95aa4806f0a767b0ab8561493d4221c0.jpg\n",
            "Annotation not found for data_187.jpg\n",
            "Annotation not found for ZCDXKH9FT9KV_jpg.rf.8c30705ef07c39a11d4691f2e6165b5a.jpg\n",
            "Annotation not found for data_51.jpg\n",
            "Annotation not found for IJHSGANAXSD6_jpg.rf.b2f5464499b6a6fd0f899076436150f2.jpg\n",
            "Annotation not found for YTH1IVYI6136_jpg.rf.e882632ea58c7f6d1aa713701684eea3.jpg\n",
            "Annotation not found for data_95.jpg\n",
            "Annotation not found for dataq_117.jpg\n",
            "Annotation not found for K1KP415JNH2S_jpg.rf.b61ffd65088d5928ea9c6e09af0e911f.jpg\n",
            "Annotation not found for image_28.jpg\n",
            "Annotation not found for dataq_168.jpg\n",
            "Annotation not found for image_224.jpg\n",
            "Annotation not found for dataq_177.jpg\n",
            "Annotation not found for data_190.jpg\n",
            "Annotation not found for datax_48.jpg\n",
            "Annotation not found for image_184.jpg\n",
            "Annotation not found for image_206.jpg\n",
            "Annotation not found for dataq_161.jpg\n",
            "Annotation not found for datax_74.jpg\n",
            "Annotation not found for J1BZ0B2GOWUK_jpg.rf.25599dbf0147dfe469f0b2f84462afab.jpg\n",
            "Annotation not found for image_61.jpg\n",
            "Annotation not found for S3NEX3WGG1T5_jpg.rf.69ff78a1d474ce84f363f597d6d28352.jpg\n",
            "Annotation not found for image_117.jpg\n",
            "Annotation not found for image_295.jpg\n",
            "Annotation not found for image_53.jpg\n",
            "Annotation not found for image_108.jpg\n",
            "Annotation not found for image_186.jpg\n",
            "Annotation not found for image_114.jpg\n",
            "Annotation not found for image_30.jpg\n",
            "Annotation not found for 2CFQA6UIS0S6_jpg.rf.41a868319ce1c397a0e7504456e33897.jpg\n",
            "Annotation not found for datax_17.jpg\n",
            "Annotation not found for datax_12.jpg\n",
            "Annotation not found for data_107.jpg\n",
            "Annotation not found for XSH9P3BVYYOT_jpg.rf.b247a1475e2e6272345a51849b3520f2.jpg\n",
            "Annotation not found for DEC8KVTIU2G9_jpg.rf.06058b64f8858e21bc17588d831d2675.jpg\n",
            "Annotation not found for image_74.jpg\n",
            "Annotation not found for 1IME79QHGAPK_jpg.rf.7b3914ccdf1e13e04b79633b23d8f043.jpg\n",
            "Annotation not found for image_72.jpg\n",
            "Annotation not found for 5DQ7FF0WGW8Z_jpg.rf.47c0adf1379b33cd513181a297826dd2.jpg\n",
            "Annotation not found for BTFOYCTP6PZD_jpg.rf.68f13fa36bcda015b5d53f325f4842ac.jpg\n",
            "Annotation not found for image_309.jpg\n",
            "Annotation not found for data_176.jpg\n",
            "Annotation not found for dataq_101.jpg\n",
            "Annotation not found for data_27.jpg\n",
            "Annotation not found for data_93.jpg\n",
            "Annotation not found for EEUZ7IX7JX98_jpg.rf.c88403399901721018ae59b3e5237633.jpg\n",
            "Annotation not found for data_197.jpg\n",
            "Annotation not found for Q03LK3B3WF3E_jpg.rf.092c701a831e2a381bbe01e17c5eddd2.jpg\n",
            "Annotation not found for IUHQCQKA445T_jpg.rf.c4e1ae1e1ac2ab1f30452e19bbe4d261.jpg\n",
            "Annotation not found for dataq_27.jpg\n",
            "Annotation not found for 0Q86CMPW8GGE_jpg.rf.dabd33fe47142ec78a238a23d14592c7.jpg\n",
            "Annotation not found for image_151.jpg\n",
            "Annotation not found for data_66.jpg\n",
            "Annotation not found for data_274.jpg\n",
            "Annotation not found for K33CQM6AF64F_jpg.rf.924698876b9d9f649d867e9439cdbf3e.jpg\n",
            "Annotation not found for OP2T5GC0M5J4_jpg.rf.28fb501d98afdb325d32ac6ce6c247e4.jpg\n",
            "Annotation not found for dataq_179.jpg\n",
            "Annotation not found for image_165.jpg\n",
            "Annotation not found for dataq_87.jpg\n",
            "Annotation not found for datax_13.jpg\n",
            "Annotation not found for data_277.jpg\n",
            "Annotation not found for image_123.jpg\n",
            "Annotation not found for data_15.jpg\n",
            "Annotation not found for image_209.jpg\n",
            "Annotation not found for image_66.jpg\n",
            "Annotation not found for dataq_99.jpg\n",
            "Annotation not found for 2P8CF1G4CVSU_jpg.rf.7bf88daa749fb877eadf8bddb3f7f59a.jpg\n",
            "Annotation not found for data_145.jpg\n",
            "Annotation not found for image_232.jpg\n",
            "Annotation not found for image_327.jpg\n",
            "Annotation not found for data_112.jpg\n",
            "Annotation not found for data_58.jpg\n",
            "Annotation not found for dataq_116.jpg\n",
            "Annotation not found for dataq_12.jpg\n",
            "Annotation not found for dataq_34.jpg\n",
            "Annotation not found for datax_38.jpg\n",
            "Annotation not found for ABAXLJ1PL1LK_jpg.rf.9a9b2db2ce81f0ba48c66dc2213fed20.jpg\n",
            "Annotation not found for NW1SRKMLFP1S_jpg.rf.af2b9913e8cbc7123e9e4311a7ae72d3.jpg\n",
            "Annotation not found for dataq_16.jpg\n",
            "Annotation not found for VL70S53JI8ZM_jpg.rf.60d8f42954f5cca69581736f82ea5de9.jpg\n",
            "Annotation not found for image_239.jpg\n",
            "Annotation not found for dataq_139.jpg\n",
            "Annotation not found for Q96MNGZFXK7V_jpg.rf.2d927138180ca01cabb7059ff61d37ca.jpg\n",
            "Annotation not found for datax_126.jpg\n",
            "Annotation not found for image_67.jpg\n",
            "Annotation not found for data_174.jpg\n",
            "Annotation not found for image_131.jpg\n",
            "Annotation not found for datax_152.jpg\n",
            "Annotation not found for image_44.jpg\n",
            "Annotation not found for data_148.jpg\n",
            "Annotation not found for image_130.jpg\n",
            "Annotation not found for dataq_42.jpg\n",
            "Annotation not found for data_254.jpg\n",
            "Annotation not found for dataq_93.jpg\n",
            "Annotation not found for image_103.jpg\n",
            "Annotation not found for 7U7OK6PBK4X0_jpg.rf.981511d47da00ac949fae661a34a3706.jpg\n",
            "Annotation not found for T4QKVO0XTP0Q_jpg.rf.3eb979dafd351bbbb1d2fd74457b21ce.jpg\n",
            "Annotation not found for data_124.jpg\n",
            "\n",
            "Processing second dataset (images-) from /content/data/images-/train...\n",
            "Found 360 images in /content/data/images-/train\n",
            "Processing 251 images for train split...\n",
            "Processing 72 images for val split...\n",
            "Processing 37 images for test split...\n"
          ]
        }
      ]
    },
    {
      "cell_type": "code",
      "source": [
        "# Sanity check processed folders\n",
        "for split in ['train', 'val', 'test']:\n",
        "    img_path = f\"/content/dataset/images/{split}\"\n",
        "    lbl_path = f\"/content/dataset/labels/{split}\"\n",
        "    print(f\"\\n{split.upper()} SET:\")\n",
        "    print(f\" - Images: {len(glob.glob(img_path + '/*.jpg'))}\")\n",
        "    print(f\" - Labels: {len(glob.glob(lbl_path + '/*.txt'))}\")\n"
      ],
      "metadata": {
        "colab": {
          "base_uri": "https://localhost:8080/"
        },
        "id": "oxhErFrQcRpI",
        "outputId": "a34ee467-288c-4b30-b996-afea6b8ed503"
      },
      "execution_count": null,
      "outputs": [
        {
          "output_type": "stream",
          "name": "stdout",
          "text": [
            "\n",
            "TRAIN SET:\n",
            " - Images: 0\n",
            " - Labels: 0\n",
            "\n",
            "VAL SET:\n",
            " - Images: 0\n",
            " - Labels: 0\n",
            "\n",
            "TEST SET:\n",
            " - Images: 0\n",
            " - Labels: 0\n"
          ]
        }
      ]
    },
    {
      "cell_type": "code",
      "source": [
        "import shutil\n",
        "import os\n",
        "\n",
        "def move_files(src_img_dir, src_lbl_dir, dst_img_dir, dst_lbl_dir):\n",
        "    os.makedirs(dst_img_dir, exist_ok=True)\n",
        "    os.makedirs(dst_lbl_dir, exist_ok=True)\n",
        "\n",
        "    for img_file in glob.glob(f\"{src_img_dir}/*.jpg\"):\n",
        "        shutil.copy(img_file, dst_img_dir)\n",
        "\n",
        "    for lbl_file in glob.glob(f\"{src_lbl_dir}/*.txt\"):\n",
        "        shutil.copy(lbl_file, dst_lbl_dir)\n",
        "\n",
        "# Move HF dataset\n",
        "move_files('/content/data/hf-dataset/images/train', '/content/data/hf-dataset/labels/train',\n",
        "           '/content/dataset/images/train', '/content/dataset/labels/train')\n",
        "\n",
        "# Move images- dataset (train, val, test)\n",
        "for split in ['train', 'val', 'test']:\n",
        "    move_files(f'/content/data/images-/images/{split}', f'/content/data/images-/labels/{split}',\n",
        "               f'/content/dataset/images/{split}', f'/content/dataset/labels/{split}')\n"
      ],
      "metadata": {
        "id": "rWsH8pEjcaGb"
      },
      "execution_count": null,
      "outputs": []
    },
    {
      "cell_type": "code",
      "source": [
        "import os\n",
        "\n",
        "for split in ['train', 'val', 'test']:\n",
        "    img_path = f'/content/dataset/images/{split}'\n",
        "    lbl_path = f'/content/dataset/labels/{split}'\n",
        "\n",
        "    img_count = len(os.listdir(img_path)) if os.path.exists(img_path) else 0\n",
        "    lbl_count = len(os.listdir(lbl_path)) if os.path.exists(lbl_path) else 0\n",
        "\n",
        "    print(f\"{split.upper()} SET:\")\n",
        "    print(f\" - Images: {img_count}\")\n",
        "    print(f\" - Labels: {lbl_count}\")\n",
        "    print()\n"
      ],
      "metadata": {
        "colab": {
          "base_uri": "https://localhost:8080/"
        },
        "id": "ZTG-gfFucfyg",
        "outputId": "6042e61e-7a26-468e-ea6b-01b61b4ad29a"
      },
      "execution_count": null,
      "outputs": [
        {
          "output_type": "stream",
          "name": "stdout",
          "text": [
            "TRAIN SET:\n",
            " - Images: 1249\n",
            " - Labels: 1249\n",
            "\n",
            "VAL SET:\n",
            " - Images: 0\n",
            " - Labels: 0\n",
            "\n",
            "TEST SET:\n",
            " - Images: 0\n",
            " - Labels: 0\n",
            "\n"
          ]
        }
      ]
    },
    {
      "cell_type": "code",
      "source": [
        "import os\n",
        "import random\n",
        "import shutil\n",
        "from pathlib import Path\n",
        "\n",
        "# Paths\n",
        "image_dir = Path('/content/dataset/images/train')\n",
        "label_dir = Path('/content/dataset/labels/train')\n",
        "\n",
        "val_img_dir = Path('/content/dataset/images/val')\n",
        "val_lbl_dir = Path('/content/dataset/labels/val')\n",
        "\n",
        "test_img_dir = Path('/content/dataset/images/test')\n",
        "test_lbl_dir = Path('/content/dataset/labels/test')\n",
        "\n",
        "# Create val and test directories\n",
        "for d in [val_img_dir, val_lbl_dir, test_img_dir, test_lbl_dir]:\n",
        "    d.mkdir(parents=True, exist_ok=True)\n",
        "\n",
        "# List all image files\n",
        "image_files = list(image_dir.glob('*.jpg'))\n",
        "\n",
        "# Shuffle for randomness\n",
        "random.shuffle(image_files)\n",
        "\n",
        "# Define split counts\n",
        "val_count = int(0.1 * len(image_files))\n",
        "test_count = int(0.1 * len(image_files))\n",
        "\n",
        "val_files = image_files[:val_count]\n",
        "test_files = image_files[val_count:val_count + test_count]\n",
        "\n",
        "# Function to move files\n",
        "def move_files(file_list, target_img_dir, target_lbl_dir):\n",
        "    for img_path in file_list:\n",
        "        lbl_path = label_dir / f\"{img_path.stem}.txt\"\n",
        "        if lbl_path.exists():\n",
        "            shutil.move(str(img_path), str(target_img_dir / img_path.name))\n",
        "            shutil.move(str(lbl_path), str(target_lbl_dir / lbl_path.name))\n",
        "\n",
        "# Move validation and test files\n",
        "move_files(val_files, val_img_dir, val_lbl_dir)\n",
        "move_files(test_files, test_img_dir, test_lbl_dir)\n",
        "\n",
        "print(f\"Moved {len(val_files)} images to val and {len(test_files)} images to test.\")\n"
      ],
      "metadata": {
        "colab": {
          "base_uri": "https://localhost:8080/"
        },
        "id": "pxDKTwiLcnR0",
        "outputId": "d8d94b1b-326f-400d-95bb-e91c179bcac0"
      },
      "execution_count": null,
      "outputs": [
        {
          "output_type": "stream",
          "name": "stdout",
          "text": [
            "Moved 124 images to val and 124 images to test.\n"
          ]
        }
      ]
    },
    {
      "cell_type": "code",
      "source": [
        "from pathlib import Path\n",
        "\n",
        "def count_files(path):\n",
        "    images = list((Path(path) / 'images').glob('**/*.jpg'))\n",
        "    labels = list((Path(path) / 'labels').glob('**/*.txt'))\n",
        "    return len(images), len(labels)\n",
        "\n",
        "splits = ['train', 'val', 'test']\n",
        "for split in splits:\n",
        "    img_count, lbl_count = count_files(f'/content/dataset/{split}')\n",
        "    print(f\"{split.upper()} SET:\\n - Images: {img_count}\\n - Labels: {lbl_count}\\n\")\n"
      ],
      "metadata": {
        "colab": {
          "base_uri": "https://localhost:8080/"
        },
        "id": "TFPn4qtwctbv",
        "outputId": "598aee06-e974-4490-ac18-c601b43b9aa3"
      },
      "execution_count": null,
      "outputs": [
        {
          "output_type": "stream",
          "name": "stdout",
          "text": [
            "TRAIN SET:\n",
            " - Images: 0\n",
            " - Labels: 0\n",
            "\n",
            "VAL SET:\n",
            " - Images: 0\n",
            " - Labels: 0\n",
            "\n",
            "TEST SET:\n",
            " - Images: 0\n",
            " - Labels: 0\n",
            "\n"
          ]
        }
      ]
    },
    {
      "cell_type": "code",
      "source": [
        "import shutil\n",
        "from pathlib import Path\n",
        "\n",
        "source_base = Path('/content/data/hf-dataset-split')\n",
        "target_base = Path('/content/dataset')\n",
        "\n",
        "for split in ['train', 'val', 'test']:\n",
        "    for kind in ['images', 'labels']:\n",
        "        src = source_base / split / kind\n",
        "        dst = target_base / split / kind\n",
        "        dst.mkdir(parents=True, exist_ok=True)\n",
        "        for file in src.glob('*'):\n",
        "            shutil.copy(file, dst)\n",
        "\n",
        "print(\"✅ Files copied to YOLO dataset directory.\")\n"
      ],
      "metadata": {
        "colab": {
          "base_uri": "https://localhost:8080/"
        },
        "id": "Gg_zwE1gczur",
        "outputId": "fb91f034-115b-486c-fb4a-72a65b2d3f4c"
      },
      "execution_count": null,
      "outputs": [
        {
          "output_type": "stream",
          "name": "stdout",
          "text": [
            "✅ Files copied to YOLO dataset directory.\n"
          ]
        }
      ]
    },
    {
      "cell_type": "code",
      "source": [
        "from pathlib import Path\n",
        "\n",
        "dataset_path = Path('/content/dataset')\n",
        "\n",
        "for split in ['train', 'val', 'test']:\n",
        "    img_count = len(list((dataset_path / split / 'images').glob('*')))\n",
        "    lbl_count = len(list((dataset_path / split / 'labels').glob('*')))\n",
        "    print(f\"{split.upper()} SET:\\n - Images: {img_count}\\n - Labels: {lbl_count}\\n\")\n"
      ],
      "metadata": {
        "colab": {
          "base_uri": "https://localhost:8080/"
        },
        "id": "YZmswqKPc4kF",
        "outputId": "9fe16c57-bc3c-4318-bf47-dc146a1170c5"
      },
      "execution_count": null,
      "outputs": [
        {
          "output_type": "stream",
          "name": "stdout",
          "text": [
            "TRAIN SET:\n",
            " - Images: 0\n",
            " - Labels: 0\n",
            "\n",
            "VAL SET:\n",
            " - Images: 0\n",
            " - Labels: 0\n",
            "\n",
            "TEST SET:\n",
            " - Images: 0\n",
            " - Labels: 0\n",
            "\n"
          ]
        }
      ]
    },
    {
      "cell_type": "code",
      "source": [
        "!ls -l /content/dataset/train/images | head -20\n",
        "!ls -l /content/dataset/train/labels | head -20\n",
        "!ls -l /content/dataset/val/images | head -20\n",
        "!ls -l /content/dataset/val/labels | head -20\n",
        "!ls -l /content/dataset/test/images | head -20\n",
        "!ls -l /content/dataset/test/labels | head -20\n"
      ],
      "metadata": {
        "colab": {
          "base_uri": "https://localhost:8080/"
        },
        "id": "apjZffhvc93n",
        "outputId": "6dac887c-3344-4ba9-ee12-5c936e443262"
      },
      "execution_count": null,
      "outputs": [
        {
          "output_type": "stream",
          "name": "stdout",
          "text": [
            "total 0\n",
            "total 0\n",
            "total 0\n",
            "total 0\n",
            "total 0\n",
            "total 0\n"
          ]
        }
      ]
    },
    {
      "cell_type": "code",
      "source": [
        "!ls -R /content/split_dataset\n"
      ],
      "metadata": {
        "colab": {
          "base_uri": "https://localhost:8080/"
        },
        "id": "SqO8auiNdKN5",
        "outputId": "a59b9d00-2cc0-47de-afdc-bd2d5bfe0fa3"
      },
      "execution_count": null,
      "outputs": [
        {
          "output_type": "stream",
          "name": "stdout",
          "text": [
            "ls: cannot access '/content/split_dataset': No such file or directory\n"
          ]
        }
      ]
    },
    {
      "cell_type": "code",
      "source": [
        "import os\n",
        "import random\n",
        "import shutil\n",
        "from pathlib import Path\n",
        "\n",
        "# Set random seed for reproducibility\n",
        "random.seed(42)\n",
        "\n",
        "# Paths\n",
        "dataset_dir = Path('/content/data/hf-dataset/images/train')\n",
        "label_dir = Path('/content/data/hf-dataset/labels/train')\n",
        "output_dir = Path('/content/split_dataset')\n",
        "\n",
        "# Ensure output structure\n",
        "for split in ['train', 'val', 'test']:\n",
        "    (output_dir / split / 'images').mkdir(parents=True, exist_ok=True)\n",
        "    (output_dir / split / 'labels').mkdir(parents=True, exist_ok=True)\n",
        "\n",
        "# Load all image filenames (excluding those without annotations)\n",
        "image_paths = sorted(dataset_dir.glob('*.jpg'))\n",
        "valid_image_paths = [img for img in image_paths if (label_dir / (img.stem + '.txt')).exists()]\n",
        "\n",
        "# Split: 80% train, 10% val, 10% test\n",
        "n_total = len(valid_image_paths)\n",
        "n_train = int(n_total * 0.8)\n",
        "n_val = int(n_total * 0.1)\n",
        "n_test = n_total - n_train - n_val\n",
        "\n",
        "train_imgs = valid_image_paths[:n_train]\n",
        "val_imgs = valid_image_paths[n_train:n_train + n_val]\n",
        "test_imgs = valid_image_paths[n_train + n_val:]\n",
        "\n",
        "# Function to move image + label\n",
        "def move_files(img_paths, split):\n",
        "    for img_path in img_paths:\n",
        "        label_path = label_dir / (img_path.stem + '.txt')\n",
        "        dst_img = output_dir / split / 'images' / img_path.name\n",
        "        dst_lbl = output_dir / split / 'labels' / label_path.name\n",
        "        shutil.copy(img_path, dst_img)\n",
        "        shutil.copy(label_path, dst_lbl)\n",
        "\n",
        "move_files(train_imgs, 'train')\n",
        "move_files(val_imgs, 'val')\n",
        "move_files(test_imgs, 'test')\n",
        "\n",
        "print(\"✅ Done splitting dataset:\")\n",
        "print(f\"Train: {len(train_imgs)} images\")\n",
        "print(f\"Val:   {len(val_imgs)} images\")\n",
        "print(f\"Test:  {len(test_imgs)} images\")\n"
      ],
      "metadata": {
        "colab": {
          "base_uri": "https://localhost:8080/"
        },
        "id": "IGAz8b-HdUA9",
        "outputId": "42d04236-c989-4bf5-b3af-fbd6e4043248"
      },
      "execution_count": null,
      "outputs": [
        {
          "output_type": "stream",
          "name": "stdout",
          "text": [
            "✅ Done splitting dataset:\n",
            "Train: 999 images\n",
            "Val:   124 images\n",
            "Test:  126 images\n"
          ]
        }
      ]
    },
    {
      "cell_type": "code",
      "source": [
        "import shutil\n",
        "from pathlib import Path\n",
        "\n",
        "# Define source and destination base paths\n",
        "src_base = Path('/content/split_dataset')\n",
        "dst_base = Path('/content/yolo_dataset')\n",
        "\n",
        "# Copy each split (images and labels)\n",
        "for split in ['train', 'val', 'test']:\n",
        "    for subfolder in ['images', 'labels']:\n",
        "        src = src_base / split / subfolder\n",
        "        dst = dst_base / split / subfolder\n",
        "\n",
        "        if dst.exists():\n",
        "            shutil.rmtree(dst)  # remove old contents if any\n",
        "\n",
        "        shutil.copytree(src, dst)\n",
        "        print(f\"✅ Copied {split}/{subfolder} from {src} to {dst}\")\n"
      ],
      "metadata": {
        "colab": {
          "base_uri": "https://localhost:8080/"
        },
        "id": "byZ-H3O3dZki",
        "outputId": "b29efaa9-dcc3-4aff-a729-13feef405783"
      },
      "execution_count": null,
      "outputs": [
        {
          "output_type": "stream",
          "name": "stdout",
          "text": [
            "✅ Copied train/images from /content/split_dataset/train/images to /content/yolo_dataset/train/images\n",
            "✅ Copied train/labels from /content/split_dataset/train/labels to /content/yolo_dataset/train/labels\n",
            "✅ Copied val/images from /content/split_dataset/val/images to /content/yolo_dataset/val/images\n",
            "✅ Copied val/labels from /content/split_dataset/val/labels to /content/yolo_dataset/val/labels\n",
            "✅ Copied test/images from /content/split_dataset/test/images to /content/yolo_dataset/test/images\n",
            "✅ Copied test/labels from /content/split_dataset/test/labels to /content/yolo_dataset/test/labels\n"
          ]
        }
      ]
    },
    {
      "cell_type": "code",
      "source": [
        "data_yaml = \"\"\"\n",
        "path: /content/yolo_dataset\n",
        "train: train/images\n",
        "val: val/images\n",
        "test: test/images\n",
        "\n",
        "names:\n",
        "  0: forklift\n",
        "  1: person\n",
        "\"\"\"\n",
        "\n",
        "with open('/content/yolo_dataset/data.yaml', 'w') as f:\n",
        "    f.write(data_yaml.strip())\n",
        "\n",
        "print(\"✅ Created data.yaml for YOLOv8\")\n"
      ],
      "metadata": {
        "colab": {
          "base_uri": "https://localhost:8080/"
        },
        "id": "3-ehtDR-djFt",
        "outputId": "f3c89279-6abd-476b-98f9-71f7f847711e"
      },
      "execution_count": null,
      "outputs": [
        {
          "output_type": "stream",
          "name": "stdout",
          "text": [
            "✅ Created data.yaml for YOLOv8\n"
          ]
        }
      ]
    },
    {
      "cell_type": "code",
      "source": [
        "from ultralytics import YOLO\n",
        "\n",
        "# Load a YOLOv8 model (you can change 'yolov8n.pt' to yolov8s.pt, yolov8m.pt, etc. for larger models)\n",
        "model = YOLO('yolov8n.pt')  # or 'yolov8s.pt'\n",
        "\n",
        "# Train the model\n",
        "model.train(\n",
        "    data='/content/yolo_dataset/data.yaml',\n",
        "    epochs=100,\n",
        "    imgsz=640,\n",
        "    batch=16,\n",
        "    name='forklift_detector'\n",
        ")\n"
      ],
      "metadata": {
        "colab": {
          "base_uri": "https://localhost:8080/"
        },
        "id": "lTWinwjXdoZj",
        "outputId": "57b9144e-da65-4a0c-c395-916936725417"
      },
      "execution_count": null,
      "outputs": [
        {
          "output_type": "stream",
          "name": "stdout",
          "text": [
            "Creating new Ultralytics Settings v0.0.6 file ✅ \n",
            "View Ultralytics Settings with 'yolo settings' or at '/root/.config/Ultralytics/settings.json'\n",
            "Update Settings with 'yolo settings key=value', i.e. 'yolo settings runs_dir=path/to/dir'. For help see https://docs.ultralytics.com/quickstart/#ultralytics-settings.\n",
            "Downloading https://github.com/ultralytics/assets/releases/download/v8.3.0/yolov8n.pt to 'yolov8n.pt'...\n"
          ]
        },
        {
          "output_type": "stream",
          "name": "stderr",
          "text": [
            "100%|██████████| 6.25M/6.25M [00:00<00:00, 103MB/s]\n"
          ]
        },
        {
          "output_type": "stream",
          "name": "stdout",
          "text": [
            "Ultralytics 8.3.107 🚀 Python-3.11.12 torch-2.6.0+cu124 CUDA:0 (Tesla T4, 15095MiB)\n",
            "\u001b[34m\u001b[1mengine/trainer: \u001b[0mtask=detect, mode=train, model=yolov8n.pt, data=/content/yolo_dataset/data.yaml, epochs=100, time=None, patience=100, batch=16, imgsz=640, save=True, save_period=-1, cache=False, device=None, workers=8, project=None, name=forklift_detector, exist_ok=False, pretrained=True, optimizer=auto, verbose=True, seed=0, deterministic=True, single_cls=False, rect=False, cos_lr=False, close_mosaic=10, resume=False, amp=True, fraction=1.0, profile=False, freeze=None, multi_scale=False, overlap_mask=True, mask_ratio=4, dropout=0.0, val=True, split=val, save_json=False, conf=None, iou=0.7, max_det=300, half=False, dnn=False, plots=True, source=None, vid_stride=1, stream_buffer=False, visualize=False, augment=False, agnostic_nms=False, classes=None, retina_masks=False, embed=None, show=False, save_frames=False, save_txt=False, save_conf=False, save_crop=False, show_labels=True, show_conf=True, show_boxes=True, line_width=None, format=torchscript, keras=False, optimize=False, int8=False, dynamic=False, simplify=True, opset=None, workspace=None, nms=False, lr0=0.01, lrf=0.01, momentum=0.937, weight_decay=0.0005, warmup_epochs=3.0, warmup_momentum=0.8, warmup_bias_lr=0.1, box=7.5, cls=0.5, dfl=1.5, pose=12.0, kobj=1.0, nbs=64, hsv_h=0.015, hsv_s=0.7, hsv_v=0.4, degrees=0.0, translate=0.1, scale=0.5, shear=0.0, perspective=0.0, flipud=0.0, fliplr=0.5, bgr=0.0, mosaic=1.0, mixup=0.0, copy_paste=0.0, copy_paste_mode=flip, auto_augment=randaugment, erasing=0.4, crop_fraction=1.0, cfg=None, tracker=botsort.yaml, save_dir=runs/detect/forklift_detector\n",
            "Downloading https://ultralytics.com/assets/Arial.ttf to '/root/.config/Ultralytics/Arial.ttf'...\n"
          ]
        },
        {
          "output_type": "stream",
          "name": "stderr",
          "text": [
            "100%|██████████| 755k/755k [00:00<00:00, 21.6MB/s]\n"
          ]
        },
        {
          "output_type": "stream",
          "name": "stdout",
          "text": [
            "Overriding model.yaml nc=80 with nc=2\n",
            "\n",
            "                   from  n    params  module                                       arguments                     \n",
            "  0                  -1  1       464  ultralytics.nn.modules.conv.Conv             [3, 16, 3, 2]                 \n",
            "  1                  -1  1      4672  ultralytics.nn.modules.conv.Conv             [16, 32, 3, 2]                \n",
            "  2                  -1  1      7360  ultralytics.nn.modules.block.C2f             [32, 32, 1, True]             \n",
            "  3                  -1  1     18560  ultralytics.nn.modules.conv.Conv             [32, 64, 3, 2]                \n",
            "  4                  -1  2     49664  ultralytics.nn.modules.block.C2f             [64, 64, 2, True]             \n",
            "  5                  -1  1     73984  ultralytics.nn.modules.conv.Conv             [64, 128, 3, 2]               \n",
            "  6                  -1  2    197632  ultralytics.nn.modules.block.C2f             [128, 128, 2, True]           \n",
            "  7                  -1  1    295424  ultralytics.nn.modules.conv.Conv             [128, 256, 3, 2]              \n",
            "  8                  -1  1    460288  ultralytics.nn.modules.block.C2f             [256, 256, 1, True]           \n",
            "  9                  -1  1    164608  ultralytics.nn.modules.block.SPPF            [256, 256, 5]                 \n",
            " 10                  -1  1         0  torch.nn.modules.upsampling.Upsample         [None, 2, 'nearest']          \n",
            " 11             [-1, 6]  1         0  ultralytics.nn.modules.conv.Concat           [1]                           \n",
            " 12                  -1  1    148224  ultralytics.nn.modules.block.C2f             [384, 128, 1]                 \n",
            " 13                  -1  1         0  torch.nn.modules.upsampling.Upsample         [None, 2, 'nearest']          \n",
            " 14             [-1, 4]  1         0  ultralytics.nn.modules.conv.Concat           [1]                           \n",
            " 15                  -1  1     37248  ultralytics.nn.modules.block.C2f             [192, 64, 1]                  \n",
            " 16                  -1  1     36992  ultralytics.nn.modules.conv.Conv             [64, 64, 3, 2]                \n",
            " 17            [-1, 12]  1         0  ultralytics.nn.modules.conv.Concat           [1]                           \n",
            " 18                  -1  1    123648  ultralytics.nn.modules.block.C2f             [192, 128, 1]                 \n",
            " 19                  -1  1    147712  ultralytics.nn.modules.conv.Conv             [128, 128, 3, 2]              \n",
            " 20             [-1, 9]  1         0  ultralytics.nn.modules.conv.Concat           [1]                           \n",
            " 21                  -1  1    493056  ultralytics.nn.modules.block.C2f             [384, 256, 1]                 \n",
            " 22        [15, 18, 21]  1    751702  ultralytics.nn.modules.head.Detect           [2, [64, 128, 256]]           \n",
            "Model summary: 129 layers, 3,011,238 parameters, 3,011,222 gradients, 8.2 GFLOPs\n",
            "\n",
            "Transferred 319/355 items from pretrained weights\n",
            "\u001b[34m\u001b[1mTensorBoard: \u001b[0mStart with 'tensorboard --logdir runs/detect/forklift_detector', view at http://localhost:6006/\n",
            "Freezing layer 'model.22.dfl.conv.weight'\n",
            "\u001b[34m\u001b[1mAMP: \u001b[0mrunning Automatic Mixed Precision (AMP) checks...\n",
            "Downloading https://github.com/ultralytics/assets/releases/download/v8.3.0/yolo11n.pt to 'yolo11n.pt'...\n"
          ]
        },
        {
          "output_type": "stream",
          "name": "stderr",
          "text": [
            "100%|██████████| 5.35M/5.35M [00:00<00:00, 92.1MB/s]\n"
          ]
        },
        {
          "output_type": "stream",
          "name": "stdout",
          "text": [
            "\u001b[34m\u001b[1mAMP: \u001b[0mchecks passed ✅\n"
          ]
        },
        {
          "output_type": "stream",
          "name": "stderr",
          "text": [
            "\u001b[34m\u001b[1mtrain: \u001b[0mScanning /content/yolo_dataset/train/labels... 999 images, 1 backgrounds, 0 corrupt: 100%|██████████| 999/999 [00:00<00:00, 2366.54it/s]"
          ]
        },
        {
          "output_type": "stream",
          "name": "stdout",
          "text": [
            "\u001b[34m\u001b[1mtrain: \u001b[0mNew cache created: /content/yolo_dataset/train/labels.cache\n"
          ]
        },
        {
          "output_type": "stream",
          "name": "stderr",
          "text": [
            "\n"
          ]
        },
        {
          "output_type": "stream",
          "name": "stdout",
          "text": [
            "\u001b[34m\u001b[1malbumentations: \u001b[0mBlur(p=0.01, blur_limit=(3, 7)), MedianBlur(p=0.01, blur_limit=(3, 7)), ToGray(p=0.01, num_output_channels=3, method='weighted_average'), CLAHE(p=0.01, clip_limit=(1.0, 4.0), tile_grid_size=(8, 8))\n"
          ]
        },
        {
          "output_type": "stream",
          "name": "stderr",
          "text": [
            "\u001b[34m\u001b[1mval: \u001b[0mScanning /content/yolo_dataset/val/labels... 124 images, 0 backgrounds, 0 corrupt: 100%|██████████| 124/124 [00:00<00:00, 1908.92it/s]"
          ]
        },
        {
          "output_type": "stream",
          "name": "stdout",
          "text": [
            "\u001b[34m\u001b[1mval: \u001b[0mNew cache created: /content/yolo_dataset/val/labels.cache\n"
          ]
        },
        {
          "output_type": "stream",
          "name": "stderr",
          "text": [
            "\n"
          ]
        },
        {
          "output_type": "stream",
          "name": "stdout",
          "text": [
            "Plotting labels to runs/detect/forklift_detector/labels.jpg... \n",
            "\u001b[34m\u001b[1moptimizer:\u001b[0m 'optimizer=auto' found, ignoring 'lr0=0.01' and 'momentum=0.937' and determining best 'optimizer', 'lr0' and 'momentum' automatically... \n",
            "\u001b[34m\u001b[1moptimizer:\u001b[0m AdamW(lr=0.001667, momentum=0.9) with parameter groups 57 weight(decay=0.0), 64 weight(decay=0.0005), 63 bias(decay=0.0)\n",
            "\u001b[34m\u001b[1mTensorBoard: \u001b[0mmodel graph visualization added ✅\n",
            "Image sizes 640 train, 640 val\n",
            "Using 2 dataloader workers\n",
            "Logging results to \u001b[1mruns/detect/forklift_detector\u001b[0m\n",
            "Starting training for 100 epochs...\n",
            "\n",
            "      Epoch    GPU_mem   box_loss   cls_loss   dfl_loss  Instances       Size\n"
          ]
        },
        {
          "output_type": "stream",
          "name": "stderr",
          "text": [
            "      1/100      2.11G      1.274      1.966      1.334         40        640: 100%|██████████| 63/63 [00:21<00:00,  2.98it/s]\n",
            "                 Class     Images  Instances      Box(P          R      mAP50  mAP50-95): 100%|██████████| 4/4 [00:02<00:00,  1.43it/s]"
          ]
        },
        {
          "output_type": "stream",
          "name": "stdout",
          "text": [
            "                   all        124        136      0.572      0.447      0.538      0.337\n"
          ]
        },
        {
          "output_type": "stream",
          "name": "stderr",
          "text": [
            "\n"
          ]
        },
        {
          "output_type": "stream",
          "name": "stdout",
          "text": [
            "\n",
            "      Epoch    GPU_mem   box_loss   cls_loss   dfl_loss  Instances       Size\n"
          ]
        },
        {
          "output_type": "stream",
          "name": "stderr",
          "text": [
            "      2/100      2.22G      1.297      1.475      1.348         37        640: 100%|██████████| 63/63 [00:18<00:00,  3.49it/s]\n",
            "                 Class     Images  Instances      Box(P          R      mAP50  mAP50-95): 100%|██████████| 4/4 [00:01<00:00,  3.57it/s]\n"
          ]
        },
        {
          "output_type": "stream",
          "name": "stdout",
          "text": [
            "                   all        124        136      0.525      0.394      0.279      0.131\n",
            "\n",
            "      Epoch    GPU_mem   box_loss   cls_loss   dfl_loss  Instances       Size\n"
          ]
        },
        {
          "output_type": "stream",
          "name": "stderr",
          "text": [
            "      3/100      2.24G      1.339      1.429      1.376         37        640: 100%|██████████| 63/63 [00:18<00:00,  3.41it/s]\n",
            "                 Class     Images  Instances      Box(P          R      mAP50  mAP50-95): 100%|██████████| 4/4 [00:01<00:00,  2.63it/s]\n"
          ]
        },
        {
          "output_type": "stream",
          "name": "stdout",
          "text": [
            "                   all        124        136      0.555      0.429      0.486       0.31\n",
            "\n",
            "      Epoch    GPU_mem   box_loss   cls_loss   dfl_loss  Instances       Size\n"
          ]
        },
        {
          "output_type": "stream",
          "name": "stderr",
          "text": [
            "      4/100      2.26G      1.323      1.353      1.381         49        640: 100%|██████████| 63/63 [00:17<00:00,  3.53it/s]\n",
            "                 Class     Images  Instances      Box(P          R      mAP50  mAP50-95): 100%|██████████| 4/4 [00:00<00:00,  4.32it/s]"
          ]
        },
        {
          "output_type": "stream",
          "name": "stdout",
          "text": [
            "                   all        124        136      0.477      0.456      0.324      0.183\n"
          ]
        },
        {
          "output_type": "stream",
          "name": "stderr",
          "text": [
            "\n"
          ]
        },
        {
          "output_type": "stream",
          "name": "stdout",
          "text": [
            "\n",
            "      Epoch    GPU_mem   box_loss   cls_loss   dfl_loss  Instances       Size\n"
          ]
        },
        {
          "output_type": "stream",
          "name": "stderr",
          "text": [
            "      5/100      2.28G      1.303      1.264      1.356         32        640: 100%|██████████| 63/63 [00:19<00:00,  3.31it/s]\n",
            "                 Class     Images  Instances      Box(P          R      mAP50  mAP50-95): 100%|██████████| 4/4 [00:01<00:00,  3.87it/s]"
          ]
        },
        {
          "output_type": "stream",
          "name": "stdout",
          "text": [
            "                   all        124        136      0.434      0.453       0.34      0.191\n"
          ]
        },
        {
          "output_type": "stream",
          "name": "stderr",
          "text": [
            "\n"
          ]
        },
        {
          "output_type": "stream",
          "name": "stdout",
          "text": [
            "\n",
            "      Epoch    GPU_mem   box_loss   cls_loss   dfl_loss  Instances       Size\n"
          ]
        },
        {
          "output_type": "stream",
          "name": "stderr",
          "text": [
            "      6/100      2.29G      1.307       1.23      1.361         42        640: 100%|██████████| 63/63 [00:17<00:00,  3.55it/s]\n",
            "                 Class     Images  Instances      Box(P          R      mAP50  mAP50-95): 100%|██████████| 4/4 [00:01<00:00,  3.70it/s]"
          ]
        },
        {
          "output_type": "stream",
          "name": "stdout",
          "text": [
            "                   all        124        136      0.502      0.538      0.486      0.294\n"
          ]
        },
        {
          "output_type": "stream",
          "name": "stderr",
          "text": [
            "\n"
          ]
        },
        {
          "output_type": "stream",
          "name": "stdout",
          "text": [
            "\n",
            "      Epoch    GPU_mem   box_loss   cls_loss   dfl_loss  Instances       Size\n"
          ]
        },
        {
          "output_type": "stream",
          "name": "stderr",
          "text": [
            "      7/100      2.31G      1.285      1.189      1.361         43        640: 100%|██████████| 63/63 [00:19<00:00,  3.31it/s]\n",
            "                 Class     Images  Instances      Box(P          R      mAP50  mAP50-95): 100%|██████████| 4/4 [00:01<00:00,  3.96it/s]"
          ]
        },
        {
          "output_type": "stream",
          "name": "stdout",
          "text": [
            "                   all        124        136        0.5      0.545      0.473      0.265\n"
          ]
        },
        {
          "output_type": "stream",
          "name": "stderr",
          "text": [
            "\n"
          ]
        },
        {
          "output_type": "stream",
          "name": "stdout",
          "text": [
            "\n",
            "      Epoch    GPU_mem   box_loss   cls_loss   dfl_loss  Instances       Size\n"
          ]
        },
        {
          "output_type": "stream",
          "name": "stderr",
          "text": [
            "      8/100      2.33G       1.23      1.102      1.322         28        640: 100%|██████████| 63/63 [00:17<00:00,  3.55it/s]\n",
            "                 Class     Images  Instances      Box(P          R      mAP50  mAP50-95): 100%|██████████| 4/4 [00:01<00:00,  3.75it/s]"
          ]
        },
        {
          "output_type": "stream",
          "name": "stdout",
          "text": [
            "                   all        124        136       0.46       0.64      0.477      0.273\n"
          ]
        },
        {
          "output_type": "stream",
          "name": "stderr",
          "text": [
            "\n"
          ]
        },
        {
          "output_type": "stream",
          "name": "stdout",
          "text": [
            "\n",
            "      Epoch    GPU_mem   box_loss   cls_loss   dfl_loss  Instances       Size\n"
          ]
        },
        {
          "output_type": "stream",
          "name": "stderr",
          "text": [
            "      9/100      2.34G      1.253      1.094      1.333         50        640: 100%|██████████| 63/63 [00:18<00:00,  3.42it/s]\n",
            "                 Class     Images  Instances      Box(P          R      mAP50  mAP50-95): 100%|██████████| 4/4 [00:01<00:00,  3.46it/s]"
          ]
        },
        {
          "output_type": "stream",
          "name": "stdout",
          "text": [
            "                   all        124        136      0.537      0.725      0.612      0.369\n"
          ]
        },
        {
          "output_type": "stream",
          "name": "stderr",
          "text": [
            "\n"
          ]
        },
        {
          "output_type": "stream",
          "name": "stdout",
          "text": [
            "\n",
            "      Epoch    GPU_mem   box_loss   cls_loss   dfl_loss  Instances       Size\n"
          ]
        },
        {
          "output_type": "stream",
          "name": "stderr",
          "text": [
            "     10/100      2.36G      1.224       1.03      1.316         33        640: 100%|██████████| 63/63 [00:17<00:00,  3.53it/s]\n",
            "                 Class     Images  Instances      Box(P          R      mAP50  mAP50-95): 100%|██████████| 4/4 [00:01<00:00,  3.76it/s]"
          ]
        },
        {
          "output_type": "stream",
          "name": "stdout",
          "text": [
            "                   all        124        136      0.434      0.594       0.45      0.269\n"
          ]
        },
        {
          "output_type": "stream",
          "name": "stderr",
          "text": [
            "\n"
          ]
        },
        {
          "output_type": "stream",
          "name": "stdout",
          "text": [
            "\n",
            "      Epoch    GPU_mem   box_loss   cls_loss   dfl_loss  Instances       Size\n"
          ]
        },
        {
          "output_type": "stream",
          "name": "stderr",
          "text": [
            "     11/100      2.38G      1.189      1.006      1.286         16        640: 100%|██████████| 63/63 [00:19<00:00,  3.27it/s]\n",
            "                 Class     Images  Instances      Box(P          R      mAP50  mAP50-95): 100%|██████████| 4/4 [00:00<00:00,  4.36it/s]"
          ]
        },
        {
          "output_type": "stream",
          "name": "stdout",
          "text": [
            "                   all        124        136      0.528      0.437      0.466      0.273\n"
          ]
        },
        {
          "output_type": "stream",
          "name": "stderr",
          "text": [
            "\n"
          ]
        },
        {
          "output_type": "stream",
          "name": "stdout",
          "text": [
            "\n",
            "      Epoch    GPU_mem   box_loss   cls_loss   dfl_loss  Instances       Size\n"
          ]
        },
        {
          "output_type": "stream",
          "name": "stderr",
          "text": [
            "     12/100      2.39G      1.153      0.966       1.27         29        640: 100%|██████████| 63/63 [00:18<00:00,  3.49it/s]\n",
            "                 Class     Images  Instances      Box(P          R      mAP50  mAP50-95): 100%|██████████| 4/4 [00:00<00:00,  4.21it/s]"
          ]
        },
        {
          "output_type": "stream",
          "name": "stdout",
          "text": [
            "                   all        124        136      0.386      0.389      0.401      0.238\n"
          ]
        },
        {
          "output_type": "stream",
          "name": "stderr",
          "text": [
            "\n"
          ]
        },
        {
          "output_type": "stream",
          "name": "stdout",
          "text": [
            "\n",
            "      Epoch    GPU_mem   box_loss   cls_loss   dfl_loss  Instances       Size\n"
          ]
        },
        {
          "output_type": "stream",
          "name": "stderr",
          "text": [
            "     13/100      2.41G      1.145     0.9591      1.273         50        640: 100%|██████████| 63/63 [00:18<00:00,  3.36it/s]\n",
            "                 Class     Images  Instances      Box(P          R      mAP50  mAP50-95): 100%|██████████| 4/4 [00:01<00:00,  3.62it/s]"
          ]
        },
        {
          "output_type": "stream",
          "name": "stdout",
          "text": [
            "                   all        124        136      0.438      0.577      0.446      0.283\n"
          ]
        },
        {
          "output_type": "stream",
          "name": "stderr",
          "text": [
            "\n"
          ]
        },
        {
          "output_type": "stream",
          "name": "stdout",
          "text": [
            "\n",
            "      Epoch    GPU_mem   box_loss   cls_loss   dfl_loss  Instances       Size\n"
          ]
        },
        {
          "output_type": "stream",
          "name": "stderr",
          "text": [
            "     14/100      2.42G      1.142      0.954      1.278         45        640: 100%|██████████| 63/63 [00:18<00:00,  3.49it/s]\n",
            "                 Class     Images  Instances      Box(P          R      mAP50  mAP50-95): 100%|██████████| 4/4 [00:01<00:00,  3.35it/s]"
          ]
        },
        {
          "output_type": "stream",
          "name": "stdout",
          "text": [
            "                   all        124        136      0.497      0.685      0.502      0.292\n"
          ]
        },
        {
          "output_type": "stream",
          "name": "stderr",
          "text": [
            "\n"
          ]
        },
        {
          "output_type": "stream",
          "name": "stdout",
          "text": [
            "\n",
            "      Epoch    GPU_mem   box_loss   cls_loss   dfl_loss  Instances       Size\n"
          ]
        },
        {
          "output_type": "stream",
          "name": "stderr",
          "text": [
            "     15/100      2.45G       1.12     0.9171      1.263         34        640: 100%|██████████| 63/63 [00:18<00:00,  3.40it/s]\n",
            "                 Class     Images  Instances      Box(P          R      mAP50  mAP50-95): 100%|██████████| 4/4 [00:01<00:00,  3.61it/s]"
          ]
        },
        {
          "output_type": "stream",
          "name": "stdout",
          "text": [
            "                   all        124        136      0.484      0.858      0.478      0.287\n"
          ]
        },
        {
          "output_type": "stream",
          "name": "stderr",
          "text": [
            "\n"
          ]
        },
        {
          "output_type": "stream",
          "name": "stdout",
          "text": [
            "\n",
            "      Epoch    GPU_mem   box_loss   cls_loss   dfl_loss  Instances       Size\n"
          ]
        },
        {
          "output_type": "stream",
          "name": "stderr",
          "text": [
            "     16/100      2.46G      1.124     0.9041      1.245         45        640: 100%|██████████| 63/63 [00:17<00:00,  3.52it/s]\n",
            "                 Class     Images  Instances      Box(P          R      mAP50  mAP50-95): 100%|██████████| 4/4 [00:01<00:00,  2.75it/s]"
          ]
        },
        {
          "output_type": "stream",
          "name": "stdout",
          "text": [
            "                   all        124        136      0.506      0.823        0.6      0.366\n"
          ]
        },
        {
          "output_type": "stream",
          "name": "stderr",
          "text": [
            "\n"
          ]
        },
        {
          "output_type": "stream",
          "name": "stdout",
          "text": [
            "\n",
            "      Epoch    GPU_mem   box_loss   cls_loss   dfl_loss  Instances       Size\n"
          ]
        },
        {
          "output_type": "stream",
          "name": "stderr",
          "text": [
            "     17/100      2.48G      1.114        0.9      1.238         36        640: 100%|██████████| 63/63 [00:18<00:00,  3.45it/s]\n",
            "                 Class     Images  Instances      Box(P          R      mAP50  mAP50-95): 100%|██████████| 4/4 [00:01<00:00,  3.77it/s]"
          ]
        },
        {
          "output_type": "stream",
          "name": "stdout",
          "text": [
            "                   all        124        136      0.542      0.798       0.54       0.34\n"
          ]
        },
        {
          "output_type": "stream",
          "name": "stderr",
          "text": [
            "\n"
          ]
        },
        {
          "output_type": "stream",
          "name": "stdout",
          "text": [
            "\n",
            "      Epoch    GPU_mem   box_loss   cls_loss   dfl_loss  Instances       Size\n"
          ]
        },
        {
          "output_type": "stream",
          "name": "stderr",
          "text": [
            "     18/100      2.49G      1.101     0.8617      1.233         45        640: 100%|██████████| 63/63 [00:17<00:00,  3.57it/s]\n",
            "                 Class     Images  Instances      Box(P          R      mAP50  mAP50-95): 100%|██████████| 4/4 [00:01<00:00,  2.44it/s]"
          ]
        },
        {
          "output_type": "stream",
          "name": "stdout",
          "text": [
            "                   all        124        136      0.401      0.779      0.495      0.314\n"
          ]
        },
        {
          "output_type": "stream",
          "name": "stderr",
          "text": [
            "\n"
          ]
        },
        {
          "output_type": "stream",
          "name": "stdout",
          "text": [
            "\n",
            "      Epoch    GPU_mem   box_loss   cls_loss   dfl_loss  Instances       Size\n"
          ]
        },
        {
          "output_type": "stream",
          "name": "stderr",
          "text": [
            "     19/100      2.51G      1.067     0.8467      1.218         41        640: 100%|██████████| 63/63 [00:18<00:00,  3.46it/s]\n",
            "                 Class     Images  Instances      Box(P          R      mAP50  mAP50-95): 100%|██████████| 4/4 [00:01<00:00,  3.99it/s]"
          ]
        },
        {
          "output_type": "stream",
          "name": "stdout",
          "text": [
            "                   all        124        136       0.49      0.813      0.585       0.38\n"
          ]
        },
        {
          "output_type": "stream",
          "name": "stderr",
          "text": [
            "\n"
          ]
        },
        {
          "output_type": "stream",
          "name": "stdout",
          "text": [
            "\n",
            "      Epoch    GPU_mem   box_loss   cls_loss   dfl_loss  Instances       Size\n"
          ]
        },
        {
          "output_type": "stream",
          "name": "stderr",
          "text": [
            "     20/100      2.53G      1.083     0.8414      1.229         43        640: 100%|██████████| 63/63 [00:18<00:00,  3.46it/s]\n",
            "                 Class     Images  Instances      Box(P          R      mAP50  mAP50-95): 100%|██████████| 4/4 [00:01<00:00,  2.28it/s]\n"
          ]
        },
        {
          "output_type": "stream",
          "name": "stdout",
          "text": [
            "                   all        124        136       0.48      0.721       0.48      0.276\n",
            "\n",
            "      Epoch    GPU_mem   box_loss   cls_loss   dfl_loss  Instances       Size\n"
          ]
        },
        {
          "output_type": "stream",
          "name": "stderr",
          "text": [
            "     21/100      2.55G      1.071     0.8355      1.218         47        640: 100%|██████████| 63/63 [00:17<00:00,  3.55it/s]\n",
            "                 Class     Images  Instances      Box(P          R      mAP50  mAP50-95): 100%|██████████| 4/4 [00:01<00:00,  3.92it/s]"
          ]
        },
        {
          "output_type": "stream",
          "name": "stdout",
          "text": [
            "                   all        124        136      0.502      0.758       0.54      0.332\n"
          ]
        },
        {
          "output_type": "stream",
          "name": "stderr",
          "text": [
            "\n"
          ]
        },
        {
          "output_type": "stream",
          "name": "stdout",
          "text": [
            "\n",
            "      Epoch    GPU_mem   box_loss   cls_loss   dfl_loss  Instances       Size\n"
          ]
        },
        {
          "output_type": "stream",
          "name": "stderr",
          "text": [
            "     22/100      2.56G      1.072     0.8304      1.228         46        640: 100%|██████████| 63/63 [00:17<00:00,  3.51it/s]\n",
            "                 Class     Images  Instances      Box(P          R      mAP50  mAP50-95): 100%|██████████| 4/4 [00:01<00:00,  2.37it/s]"
          ]
        },
        {
          "output_type": "stream",
          "name": "stdout",
          "text": [
            "                   all        124        136      0.494      0.752      0.491      0.282\n"
          ]
        },
        {
          "output_type": "stream",
          "name": "stderr",
          "text": [
            "\n"
          ]
        },
        {
          "output_type": "stream",
          "name": "stdout",
          "text": [
            "\n",
            "      Epoch    GPU_mem   box_loss   cls_loss   dfl_loss  Instances       Size\n"
          ]
        },
        {
          "output_type": "stream",
          "name": "stderr",
          "text": [
            "     23/100      2.58G      1.061      0.818      1.211         49        640: 100%|██████████| 63/63 [00:17<00:00,  3.53it/s]\n",
            "                 Class     Images  Instances      Box(P          R      mAP50  mAP50-95): 100%|██████████| 4/4 [00:01<00:00,  3.94it/s]"
          ]
        },
        {
          "output_type": "stream",
          "name": "stdout",
          "text": [
            "                   all        124        136      0.462      0.777      0.526      0.312\n"
          ]
        },
        {
          "output_type": "stream",
          "name": "stderr",
          "text": [
            "\n"
          ]
        },
        {
          "output_type": "stream",
          "name": "stdout",
          "text": [
            "\n",
            "      Epoch    GPU_mem   box_loss   cls_loss   dfl_loss  Instances       Size\n"
          ]
        },
        {
          "output_type": "stream",
          "name": "stderr",
          "text": [
            "     24/100       2.6G      1.033     0.7878       1.19         34        640: 100%|██████████| 63/63 [00:18<00:00,  3.34it/s]\n",
            "                 Class     Images  Instances      Box(P          R      mAP50  mAP50-95): 100%|██████████| 4/4 [00:01<00:00,  3.92it/s]"
          ]
        },
        {
          "output_type": "stream",
          "name": "stdout",
          "text": [
            "                   all        124        136      0.453      0.641      0.505      0.309\n"
          ]
        },
        {
          "output_type": "stream",
          "name": "stderr",
          "text": [
            "\n"
          ]
        },
        {
          "output_type": "stream",
          "name": "stdout",
          "text": [
            "\n",
            "      Epoch    GPU_mem   box_loss   cls_loss   dfl_loss  Instances       Size\n"
          ]
        },
        {
          "output_type": "stream",
          "name": "stderr",
          "text": [
            "     25/100      2.62G       1.02     0.7594      1.199         38        640: 100%|██████████| 63/63 [00:17<00:00,  3.58it/s]\n",
            "                 Class     Images  Instances      Box(P          R      mAP50  mAP50-95): 100%|██████████| 4/4 [00:01<00:00,  3.79it/s]"
          ]
        },
        {
          "output_type": "stream",
          "name": "stdout",
          "text": [
            "                   all        124        136      0.561      0.688       0.63      0.429\n"
          ]
        },
        {
          "output_type": "stream",
          "name": "stderr",
          "text": [
            "\n"
          ]
        },
        {
          "output_type": "stream",
          "name": "stdout",
          "text": [
            "\n",
            "      Epoch    GPU_mem   box_loss   cls_loss   dfl_loss  Instances       Size\n"
          ]
        },
        {
          "output_type": "stream",
          "name": "stderr",
          "text": [
            "     26/100      2.63G      1.036     0.7625      1.194         42        640: 100%|██████████| 63/63 [00:18<00:00,  3.44it/s]\n",
            "                 Class     Images  Instances      Box(P          R      mAP50  mAP50-95): 100%|██████████| 4/4 [00:01<00:00,  3.46it/s]"
          ]
        },
        {
          "output_type": "stream",
          "name": "stdout",
          "text": [
            "                   all        124        136      0.486      0.694      0.565      0.354\n"
          ]
        },
        {
          "output_type": "stream",
          "name": "stderr",
          "text": [
            "\n"
          ]
        },
        {
          "output_type": "stream",
          "name": "stdout",
          "text": [
            "\n",
            "      Epoch    GPU_mem   box_loss   cls_loss   dfl_loss  Instances       Size\n"
          ]
        },
        {
          "output_type": "stream",
          "name": "stderr",
          "text": [
            "     27/100      2.65G      1.025     0.7622      1.187         43        640: 100%|██████████| 63/63 [00:17<00:00,  3.56it/s]\n",
            "                 Class     Images  Instances      Box(P          R      mAP50  mAP50-95): 100%|██████████| 4/4 [00:00<00:00,  4.10it/s]"
          ]
        },
        {
          "output_type": "stream",
          "name": "stdout",
          "text": [
            "                   all        124        136      0.492      0.728      0.524      0.341\n"
          ]
        },
        {
          "output_type": "stream",
          "name": "stderr",
          "text": [
            "\n"
          ]
        },
        {
          "output_type": "stream",
          "name": "stdout",
          "text": [
            "\n",
            "      Epoch    GPU_mem   box_loss   cls_loss   dfl_loss  Instances       Size\n"
          ]
        },
        {
          "output_type": "stream",
          "name": "stderr",
          "text": [
            "     28/100      2.67G     0.9934     0.7333      1.164         31        640: 100%|██████████| 63/63 [00:18<00:00,  3.39it/s]\n",
            "                 Class     Images  Instances      Box(P          R      mAP50  mAP50-95): 100%|██████████| 4/4 [00:01<00:00,  3.17it/s]"
          ]
        },
        {
          "output_type": "stream",
          "name": "stdout",
          "text": [
            "                   all        124        136      0.493      0.672      0.508      0.327\n"
          ]
        },
        {
          "output_type": "stream",
          "name": "stderr",
          "text": [
            "\n"
          ]
        },
        {
          "output_type": "stream",
          "name": "stdout",
          "text": [
            "\n",
            "      Epoch    GPU_mem   box_loss   cls_loss   dfl_loss  Instances       Size\n"
          ]
        },
        {
          "output_type": "stream",
          "name": "stderr",
          "text": [
            "     29/100      2.69G      1.008     0.7321      1.168         43        640: 100%|██████████| 63/63 [00:17<00:00,  3.56it/s]\n",
            "                 Class     Images  Instances      Box(P          R      mAP50  mAP50-95): 100%|██████████| 4/4 [00:01<00:00,  3.59it/s]"
          ]
        },
        {
          "output_type": "stream",
          "name": "stdout",
          "text": [
            "                   all        124        136      0.544      0.785      0.593      0.351\n"
          ]
        },
        {
          "output_type": "stream",
          "name": "stderr",
          "text": [
            "\n"
          ]
        },
        {
          "output_type": "stream",
          "name": "stdout",
          "text": [
            "\n",
            "      Epoch    GPU_mem   box_loss   cls_loss   dfl_loss  Instances       Size\n"
          ]
        },
        {
          "output_type": "stream",
          "name": "stderr",
          "text": [
            "     30/100       2.7G     0.9824     0.7333      1.169         48        640: 100%|██████████| 63/63 [00:18<00:00,  3.38it/s]\n",
            "                 Class     Images  Instances      Box(P          R      mAP50  mAP50-95): 100%|██████████| 4/4 [00:01<00:00,  3.81it/s]"
          ]
        },
        {
          "output_type": "stream",
          "name": "stdout",
          "text": [
            "                   all        124        136      0.511      0.877      0.598      0.376\n"
          ]
        },
        {
          "output_type": "stream",
          "name": "stderr",
          "text": [
            "\n"
          ]
        },
        {
          "output_type": "stream",
          "name": "stdout",
          "text": [
            "\n",
            "      Epoch    GPU_mem   box_loss   cls_loss   dfl_loss  Instances       Size\n"
          ]
        },
        {
          "output_type": "stream",
          "name": "stderr",
          "text": [
            "     31/100      2.72G     0.9835     0.7424      1.155         44        640: 100%|██████████| 63/63 [00:18<00:00,  3.48it/s]\n",
            "                 Class     Images  Instances      Box(P          R      mAP50  mAP50-95): 100%|██████████| 4/4 [00:01<00:00,  3.82it/s]"
          ]
        },
        {
          "output_type": "stream",
          "name": "stdout",
          "text": [
            "                   all        124        136      0.471      0.886        0.6      0.377\n"
          ]
        },
        {
          "output_type": "stream",
          "name": "stderr",
          "text": [
            "\n"
          ]
        },
        {
          "output_type": "stream",
          "name": "stdout",
          "text": [
            "\n",
            "      Epoch    GPU_mem   box_loss   cls_loss   dfl_loss  Instances       Size\n"
          ]
        },
        {
          "output_type": "stream",
          "name": "stderr",
          "text": [
            "     32/100      2.74G     0.9607      0.693      1.146         69        640: 100%|██████████| 63/63 [00:18<00:00,  3.34it/s]\n",
            "                 Class     Images  Instances      Box(P          R      mAP50  mAP50-95): 100%|██████████| 4/4 [00:01<00:00,  3.31it/s]"
          ]
        },
        {
          "output_type": "stream",
          "name": "stdout",
          "text": [
            "                   all        124        136      0.497      0.834      0.632       0.42\n"
          ]
        },
        {
          "output_type": "stream",
          "name": "stderr",
          "text": [
            "\n"
          ]
        },
        {
          "output_type": "stream",
          "name": "stdout",
          "text": [
            "\n",
            "      Epoch    GPU_mem   box_loss   cls_loss   dfl_loss  Instances       Size\n"
          ]
        },
        {
          "output_type": "stream",
          "name": "stderr",
          "text": [
            "     33/100      2.75G     0.9446     0.6947      1.139         54        640: 100%|██████████| 63/63 [00:17<00:00,  3.53it/s]\n",
            "                 Class     Images  Instances      Box(P          R      mAP50  mAP50-95): 100%|██████████| 4/4 [00:01<00:00,  3.62it/s]"
          ]
        },
        {
          "output_type": "stream",
          "name": "stdout",
          "text": [
            "                   all        124        136      0.537      0.791      0.574       0.38\n"
          ]
        },
        {
          "output_type": "stream",
          "name": "stderr",
          "text": [
            "\n"
          ]
        },
        {
          "output_type": "stream",
          "name": "stdout",
          "text": [
            "\n",
            "      Epoch    GPU_mem   box_loss   cls_loss   dfl_loss  Instances       Size\n"
          ]
        },
        {
          "output_type": "stream",
          "name": "stderr",
          "text": [
            "     34/100      2.76G     0.9725     0.7147      1.151         21        640: 100%|██████████| 63/63 [00:18<00:00,  3.36it/s]\n",
            "                 Class     Images  Instances      Box(P          R      mAP50  mAP50-95): 100%|██████████| 4/4 [00:01<00:00,  3.64it/s]"
          ]
        },
        {
          "output_type": "stream",
          "name": "stdout",
          "text": [
            "                   all        124        136      0.531      0.713      0.601      0.403\n"
          ]
        },
        {
          "output_type": "stream",
          "name": "stderr",
          "text": [
            "\n"
          ]
        },
        {
          "output_type": "stream",
          "name": "stdout",
          "text": [
            "\n",
            "      Epoch    GPU_mem   box_loss   cls_loss   dfl_loss  Instances       Size\n"
          ]
        },
        {
          "output_type": "stream",
          "name": "stderr",
          "text": [
            "     35/100      2.79G      0.962     0.7005      1.145         27        640: 100%|██████████| 63/63 [00:17<00:00,  3.59it/s]\n",
            "                 Class     Images  Instances      Box(P          R      mAP50  mAP50-95): 100%|██████████| 4/4 [00:01<00:00,  3.67it/s]"
          ]
        },
        {
          "output_type": "stream",
          "name": "stdout",
          "text": [
            "                   all        124        136      0.429      0.718      0.533      0.359\n"
          ]
        },
        {
          "output_type": "stream",
          "name": "stderr",
          "text": [
            "\n"
          ]
        },
        {
          "output_type": "stream",
          "name": "stdout",
          "text": [
            "\n",
            "      Epoch    GPU_mem   box_loss   cls_loss   dfl_loss  Instances       Size\n"
          ]
        },
        {
          "output_type": "stream",
          "name": "stderr",
          "text": [
            "     36/100       2.8G     0.9577     0.6952      1.145         46        640: 100%|██████████| 63/63 [00:18<00:00,  3.37it/s]\n",
            "                 Class     Images  Instances      Box(P          R      mAP50  mAP50-95): 100%|██████████| 4/4 [00:01<00:00,  3.37it/s]"
          ]
        },
        {
          "output_type": "stream",
          "name": "stdout",
          "text": [
            "                   all        124        136      0.448      0.778      0.529      0.342\n"
          ]
        },
        {
          "output_type": "stream",
          "name": "stderr",
          "text": [
            "\n"
          ]
        },
        {
          "output_type": "stream",
          "name": "stdout",
          "text": [
            "\n",
            "      Epoch    GPU_mem   box_loss   cls_loss   dfl_loss  Instances       Size\n"
          ]
        },
        {
          "output_type": "stream",
          "name": "stderr",
          "text": [
            "     37/100      2.82G     0.9407     0.6761      1.142         42        640: 100%|██████████| 63/63 [00:17<00:00,  3.50it/s]\n",
            "                 Class     Images  Instances      Box(P          R      mAP50  mAP50-95): 100%|██████████| 4/4 [00:01<00:00,  3.21it/s]"
          ]
        },
        {
          "output_type": "stream",
          "name": "stdout",
          "text": [
            "                   all        124        136       0.46      0.835       0.59      0.407\n"
          ]
        },
        {
          "output_type": "stream",
          "name": "stderr",
          "text": [
            "\n"
          ]
        },
        {
          "output_type": "stream",
          "name": "stdout",
          "text": [
            "\n",
            "      Epoch    GPU_mem   box_loss   cls_loss   dfl_loss  Instances       Size\n"
          ]
        },
        {
          "output_type": "stream",
          "name": "stderr",
          "text": [
            "     38/100      2.83G     0.9213     0.6552      1.126         33        640: 100%|██████████| 63/63 [00:18<00:00,  3.32it/s]\n",
            "                 Class     Images  Instances      Box(P          R      mAP50  mAP50-95): 100%|██████████| 4/4 [00:01<00:00,  3.53it/s]"
          ]
        },
        {
          "output_type": "stream",
          "name": "stdout",
          "text": [
            "                   all        124        136      0.486      0.868      0.557      0.383\n"
          ]
        },
        {
          "output_type": "stream",
          "name": "stderr",
          "text": [
            "\n"
          ]
        },
        {
          "output_type": "stream",
          "name": "stdout",
          "text": [
            "\n",
            "      Epoch    GPU_mem   box_loss   cls_loss   dfl_loss  Instances       Size\n"
          ]
        },
        {
          "output_type": "stream",
          "name": "stderr",
          "text": [
            "     39/100      2.86G     0.9229      0.675       1.14         40        640: 100%|██████████| 63/63 [00:18<00:00,  3.46it/s]\n",
            "                 Class     Images  Instances      Box(P          R      mAP50  mAP50-95): 100%|██████████| 4/4 [00:01<00:00,  2.47it/s]"
          ]
        },
        {
          "output_type": "stream",
          "name": "stdout",
          "text": [
            "                   all        124        136      0.579       0.64      0.622      0.399\n"
          ]
        },
        {
          "output_type": "stream",
          "name": "stderr",
          "text": [
            "\n"
          ]
        },
        {
          "output_type": "stream",
          "name": "stdout",
          "text": [
            "\n",
            "      Epoch    GPU_mem   box_loss   cls_loss   dfl_loss  Instances       Size\n"
          ]
        },
        {
          "output_type": "stream",
          "name": "stderr",
          "text": [
            "     40/100      2.87G     0.9265     0.6569      1.134         57        640: 100%|██████████| 63/63 [00:17<00:00,  3.56it/s]\n",
            "                 Class     Images  Instances      Box(P          R      mAP50  mAP50-95): 100%|██████████| 4/4 [00:01<00:00,  3.65it/s]"
          ]
        },
        {
          "output_type": "stream",
          "name": "stdout",
          "text": [
            "                   all        124        136      0.555      0.666      0.614      0.388\n"
          ]
        },
        {
          "output_type": "stream",
          "name": "stderr",
          "text": [
            "\n"
          ]
        },
        {
          "output_type": "stream",
          "name": "stdout",
          "text": [
            "\n",
            "      Epoch    GPU_mem   box_loss   cls_loss   dfl_loss  Instances       Size\n"
          ]
        },
        {
          "output_type": "stream",
          "name": "stderr",
          "text": [
            "     41/100      2.89G     0.9277     0.6654      1.135         31        640: 100%|██████████| 63/63 [00:18<00:00,  3.47it/s]\n",
            "                 Class     Images  Instances      Box(P          R      mAP50  mAP50-95): 100%|██████████| 4/4 [00:01<00:00,  2.29it/s]"
          ]
        },
        {
          "output_type": "stream",
          "name": "stdout",
          "text": [
            "                   all        124        136      0.512       0.79      0.627      0.426\n"
          ]
        },
        {
          "output_type": "stream",
          "name": "stderr",
          "text": [
            "\n"
          ]
        },
        {
          "output_type": "stream",
          "name": "stdout",
          "text": [
            "\n",
            "      Epoch    GPU_mem   box_loss   cls_loss   dfl_loss  Instances       Size\n"
          ]
        },
        {
          "output_type": "stream",
          "name": "stderr",
          "text": [
            "     42/100       2.9G     0.9168     0.6414      1.123         42        640: 100%|██████████| 63/63 [00:17<00:00,  3.55it/s]\n",
            "                 Class     Images  Instances      Box(P          R      mAP50  mAP50-95): 100%|██████████| 4/4 [00:01<00:00,  3.45it/s]"
          ]
        },
        {
          "output_type": "stream",
          "name": "stdout",
          "text": [
            "                   all        124        136      0.502      0.799      0.629      0.426\n"
          ]
        },
        {
          "output_type": "stream",
          "name": "stderr",
          "text": [
            "\n"
          ]
        },
        {
          "output_type": "stream",
          "name": "stdout",
          "text": [
            "\n",
            "      Epoch    GPU_mem   box_loss   cls_loss   dfl_loss  Instances       Size\n"
          ]
        },
        {
          "output_type": "stream",
          "name": "stderr",
          "text": [
            "     43/100      2.92G     0.9186     0.6442      1.127         34        640: 100%|██████████| 63/63 [00:18<00:00,  3.39it/s]\n",
            "                 Class     Images  Instances      Box(P          R      mAP50  mAP50-95): 100%|██████████| 4/4 [00:01<00:00,  3.58it/s]"
          ]
        },
        {
          "output_type": "stream",
          "name": "stdout",
          "text": [
            "                   all        124        136      0.489      0.735      0.552      0.368\n"
          ]
        },
        {
          "output_type": "stream",
          "name": "stderr",
          "text": [
            "\n"
          ]
        },
        {
          "output_type": "stream",
          "name": "stdout",
          "text": [
            "\n",
            "      Epoch    GPU_mem   box_loss   cls_loss   dfl_loss  Instances       Size\n"
          ]
        },
        {
          "output_type": "stream",
          "name": "stderr",
          "text": [
            "     44/100      2.94G     0.9008     0.6285      1.109         49        640: 100%|██████████| 63/63 [00:17<00:00,  3.57it/s]\n",
            "                 Class     Images  Instances      Box(P          R      mAP50  mAP50-95): 100%|██████████| 4/4 [00:01<00:00,  3.63it/s]\n"
          ]
        },
        {
          "output_type": "stream",
          "name": "stdout",
          "text": [
            "                   all        124        136      0.546      0.595      0.612       0.43\n",
            "\n",
            "      Epoch    GPU_mem   box_loss   cls_loss   dfl_loss  Instances       Size\n"
          ]
        },
        {
          "output_type": "stream",
          "name": "stderr",
          "text": [
            "     45/100      2.96G     0.8972     0.6302      1.112         35        640: 100%|██████████| 63/63 [00:19<00:00,  3.31it/s]\n",
            "                 Class     Images  Instances      Box(P          R      mAP50  mAP50-95): 100%|██████████| 4/4 [00:01<00:00,  3.68it/s]"
          ]
        },
        {
          "output_type": "stream",
          "name": "stdout",
          "text": [
            "                   all        124        136      0.435      0.837      0.551      0.375\n"
          ]
        },
        {
          "output_type": "stream",
          "name": "stderr",
          "text": [
            "\n"
          ]
        },
        {
          "output_type": "stream",
          "name": "stdout",
          "text": [
            "\n",
            "      Epoch    GPU_mem   box_loss   cls_loss   dfl_loss  Instances       Size\n"
          ]
        },
        {
          "output_type": "stream",
          "name": "stderr",
          "text": [
            "     46/100      2.97G     0.8726     0.6193      1.104         33        640: 100%|██████████| 63/63 [00:17<00:00,  3.56it/s]\n",
            "                 Class     Images  Instances      Box(P          R      mAP50  mAP50-95): 100%|██████████| 4/4 [00:01<00:00,  3.47it/s]"
          ]
        },
        {
          "output_type": "stream",
          "name": "stdout",
          "text": [
            "                   all        124        136      0.493      0.817       0.57      0.388\n"
          ]
        },
        {
          "output_type": "stream",
          "name": "stderr",
          "text": [
            "\n"
          ]
        },
        {
          "output_type": "stream",
          "name": "stdout",
          "text": [
            "\n",
            "      Epoch    GPU_mem   box_loss   cls_loss   dfl_loss  Instances       Size\n"
          ]
        },
        {
          "output_type": "stream",
          "name": "stderr",
          "text": [
            "     47/100      2.99G      0.877     0.6306      1.107         37        640: 100%|██████████| 63/63 [00:18<00:00,  3.34it/s]\n",
            "                 Class     Images  Instances      Box(P          R      mAP50  mAP50-95): 100%|██████████| 4/4 [00:00<00:00,  4.00it/s]"
          ]
        },
        {
          "output_type": "stream",
          "name": "stdout",
          "text": [
            "                   all        124        136      0.471      0.908      0.579      0.391\n"
          ]
        },
        {
          "output_type": "stream",
          "name": "stderr",
          "text": [
            "\n"
          ]
        },
        {
          "output_type": "stream",
          "name": "stdout",
          "text": [
            "\n",
            "      Epoch    GPU_mem   box_loss   cls_loss   dfl_loss  Instances       Size\n"
          ]
        },
        {
          "output_type": "stream",
          "name": "stderr",
          "text": [
            "     48/100      3.01G     0.8798     0.6069      1.104         34        640: 100%|██████████| 63/63 [00:17<00:00,  3.51it/s]\n",
            "                 Class     Images  Instances      Box(P          R      mAP50  mAP50-95): 100%|██████████| 4/4 [00:01<00:00,  3.95it/s]"
          ]
        },
        {
          "output_type": "stream",
          "name": "stdout",
          "text": [
            "                   all        124        136      0.486      0.871      0.562      0.362\n"
          ]
        },
        {
          "output_type": "stream",
          "name": "stderr",
          "text": [
            "\n"
          ]
        },
        {
          "output_type": "stream",
          "name": "stdout",
          "text": [
            "\n",
            "      Epoch    GPU_mem   box_loss   cls_loss   dfl_loss  Instances       Size\n"
          ]
        },
        {
          "output_type": "stream",
          "name": "stderr",
          "text": [
            "     49/100      3.03G     0.8703     0.5986      1.094         33        640: 100%|██████████| 63/63 [00:18<00:00,  3.38it/s]\n",
            "                 Class     Images  Instances      Box(P          R      mAP50  mAP50-95): 100%|██████████| 4/4 [00:01<00:00,  3.54it/s]"
          ]
        },
        {
          "output_type": "stream",
          "name": "stdout",
          "text": [
            "                   all        124        136      0.543      0.829        0.6      0.406\n"
          ]
        },
        {
          "output_type": "stream",
          "name": "stderr",
          "text": [
            "\n"
          ]
        },
        {
          "output_type": "stream",
          "name": "stdout",
          "text": [
            "\n",
            "      Epoch    GPU_mem   box_loss   cls_loss   dfl_loss  Instances       Size\n"
          ]
        },
        {
          "output_type": "stream",
          "name": "stderr",
          "text": [
            "     50/100      3.04G      0.885     0.6057      1.095         31        640: 100%|██████████| 63/63 [00:17<00:00,  3.52it/s]\n",
            "                 Class     Images  Instances      Box(P          R      mAP50  mAP50-95): 100%|██████████| 4/4 [00:00<00:00,  4.04it/s]"
          ]
        },
        {
          "output_type": "stream",
          "name": "stdout",
          "text": [
            "                   all        124        136      0.514      0.772      0.555      0.366\n"
          ]
        },
        {
          "output_type": "stream",
          "name": "stderr",
          "text": [
            "\n"
          ]
        },
        {
          "output_type": "stream",
          "name": "stdout",
          "text": [
            "\n",
            "      Epoch    GPU_mem   box_loss   cls_loss   dfl_loss  Instances       Size\n"
          ]
        },
        {
          "output_type": "stream",
          "name": "stderr",
          "text": [
            "     51/100      3.06G     0.8519     0.6031      1.093         40        640: 100%|██████████| 63/63 [00:18<00:00,  3.34it/s]\n",
            "                 Class     Images  Instances      Box(P          R      mAP50  mAP50-95): 100%|██████████| 4/4 [00:00<00:00,  4.22it/s]"
          ]
        },
        {
          "output_type": "stream",
          "name": "stdout",
          "text": [
            "                   all        124        136      0.519      0.702      0.593      0.414\n"
          ]
        },
        {
          "output_type": "stream",
          "name": "stderr",
          "text": [
            "\n"
          ]
        },
        {
          "output_type": "stream",
          "name": "stdout",
          "text": [
            "\n",
            "      Epoch    GPU_mem   box_loss   cls_loss   dfl_loss  Instances       Size\n"
          ]
        },
        {
          "output_type": "stream",
          "name": "stderr",
          "text": [
            "     52/100      3.08G     0.8543     0.5841      1.078         47        640: 100%|██████████| 63/63 [00:17<00:00,  3.56it/s]\n",
            "                 Class     Images  Instances      Box(P          R      mAP50  mAP50-95): 100%|██████████| 4/4 [00:01<00:00,  3.85it/s]"
          ]
        },
        {
          "output_type": "stream",
          "name": "stdout",
          "text": [
            "                   all        124        136      0.531      0.752      0.615      0.427\n"
          ]
        },
        {
          "output_type": "stream",
          "name": "stderr",
          "text": [
            "\n"
          ]
        },
        {
          "output_type": "stream",
          "name": "stdout",
          "text": [
            "\n",
            "      Epoch    GPU_mem   box_loss   cls_loss   dfl_loss  Instances       Size\n"
          ]
        },
        {
          "output_type": "stream",
          "name": "stderr",
          "text": [
            "     53/100      3.09G     0.8365     0.5746      1.087         27        640: 100%|██████████| 63/63 [00:18<00:00,  3.40it/s]\n",
            "                 Class     Images  Instances      Box(P          R      mAP50  mAP50-95): 100%|██████████| 4/4 [00:01<00:00,  3.64it/s]"
          ]
        },
        {
          "output_type": "stream",
          "name": "stdout",
          "text": [
            "                   all        124        136      0.495      0.653      0.514      0.343\n"
          ]
        },
        {
          "output_type": "stream",
          "name": "stderr",
          "text": [
            "\n"
          ]
        },
        {
          "output_type": "stream",
          "name": "stdout",
          "text": [
            "\n",
            "      Epoch    GPU_mem   box_loss   cls_loss   dfl_loss  Instances       Size\n"
          ]
        },
        {
          "output_type": "stream",
          "name": "stderr",
          "text": [
            "     54/100      3.11G     0.8535     0.5776       1.08         31        640: 100%|██████████| 63/63 [00:17<00:00,  3.60it/s]\n",
            "                 Class     Images  Instances      Box(P          R      mAP50  mAP50-95): 100%|██████████| 4/4 [00:01<00:00,  3.69it/s]"
          ]
        },
        {
          "output_type": "stream",
          "name": "stdout",
          "text": [
            "                   all        124        136      0.526      0.728      0.611      0.426\n"
          ]
        },
        {
          "output_type": "stream",
          "name": "stderr",
          "text": [
            "\n"
          ]
        },
        {
          "output_type": "stream",
          "name": "stdout",
          "text": [
            "\n",
            "      Epoch    GPU_mem   box_loss   cls_loss   dfl_loss  Instances       Size\n"
          ]
        },
        {
          "output_type": "stream",
          "name": "stderr",
          "text": [
            "     55/100      3.13G     0.8354     0.5804      1.079         45        640: 100%|██████████| 63/63 [00:18<00:00,  3.42it/s]\n",
            "                 Class     Images  Instances      Box(P          R      mAP50  mAP50-95): 100%|██████████| 4/4 [00:01<00:00,  3.53it/s]"
          ]
        },
        {
          "output_type": "stream",
          "name": "stdout",
          "text": [
            "                   all        124        136      0.541      0.754      0.625      0.438\n"
          ]
        },
        {
          "output_type": "stream",
          "name": "stderr",
          "text": [
            "\n"
          ]
        },
        {
          "output_type": "stream",
          "name": "stdout",
          "text": [
            "\n",
            "      Epoch    GPU_mem   box_loss   cls_loss   dfl_loss  Instances       Size\n"
          ]
        },
        {
          "output_type": "stream",
          "name": "stderr",
          "text": [
            "     56/100      3.14G     0.8344     0.5756      1.075         48        640: 100%|██████████| 63/63 [00:17<00:00,  3.58it/s]\n",
            "                 Class     Images  Instances      Box(P          R      mAP50  mAP50-95): 100%|██████████| 4/4 [00:01<00:00,  3.42it/s]"
          ]
        },
        {
          "output_type": "stream",
          "name": "stdout",
          "text": [
            "                   all        124        136      0.486      0.823      0.534      0.368\n"
          ]
        },
        {
          "output_type": "stream",
          "name": "stderr",
          "text": [
            "\n"
          ]
        },
        {
          "output_type": "stream",
          "name": "stdout",
          "text": [
            "\n",
            "      Epoch    GPU_mem   box_loss   cls_loss   dfl_loss  Instances       Size\n"
          ]
        },
        {
          "output_type": "stream",
          "name": "stderr",
          "text": [
            "     57/100      3.16G     0.8272     0.5618      1.067         46        640: 100%|██████████| 63/63 [00:18<00:00,  3.32it/s]\n",
            "                 Class     Images  Instances      Box(P          R      mAP50  mAP50-95): 100%|██████████| 4/4 [00:01<00:00,  3.89it/s]"
          ]
        },
        {
          "output_type": "stream",
          "name": "stdout",
          "text": [
            "                   all        124        136      0.556      0.638      0.634      0.455\n"
          ]
        },
        {
          "output_type": "stream",
          "name": "stderr",
          "text": [
            "\n"
          ]
        },
        {
          "output_type": "stream",
          "name": "stdout",
          "text": [
            "\n",
            "      Epoch    GPU_mem   box_loss   cls_loss   dfl_loss  Instances       Size\n"
          ]
        },
        {
          "output_type": "stream",
          "name": "stderr",
          "text": [
            "     58/100      3.17G     0.8219     0.5633      1.074         35        640: 100%|██████████| 63/63 [00:17<00:00,  3.57it/s]\n",
            "                 Class     Images  Instances      Box(P          R      mAP50  mAP50-95): 100%|██████████| 4/4 [00:01<00:00,  3.04it/s]"
          ]
        },
        {
          "output_type": "stream",
          "name": "stdout",
          "text": [
            "                   all        124        136      0.541      0.813       0.61      0.431\n"
          ]
        },
        {
          "output_type": "stream",
          "name": "stderr",
          "text": [
            "\n"
          ]
        },
        {
          "output_type": "stream",
          "name": "stdout",
          "text": [
            "\n",
            "      Epoch    GPU_mem   box_loss   cls_loss   dfl_loss  Instances       Size\n"
          ]
        },
        {
          "output_type": "stream",
          "name": "stderr",
          "text": [
            "     59/100       3.2G     0.8142     0.5516      1.061         45        640: 100%|██████████| 63/63 [00:18<00:00,  3.45it/s]\n",
            "                 Class     Images  Instances      Box(P          R      mAP50  mAP50-95): 100%|██████████| 4/4 [00:01<00:00,  3.63it/s]"
          ]
        },
        {
          "output_type": "stream",
          "name": "stdout",
          "text": [
            "                   all        124        136      0.549      0.737      0.593      0.405\n"
          ]
        },
        {
          "output_type": "stream",
          "name": "stderr",
          "text": [
            "\n"
          ]
        },
        {
          "output_type": "stream",
          "name": "stdout",
          "text": [
            "\n",
            "      Epoch    GPU_mem   box_loss   cls_loss   dfl_loss  Instances       Size\n"
          ]
        },
        {
          "output_type": "stream",
          "name": "stderr",
          "text": [
            "     60/100      3.21G     0.8173     0.5613      1.069         29        640: 100%|██████████| 63/63 [00:17<00:00,  3.57it/s]\n",
            "                 Class     Images  Instances      Box(P          R      mAP50  mAP50-95): 100%|██████████| 4/4 [00:01<00:00,  2.78it/s]"
          ]
        },
        {
          "output_type": "stream",
          "name": "stdout",
          "text": [
            "                   all        124        136      0.533      0.904      0.624      0.455\n"
          ]
        },
        {
          "output_type": "stream",
          "name": "stderr",
          "text": [
            "\n"
          ]
        },
        {
          "output_type": "stream",
          "name": "stdout",
          "text": [
            "\n",
            "      Epoch    GPU_mem   box_loss   cls_loss   dfl_loss  Instances       Size\n"
          ]
        },
        {
          "output_type": "stream",
          "name": "stderr",
          "text": [
            "     61/100      3.23G      0.812     0.5459      1.059         39        640: 100%|██████████| 63/63 [00:18<00:00,  3.48it/s]\n",
            "                 Class     Images  Instances      Box(P          R      mAP50  mAP50-95): 100%|██████████| 4/4 [00:01<00:00,  3.60it/s]"
          ]
        },
        {
          "output_type": "stream",
          "name": "stdout",
          "text": [
            "                   all        124        136      0.615      0.753      0.699      0.488\n"
          ]
        },
        {
          "output_type": "stream",
          "name": "stderr",
          "text": [
            "\n"
          ]
        },
        {
          "output_type": "stream",
          "name": "stdout",
          "text": [
            "\n",
            "      Epoch    GPU_mem   box_loss   cls_loss   dfl_loss  Instances       Size\n"
          ]
        },
        {
          "output_type": "stream",
          "name": "stderr",
          "text": [
            "     62/100      3.24G     0.8057     0.5391      1.058         36        640: 100%|██████████| 63/63 [00:17<00:00,  3.55it/s]\n",
            "                 Class     Images  Instances      Box(P          R      mAP50  mAP50-95): 100%|██████████| 4/4 [00:01<00:00,  2.18it/s]"
          ]
        },
        {
          "output_type": "stream",
          "name": "stdout",
          "text": [
            "                   all        124        136      0.535      0.752      0.623      0.434\n"
          ]
        },
        {
          "output_type": "stream",
          "name": "stderr",
          "text": [
            "\n"
          ]
        },
        {
          "output_type": "stream",
          "name": "stdout",
          "text": [
            "\n",
            "      Epoch    GPU_mem   box_loss   cls_loss   dfl_loss  Instances       Size\n"
          ]
        },
        {
          "output_type": "stream",
          "name": "stderr",
          "text": [
            "     63/100      3.27G     0.7841     0.5332      1.047         39        640: 100%|██████████| 63/63 [00:18<00:00,  3.44it/s]\n",
            "                 Class     Images  Instances      Box(P          R      mAP50  mAP50-95): 100%|██████████| 4/4 [00:01<00:00,  3.62it/s]"
          ]
        },
        {
          "output_type": "stream",
          "name": "stdout",
          "text": [
            "                   all        124        136       0.51       0.91       0.62      0.435\n"
          ]
        },
        {
          "output_type": "stream",
          "name": "stderr",
          "text": [
            "\n"
          ]
        },
        {
          "output_type": "stream",
          "name": "stdout",
          "text": [
            "\n",
            "      Epoch    GPU_mem   box_loss   cls_loss   dfl_loss  Instances       Size\n"
          ]
        },
        {
          "output_type": "stream",
          "name": "stderr",
          "text": [
            "     64/100      3.28G     0.8007     0.5474      1.062         30        640: 100%|██████████| 63/63 [00:18<00:00,  3.40it/s]\n",
            "                 Class     Images  Instances      Box(P          R      mAP50  mAP50-95): 100%|██████████| 4/4 [00:01<00:00,  2.66it/s]"
          ]
        },
        {
          "output_type": "stream",
          "name": "stdout",
          "text": [
            "                   all        124        136      0.548      0.743      0.612      0.426\n"
          ]
        },
        {
          "output_type": "stream",
          "name": "stderr",
          "text": [
            "\n"
          ]
        },
        {
          "output_type": "stream",
          "name": "stdout",
          "text": [
            "\n",
            "      Epoch    GPU_mem   box_loss   cls_loss   dfl_loss  Instances       Size\n"
          ]
        },
        {
          "output_type": "stream",
          "name": "stderr",
          "text": [
            "     65/100       3.3G     0.7782     0.5371      1.055         37        640: 100%|██████████| 63/63 [00:17<00:00,  3.52it/s]\n",
            "                 Class     Images  Instances      Box(P          R      mAP50  mAP50-95): 100%|██████████| 4/4 [00:01<00:00,  3.65it/s]"
          ]
        },
        {
          "output_type": "stream",
          "name": "stdout",
          "text": [
            "                   all        124        136      0.567      0.743      0.663      0.466\n"
          ]
        },
        {
          "output_type": "stream",
          "name": "stderr",
          "text": [
            "\n"
          ]
        },
        {
          "output_type": "stream",
          "name": "stdout",
          "text": [
            "\n",
            "      Epoch    GPU_mem   box_loss   cls_loss   dfl_loss  Instances       Size\n"
          ]
        },
        {
          "output_type": "stream",
          "name": "stderr",
          "text": [
            "     66/100      3.31G     0.7819     0.5296      1.048         47        640: 100%|██████████| 63/63 [00:19<00:00,  3.30it/s]\n",
            "                 Class     Images  Instances      Box(P          R      mAP50  mAP50-95): 100%|██████████| 4/4 [00:01<00:00,  3.40it/s]"
          ]
        },
        {
          "output_type": "stream",
          "name": "stdout",
          "text": [
            "                   all        124        136      0.674      0.729      0.709      0.509\n"
          ]
        },
        {
          "output_type": "stream",
          "name": "stderr",
          "text": [
            "\n"
          ]
        },
        {
          "output_type": "stream",
          "name": "stdout",
          "text": [
            "\n",
            "      Epoch    GPU_mem   box_loss   cls_loss   dfl_loss  Instances       Size\n"
          ]
        },
        {
          "output_type": "stream",
          "name": "stderr",
          "text": [
            "     67/100      3.33G     0.7883     0.5349       1.05         30        640: 100%|██████████| 63/63 [00:18<00:00,  3.48it/s]\n",
            "                 Class     Images  Instances      Box(P          R      mAP50  mAP50-95): 100%|██████████| 4/4 [00:00<00:00,  4.01it/s]"
          ]
        },
        {
          "output_type": "stream",
          "name": "stdout",
          "text": [
            "                   all        124        136      0.561      0.744       0.65      0.451\n"
          ]
        },
        {
          "output_type": "stream",
          "name": "stderr",
          "text": [
            "\n"
          ]
        },
        {
          "output_type": "stream",
          "name": "stdout",
          "text": [
            "\n",
            "      Epoch    GPU_mem   box_loss   cls_loss   dfl_loss  Instances       Size\n"
          ]
        },
        {
          "output_type": "stream",
          "name": "stderr",
          "text": [
            "     68/100      3.35G     0.7824     0.5356      1.039         25        640: 100%|██████████| 63/63 [00:18<00:00,  3.32it/s]\n",
            "                 Class     Images  Instances      Box(P          R      mAP50  mAP50-95): 100%|██████████| 4/4 [00:01<00:00,  3.91it/s]"
          ]
        },
        {
          "output_type": "stream",
          "name": "stdout",
          "text": [
            "                   all        124        136      0.557      0.629      0.626      0.442\n"
          ]
        },
        {
          "output_type": "stream",
          "name": "stderr",
          "text": [
            "\n"
          ]
        },
        {
          "output_type": "stream",
          "name": "stdout",
          "text": [
            "\n",
            "      Epoch    GPU_mem   box_loss   cls_loss   dfl_loss  Instances       Size\n"
          ]
        },
        {
          "output_type": "stream",
          "name": "stderr",
          "text": [
            "     69/100      3.37G     0.7767     0.5275      1.042         47        640: 100%|██████████| 63/63 [00:17<00:00,  3.52it/s]\n",
            "                 Class     Images  Instances      Box(P          R      mAP50  mAP50-95): 100%|██████████| 4/4 [00:01<00:00,  3.77it/s]"
          ]
        },
        {
          "output_type": "stream",
          "name": "stdout",
          "text": [
            "                   all        124        136       0.58      0.682      0.631      0.444\n"
          ]
        },
        {
          "output_type": "stream",
          "name": "stderr",
          "text": [
            "\n"
          ]
        },
        {
          "output_type": "stream",
          "name": "stdout",
          "text": [
            "\n",
            "      Epoch    GPU_mem   box_loss   cls_loss   dfl_loss  Instances       Size\n"
          ]
        },
        {
          "output_type": "stream",
          "name": "stderr",
          "text": [
            "     70/100      3.38G     0.7511     0.5074      1.033         40        640: 100%|██████████| 63/63 [00:18<00:00,  3.33it/s]\n",
            "                 Class     Images  Instances      Box(P          R      mAP50  mAP50-95): 100%|██████████| 4/4 [00:00<00:00,  4.03it/s]"
          ]
        },
        {
          "output_type": "stream",
          "name": "stdout",
          "text": [
            "                   all        124        136      0.602      0.674      0.695        0.5\n"
          ]
        },
        {
          "output_type": "stream",
          "name": "stderr",
          "text": [
            "\n"
          ]
        },
        {
          "output_type": "stream",
          "name": "stdout",
          "text": [
            "\n",
            "      Epoch    GPU_mem   box_loss   cls_loss   dfl_loss  Instances       Size\n"
          ]
        },
        {
          "output_type": "stream",
          "name": "stderr",
          "text": [
            "     71/100       3.4G      0.771      0.512      1.043         39        640: 100%|██████████| 63/63 [00:17<00:00,  3.59it/s]\n",
            "                 Class     Images  Instances      Box(P          R      mAP50  mAP50-95): 100%|██████████| 4/4 [00:01<00:00,  3.38it/s]"
          ]
        },
        {
          "output_type": "stream",
          "name": "stdout",
          "text": [
            "                   all        124        136      0.592      0.663      0.628      0.447\n"
          ]
        },
        {
          "output_type": "stream",
          "name": "stderr",
          "text": [
            "\n"
          ]
        },
        {
          "output_type": "stream",
          "name": "stdout",
          "text": [
            "\n",
            "      Epoch    GPU_mem   box_loss   cls_loss   dfl_loss  Instances       Size\n"
          ]
        },
        {
          "output_type": "stream",
          "name": "stderr",
          "text": [
            "     72/100      3.42G     0.7549     0.4995      1.025         46        640: 100%|██████████| 63/63 [00:18<00:00,  3.33it/s]\n",
            "                 Class     Images  Instances      Box(P          R      mAP50  mAP50-95): 100%|██████████| 4/4 [00:01<00:00,  3.61it/s]"
          ]
        },
        {
          "output_type": "stream",
          "name": "stdout",
          "text": [
            "                   all        124        136      0.543      0.831      0.632       0.43\n"
          ]
        },
        {
          "output_type": "stream",
          "name": "stderr",
          "text": [
            "\n"
          ]
        },
        {
          "output_type": "stream",
          "name": "stdout",
          "text": [
            "\n",
            "      Epoch    GPU_mem   box_loss   cls_loss   dfl_loss  Instances       Size\n"
          ]
        },
        {
          "output_type": "stream",
          "name": "stderr",
          "text": [
            "     73/100      3.44G     0.7596     0.4993      1.032         41        640: 100%|██████████| 63/63 [00:17<00:00,  3.52it/s]\n",
            "                 Class     Images  Instances      Box(P          R      mAP50  mAP50-95): 100%|██████████| 4/4 [00:01<00:00,  3.75it/s]"
          ]
        },
        {
          "output_type": "stream",
          "name": "stdout",
          "text": [
            "                   all        124        136      0.556      0.714      0.665      0.461\n"
          ]
        },
        {
          "output_type": "stream",
          "name": "stderr",
          "text": [
            "\n"
          ]
        },
        {
          "output_type": "stream",
          "name": "stdout",
          "text": [
            "\n",
            "      Epoch    GPU_mem   box_loss   cls_loss   dfl_loss  Instances       Size\n"
          ]
        },
        {
          "output_type": "stream",
          "name": "stderr",
          "text": [
            "     74/100      3.45G     0.7386     0.4925      1.026         29        640: 100%|██████████| 63/63 [00:19<00:00,  3.31it/s]\n",
            "                 Class     Images  Instances      Box(P          R      mAP50  mAP50-95): 100%|██████████| 4/4 [00:01<00:00,  3.73it/s]"
          ]
        },
        {
          "output_type": "stream",
          "name": "stdout",
          "text": [
            "                   all        124        136      0.595      0.545      0.627      0.442\n"
          ]
        },
        {
          "output_type": "stream",
          "name": "stderr",
          "text": [
            "\n"
          ]
        },
        {
          "output_type": "stream",
          "name": "stdout",
          "text": [
            "\n",
            "      Epoch    GPU_mem   box_loss   cls_loss   dfl_loss  Instances       Size\n"
          ]
        },
        {
          "output_type": "stream",
          "name": "stderr",
          "text": [
            "     75/100      3.47G     0.7377     0.4932      1.022         50        640: 100%|██████████| 63/63 [00:17<00:00,  3.53it/s]\n",
            "                 Class     Images  Instances      Box(P          R      mAP50  mAP50-95): 100%|██████████| 4/4 [00:01<00:00,  3.72it/s]"
          ]
        },
        {
          "output_type": "stream",
          "name": "stdout",
          "text": [
            "                   all        124        136      0.584      0.735      0.665      0.485\n"
          ]
        },
        {
          "output_type": "stream",
          "name": "stderr",
          "text": [
            "\n"
          ]
        },
        {
          "output_type": "stream",
          "name": "stdout",
          "text": [
            "\n",
            "      Epoch    GPU_mem   box_loss   cls_loss   dfl_loss  Instances       Size\n"
          ]
        },
        {
          "output_type": "stream",
          "name": "stderr",
          "text": [
            "     76/100      3.49G     0.7445     0.4916       1.02         44        640: 100%|██████████| 63/63 [00:18<00:00,  3.37it/s]\n",
            "                 Class     Images  Instances      Box(P          R      mAP50  mAP50-95): 100%|██████████| 4/4 [00:01<00:00,  3.89it/s]"
          ]
        },
        {
          "output_type": "stream",
          "name": "stdout",
          "text": [
            "                   all        124        136      0.596      0.667      0.677      0.478\n"
          ]
        },
        {
          "output_type": "stream",
          "name": "stderr",
          "text": [
            "\n"
          ]
        },
        {
          "output_type": "stream",
          "name": "stdout",
          "text": [
            "\n",
            "      Epoch    GPU_mem   box_loss   cls_loss   dfl_loss  Instances       Size\n"
          ]
        },
        {
          "output_type": "stream",
          "name": "stderr",
          "text": [
            "     77/100       3.5G     0.7265     0.4882      1.018         62        640: 100%|██████████| 63/63 [00:18<00:00,  3.47it/s]\n",
            "                 Class     Images  Instances      Box(P          R      mAP50  mAP50-95): 100%|██████████| 4/4 [00:01<00:00,  3.13it/s]"
          ]
        },
        {
          "output_type": "stream",
          "name": "stdout",
          "text": [
            "                   all        124        136      0.562      0.819      0.707      0.497\n"
          ]
        },
        {
          "output_type": "stream",
          "name": "stderr",
          "text": [
            "\n"
          ]
        },
        {
          "output_type": "stream",
          "name": "stdout",
          "text": [
            "\n",
            "      Epoch    GPU_mem   box_loss   cls_loss   dfl_loss  Instances       Size\n"
          ]
        },
        {
          "output_type": "stream",
          "name": "stderr",
          "text": [
            "     78/100      3.52G     0.7344      0.489      1.016         31        640: 100%|██████████| 63/63 [00:18<00:00,  3.40it/s]\n",
            "                 Class     Images  Instances      Box(P          R      mAP50  mAP50-95): 100%|██████████| 4/4 [00:01<00:00,  3.53it/s]"
          ]
        },
        {
          "output_type": "stream",
          "name": "stdout",
          "text": [
            "                   all        124        136      0.525      0.754        0.6      0.436\n"
          ]
        },
        {
          "output_type": "stream",
          "name": "stderr",
          "text": [
            "\n"
          ]
        },
        {
          "output_type": "stream",
          "name": "stdout",
          "text": [
            "\n",
            "      Epoch    GPU_mem   box_loss   cls_loss   dfl_loss  Instances       Size\n"
          ]
        },
        {
          "output_type": "stream",
          "name": "stderr",
          "text": [
            "     79/100      3.54G     0.7185     0.4742      1.016         32        640: 100%|██████████| 63/63 [00:17<00:00,  3.55it/s]\n",
            "                 Class     Images  Instances      Box(P          R      mAP50  mAP50-95): 100%|██████████| 4/4 [00:01<00:00,  2.33it/s]"
          ]
        },
        {
          "output_type": "stream",
          "name": "stdout",
          "text": [
            "                   all        124        136      0.522      0.817      0.659      0.464\n"
          ]
        },
        {
          "output_type": "stream",
          "name": "stderr",
          "text": [
            "\n"
          ]
        },
        {
          "output_type": "stream",
          "name": "stdout",
          "text": [
            "\n",
            "      Epoch    GPU_mem   box_loss   cls_loss   dfl_loss  Instances       Size\n"
          ]
        },
        {
          "output_type": "stream",
          "name": "stderr",
          "text": [
            "     80/100      3.55G     0.7158      0.482      1.014         59        640: 100%|██████████| 63/63 [00:17<00:00,  3.51it/s]\n",
            "                 Class     Images  Instances      Box(P          R      mAP50  mAP50-95): 100%|██████████| 4/4 [00:00<00:00,  4.02it/s]"
          ]
        },
        {
          "output_type": "stream",
          "name": "stdout",
          "text": [
            "                   all        124        136      0.551      0.694      0.667      0.475\n"
          ]
        },
        {
          "output_type": "stream",
          "name": "stderr",
          "text": [
            "\n"
          ]
        },
        {
          "output_type": "stream",
          "name": "stdout",
          "text": [
            "\n",
            "      Epoch    GPU_mem   box_loss   cls_loss   dfl_loss  Instances       Size\n"
          ]
        },
        {
          "output_type": "stream",
          "name": "stderr",
          "text": [
            "     81/100      3.57G      0.698     0.4743       1.01         32        640: 100%|██████████| 63/63 [00:18<00:00,  3.39it/s]\n",
            "                 Class     Images  Instances      Box(P          R      mAP50  mAP50-95): 100%|██████████| 4/4 [00:01<00:00,  2.60it/s]"
          ]
        },
        {
          "output_type": "stream",
          "name": "stdout",
          "text": [
            "                   all        124        136       0.52      0.866      0.598      0.437\n"
          ]
        },
        {
          "output_type": "stream",
          "name": "stderr",
          "text": [
            "\n"
          ]
        },
        {
          "output_type": "stream",
          "name": "stdout",
          "text": [
            "\n",
            "      Epoch    GPU_mem   box_loss   cls_loss   dfl_loss  Instances       Size\n"
          ]
        },
        {
          "output_type": "stream",
          "name": "stderr",
          "text": [
            "     82/100      3.58G     0.6965     0.4711       1.01         34        640: 100%|██████████| 63/63 [00:18<00:00,  3.42it/s]\n",
            "                 Class     Images  Instances      Box(P          R      mAP50  mAP50-95): 100%|██████████| 4/4 [00:00<00:00,  4.30it/s]"
          ]
        },
        {
          "output_type": "stream",
          "name": "stdout",
          "text": [
            "                   all        124        136      0.556      0.758      0.603       0.42\n"
          ]
        },
        {
          "output_type": "stream",
          "name": "stderr",
          "text": [
            "\n"
          ]
        },
        {
          "output_type": "stream",
          "name": "stdout",
          "text": [
            "\n",
            "      Epoch    GPU_mem   box_loss   cls_loss   dfl_loss  Instances       Size\n"
          ]
        },
        {
          "output_type": "stream",
          "name": "stderr",
          "text": [
            "     83/100      3.61G     0.7028     0.4628      1.004         40        640: 100%|██████████| 63/63 [00:19<00:00,  3.23it/s]\n",
            "                 Class     Images  Instances      Box(P          R      mAP50  mAP50-95): 100%|██████████| 4/4 [00:01<00:00,  3.53it/s]"
          ]
        },
        {
          "output_type": "stream",
          "name": "stdout",
          "text": [
            "                   all        124        136      0.554      0.752      0.611      0.431\n"
          ]
        },
        {
          "output_type": "stream",
          "name": "stderr",
          "text": [
            "\n"
          ]
        },
        {
          "output_type": "stream",
          "name": "stdout",
          "text": [
            "\n",
            "      Epoch    GPU_mem   box_loss   cls_loss   dfl_loss  Instances       Size\n"
          ]
        },
        {
          "output_type": "stream",
          "name": "stderr",
          "text": [
            "     84/100      3.62G     0.7075       0.47      1.008         21        640: 100%|██████████| 63/63 [00:17<00:00,  3.52it/s]\n",
            "                 Class     Images  Instances      Box(P          R      mAP50  mAP50-95): 100%|██████████| 4/4 [00:01<00:00,  3.75it/s]"
          ]
        },
        {
          "output_type": "stream",
          "name": "stdout",
          "text": [
            "                   all        124        136      0.561      0.682      0.597      0.421\n"
          ]
        },
        {
          "output_type": "stream",
          "name": "stderr",
          "text": [
            "\n"
          ]
        },
        {
          "output_type": "stream",
          "name": "stdout",
          "text": [
            "\n",
            "      Epoch    GPU_mem   box_loss   cls_loss   dfl_loss  Instances       Size\n"
          ]
        },
        {
          "output_type": "stream",
          "name": "stderr",
          "text": [
            "     85/100      3.64G     0.7049      0.468      1.012         51        640: 100%|██████████| 63/63 [00:18<00:00,  3.32it/s]\n",
            "                 Class     Images  Instances      Box(P          R      mAP50  mAP50-95): 100%|██████████| 4/4 [00:01<00:00,  3.88it/s]"
          ]
        },
        {
          "output_type": "stream",
          "name": "stdout",
          "text": [
            "                   all        124        136      0.535      0.658      0.587       0.42\n"
          ]
        },
        {
          "output_type": "stream",
          "name": "stderr",
          "text": [
            "\n"
          ]
        },
        {
          "output_type": "stream",
          "name": "stdout",
          "text": [
            "\n",
            "      Epoch    GPU_mem   box_loss   cls_loss   dfl_loss  Instances       Size\n"
          ]
        },
        {
          "output_type": "stream",
          "name": "stderr",
          "text": [
            "     86/100      3.65G     0.6938     0.4554      1.002         36        640: 100%|██████████| 63/63 [00:18<00:00,  3.49it/s]\n",
            "                 Class     Images  Instances      Box(P          R      mAP50  mAP50-95): 100%|██████████| 4/4 [00:01<00:00,  3.98it/s]"
          ]
        },
        {
          "output_type": "stream",
          "name": "stdout",
          "text": [
            "                   all        124        136      0.578      0.716       0.67      0.481\n"
          ]
        },
        {
          "output_type": "stream",
          "name": "stderr",
          "text": [
            "\n"
          ]
        },
        {
          "output_type": "stream",
          "name": "stdout",
          "text": [
            "\n",
            "      Epoch    GPU_mem   box_loss   cls_loss   dfl_loss  Instances       Size\n"
          ]
        },
        {
          "output_type": "stream",
          "name": "stderr",
          "text": [
            "     87/100      3.67G      0.688     0.4487     0.9959         49        640: 100%|██████████| 63/63 [00:18<00:00,  3.33it/s]\n",
            "                 Class     Images  Instances      Box(P          R      mAP50  mAP50-95): 100%|██████████| 4/4 [00:00<00:00,  4.11it/s]"
          ]
        },
        {
          "output_type": "stream",
          "name": "stdout",
          "text": [
            "                   all        124        136       0.54      0.764       0.61      0.437\n"
          ]
        },
        {
          "output_type": "stream",
          "name": "stderr",
          "text": [
            "\n"
          ]
        },
        {
          "output_type": "stream",
          "name": "stdout",
          "text": [
            "\n",
            "      Epoch    GPU_mem   box_loss   cls_loss   dfl_loss  Instances       Size\n"
          ]
        },
        {
          "output_type": "stream",
          "name": "stderr",
          "text": [
            "     88/100      3.69G     0.6804     0.4511      1.001         32        640: 100%|██████████| 63/63 [00:17<00:00,  3.59it/s]\n",
            "                 Class     Images  Instances      Box(P          R      mAP50  mAP50-95): 100%|██████████| 4/4 [00:01<00:00,  3.89it/s]"
          ]
        },
        {
          "output_type": "stream",
          "name": "stdout",
          "text": [
            "                   all        124        136      0.566        0.8      0.658      0.481\n"
          ]
        },
        {
          "output_type": "stream",
          "name": "stderr",
          "text": [
            "\n"
          ]
        },
        {
          "output_type": "stream",
          "name": "stdout",
          "text": [
            "\n",
            "      Epoch    GPU_mem   box_loss   cls_loss   dfl_loss  Instances       Size\n"
          ]
        },
        {
          "output_type": "stream",
          "name": "stderr",
          "text": [
            "     89/100      3.71G     0.6664      0.437     0.9858         28        640: 100%|██████████| 63/63 [00:18<00:00,  3.32it/s]\n",
            "                 Class     Images  Instances      Box(P          R      mAP50  mAP50-95): 100%|██████████| 4/4 [00:01<00:00,  3.88it/s]"
          ]
        },
        {
          "output_type": "stream",
          "name": "stdout",
          "text": [
            "                   all        124        136      0.554      0.764      0.634      0.457\n"
          ]
        },
        {
          "output_type": "stream",
          "name": "stderr",
          "text": [
            "\n"
          ]
        },
        {
          "output_type": "stream",
          "name": "stdout",
          "text": [
            "\n",
            "      Epoch    GPU_mem   box_loss   cls_loss   dfl_loss  Instances       Size\n"
          ]
        },
        {
          "output_type": "stream",
          "name": "stderr",
          "text": [
            "     90/100      3.72G     0.6799     0.4471     0.9962         39        640: 100%|██████████| 63/63 [00:17<00:00,  3.53it/s]\n",
            "                 Class     Images  Instances      Box(P          R      mAP50  mAP50-95): 100%|██████████| 4/4 [00:00<00:00,  4.69it/s]"
          ]
        },
        {
          "output_type": "stream",
          "name": "stdout",
          "text": [
            "                   all        124        136       0.54      0.776      0.655      0.467\n"
          ]
        },
        {
          "output_type": "stream",
          "name": "stderr",
          "text": [
            "\n"
          ]
        },
        {
          "output_type": "stream",
          "name": "stdout",
          "text": [
            "Closing dataloader mosaic\n",
            "\u001b[34m\u001b[1malbumentations: \u001b[0mBlur(p=0.01, blur_limit=(3, 7)), MedianBlur(p=0.01, blur_limit=(3, 7)), ToGray(p=0.01, num_output_channels=3, method='weighted_average'), CLAHE(p=0.01, clip_limit=(1.0, 4.0), tile_grid_size=(8, 8))\n",
            "\n",
            "      Epoch    GPU_mem   box_loss   cls_loss   dfl_loss  Instances       Size\n"
          ]
        },
        {
          "output_type": "stream",
          "name": "stderr",
          "text": [
            "     91/100      3.74G     0.6592     0.4103     0.9689         17        640: 100%|██████████| 63/63 [00:19<00:00,  3.20it/s]\n",
            "                 Class     Images  Instances      Box(P          R      mAP50  mAP50-95): 100%|██████████| 4/4 [00:01<00:00,  3.28it/s]"
          ]
        },
        {
          "output_type": "stream",
          "name": "stdout",
          "text": [
            "                   all        124        136      0.519       0.76      0.606      0.438\n"
          ]
        },
        {
          "output_type": "stream",
          "name": "stderr",
          "text": [
            "\n"
          ]
        },
        {
          "output_type": "stream",
          "name": "stdout",
          "text": [
            "\n",
            "      Epoch    GPU_mem   box_loss   cls_loss   dfl_loss  Instances       Size\n"
          ]
        },
        {
          "output_type": "stream",
          "name": "stderr",
          "text": [
            "     92/100      3.76G     0.6305     0.3766     0.9508         13        640: 100%|██████████| 63/63 [00:17<00:00,  3.64it/s]\n",
            "                 Class     Images  Instances      Box(P          R      mAP50  mAP50-95): 100%|██████████| 4/4 [00:01<00:00,  2.55it/s]"
          ]
        },
        {
          "output_type": "stream",
          "name": "stdout",
          "text": [
            "                   all        124        136      0.549       0.65      0.608      0.426\n"
          ]
        },
        {
          "output_type": "stream",
          "name": "stderr",
          "text": [
            "\n"
          ]
        },
        {
          "output_type": "stream",
          "name": "stdout",
          "text": [
            "\n",
            "      Epoch    GPU_mem   box_loss   cls_loss   dfl_loss  Instances       Size\n"
          ]
        },
        {
          "output_type": "stream",
          "name": "stderr",
          "text": [
            "     93/100      3.78G     0.6023     0.3551     0.9318         16        640: 100%|██████████| 63/63 [00:17<00:00,  3.62it/s]\n",
            "                 Class     Images  Instances      Box(P          R      mAP50  mAP50-95): 100%|██████████| 4/4 [00:01<00:00,  3.62it/s]"
          ]
        },
        {
          "output_type": "stream",
          "name": "stdout",
          "text": [
            "                   all        124        136      0.527      0.826      0.648      0.461\n"
          ]
        },
        {
          "output_type": "stream",
          "name": "stderr",
          "text": [
            "\n"
          ]
        },
        {
          "output_type": "stream",
          "name": "stdout",
          "text": [
            "\n",
            "      Epoch    GPU_mem   box_loss   cls_loss   dfl_loss  Instances       Size\n"
          ]
        },
        {
          "output_type": "stream",
          "name": "stderr",
          "text": [
            "     94/100      3.79G     0.6164     0.3626     0.9432         13        640: 100%|██████████| 63/63 [00:17<00:00,  3.69it/s]\n",
            "                 Class     Images  Instances      Box(P          R      mAP50  mAP50-95): 100%|██████████| 4/4 [00:01<00:00,  3.12it/s]"
          ]
        },
        {
          "output_type": "stream",
          "name": "stdout",
          "text": [
            "                   all        124        136      0.519      0.873      0.621      0.439\n"
          ]
        },
        {
          "output_type": "stream",
          "name": "stderr",
          "text": [
            "\n"
          ]
        },
        {
          "output_type": "stream",
          "name": "stdout",
          "text": [
            "\n",
            "      Epoch    GPU_mem   box_loss   cls_loss   dfl_loss  Instances       Size\n"
          ]
        },
        {
          "output_type": "stream",
          "name": "stderr",
          "text": [
            "     95/100      3.81G      0.593     0.3502      0.929         34        640: 100%|██████████| 63/63 [00:17<00:00,  3.54it/s]\n",
            "                 Class     Images  Instances      Box(P          R      mAP50  mAP50-95): 100%|██████████| 4/4 [00:01<00:00,  3.72it/s]"
          ]
        },
        {
          "output_type": "stream",
          "name": "stdout",
          "text": [
            "                   all        124        136      0.524      0.822      0.625      0.444\n"
          ]
        },
        {
          "output_type": "stream",
          "name": "stderr",
          "text": [
            "\n"
          ]
        },
        {
          "output_type": "stream",
          "name": "stdout",
          "text": [
            "\n",
            "      Epoch    GPU_mem   box_loss   cls_loss   dfl_loss  Instances       Size\n"
          ]
        },
        {
          "output_type": "stream",
          "name": "stderr",
          "text": [
            "     96/100      3.83G     0.5884     0.3553     0.9331         10        640: 100%|██████████| 63/63 [00:17<00:00,  3.70it/s]\n",
            "                 Class     Images  Instances      Box(P          R      mAP50  mAP50-95): 100%|██████████| 4/4 [00:01<00:00,  3.77it/s]"
          ]
        },
        {
          "output_type": "stream",
          "name": "stdout",
          "text": [
            "                   all        124        136      0.571      0.696       0.62      0.438\n"
          ]
        },
        {
          "output_type": "stream",
          "name": "stderr",
          "text": [
            "\n"
          ]
        },
        {
          "output_type": "stream",
          "name": "stdout",
          "text": [
            "\n",
            "      Epoch    GPU_mem   box_loss   cls_loss   dfl_loss  Instances       Size\n"
          ]
        },
        {
          "output_type": "stream",
          "name": "stderr",
          "text": [
            "     97/100      3.84G     0.5831     0.3452     0.9251         15        640: 100%|██████████| 63/63 [00:18<00:00,  3.43it/s]\n",
            "                 Class     Images  Instances      Box(P          R      mAP50  mAP50-95): 100%|██████████| 4/4 [00:00<00:00,  4.03it/s]"
          ]
        },
        {
          "output_type": "stream",
          "name": "stdout",
          "text": [
            "                   all        124        136       0.58      0.694       0.65      0.458\n"
          ]
        },
        {
          "output_type": "stream",
          "name": "stderr",
          "text": [
            "\n"
          ]
        },
        {
          "output_type": "stream",
          "name": "stdout",
          "text": [
            "\n",
            "      Epoch    GPU_mem   box_loss   cls_loss   dfl_loss  Instances       Size\n"
          ]
        },
        {
          "output_type": "stream",
          "name": "stderr",
          "text": [
            "     98/100      3.86G     0.5812     0.3418     0.9243         11        640: 100%|██████████| 63/63 [00:17<00:00,  3.69it/s]\n",
            "                 Class     Images  Instances      Box(P          R      mAP50  mAP50-95): 100%|██████████| 4/4 [00:01<00:00,  3.39it/s]"
          ]
        },
        {
          "output_type": "stream",
          "name": "stdout",
          "text": [
            "                   all        124        136      0.578      0.704      0.628      0.442\n"
          ]
        },
        {
          "output_type": "stream",
          "name": "stderr",
          "text": [
            "\n"
          ]
        },
        {
          "output_type": "stream",
          "name": "stdout",
          "text": [
            "\n",
            "      Epoch    GPU_mem   box_loss   cls_loss   dfl_loss  Instances       Size\n"
          ]
        },
        {
          "output_type": "stream",
          "name": "stderr",
          "text": [
            "     99/100      3.88G     0.5831      0.347     0.9286         20        640: 100%|██████████| 63/63 [00:18<00:00,  3.44it/s]\n",
            "                 Class     Images  Instances      Box(P          R      mAP50  mAP50-95): 100%|██████████| 4/4 [00:01<00:00,  3.85it/s]"
          ]
        },
        {
          "output_type": "stream",
          "name": "stdout",
          "text": [
            "                   all        124        136      0.581      0.701      0.632      0.442\n"
          ]
        },
        {
          "output_type": "stream",
          "name": "stderr",
          "text": [
            "\n"
          ]
        },
        {
          "output_type": "stream",
          "name": "stdout",
          "text": [
            "\n",
            "      Epoch    GPU_mem   box_loss   cls_loss   dfl_loss  Instances       Size\n"
          ]
        },
        {
          "output_type": "stream",
          "name": "stderr",
          "text": [
            "    100/100      3.89G     0.5775     0.3406     0.9317         19        640: 100%|██████████| 63/63 [00:17<00:00,  3.62it/s]\n",
            "                 Class     Images  Instances      Box(P          R      mAP50  mAP50-95): 100%|██████████| 4/4 [00:00<00:00,  4.08it/s]"
          ]
        },
        {
          "output_type": "stream",
          "name": "stdout",
          "text": [
            "                   all        124        136      0.575      0.706      0.648      0.463\n"
          ]
        },
        {
          "output_type": "stream",
          "name": "stderr",
          "text": [
            "\n"
          ]
        },
        {
          "output_type": "stream",
          "name": "stdout",
          "text": [
            "\n",
            "100 epochs completed in 0.548 hours.\n",
            "Optimizer stripped from runs/detect/forklift_detector/weights/last.pt, 6.2MB\n",
            "Optimizer stripped from runs/detect/forklift_detector/weights/best.pt, 6.2MB\n",
            "\n",
            "Validating runs/detect/forklift_detector/weights/best.pt...\n",
            "Ultralytics 8.3.107 🚀 Python-3.11.12 torch-2.6.0+cu124 CUDA:0 (Tesla T4, 15095MiB)\n",
            "Model summary (fused): 72 layers, 3,006,038 parameters, 0 gradients, 8.1 GFLOPs\n"
          ]
        },
        {
          "output_type": "stream",
          "name": "stderr",
          "text": [
            "                 Class     Images  Instances      Box(P          R      mAP50  mAP50-95): 100%|██████████| 4/4 [00:02<00:00,  1.66it/s]\n"
          ]
        },
        {
          "output_type": "stream",
          "name": "stdout",
          "text": [
            "                   all        124        136      0.673      0.729      0.709       0.51\n",
            "              forklift        123        125      0.974       0.64      0.902      0.614\n",
            "                person         11         11      0.373      0.818      0.517      0.405\n",
            "Speed: 0.4ms preprocess, 2.1ms inference, 0.0ms loss, 5.2ms postprocess per image\n",
            "Results saved to \u001b[1mruns/detect/forklift_detector\u001b[0m\n"
          ]
        },
        {
          "output_type": "execute_result",
          "data": {
            "text/plain": [
              "ultralytics.utils.metrics.DetMetrics object with attributes:\n",
              "\n",
              "ap_class_index: array([0, 1])\n",
              "box: ultralytics.utils.metrics.Metric object\n",
              "confusion_matrix: <ultralytics.utils.metrics.ConfusionMatrix object at 0x7ea20a5c9dd0>\n",
              "curves: ['Precision-Recall(B)', 'F1-Confidence(B)', 'Precision-Confidence(B)', 'Recall-Confidence(B)']\n",
              "curves_results: [[array([          0,    0.001001,    0.002002,    0.003003,    0.004004,    0.005005,    0.006006,    0.007007,    0.008008,    0.009009,     0.01001,    0.011011,    0.012012,    0.013013,    0.014014,    0.015015,    0.016016,    0.017017,    0.018018,    0.019019,     0.02002,    0.021021,    0.022022,    0.023023,\n",
              "          0.024024,    0.025025,    0.026026,    0.027027,    0.028028,    0.029029,     0.03003,    0.031031,    0.032032,    0.033033,    0.034034,    0.035035,    0.036036,    0.037037,    0.038038,    0.039039,     0.04004,    0.041041,    0.042042,    0.043043,    0.044044,    0.045045,    0.046046,    0.047047,\n",
              "          0.048048,    0.049049,     0.05005,    0.051051,    0.052052,    0.053053,    0.054054,    0.055055,    0.056056,    0.057057,    0.058058,    0.059059,     0.06006,    0.061061,    0.062062,    0.063063,    0.064064,    0.065065,    0.066066,    0.067067,    0.068068,    0.069069,     0.07007,    0.071071,\n",
              "          0.072072,    0.073073,    0.074074,    0.075075,    0.076076,    0.077077,    0.078078,    0.079079,     0.08008,    0.081081,    0.082082,    0.083083,    0.084084,    0.085085,    0.086086,    0.087087,    0.088088,    0.089089,     0.09009,    0.091091,    0.092092,    0.093093,    0.094094,    0.095095,\n",
              "          0.096096,    0.097097,    0.098098,    0.099099,      0.1001,      0.1011,      0.1021,      0.1031,      0.1041,     0.10511,     0.10611,     0.10711,     0.10811,     0.10911,     0.11011,     0.11111,     0.11211,     0.11311,     0.11411,     0.11512,     0.11612,     0.11712,     0.11812,     0.11912,\n",
              "           0.12012,     0.12112,     0.12212,     0.12312,     0.12412,     0.12513,     0.12613,     0.12713,     0.12813,     0.12913,     0.13013,     0.13113,     0.13213,     0.13313,     0.13413,     0.13514,     0.13614,     0.13714,     0.13814,     0.13914,     0.14014,     0.14114,     0.14214,     0.14314,\n",
              "           0.14414,     0.14515,     0.14615,     0.14715,     0.14815,     0.14915,     0.15015,     0.15115,     0.15215,     0.15315,     0.15415,     0.15516,     0.15616,     0.15716,     0.15816,     0.15916,     0.16016,     0.16116,     0.16216,     0.16316,     0.16416,     0.16517,     0.16617,     0.16717,\n",
              "           0.16817,     0.16917,     0.17017,     0.17117,     0.17217,     0.17317,     0.17417,     0.17518,     0.17618,     0.17718,     0.17818,     0.17918,     0.18018,     0.18118,     0.18218,     0.18318,     0.18418,     0.18519,     0.18619,     0.18719,     0.18819,     0.18919,     0.19019,     0.19119,\n",
              "           0.19219,     0.19319,     0.19419,      0.1952,      0.1962,      0.1972,      0.1982,      0.1992,      0.2002,      0.2012,      0.2022,      0.2032,      0.2042,     0.20521,     0.20621,     0.20721,     0.20821,     0.20921,     0.21021,     0.21121,     0.21221,     0.21321,     0.21421,     0.21522,\n",
              "           0.21622,     0.21722,     0.21822,     0.21922,     0.22022,     0.22122,     0.22222,     0.22322,     0.22422,     0.22523,     0.22623,     0.22723,     0.22823,     0.22923,     0.23023,     0.23123,     0.23223,     0.23323,     0.23423,     0.23524,     0.23624,     0.23724,     0.23824,     0.23924,\n",
              "           0.24024,     0.24124,     0.24224,     0.24324,     0.24424,     0.24525,     0.24625,     0.24725,     0.24825,     0.24925,     0.25025,     0.25125,     0.25225,     0.25325,     0.25425,     0.25526,     0.25626,     0.25726,     0.25826,     0.25926,     0.26026,     0.26126,     0.26226,     0.26326,\n",
              "           0.26426,     0.26527,     0.26627,     0.26727,     0.26827,     0.26927,     0.27027,     0.27127,     0.27227,     0.27327,     0.27427,     0.27528,     0.27628,     0.27728,     0.27828,     0.27928,     0.28028,     0.28128,     0.28228,     0.28328,     0.28428,     0.28529,     0.28629,     0.28729,\n",
              "           0.28829,     0.28929,     0.29029,     0.29129,     0.29229,     0.29329,     0.29429,      0.2953,      0.2963,      0.2973,      0.2983,      0.2993,      0.3003,      0.3013,      0.3023,      0.3033,      0.3043,     0.30531,     0.30631,     0.30731,     0.30831,     0.30931,     0.31031,     0.31131,\n",
              "           0.31231,     0.31331,     0.31431,     0.31532,     0.31632,     0.31732,     0.31832,     0.31932,     0.32032,     0.32132,     0.32232,     0.32332,     0.32432,     0.32533,     0.32633,     0.32733,     0.32833,     0.32933,     0.33033,     0.33133,     0.33233,     0.33333,     0.33433,     0.33534,\n",
              "           0.33634,     0.33734,     0.33834,     0.33934,     0.34034,     0.34134,     0.34234,     0.34334,     0.34434,     0.34535,     0.34635,     0.34735,     0.34835,     0.34935,     0.35035,     0.35135,     0.35235,     0.35335,     0.35435,     0.35536,     0.35636,     0.35736,     0.35836,     0.35936,\n",
              "           0.36036,     0.36136,     0.36236,     0.36336,     0.36436,     0.36537,     0.36637,     0.36737,     0.36837,     0.36937,     0.37037,     0.37137,     0.37237,     0.37337,     0.37437,     0.37538,     0.37638,     0.37738,     0.37838,     0.37938,     0.38038,     0.38138,     0.38238,     0.38338,\n",
              "           0.38438,     0.38539,     0.38639,     0.38739,     0.38839,     0.38939,     0.39039,     0.39139,     0.39239,     0.39339,     0.39439,      0.3954,      0.3964,      0.3974,      0.3984,      0.3994,      0.4004,      0.4014,      0.4024,      0.4034,      0.4044,     0.40541,     0.40641,     0.40741,\n",
              "           0.40841,     0.40941,     0.41041,     0.41141,     0.41241,     0.41341,     0.41441,     0.41542,     0.41642,     0.41742,     0.41842,     0.41942,     0.42042,     0.42142,     0.42242,     0.42342,     0.42442,     0.42543,     0.42643,     0.42743,     0.42843,     0.42943,     0.43043,     0.43143,\n",
              "           0.43243,     0.43343,     0.43443,     0.43544,     0.43644,     0.43744,     0.43844,     0.43944,     0.44044,     0.44144,     0.44244,     0.44344,     0.44444,     0.44545,     0.44645,     0.44745,     0.44845,     0.44945,     0.45045,     0.45145,     0.45245,     0.45345,     0.45445,     0.45546,\n",
              "           0.45646,     0.45746,     0.45846,     0.45946,     0.46046,     0.46146,     0.46246,     0.46346,     0.46446,     0.46547,     0.46647,     0.46747,     0.46847,     0.46947,     0.47047,     0.47147,     0.47247,     0.47347,     0.47447,     0.47548,     0.47648,     0.47748,     0.47848,     0.47948,\n",
              "           0.48048,     0.48148,     0.48248,     0.48348,     0.48448,     0.48549,     0.48649,     0.48749,     0.48849,     0.48949,     0.49049,     0.49149,     0.49249,     0.49349,     0.49449,      0.4955,      0.4965,      0.4975,      0.4985,      0.4995,      0.5005,      0.5015,      0.5025,      0.5035,\n",
              "            0.5045,     0.50551,     0.50651,     0.50751,     0.50851,     0.50951,     0.51051,     0.51151,     0.51251,     0.51351,     0.51451,     0.51552,     0.51652,     0.51752,     0.51852,     0.51952,     0.52052,     0.52152,     0.52252,     0.52352,     0.52452,     0.52553,     0.52653,     0.52753,\n",
              "           0.52853,     0.52953,     0.53053,     0.53153,     0.53253,     0.53353,     0.53453,     0.53554,     0.53654,     0.53754,     0.53854,     0.53954,     0.54054,     0.54154,     0.54254,     0.54354,     0.54454,     0.54555,     0.54655,     0.54755,     0.54855,     0.54955,     0.55055,     0.55155,\n",
              "           0.55255,     0.55355,     0.55455,     0.55556,     0.55656,     0.55756,     0.55856,     0.55956,     0.56056,     0.56156,     0.56256,     0.56356,     0.56456,     0.56557,     0.56657,     0.56757,     0.56857,     0.56957,     0.57057,     0.57157,     0.57257,     0.57357,     0.57457,     0.57558,\n",
              "           0.57658,     0.57758,     0.57858,     0.57958,     0.58058,     0.58158,     0.58258,     0.58358,     0.58458,     0.58559,     0.58659,     0.58759,     0.58859,     0.58959,     0.59059,     0.59159,     0.59259,     0.59359,     0.59459,      0.5956,      0.5966,      0.5976,      0.5986,      0.5996,\n",
              "            0.6006,      0.6016,      0.6026,      0.6036,      0.6046,     0.60561,     0.60661,     0.60761,     0.60861,     0.60961,     0.61061,     0.61161,     0.61261,     0.61361,     0.61461,     0.61562,     0.61662,     0.61762,     0.61862,     0.61962,     0.62062,     0.62162,     0.62262,     0.62362,\n",
              "           0.62462,     0.62563,     0.62663,     0.62763,     0.62863,     0.62963,     0.63063,     0.63163,     0.63263,     0.63363,     0.63463,     0.63564,     0.63664,     0.63764,     0.63864,     0.63964,     0.64064,     0.64164,     0.64264,     0.64364,     0.64464,     0.64565,     0.64665,     0.64765,\n",
              "           0.64865,     0.64965,     0.65065,     0.65165,     0.65265,     0.65365,     0.65465,     0.65566,     0.65666,     0.65766,     0.65866,     0.65966,     0.66066,     0.66166,     0.66266,     0.66366,     0.66466,     0.66567,     0.66667,     0.66767,     0.66867,     0.66967,     0.67067,     0.67167,\n",
              "           0.67267,     0.67367,     0.67467,     0.67568,     0.67668,     0.67768,     0.67868,     0.67968,     0.68068,     0.68168,     0.68268,     0.68368,     0.68468,     0.68569,     0.68669,     0.68769,     0.68869,     0.68969,     0.69069,     0.69169,     0.69269,     0.69369,     0.69469,      0.6957,\n",
              "            0.6967,      0.6977,      0.6987,      0.6997,      0.7007,      0.7017,      0.7027,      0.7037,      0.7047,     0.70571,     0.70671,     0.70771,     0.70871,     0.70971,     0.71071,     0.71171,     0.71271,     0.71371,     0.71471,     0.71572,     0.71672,     0.71772,     0.71872,     0.71972,\n",
              "           0.72072,     0.72172,     0.72272,     0.72372,     0.72472,     0.72573,     0.72673,     0.72773,     0.72873,     0.72973,     0.73073,     0.73173,     0.73273,     0.73373,     0.73473,     0.73574,     0.73674,     0.73774,     0.73874,     0.73974,     0.74074,     0.74174,     0.74274,     0.74374,\n",
              "           0.74474,     0.74575,     0.74675,     0.74775,     0.74875,     0.74975,     0.75075,     0.75175,     0.75275,     0.75375,     0.75475,     0.75576,     0.75676,     0.75776,     0.75876,     0.75976,     0.76076,     0.76176,     0.76276,     0.76376,     0.76476,     0.76577,     0.76677,     0.76777,\n",
              "           0.76877,     0.76977,     0.77077,     0.77177,     0.77277,     0.77377,     0.77477,     0.77578,     0.77678,     0.77778,     0.77878,     0.77978,     0.78078,     0.78178,     0.78278,     0.78378,     0.78478,     0.78579,     0.78679,     0.78779,     0.78879,     0.78979,     0.79079,     0.79179,\n",
              "           0.79279,     0.79379,     0.79479,      0.7958,      0.7968,      0.7978,      0.7988,      0.7998,      0.8008,      0.8018,      0.8028,      0.8038,      0.8048,     0.80581,     0.80681,     0.80781,     0.80881,     0.80981,     0.81081,     0.81181,     0.81281,     0.81381,     0.81481,     0.81582,\n",
              "           0.81682,     0.81782,     0.81882,     0.81982,     0.82082,     0.82182,     0.82282,     0.82382,     0.82482,     0.82583,     0.82683,     0.82783,     0.82883,     0.82983,     0.83083,     0.83183,     0.83283,     0.83383,     0.83483,     0.83584,     0.83684,     0.83784,     0.83884,     0.83984,\n",
              "           0.84084,     0.84184,     0.84284,     0.84384,     0.84484,     0.84585,     0.84685,     0.84785,     0.84885,     0.84985,     0.85085,     0.85185,     0.85285,     0.85385,     0.85485,     0.85586,     0.85686,     0.85786,     0.85886,     0.85986,     0.86086,     0.86186,     0.86286,     0.86386,\n",
              "           0.86486,     0.86587,     0.86687,     0.86787,     0.86887,     0.86987,     0.87087,     0.87187,     0.87287,     0.87387,     0.87487,     0.87588,     0.87688,     0.87788,     0.87888,     0.87988,     0.88088,     0.88188,     0.88288,     0.88388,     0.88488,     0.88589,     0.88689,     0.88789,\n",
              "           0.88889,     0.88989,     0.89089,     0.89189,     0.89289,     0.89389,     0.89489,      0.8959,      0.8969,      0.8979,      0.8989,      0.8999,      0.9009,      0.9019,      0.9029,      0.9039,      0.9049,     0.90591,     0.90691,     0.90791,     0.90891,     0.90991,     0.91091,     0.91191,\n",
              "           0.91291,     0.91391,     0.91491,     0.91592,     0.91692,     0.91792,     0.91892,     0.91992,     0.92092,     0.92192,     0.92292,     0.92392,     0.92492,     0.92593,     0.92693,     0.92793,     0.92893,     0.92993,     0.93093,     0.93193,     0.93293,     0.93393,     0.93493,     0.93594,\n",
              "           0.93694,     0.93794,     0.93894,     0.93994,     0.94094,     0.94194,     0.94294,     0.94394,     0.94494,     0.94595,     0.94695,     0.94795,     0.94895,     0.94995,     0.95095,     0.95195,     0.95295,     0.95395,     0.95495,     0.95596,     0.95696,     0.95796,     0.95896,     0.95996,\n",
              "           0.96096,     0.96196,     0.96296,     0.96396,     0.96496,     0.96597,     0.96697,     0.96797,     0.96897,     0.96997,     0.97097,     0.97197,     0.97297,     0.97397,     0.97497,     0.97598,     0.97698,     0.97798,     0.97898,     0.97998,     0.98098,     0.98198,     0.98298,     0.98398,\n",
              "           0.98498,     0.98599,     0.98699,     0.98799,     0.98899,     0.98999,     0.99099,     0.99199,     0.99299,     0.99399,     0.99499,       0.996,       0.997,       0.998,       0.999,           1]), array([[          1,           1,           1, ...,   0.0090817,   0.0045408,           0],\n",
              "       [          1,           1,           1, ...,     0.12088,     0.12088,           0]]), 'Recall', 'Precision'], [array([          0,    0.001001,    0.002002,    0.003003,    0.004004,    0.005005,    0.006006,    0.007007,    0.008008,    0.009009,     0.01001,    0.011011,    0.012012,    0.013013,    0.014014,    0.015015,    0.016016,    0.017017,    0.018018,    0.019019,     0.02002,    0.021021,    0.022022,    0.023023,\n",
              "          0.024024,    0.025025,    0.026026,    0.027027,    0.028028,    0.029029,     0.03003,    0.031031,    0.032032,    0.033033,    0.034034,    0.035035,    0.036036,    0.037037,    0.038038,    0.039039,     0.04004,    0.041041,    0.042042,    0.043043,    0.044044,    0.045045,    0.046046,    0.047047,\n",
              "          0.048048,    0.049049,     0.05005,    0.051051,    0.052052,    0.053053,    0.054054,    0.055055,    0.056056,    0.057057,    0.058058,    0.059059,     0.06006,    0.061061,    0.062062,    0.063063,    0.064064,    0.065065,    0.066066,    0.067067,    0.068068,    0.069069,     0.07007,    0.071071,\n",
              "          0.072072,    0.073073,    0.074074,    0.075075,    0.076076,    0.077077,    0.078078,    0.079079,     0.08008,    0.081081,    0.082082,    0.083083,    0.084084,    0.085085,    0.086086,    0.087087,    0.088088,    0.089089,     0.09009,    0.091091,    0.092092,    0.093093,    0.094094,    0.095095,\n",
              "          0.096096,    0.097097,    0.098098,    0.099099,      0.1001,      0.1011,      0.1021,      0.1031,      0.1041,     0.10511,     0.10611,     0.10711,     0.10811,     0.10911,     0.11011,     0.11111,     0.11211,     0.11311,     0.11411,     0.11512,     0.11612,     0.11712,     0.11812,     0.11912,\n",
              "           0.12012,     0.12112,     0.12212,     0.12312,     0.12412,     0.12513,     0.12613,     0.12713,     0.12813,     0.12913,     0.13013,     0.13113,     0.13213,     0.13313,     0.13413,     0.13514,     0.13614,     0.13714,     0.13814,     0.13914,     0.14014,     0.14114,     0.14214,     0.14314,\n",
              "           0.14414,     0.14515,     0.14615,     0.14715,     0.14815,     0.14915,     0.15015,     0.15115,     0.15215,     0.15315,     0.15415,     0.15516,     0.15616,     0.15716,     0.15816,     0.15916,     0.16016,     0.16116,     0.16216,     0.16316,     0.16416,     0.16517,     0.16617,     0.16717,\n",
              "           0.16817,     0.16917,     0.17017,     0.17117,     0.17217,     0.17317,     0.17417,     0.17518,     0.17618,     0.17718,     0.17818,     0.17918,     0.18018,     0.18118,     0.18218,     0.18318,     0.18418,     0.18519,     0.18619,     0.18719,     0.18819,     0.18919,     0.19019,     0.19119,\n",
              "           0.19219,     0.19319,     0.19419,      0.1952,      0.1962,      0.1972,      0.1982,      0.1992,      0.2002,      0.2012,      0.2022,      0.2032,      0.2042,     0.20521,     0.20621,     0.20721,     0.20821,     0.20921,     0.21021,     0.21121,     0.21221,     0.21321,     0.21421,     0.21522,\n",
              "           0.21622,     0.21722,     0.21822,     0.21922,     0.22022,     0.22122,     0.22222,     0.22322,     0.22422,     0.22523,     0.22623,     0.22723,     0.22823,     0.22923,     0.23023,     0.23123,     0.23223,     0.23323,     0.23423,     0.23524,     0.23624,     0.23724,     0.23824,     0.23924,\n",
              "           0.24024,     0.24124,     0.24224,     0.24324,     0.24424,     0.24525,     0.24625,     0.24725,     0.24825,     0.24925,     0.25025,     0.25125,     0.25225,     0.25325,     0.25425,     0.25526,     0.25626,     0.25726,     0.25826,     0.25926,     0.26026,     0.26126,     0.26226,     0.26326,\n",
              "           0.26426,     0.26527,     0.26627,     0.26727,     0.26827,     0.26927,     0.27027,     0.27127,     0.27227,     0.27327,     0.27427,     0.27528,     0.27628,     0.27728,     0.27828,     0.27928,     0.28028,     0.28128,     0.28228,     0.28328,     0.28428,     0.28529,     0.28629,     0.28729,\n",
              "           0.28829,     0.28929,     0.29029,     0.29129,     0.29229,     0.29329,     0.29429,      0.2953,      0.2963,      0.2973,      0.2983,      0.2993,      0.3003,      0.3013,      0.3023,      0.3033,      0.3043,     0.30531,     0.30631,     0.30731,     0.30831,     0.30931,     0.31031,     0.31131,\n",
              "           0.31231,     0.31331,     0.31431,     0.31532,     0.31632,     0.31732,     0.31832,     0.31932,     0.32032,     0.32132,     0.32232,     0.32332,     0.32432,     0.32533,     0.32633,     0.32733,     0.32833,     0.32933,     0.33033,     0.33133,     0.33233,     0.33333,     0.33433,     0.33534,\n",
              "           0.33634,     0.33734,     0.33834,     0.33934,     0.34034,     0.34134,     0.34234,     0.34334,     0.34434,     0.34535,     0.34635,     0.34735,     0.34835,     0.34935,     0.35035,     0.35135,     0.35235,     0.35335,     0.35435,     0.35536,     0.35636,     0.35736,     0.35836,     0.35936,\n",
              "           0.36036,     0.36136,     0.36236,     0.36336,     0.36436,     0.36537,     0.36637,     0.36737,     0.36837,     0.36937,     0.37037,     0.37137,     0.37237,     0.37337,     0.37437,     0.37538,     0.37638,     0.37738,     0.37838,     0.37938,     0.38038,     0.38138,     0.38238,     0.38338,\n",
              "           0.38438,     0.38539,     0.38639,     0.38739,     0.38839,     0.38939,     0.39039,     0.39139,     0.39239,     0.39339,     0.39439,      0.3954,      0.3964,      0.3974,      0.3984,      0.3994,      0.4004,      0.4014,      0.4024,      0.4034,      0.4044,     0.40541,     0.40641,     0.40741,\n",
              "           0.40841,     0.40941,     0.41041,     0.41141,     0.41241,     0.41341,     0.41441,     0.41542,     0.41642,     0.41742,     0.41842,     0.41942,     0.42042,     0.42142,     0.42242,     0.42342,     0.42442,     0.42543,     0.42643,     0.42743,     0.42843,     0.42943,     0.43043,     0.43143,\n",
              "           0.43243,     0.43343,     0.43443,     0.43544,     0.43644,     0.43744,     0.43844,     0.43944,     0.44044,     0.44144,     0.44244,     0.44344,     0.44444,     0.44545,     0.44645,     0.44745,     0.44845,     0.44945,     0.45045,     0.45145,     0.45245,     0.45345,     0.45445,     0.45546,\n",
              "           0.45646,     0.45746,     0.45846,     0.45946,     0.46046,     0.46146,     0.46246,     0.46346,     0.46446,     0.46547,     0.46647,     0.46747,     0.46847,     0.46947,     0.47047,     0.47147,     0.47247,     0.47347,     0.47447,     0.47548,     0.47648,     0.47748,     0.47848,     0.47948,\n",
              "           0.48048,     0.48148,     0.48248,     0.48348,     0.48448,     0.48549,     0.48649,     0.48749,     0.48849,     0.48949,     0.49049,     0.49149,     0.49249,     0.49349,     0.49449,      0.4955,      0.4965,      0.4975,      0.4985,      0.4995,      0.5005,      0.5015,      0.5025,      0.5035,\n",
              "            0.5045,     0.50551,     0.50651,     0.50751,     0.50851,     0.50951,     0.51051,     0.51151,     0.51251,     0.51351,     0.51451,     0.51552,     0.51652,     0.51752,     0.51852,     0.51952,     0.52052,     0.52152,     0.52252,     0.52352,     0.52452,     0.52553,     0.52653,     0.52753,\n",
              "           0.52853,     0.52953,     0.53053,     0.53153,     0.53253,     0.53353,     0.53453,     0.53554,     0.53654,     0.53754,     0.53854,     0.53954,     0.54054,     0.54154,     0.54254,     0.54354,     0.54454,     0.54555,     0.54655,     0.54755,     0.54855,     0.54955,     0.55055,     0.55155,\n",
              "           0.55255,     0.55355,     0.55455,     0.55556,     0.55656,     0.55756,     0.55856,     0.55956,     0.56056,     0.56156,     0.56256,     0.56356,     0.56456,     0.56557,     0.56657,     0.56757,     0.56857,     0.56957,     0.57057,     0.57157,     0.57257,     0.57357,     0.57457,     0.57558,\n",
              "           0.57658,     0.57758,     0.57858,     0.57958,     0.58058,     0.58158,     0.58258,     0.58358,     0.58458,     0.58559,     0.58659,     0.58759,     0.58859,     0.58959,     0.59059,     0.59159,     0.59259,     0.59359,     0.59459,      0.5956,      0.5966,      0.5976,      0.5986,      0.5996,\n",
              "            0.6006,      0.6016,      0.6026,      0.6036,      0.6046,     0.60561,     0.60661,     0.60761,     0.60861,     0.60961,     0.61061,     0.61161,     0.61261,     0.61361,     0.61461,     0.61562,     0.61662,     0.61762,     0.61862,     0.61962,     0.62062,     0.62162,     0.62262,     0.62362,\n",
              "           0.62462,     0.62563,     0.62663,     0.62763,     0.62863,     0.62963,     0.63063,     0.63163,     0.63263,     0.63363,     0.63463,     0.63564,     0.63664,     0.63764,     0.63864,     0.63964,     0.64064,     0.64164,     0.64264,     0.64364,     0.64464,     0.64565,     0.64665,     0.64765,\n",
              "           0.64865,     0.64965,     0.65065,     0.65165,     0.65265,     0.65365,     0.65465,     0.65566,     0.65666,     0.65766,     0.65866,     0.65966,     0.66066,     0.66166,     0.66266,     0.66366,     0.66466,     0.66567,     0.66667,     0.66767,     0.66867,     0.66967,     0.67067,     0.67167,\n",
              "           0.67267,     0.67367,     0.67467,     0.67568,     0.67668,     0.67768,     0.67868,     0.67968,     0.68068,     0.68168,     0.68268,     0.68368,     0.68468,     0.68569,     0.68669,     0.68769,     0.68869,     0.68969,     0.69069,     0.69169,     0.69269,     0.69369,     0.69469,      0.6957,\n",
              "            0.6967,      0.6977,      0.6987,      0.6997,      0.7007,      0.7017,      0.7027,      0.7037,      0.7047,     0.70571,     0.70671,     0.70771,     0.70871,     0.70971,     0.71071,     0.71171,     0.71271,     0.71371,     0.71471,     0.71572,     0.71672,     0.71772,     0.71872,     0.71972,\n",
              "           0.72072,     0.72172,     0.72272,     0.72372,     0.72472,     0.72573,     0.72673,     0.72773,     0.72873,     0.72973,     0.73073,     0.73173,     0.73273,     0.73373,     0.73473,     0.73574,     0.73674,     0.73774,     0.73874,     0.73974,     0.74074,     0.74174,     0.74274,     0.74374,\n",
              "           0.74474,     0.74575,     0.74675,     0.74775,     0.74875,     0.74975,     0.75075,     0.75175,     0.75275,     0.75375,     0.75475,     0.75576,     0.75676,     0.75776,     0.75876,     0.75976,     0.76076,     0.76176,     0.76276,     0.76376,     0.76476,     0.76577,     0.76677,     0.76777,\n",
              "           0.76877,     0.76977,     0.77077,     0.77177,     0.77277,     0.77377,     0.77477,     0.77578,     0.77678,     0.77778,     0.77878,     0.77978,     0.78078,     0.78178,     0.78278,     0.78378,     0.78478,     0.78579,     0.78679,     0.78779,     0.78879,     0.78979,     0.79079,     0.79179,\n",
              "           0.79279,     0.79379,     0.79479,      0.7958,      0.7968,      0.7978,      0.7988,      0.7998,      0.8008,      0.8018,      0.8028,      0.8038,      0.8048,     0.80581,     0.80681,     0.80781,     0.80881,     0.80981,     0.81081,     0.81181,     0.81281,     0.81381,     0.81481,     0.81582,\n",
              "           0.81682,     0.81782,     0.81882,     0.81982,     0.82082,     0.82182,     0.82282,     0.82382,     0.82482,     0.82583,     0.82683,     0.82783,     0.82883,     0.82983,     0.83083,     0.83183,     0.83283,     0.83383,     0.83483,     0.83584,     0.83684,     0.83784,     0.83884,     0.83984,\n",
              "           0.84084,     0.84184,     0.84284,     0.84384,     0.84484,     0.84585,     0.84685,     0.84785,     0.84885,     0.84985,     0.85085,     0.85185,     0.85285,     0.85385,     0.85485,     0.85586,     0.85686,     0.85786,     0.85886,     0.85986,     0.86086,     0.86186,     0.86286,     0.86386,\n",
              "           0.86486,     0.86587,     0.86687,     0.86787,     0.86887,     0.86987,     0.87087,     0.87187,     0.87287,     0.87387,     0.87487,     0.87588,     0.87688,     0.87788,     0.87888,     0.87988,     0.88088,     0.88188,     0.88288,     0.88388,     0.88488,     0.88589,     0.88689,     0.88789,\n",
              "           0.88889,     0.88989,     0.89089,     0.89189,     0.89289,     0.89389,     0.89489,      0.8959,      0.8969,      0.8979,      0.8989,      0.8999,      0.9009,      0.9019,      0.9029,      0.9039,      0.9049,     0.90591,     0.90691,     0.90791,     0.90891,     0.90991,     0.91091,     0.91191,\n",
              "           0.91291,     0.91391,     0.91491,     0.91592,     0.91692,     0.91792,     0.91892,     0.91992,     0.92092,     0.92192,     0.92292,     0.92392,     0.92492,     0.92593,     0.92693,     0.92793,     0.92893,     0.92993,     0.93093,     0.93193,     0.93293,     0.93393,     0.93493,     0.93594,\n",
              "           0.93694,     0.93794,     0.93894,     0.93994,     0.94094,     0.94194,     0.94294,     0.94394,     0.94494,     0.94595,     0.94695,     0.94795,     0.94895,     0.94995,     0.95095,     0.95195,     0.95295,     0.95395,     0.95495,     0.95596,     0.95696,     0.95796,     0.95896,     0.95996,\n",
              "           0.96096,     0.96196,     0.96296,     0.96396,     0.96496,     0.96597,     0.96697,     0.96797,     0.96897,     0.96997,     0.97097,     0.97197,     0.97297,     0.97397,     0.97497,     0.97598,     0.97698,     0.97798,     0.97898,     0.97998,     0.98098,     0.98198,     0.98298,     0.98398,\n",
              "           0.98498,     0.98599,     0.98699,     0.98799,     0.98899,     0.98999,     0.99099,     0.99199,     0.99299,     0.99399,     0.99499,       0.996,       0.997,       0.998,       0.999,           1]), array([[    0.44318,     0.44318,     0.56657, ...,           0,           0,           0],\n",
              "       [   0.031294,    0.031294,    0.043389, ...,           0,           0,           0]]), 'Confidence', 'F1'], [array([          0,    0.001001,    0.002002,    0.003003,    0.004004,    0.005005,    0.006006,    0.007007,    0.008008,    0.009009,     0.01001,    0.011011,    0.012012,    0.013013,    0.014014,    0.015015,    0.016016,    0.017017,    0.018018,    0.019019,     0.02002,    0.021021,    0.022022,    0.023023,\n",
              "          0.024024,    0.025025,    0.026026,    0.027027,    0.028028,    0.029029,     0.03003,    0.031031,    0.032032,    0.033033,    0.034034,    0.035035,    0.036036,    0.037037,    0.038038,    0.039039,     0.04004,    0.041041,    0.042042,    0.043043,    0.044044,    0.045045,    0.046046,    0.047047,\n",
              "          0.048048,    0.049049,     0.05005,    0.051051,    0.052052,    0.053053,    0.054054,    0.055055,    0.056056,    0.057057,    0.058058,    0.059059,     0.06006,    0.061061,    0.062062,    0.063063,    0.064064,    0.065065,    0.066066,    0.067067,    0.068068,    0.069069,     0.07007,    0.071071,\n",
              "          0.072072,    0.073073,    0.074074,    0.075075,    0.076076,    0.077077,    0.078078,    0.079079,     0.08008,    0.081081,    0.082082,    0.083083,    0.084084,    0.085085,    0.086086,    0.087087,    0.088088,    0.089089,     0.09009,    0.091091,    0.092092,    0.093093,    0.094094,    0.095095,\n",
              "          0.096096,    0.097097,    0.098098,    0.099099,      0.1001,      0.1011,      0.1021,      0.1031,      0.1041,     0.10511,     0.10611,     0.10711,     0.10811,     0.10911,     0.11011,     0.11111,     0.11211,     0.11311,     0.11411,     0.11512,     0.11612,     0.11712,     0.11812,     0.11912,\n",
              "           0.12012,     0.12112,     0.12212,     0.12312,     0.12412,     0.12513,     0.12613,     0.12713,     0.12813,     0.12913,     0.13013,     0.13113,     0.13213,     0.13313,     0.13413,     0.13514,     0.13614,     0.13714,     0.13814,     0.13914,     0.14014,     0.14114,     0.14214,     0.14314,\n",
              "           0.14414,     0.14515,     0.14615,     0.14715,     0.14815,     0.14915,     0.15015,     0.15115,     0.15215,     0.15315,     0.15415,     0.15516,     0.15616,     0.15716,     0.15816,     0.15916,     0.16016,     0.16116,     0.16216,     0.16316,     0.16416,     0.16517,     0.16617,     0.16717,\n",
              "           0.16817,     0.16917,     0.17017,     0.17117,     0.17217,     0.17317,     0.17417,     0.17518,     0.17618,     0.17718,     0.17818,     0.17918,     0.18018,     0.18118,     0.18218,     0.18318,     0.18418,     0.18519,     0.18619,     0.18719,     0.18819,     0.18919,     0.19019,     0.19119,\n",
              "           0.19219,     0.19319,     0.19419,      0.1952,      0.1962,      0.1972,      0.1982,      0.1992,      0.2002,      0.2012,      0.2022,      0.2032,      0.2042,     0.20521,     0.20621,     0.20721,     0.20821,     0.20921,     0.21021,     0.21121,     0.21221,     0.21321,     0.21421,     0.21522,\n",
              "           0.21622,     0.21722,     0.21822,     0.21922,     0.22022,     0.22122,     0.22222,     0.22322,     0.22422,     0.22523,     0.22623,     0.22723,     0.22823,     0.22923,     0.23023,     0.23123,     0.23223,     0.23323,     0.23423,     0.23524,     0.23624,     0.23724,     0.23824,     0.23924,\n",
              "           0.24024,     0.24124,     0.24224,     0.24324,     0.24424,     0.24525,     0.24625,     0.24725,     0.24825,     0.24925,     0.25025,     0.25125,     0.25225,     0.25325,     0.25425,     0.25526,     0.25626,     0.25726,     0.25826,     0.25926,     0.26026,     0.26126,     0.26226,     0.26326,\n",
              "           0.26426,     0.26527,     0.26627,     0.26727,     0.26827,     0.26927,     0.27027,     0.27127,     0.27227,     0.27327,     0.27427,     0.27528,     0.27628,     0.27728,     0.27828,     0.27928,     0.28028,     0.28128,     0.28228,     0.28328,     0.28428,     0.28529,     0.28629,     0.28729,\n",
              "           0.28829,     0.28929,     0.29029,     0.29129,     0.29229,     0.29329,     0.29429,      0.2953,      0.2963,      0.2973,      0.2983,      0.2993,      0.3003,      0.3013,      0.3023,      0.3033,      0.3043,     0.30531,     0.30631,     0.30731,     0.30831,     0.30931,     0.31031,     0.31131,\n",
              "           0.31231,     0.31331,     0.31431,     0.31532,     0.31632,     0.31732,     0.31832,     0.31932,     0.32032,     0.32132,     0.32232,     0.32332,     0.32432,     0.32533,     0.32633,     0.32733,     0.32833,     0.32933,     0.33033,     0.33133,     0.33233,     0.33333,     0.33433,     0.33534,\n",
              "           0.33634,     0.33734,     0.33834,     0.33934,     0.34034,     0.34134,     0.34234,     0.34334,     0.34434,     0.34535,     0.34635,     0.34735,     0.34835,     0.34935,     0.35035,     0.35135,     0.35235,     0.35335,     0.35435,     0.35536,     0.35636,     0.35736,     0.35836,     0.35936,\n",
              "           0.36036,     0.36136,     0.36236,     0.36336,     0.36436,     0.36537,     0.36637,     0.36737,     0.36837,     0.36937,     0.37037,     0.37137,     0.37237,     0.37337,     0.37437,     0.37538,     0.37638,     0.37738,     0.37838,     0.37938,     0.38038,     0.38138,     0.38238,     0.38338,\n",
              "           0.38438,     0.38539,     0.38639,     0.38739,     0.38839,     0.38939,     0.39039,     0.39139,     0.39239,     0.39339,     0.39439,      0.3954,      0.3964,      0.3974,      0.3984,      0.3994,      0.4004,      0.4014,      0.4024,      0.4034,      0.4044,     0.40541,     0.40641,     0.40741,\n",
              "           0.40841,     0.40941,     0.41041,     0.41141,     0.41241,     0.41341,     0.41441,     0.41542,     0.41642,     0.41742,     0.41842,     0.41942,     0.42042,     0.42142,     0.42242,     0.42342,     0.42442,     0.42543,     0.42643,     0.42743,     0.42843,     0.42943,     0.43043,     0.43143,\n",
              "           0.43243,     0.43343,     0.43443,     0.43544,     0.43644,     0.43744,     0.43844,     0.43944,     0.44044,     0.44144,     0.44244,     0.44344,     0.44444,     0.44545,     0.44645,     0.44745,     0.44845,     0.44945,     0.45045,     0.45145,     0.45245,     0.45345,     0.45445,     0.45546,\n",
              "           0.45646,     0.45746,     0.45846,     0.45946,     0.46046,     0.46146,     0.46246,     0.46346,     0.46446,     0.46547,     0.46647,     0.46747,     0.46847,     0.46947,     0.47047,     0.47147,     0.47247,     0.47347,     0.47447,     0.47548,     0.47648,     0.47748,     0.47848,     0.47948,\n",
              "           0.48048,     0.48148,     0.48248,     0.48348,     0.48448,     0.48549,     0.48649,     0.48749,     0.48849,     0.48949,     0.49049,     0.49149,     0.49249,     0.49349,     0.49449,      0.4955,      0.4965,      0.4975,      0.4985,      0.4995,      0.5005,      0.5015,      0.5025,      0.5035,\n",
              "            0.5045,     0.50551,     0.50651,     0.50751,     0.50851,     0.50951,     0.51051,     0.51151,     0.51251,     0.51351,     0.51451,     0.51552,     0.51652,     0.51752,     0.51852,     0.51952,     0.52052,     0.52152,     0.52252,     0.52352,     0.52452,     0.52553,     0.52653,     0.52753,\n",
              "           0.52853,     0.52953,     0.53053,     0.53153,     0.53253,     0.53353,     0.53453,     0.53554,     0.53654,     0.53754,     0.53854,     0.53954,     0.54054,     0.54154,     0.54254,     0.54354,     0.54454,     0.54555,     0.54655,     0.54755,     0.54855,     0.54955,     0.55055,     0.55155,\n",
              "           0.55255,     0.55355,     0.55455,     0.55556,     0.55656,     0.55756,     0.55856,     0.55956,     0.56056,     0.56156,     0.56256,     0.56356,     0.56456,     0.56557,     0.56657,     0.56757,     0.56857,     0.56957,     0.57057,     0.57157,     0.57257,     0.57357,     0.57457,     0.57558,\n",
              "           0.57658,     0.57758,     0.57858,     0.57958,     0.58058,     0.58158,     0.58258,     0.58358,     0.58458,     0.58559,     0.58659,     0.58759,     0.58859,     0.58959,     0.59059,     0.59159,     0.59259,     0.59359,     0.59459,      0.5956,      0.5966,      0.5976,      0.5986,      0.5996,\n",
              "            0.6006,      0.6016,      0.6026,      0.6036,      0.6046,     0.60561,     0.60661,     0.60761,     0.60861,     0.60961,     0.61061,     0.61161,     0.61261,     0.61361,     0.61461,     0.61562,     0.61662,     0.61762,     0.61862,     0.61962,     0.62062,     0.62162,     0.62262,     0.62362,\n",
              "           0.62462,     0.62563,     0.62663,     0.62763,     0.62863,     0.62963,     0.63063,     0.63163,     0.63263,     0.63363,     0.63463,     0.63564,     0.63664,     0.63764,     0.63864,     0.63964,     0.64064,     0.64164,     0.64264,     0.64364,     0.64464,     0.64565,     0.64665,     0.64765,\n",
              "           0.64865,     0.64965,     0.65065,     0.65165,     0.65265,     0.65365,     0.65465,     0.65566,     0.65666,     0.65766,     0.65866,     0.65966,     0.66066,     0.66166,     0.66266,     0.66366,     0.66466,     0.66567,     0.66667,     0.66767,     0.66867,     0.66967,     0.67067,     0.67167,\n",
              "           0.67267,     0.67367,     0.67467,     0.67568,     0.67668,     0.67768,     0.67868,     0.67968,     0.68068,     0.68168,     0.68268,     0.68368,     0.68468,     0.68569,     0.68669,     0.68769,     0.68869,     0.68969,     0.69069,     0.69169,     0.69269,     0.69369,     0.69469,      0.6957,\n",
              "            0.6967,      0.6977,      0.6987,      0.6997,      0.7007,      0.7017,      0.7027,      0.7037,      0.7047,     0.70571,     0.70671,     0.70771,     0.70871,     0.70971,     0.71071,     0.71171,     0.71271,     0.71371,     0.71471,     0.71572,     0.71672,     0.71772,     0.71872,     0.71972,\n",
              "           0.72072,     0.72172,     0.72272,     0.72372,     0.72472,     0.72573,     0.72673,     0.72773,     0.72873,     0.72973,     0.73073,     0.73173,     0.73273,     0.73373,     0.73473,     0.73574,     0.73674,     0.73774,     0.73874,     0.73974,     0.74074,     0.74174,     0.74274,     0.74374,\n",
              "           0.74474,     0.74575,     0.74675,     0.74775,     0.74875,     0.74975,     0.75075,     0.75175,     0.75275,     0.75375,     0.75475,     0.75576,     0.75676,     0.75776,     0.75876,     0.75976,     0.76076,     0.76176,     0.76276,     0.76376,     0.76476,     0.76577,     0.76677,     0.76777,\n",
              "           0.76877,     0.76977,     0.77077,     0.77177,     0.77277,     0.77377,     0.77477,     0.77578,     0.77678,     0.77778,     0.77878,     0.77978,     0.78078,     0.78178,     0.78278,     0.78378,     0.78478,     0.78579,     0.78679,     0.78779,     0.78879,     0.78979,     0.79079,     0.79179,\n",
              "           0.79279,     0.79379,     0.79479,      0.7958,      0.7968,      0.7978,      0.7988,      0.7998,      0.8008,      0.8018,      0.8028,      0.8038,      0.8048,     0.80581,     0.80681,     0.80781,     0.80881,     0.80981,     0.81081,     0.81181,     0.81281,     0.81381,     0.81481,     0.81582,\n",
              "           0.81682,     0.81782,     0.81882,     0.81982,     0.82082,     0.82182,     0.82282,     0.82382,     0.82482,     0.82583,     0.82683,     0.82783,     0.82883,     0.82983,     0.83083,     0.83183,     0.83283,     0.83383,     0.83483,     0.83584,     0.83684,     0.83784,     0.83884,     0.83984,\n",
              "           0.84084,     0.84184,     0.84284,     0.84384,     0.84484,     0.84585,     0.84685,     0.84785,     0.84885,     0.84985,     0.85085,     0.85185,     0.85285,     0.85385,     0.85485,     0.85586,     0.85686,     0.85786,     0.85886,     0.85986,     0.86086,     0.86186,     0.86286,     0.86386,\n",
              "           0.86486,     0.86587,     0.86687,     0.86787,     0.86887,     0.86987,     0.87087,     0.87187,     0.87287,     0.87387,     0.87487,     0.87588,     0.87688,     0.87788,     0.87888,     0.87988,     0.88088,     0.88188,     0.88288,     0.88388,     0.88488,     0.88589,     0.88689,     0.88789,\n",
              "           0.88889,     0.88989,     0.89089,     0.89189,     0.89289,     0.89389,     0.89489,      0.8959,      0.8969,      0.8979,      0.8989,      0.8999,      0.9009,      0.9019,      0.9029,      0.9039,      0.9049,     0.90591,     0.90691,     0.90791,     0.90891,     0.90991,     0.91091,     0.91191,\n",
              "           0.91291,     0.91391,     0.91491,     0.91592,     0.91692,     0.91792,     0.91892,     0.91992,     0.92092,     0.92192,     0.92292,     0.92392,     0.92492,     0.92593,     0.92693,     0.92793,     0.92893,     0.92993,     0.93093,     0.93193,     0.93293,     0.93393,     0.93493,     0.93594,\n",
              "           0.93694,     0.93794,     0.93894,     0.93994,     0.94094,     0.94194,     0.94294,     0.94394,     0.94494,     0.94595,     0.94695,     0.94795,     0.94895,     0.94995,     0.95095,     0.95195,     0.95295,     0.95395,     0.95495,     0.95596,     0.95696,     0.95796,     0.95896,     0.95996,\n",
              "           0.96096,     0.96196,     0.96296,     0.96396,     0.96496,     0.96597,     0.96697,     0.96797,     0.96897,     0.96997,     0.97097,     0.97197,     0.97297,     0.97397,     0.97497,     0.97598,     0.97698,     0.97798,     0.97898,     0.97998,     0.98098,     0.98198,     0.98298,     0.98398,\n",
              "           0.98498,     0.98599,     0.98699,     0.98799,     0.98899,     0.98999,     0.99099,     0.99199,     0.99299,     0.99399,     0.99499,       0.996,       0.997,       0.998,       0.999,           1]), array([[    0.29032,     0.29032,     0.40624, ...,           1,           1,           1],\n",
              "       [   0.015896,    0.015896,    0.022175, ...,           1,           1,           1]]), 'Confidence', 'Precision'], [array([          0,    0.001001,    0.002002,    0.003003,    0.004004,    0.005005,    0.006006,    0.007007,    0.008008,    0.009009,     0.01001,    0.011011,    0.012012,    0.013013,    0.014014,    0.015015,    0.016016,    0.017017,    0.018018,    0.019019,     0.02002,    0.021021,    0.022022,    0.023023,\n",
              "          0.024024,    0.025025,    0.026026,    0.027027,    0.028028,    0.029029,     0.03003,    0.031031,    0.032032,    0.033033,    0.034034,    0.035035,    0.036036,    0.037037,    0.038038,    0.039039,     0.04004,    0.041041,    0.042042,    0.043043,    0.044044,    0.045045,    0.046046,    0.047047,\n",
              "          0.048048,    0.049049,     0.05005,    0.051051,    0.052052,    0.053053,    0.054054,    0.055055,    0.056056,    0.057057,    0.058058,    0.059059,     0.06006,    0.061061,    0.062062,    0.063063,    0.064064,    0.065065,    0.066066,    0.067067,    0.068068,    0.069069,     0.07007,    0.071071,\n",
              "          0.072072,    0.073073,    0.074074,    0.075075,    0.076076,    0.077077,    0.078078,    0.079079,     0.08008,    0.081081,    0.082082,    0.083083,    0.084084,    0.085085,    0.086086,    0.087087,    0.088088,    0.089089,     0.09009,    0.091091,    0.092092,    0.093093,    0.094094,    0.095095,\n",
              "          0.096096,    0.097097,    0.098098,    0.099099,      0.1001,      0.1011,      0.1021,      0.1031,      0.1041,     0.10511,     0.10611,     0.10711,     0.10811,     0.10911,     0.11011,     0.11111,     0.11211,     0.11311,     0.11411,     0.11512,     0.11612,     0.11712,     0.11812,     0.11912,\n",
              "           0.12012,     0.12112,     0.12212,     0.12312,     0.12412,     0.12513,     0.12613,     0.12713,     0.12813,     0.12913,     0.13013,     0.13113,     0.13213,     0.13313,     0.13413,     0.13514,     0.13614,     0.13714,     0.13814,     0.13914,     0.14014,     0.14114,     0.14214,     0.14314,\n",
              "           0.14414,     0.14515,     0.14615,     0.14715,     0.14815,     0.14915,     0.15015,     0.15115,     0.15215,     0.15315,     0.15415,     0.15516,     0.15616,     0.15716,     0.15816,     0.15916,     0.16016,     0.16116,     0.16216,     0.16316,     0.16416,     0.16517,     0.16617,     0.16717,\n",
              "           0.16817,     0.16917,     0.17017,     0.17117,     0.17217,     0.17317,     0.17417,     0.17518,     0.17618,     0.17718,     0.17818,     0.17918,     0.18018,     0.18118,     0.18218,     0.18318,     0.18418,     0.18519,     0.18619,     0.18719,     0.18819,     0.18919,     0.19019,     0.19119,\n",
              "           0.19219,     0.19319,     0.19419,      0.1952,      0.1962,      0.1972,      0.1982,      0.1992,      0.2002,      0.2012,      0.2022,      0.2032,      0.2042,     0.20521,     0.20621,     0.20721,     0.20821,     0.20921,     0.21021,     0.21121,     0.21221,     0.21321,     0.21421,     0.21522,\n",
              "           0.21622,     0.21722,     0.21822,     0.21922,     0.22022,     0.22122,     0.22222,     0.22322,     0.22422,     0.22523,     0.22623,     0.22723,     0.22823,     0.22923,     0.23023,     0.23123,     0.23223,     0.23323,     0.23423,     0.23524,     0.23624,     0.23724,     0.23824,     0.23924,\n",
              "           0.24024,     0.24124,     0.24224,     0.24324,     0.24424,     0.24525,     0.24625,     0.24725,     0.24825,     0.24925,     0.25025,     0.25125,     0.25225,     0.25325,     0.25425,     0.25526,     0.25626,     0.25726,     0.25826,     0.25926,     0.26026,     0.26126,     0.26226,     0.26326,\n",
              "           0.26426,     0.26527,     0.26627,     0.26727,     0.26827,     0.26927,     0.27027,     0.27127,     0.27227,     0.27327,     0.27427,     0.27528,     0.27628,     0.27728,     0.27828,     0.27928,     0.28028,     0.28128,     0.28228,     0.28328,     0.28428,     0.28529,     0.28629,     0.28729,\n",
              "           0.28829,     0.28929,     0.29029,     0.29129,     0.29229,     0.29329,     0.29429,      0.2953,      0.2963,      0.2973,      0.2983,      0.2993,      0.3003,      0.3013,      0.3023,      0.3033,      0.3043,     0.30531,     0.30631,     0.30731,     0.30831,     0.30931,     0.31031,     0.31131,\n",
              "           0.31231,     0.31331,     0.31431,     0.31532,     0.31632,     0.31732,     0.31832,     0.31932,     0.32032,     0.32132,     0.32232,     0.32332,     0.32432,     0.32533,     0.32633,     0.32733,     0.32833,     0.32933,     0.33033,     0.33133,     0.33233,     0.33333,     0.33433,     0.33534,\n",
              "           0.33634,     0.33734,     0.33834,     0.33934,     0.34034,     0.34134,     0.34234,     0.34334,     0.34434,     0.34535,     0.34635,     0.34735,     0.34835,     0.34935,     0.35035,     0.35135,     0.35235,     0.35335,     0.35435,     0.35536,     0.35636,     0.35736,     0.35836,     0.35936,\n",
              "           0.36036,     0.36136,     0.36236,     0.36336,     0.36436,     0.36537,     0.36637,     0.36737,     0.36837,     0.36937,     0.37037,     0.37137,     0.37237,     0.37337,     0.37437,     0.37538,     0.37638,     0.37738,     0.37838,     0.37938,     0.38038,     0.38138,     0.38238,     0.38338,\n",
              "           0.38438,     0.38539,     0.38639,     0.38739,     0.38839,     0.38939,     0.39039,     0.39139,     0.39239,     0.39339,     0.39439,      0.3954,      0.3964,      0.3974,      0.3984,      0.3994,      0.4004,      0.4014,      0.4024,      0.4034,      0.4044,     0.40541,     0.40641,     0.40741,\n",
              "           0.40841,     0.40941,     0.41041,     0.41141,     0.41241,     0.41341,     0.41441,     0.41542,     0.41642,     0.41742,     0.41842,     0.41942,     0.42042,     0.42142,     0.42242,     0.42342,     0.42442,     0.42543,     0.42643,     0.42743,     0.42843,     0.42943,     0.43043,     0.43143,\n",
              "           0.43243,     0.43343,     0.43443,     0.43544,     0.43644,     0.43744,     0.43844,     0.43944,     0.44044,     0.44144,     0.44244,     0.44344,     0.44444,     0.44545,     0.44645,     0.44745,     0.44845,     0.44945,     0.45045,     0.45145,     0.45245,     0.45345,     0.45445,     0.45546,\n",
              "           0.45646,     0.45746,     0.45846,     0.45946,     0.46046,     0.46146,     0.46246,     0.46346,     0.46446,     0.46547,     0.46647,     0.46747,     0.46847,     0.46947,     0.47047,     0.47147,     0.47247,     0.47347,     0.47447,     0.47548,     0.47648,     0.47748,     0.47848,     0.47948,\n",
              "           0.48048,     0.48148,     0.48248,     0.48348,     0.48448,     0.48549,     0.48649,     0.48749,     0.48849,     0.48949,     0.49049,     0.49149,     0.49249,     0.49349,     0.49449,      0.4955,      0.4965,      0.4975,      0.4985,      0.4995,      0.5005,      0.5015,      0.5025,      0.5035,\n",
              "            0.5045,     0.50551,     0.50651,     0.50751,     0.50851,     0.50951,     0.51051,     0.51151,     0.51251,     0.51351,     0.51451,     0.51552,     0.51652,     0.51752,     0.51852,     0.51952,     0.52052,     0.52152,     0.52252,     0.52352,     0.52452,     0.52553,     0.52653,     0.52753,\n",
              "           0.52853,     0.52953,     0.53053,     0.53153,     0.53253,     0.53353,     0.53453,     0.53554,     0.53654,     0.53754,     0.53854,     0.53954,     0.54054,     0.54154,     0.54254,     0.54354,     0.54454,     0.54555,     0.54655,     0.54755,     0.54855,     0.54955,     0.55055,     0.55155,\n",
              "           0.55255,     0.55355,     0.55455,     0.55556,     0.55656,     0.55756,     0.55856,     0.55956,     0.56056,     0.56156,     0.56256,     0.56356,     0.56456,     0.56557,     0.56657,     0.56757,     0.56857,     0.56957,     0.57057,     0.57157,     0.57257,     0.57357,     0.57457,     0.57558,\n",
              "           0.57658,     0.57758,     0.57858,     0.57958,     0.58058,     0.58158,     0.58258,     0.58358,     0.58458,     0.58559,     0.58659,     0.58759,     0.58859,     0.58959,     0.59059,     0.59159,     0.59259,     0.59359,     0.59459,      0.5956,      0.5966,      0.5976,      0.5986,      0.5996,\n",
              "            0.6006,      0.6016,      0.6026,      0.6036,      0.6046,     0.60561,     0.60661,     0.60761,     0.60861,     0.60961,     0.61061,     0.61161,     0.61261,     0.61361,     0.61461,     0.61562,     0.61662,     0.61762,     0.61862,     0.61962,     0.62062,     0.62162,     0.62262,     0.62362,\n",
              "           0.62462,     0.62563,     0.62663,     0.62763,     0.62863,     0.62963,     0.63063,     0.63163,     0.63263,     0.63363,     0.63463,     0.63564,     0.63664,     0.63764,     0.63864,     0.63964,     0.64064,     0.64164,     0.64264,     0.64364,     0.64464,     0.64565,     0.64665,     0.64765,\n",
              "           0.64865,     0.64965,     0.65065,     0.65165,     0.65265,     0.65365,     0.65465,     0.65566,     0.65666,     0.65766,     0.65866,     0.65966,     0.66066,     0.66166,     0.66266,     0.66366,     0.66466,     0.66567,     0.66667,     0.66767,     0.66867,     0.66967,     0.67067,     0.67167,\n",
              "           0.67267,     0.67367,     0.67467,     0.67568,     0.67668,     0.67768,     0.67868,     0.67968,     0.68068,     0.68168,     0.68268,     0.68368,     0.68468,     0.68569,     0.68669,     0.68769,     0.68869,     0.68969,     0.69069,     0.69169,     0.69269,     0.69369,     0.69469,      0.6957,\n",
              "            0.6967,      0.6977,      0.6987,      0.6997,      0.7007,      0.7017,      0.7027,      0.7037,      0.7047,     0.70571,     0.70671,     0.70771,     0.70871,     0.70971,     0.71071,     0.71171,     0.71271,     0.71371,     0.71471,     0.71572,     0.71672,     0.71772,     0.71872,     0.71972,\n",
              "           0.72072,     0.72172,     0.72272,     0.72372,     0.72472,     0.72573,     0.72673,     0.72773,     0.72873,     0.72973,     0.73073,     0.73173,     0.73273,     0.73373,     0.73473,     0.73574,     0.73674,     0.73774,     0.73874,     0.73974,     0.74074,     0.74174,     0.74274,     0.74374,\n",
              "           0.74474,     0.74575,     0.74675,     0.74775,     0.74875,     0.74975,     0.75075,     0.75175,     0.75275,     0.75375,     0.75475,     0.75576,     0.75676,     0.75776,     0.75876,     0.75976,     0.76076,     0.76176,     0.76276,     0.76376,     0.76476,     0.76577,     0.76677,     0.76777,\n",
              "           0.76877,     0.76977,     0.77077,     0.77177,     0.77277,     0.77377,     0.77477,     0.77578,     0.77678,     0.77778,     0.77878,     0.77978,     0.78078,     0.78178,     0.78278,     0.78378,     0.78478,     0.78579,     0.78679,     0.78779,     0.78879,     0.78979,     0.79079,     0.79179,\n",
              "           0.79279,     0.79379,     0.79479,      0.7958,      0.7968,      0.7978,      0.7988,      0.7998,      0.8008,      0.8018,      0.8028,      0.8038,      0.8048,     0.80581,     0.80681,     0.80781,     0.80881,     0.80981,     0.81081,     0.81181,     0.81281,     0.81381,     0.81481,     0.81582,\n",
              "           0.81682,     0.81782,     0.81882,     0.81982,     0.82082,     0.82182,     0.82282,     0.82382,     0.82482,     0.82583,     0.82683,     0.82783,     0.82883,     0.82983,     0.83083,     0.83183,     0.83283,     0.83383,     0.83483,     0.83584,     0.83684,     0.83784,     0.83884,     0.83984,\n",
              "           0.84084,     0.84184,     0.84284,     0.84384,     0.84484,     0.84585,     0.84685,     0.84785,     0.84885,     0.84985,     0.85085,     0.85185,     0.85285,     0.85385,     0.85485,     0.85586,     0.85686,     0.85786,     0.85886,     0.85986,     0.86086,     0.86186,     0.86286,     0.86386,\n",
              "           0.86486,     0.86587,     0.86687,     0.86787,     0.86887,     0.86987,     0.87087,     0.87187,     0.87287,     0.87387,     0.87487,     0.87588,     0.87688,     0.87788,     0.87888,     0.87988,     0.88088,     0.88188,     0.88288,     0.88388,     0.88488,     0.88589,     0.88689,     0.88789,\n",
              "           0.88889,     0.88989,     0.89089,     0.89189,     0.89289,     0.89389,     0.89489,      0.8959,      0.8969,      0.8979,      0.8989,      0.8999,      0.9009,      0.9019,      0.9029,      0.9039,      0.9049,     0.90591,     0.90691,     0.90791,     0.90891,     0.90991,     0.91091,     0.91191,\n",
              "           0.91291,     0.91391,     0.91491,     0.91592,     0.91692,     0.91792,     0.91892,     0.91992,     0.92092,     0.92192,     0.92292,     0.92392,     0.92492,     0.92593,     0.92693,     0.92793,     0.92893,     0.92993,     0.93093,     0.93193,     0.93293,     0.93393,     0.93493,     0.93594,\n",
              "           0.93694,     0.93794,     0.93894,     0.93994,     0.94094,     0.94194,     0.94294,     0.94394,     0.94494,     0.94595,     0.94695,     0.94795,     0.94895,     0.94995,     0.95095,     0.95195,     0.95295,     0.95395,     0.95495,     0.95596,     0.95696,     0.95796,     0.95896,     0.95996,\n",
              "           0.96096,     0.96196,     0.96296,     0.96396,     0.96496,     0.96597,     0.96697,     0.96797,     0.96897,     0.96997,     0.97097,     0.97197,     0.97297,     0.97397,     0.97497,     0.97598,     0.97698,     0.97798,     0.97898,     0.97998,     0.98098,     0.98198,     0.98298,     0.98398,\n",
              "           0.98498,     0.98599,     0.98699,     0.98799,     0.98899,     0.98999,     0.99099,     0.99199,     0.99299,     0.99399,     0.99499,       0.996,       0.997,       0.998,       0.999,           1]), array([[      0.936,       0.936,       0.936, ...,           0,           0,           0],\n",
              "       [          1,           1,           1, ...,           0,           0,           0]]), 'Confidence', 'Recall']]\n",
              "fitness: np.float64(0.5295068444031584)\n",
              "keys: ['metrics/precision(B)', 'metrics/recall(B)', 'metrics/mAP50(B)', 'metrics/mAP50-95(B)']\n",
              "maps: array([     0.6139,     0.40514])\n",
              "names: {0: 'forklift', 1: 'person'}\n",
              "plot: True\n",
              "results_dict: {'metrics/precision(B)': np.float64(0.6733609581150355), 'metrics/recall(B)': np.float64(0.7290909090909091), 'metrics/mAP50(B)': np.float64(0.7093909132665923), 'metrics/mAP50-95(B)': np.float64(0.5095197256405546), 'fitness': np.float64(0.5295068444031584)}\n",
              "save_dir: PosixPath('runs/detect/forklift_detector')\n",
              "speed: {'preprocess': 0.3716114354816572, 'inference': 2.0661736774224164, 'loss': 0.0004076209660847634, 'postprocess': 5.179418935485515}\n",
              "task: 'detect'"
            ]
          },
          "metadata": {},
          "execution_count": 22
        }
      ]
    },
    {
      "cell_type": "code",
      "source": [
        "!find /content/runs -name \"best.pt\"\n"
      ],
      "metadata": {
        "colab": {
          "base_uri": "https://localhost:8080/"
        },
        "id": "t9VHNeRLnGDa",
        "outputId": "7a69fee3-81e7-4322-c920-d20a242a27d6"
      },
      "execution_count": null,
      "outputs": [
        {
          "output_type": "stream",
          "name": "stdout",
          "text": [
            "/content/runs/detect/forklift_detector/weights/best.pt\n"
          ]
        }
      ]
    },
    {
      "cell_type": "code",
      "source": [
        "from ultralytics import YOLO\n",
        "\n",
        "# Load your trained model\n",
        "model = YOLO('/content/runs/detect/forklift_detector/weights/best.pt')\n",
        "\n",
        "# Run inference on the new video\n",
        "results = model.predict(source='/content/forkliftvideo.mp4', save=True, conf=0.25)\n"
      ],
      "metadata": {
        "colab": {
          "base_uri": "https://localhost:8080/"
        },
        "id": "fAkJNeIXoNY7",
        "outputId": "4fa2b967-eeb3-450b-96ae-d5cbefbfe2eb"
      },
      "execution_count": null,
      "outputs": [
        {
          "output_type": "stream",
          "name": "stdout",
          "text": [
            "\n",
            "\n",
            "WARNING ⚠️ inference results will accumulate in RAM unless `stream=True` is passed, causing potential out-of-memory\n",
            "errors for large sources or long-running streams and videos. See https://docs.ultralytics.com/modes/predict/ for help.\n",
            "\n",
            "Example:\n",
            "    results = model(source=..., stream=True)  # generator of Results objects\n",
            "    for r in results:\n",
            "        boxes = r.boxes  # Boxes object for bbox outputs\n",
            "        masks = r.masks  # Masks object for segment masks outputs\n",
            "        probs = r.probs  # Class probabilities for classification outputs\n",
            "\n",
            "video 1/1 (frame 1/1522) /content/forkliftvideo.mp4: 384x640 (no detections), 17.8ms\n",
            "video 1/1 (frame 2/1522) /content/forkliftvideo.mp4: 384x640 (no detections), 12.5ms\n",
            "video 1/1 (frame 3/1522) /content/forkliftvideo.mp4: 384x640 (no detections), 12.0ms\n",
            "video 1/1 (frame 4/1522) /content/forkliftvideo.mp4: 384x640 (no detections), 13.8ms\n",
            "video 1/1 (frame 5/1522) /content/forkliftvideo.mp4: 384x640 (no detections), 12.1ms\n",
            "video 1/1 (frame 6/1522) /content/forkliftvideo.mp4: 384x640 (no detections), 12.1ms\n",
            "video 1/1 (frame 7/1522) /content/forkliftvideo.mp4: 384x640 (no detections), 11.4ms\n",
            "video 1/1 (frame 8/1522) /content/forkliftvideo.mp4: 384x640 (no detections), 12.4ms\n",
            "video 1/1 (frame 9/1522) /content/forkliftvideo.mp4: 384x640 (no detections), 13.1ms\n",
            "video 1/1 (frame 10/1522) /content/forkliftvideo.mp4: 384x640 (no detections), 9.4ms\n",
            "video 1/1 (frame 11/1522) /content/forkliftvideo.mp4: 384x640 (no detections), 11.3ms\n",
            "video 1/1 (frame 12/1522) /content/forkliftvideo.mp4: 384x640 (no detections), 12.5ms\n",
            "video 1/1 (frame 13/1522) /content/forkliftvideo.mp4: 384x640 (no detections), 8.9ms\n",
            "video 1/1 (frame 14/1522) /content/forkliftvideo.mp4: 384x640 (no detections), 9.8ms\n",
            "video 1/1 (frame 15/1522) /content/forkliftvideo.mp4: 384x640 (no detections), 13.6ms\n",
            "video 1/1 (frame 16/1522) /content/forkliftvideo.mp4: 384x640 (no detections), 11.6ms\n",
            "video 1/1 (frame 17/1522) /content/forkliftvideo.mp4: 384x640 (no detections), 8.3ms\n",
            "video 1/1 (frame 18/1522) /content/forkliftvideo.mp4: 384x640 (no detections), 9.3ms\n",
            "video 1/1 (frame 19/1522) /content/forkliftvideo.mp4: 384x640 (no detections), 13.1ms\n",
            "video 1/1 (frame 20/1522) /content/forkliftvideo.mp4: 384x640 (no detections), 10.0ms\n",
            "video 1/1 (frame 21/1522) /content/forkliftvideo.mp4: 384x640 (no detections), 16.5ms\n",
            "video 1/1 (frame 22/1522) /content/forkliftvideo.mp4: 384x640 (no detections), 40.6ms\n",
            "video 1/1 (frame 23/1522) /content/forkliftvideo.mp4: 384x640 (no detections), 50.0ms\n",
            "video 1/1 (frame 24/1522) /content/forkliftvideo.mp4: 384x640 (no detections), 32.0ms\n",
            "video 1/1 (frame 25/1522) /content/forkliftvideo.mp4: 384x640 1 person, 33.4ms\n",
            "video 1/1 (frame 26/1522) /content/forkliftvideo.mp4: 384x640 (no detections), 14.2ms\n",
            "video 1/1 (frame 27/1522) /content/forkliftvideo.mp4: 384x640 (no detections), 11.4ms\n",
            "video 1/1 (frame 28/1522) /content/forkliftvideo.mp4: 384x640 (no detections), 11.3ms\n",
            "video 1/1 (frame 29/1522) /content/forkliftvideo.mp4: 384x640 (no detections), 11.4ms\n",
            "video 1/1 (frame 30/1522) /content/forkliftvideo.mp4: 384x640 (no detections), 11.6ms\n",
            "video 1/1 (frame 31/1522) /content/forkliftvideo.mp4: 384x640 (no detections), 12.3ms\n",
            "video 1/1 (frame 32/1522) /content/forkliftvideo.mp4: 384x640 (no detections), 12.0ms\n",
            "video 1/1 (frame 33/1522) /content/forkliftvideo.mp4: 384x640 (no detections), 12.4ms\n",
            "video 1/1 (frame 34/1522) /content/forkliftvideo.mp4: 384x640 (no detections), 6.6ms\n",
            "video 1/1 (frame 35/1522) /content/forkliftvideo.mp4: 384x640 (no detections), 6.7ms\n",
            "video 1/1 (frame 36/1522) /content/forkliftvideo.mp4: 384x640 (no detections), 6.8ms\n",
            "video 1/1 (frame 37/1522) /content/forkliftvideo.mp4: 384x640 (no detections), 6.8ms\n",
            "video 1/1 (frame 38/1522) /content/forkliftvideo.mp4: 384x640 (no detections), 6.9ms\n",
            "video 1/1 (frame 39/1522) /content/forkliftvideo.mp4: 384x640 (no detections), 9.2ms\n",
            "video 1/1 (frame 40/1522) /content/forkliftvideo.mp4: 384x640 (no detections), 7.3ms\n",
            "video 1/1 (frame 41/1522) /content/forkliftvideo.mp4: 384x640 (no detections), 7.2ms\n",
            "video 1/1 (frame 42/1522) /content/forkliftvideo.mp4: 384x640 (no detections), 8.4ms\n",
            "video 1/1 (frame 43/1522) /content/forkliftvideo.mp4: 384x640 (no detections), 6.7ms\n",
            "video 1/1 (frame 44/1522) /content/forkliftvideo.mp4: 384x640 (no detections), 6.7ms\n",
            "video 1/1 (frame 45/1522) /content/forkliftvideo.mp4: 384x640 1 forklift, 8.9ms\n",
            "video 1/1 (frame 46/1522) /content/forkliftvideo.mp4: 384x640 1 forklift, 6.8ms\n",
            "video 1/1 (frame 47/1522) /content/forkliftvideo.mp4: 384x640 1 forklift, 6.7ms\n",
            "video 1/1 (frame 48/1522) /content/forkliftvideo.mp4: 384x640 1 forklift, 6.6ms\n",
            "video 1/1 (frame 49/1522) /content/forkliftvideo.mp4: 384x640 1 forklift, 6.6ms\n",
            "video 1/1 (frame 50/1522) /content/forkliftvideo.mp4: 384x640 1 forklift, 10.3ms\n",
            "video 1/1 (frame 51/1522) /content/forkliftvideo.mp4: 384x640 1 forklift, 9.5ms\n",
            "video 1/1 (frame 52/1522) /content/forkliftvideo.mp4: 384x640 1 forklift, 36.8ms\n",
            "video 1/1 (frame 53/1522) /content/forkliftvideo.mp4: 384x640 1 forklift, 18.6ms\n",
            "video 1/1 (frame 54/1522) /content/forkliftvideo.mp4: 384x640 1 forklift, 19.7ms\n",
            "video 1/1 (frame 55/1522) /content/forkliftvideo.mp4: 384x640 1 forklift, 9.4ms\n",
            "video 1/1 (frame 56/1522) /content/forkliftvideo.mp4: 384x640 1 forklift, 7.0ms\n",
            "video 1/1 (frame 57/1522) /content/forkliftvideo.mp4: 384x640 1 forklift, 8.3ms\n",
            "video 1/1 (frame 58/1522) /content/forkliftvideo.mp4: 384x640 1 forklift, 6.6ms\n",
            "video 1/1 (frame 59/1522) /content/forkliftvideo.mp4: 384x640 1 forklift, 6.7ms\n",
            "video 1/1 (frame 60/1522) /content/forkliftvideo.mp4: 384x640 1 forklift, 6.6ms\n",
            "video 1/1 (frame 61/1522) /content/forkliftvideo.mp4: 384x640 1 forklift, 6.7ms\n",
            "video 1/1 (frame 62/1522) /content/forkliftvideo.mp4: 384x640 1 forklift, 6.5ms\n",
            "video 1/1 (frame 63/1522) /content/forkliftvideo.mp4: 384x640 1 forklift, 7.3ms\n",
            "video 1/1 (frame 64/1522) /content/forkliftvideo.mp4: 384x640 1 forklift, 9.3ms\n",
            "video 1/1 (frame 65/1522) /content/forkliftvideo.mp4: 384x640 1 forklift, 6.5ms\n",
            "video 1/1 (frame 66/1522) /content/forkliftvideo.mp4: 384x640 1 forklift, 7.1ms\n",
            "video 1/1 (frame 67/1522) /content/forkliftvideo.mp4: 384x640 1 forklift, 7.0ms\n",
            "video 1/1 (frame 68/1522) /content/forkliftvideo.mp4: 384x640 1 forklift, 6.5ms\n",
            "video 1/1 (frame 69/1522) /content/forkliftvideo.mp4: 384x640 1 forklift, 6.4ms\n",
            "video 1/1 (frame 70/1522) /content/forkliftvideo.mp4: 384x640 1 forklift, 6.5ms\n",
            "video 1/1 (frame 71/1522) /content/forkliftvideo.mp4: 384x640 1 forklift, 7.3ms\n",
            "video 1/1 (frame 72/1522) /content/forkliftvideo.mp4: 384x640 1 forklift, 6.6ms\n",
            "video 1/1 (frame 73/1522) /content/forkliftvideo.mp4: 384x640 1 forklift, 6.6ms\n",
            "video 1/1 (frame 74/1522) /content/forkliftvideo.mp4: 384x640 1 forklift, 6.6ms\n",
            "video 1/1 (frame 75/1522) /content/forkliftvideo.mp4: 384x640 1 forklift, 7.2ms\n",
            "video 1/1 (frame 76/1522) /content/forkliftvideo.mp4: 384x640 1 forklift, 6.5ms\n",
            "video 1/1 (frame 77/1522) /content/forkliftvideo.mp4: 384x640 1 forklift, 6.5ms\n",
            "video 1/1 (frame 78/1522) /content/forkliftvideo.mp4: 384x640 1 forklift, 7.6ms\n",
            "video 1/1 (frame 79/1522) /content/forkliftvideo.mp4: 384x640 1 forklift, 7.1ms\n",
            "video 1/1 (frame 80/1522) /content/forkliftvideo.mp4: 384x640 1 forklift, 6.5ms\n",
            "video 1/1 (frame 81/1522) /content/forkliftvideo.mp4: 384x640 1 forklift, 6.6ms\n",
            "video 1/1 (frame 82/1522) /content/forkliftvideo.mp4: 384x640 1 forklift, 6.6ms\n",
            "video 1/1 (frame 83/1522) /content/forkliftvideo.mp4: 384x640 1 forklift, 6.5ms\n",
            "video 1/1 (frame 84/1522) /content/forkliftvideo.mp4: 384x640 1 forklift, 6.6ms\n",
            "video 1/1 (frame 85/1522) /content/forkliftvideo.mp4: 384x640 1 forklift, 9.2ms\n",
            "video 1/1 (frame 86/1522) /content/forkliftvideo.mp4: 384x640 1 forklift, 9.9ms\n",
            "video 1/1 (frame 87/1522) /content/forkliftvideo.mp4: 384x640 1 forklift, 8.9ms\n",
            "video 1/1 (frame 88/1522) /content/forkliftvideo.mp4: 384x640 1 forklift, 8.8ms\n",
            "video 1/1 (frame 89/1522) /content/forkliftvideo.mp4: 384x640 1 forklift, 9.3ms\n",
            "video 1/1 (frame 90/1522) /content/forkliftvideo.mp4: 384x640 1 forklift, 28.8ms\n",
            "video 1/1 (frame 91/1522) /content/forkliftvideo.mp4: 384x640 (no detections), 29.0ms\n",
            "video 1/1 (frame 92/1522) /content/forkliftvideo.mp4: 384x640 (no detections), 10.4ms\n",
            "video 1/1 (frame 93/1522) /content/forkliftvideo.mp4: 384x640 1 forklift, 8.0ms\n",
            "video 1/1 (frame 94/1522) /content/forkliftvideo.mp4: 384x640 4 forklifts, 3 persons, 7.0ms\n",
            "video 1/1 (frame 95/1522) /content/forkliftvideo.mp4: 384x640 3 forklifts, 3 persons, 7.3ms\n",
            "video 1/1 (frame 96/1522) /content/forkliftvideo.mp4: 384x640 3 forklifts, 4 persons, 6.8ms\n",
            "video 1/1 (frame 97/1522) /content/forkliftvideo.mp4: 384x640 3 forklifts, 4 persons, 7.9ms\n",
            "video 1/1 (frame 98/1522) /content/forkliftvideo.mp4: 384x640 3 forklifts, 4 persons, 7.7ms\n",
            "video 1/1 (frame 99/1522) /content/forkliftvideo.mp4: 384x640 3 forklifts, 4 persons, 7.8ms\n",
            "video 1/1 (frame 100/1522) /content/forkliftvideo.mp4: 384x640 3 forklifts, 4 persons, 6.8ms\n",
            "video 1/1 (frame 101/1522) /content/forkliftvideo.mp4: 384x640 3 forklifts, 4 persons, 7.2ms\n",
            "video 1/1 (frame 102/1522) /content/forkliftvideo.mp4: 384x640 3 forklifts, 5 persons, 6.6ms\n",
            "video 1/1 (frame 103/1522) /content/forkliftvideo.mp4: 384x640 3 forklifts, 5 persons, 6.9ms\n",
            "video 1/1 (frame 104/1522) /content/forkliftvideo.mp4: 384x640 3 forklifts, 4 persons, 6.6ms\n",
            "video 1/1 (frame 105/1522) /content/forkliftvideo.mp4: 384x640 3 forklifts, 4 persons, 6.6ms\n",
            "video 1/1 (frame 106/1522) /content/forkliftvideo.mp4: 384x640 3 forklifts, 3 persons, 6.8ms\n",
            "video 1/1 (frame 107/1522) /content/forkliftvideo.mp4: 384x640 3 forklifts, 3 persons, 7.9ms\n",
            "video 1/1 (frame 108/1522) /content/forkliftvideo.mp4: 384x640 3 forklifts, 3 persons, 6.7ms\n",
            "video 1/1 (frame 109/1522) /content/forkliftvideo.mp4: 384x640 3 forklifts, 3 persons, 6.7ms\n",
            "video 1/1 (frame 110/1522) /content/forkliftvideo.mp4: 384x640 3 forklifts, 3 persons, 8.3ms\n",
            "video 1/1 (frame 111/1522) /content/forkliftvideo.mp4: 384x640 3 forklifts, 3 persons, 6.8ms\n",
            "video 1/1 (frame 112/1522) /content/forkliftvideo.mp4: 384x640 4 forklifts, 2 persons, 7.0ms\n",
            "video 1/1 (frame 113/1522) /content/forkliftvideo.mp4: 384x640 4 forklifts, 2 persons, 6.7ms\n",
            "video 1/1 (frame 114/1522) /content/forkliftvideo.mp4: 384x640 4 forklifts, 2 persons, 7.9ms\n",
            "video 1/1 (frame 115/1522) /content/forkliftvideo.mp4: 384x640 4 forklifts, 1 person, 6.8ms\n",
            "video 1/1 (frame 116/1522) /content/forkliftvideo.mp4: 384x640 4 forklifts, 4 persons, 6.5ms\n",
            "video 1/1 (frame 117/1522) /content/forkliftvideo.mp4: 384x640 3 forklifts, 2 persons, 6.8ms\n",
            "video 1/1 (frame 118/1522) /content/forkliftvideo.mp4: 384x640 3 forklifts, 3 persons, 6.6ms\n",
            "video 1/1 (frame 119/1522) /content/forkliftvideo.mp4: 384x640 3 forklifts, 4 persons, 7.0ms\n",
            "video 1/1 (frame 120/1522) /content/forkliftvideo.mp4: 384x640 4 forklifts, 3 persons, 6.8ms\n",
            "video 1/1 (frame 121/1522) /content/forkliftvideo.mp4: 384x640 3 forklifts, 3 persons, 6.4ms\n",
            "video 1/1 (frame 122/1522) /content/forkliftvideo.mp4: 384x640 3 forklifts, 3 persons, 7.5ms\n",
            "video 1/1 (frame 123/1522) /content/forkliftvideo.mp4: 384x640 5 forklifts, 3 persons, 6.7ms\n",
            "video 1/1 (frame 124/1522) /content/forkliftvideo.mp4: 384x640 4 forklifts, 4 persons, 7.1ms\n",
            "video 1/1 (frame 125/1522) /content/forkliftvideo.mp4: 384x640 5 forklifts, 3 persons, 6.8ms\n",
            "video 1/1 (frame 126/1522) /content/forkliftvideo.mp4: 384x640 5 forklifts, 3 persons, 7.3ms\n",
            "video 1/1 (frame 127/1522) /content/forkliftvideo.mp4: 384x640 5 forklifts, 2 persons, 6.6ms\n",
            "video 1/1 (frame 128/1522) /content/forkliftvideo.mp4: 384x640 6 forklifts, 3 persons, 6.5ms\n",
            "video 1/1 (frame 129/1522) /content/forkliftvideo.mp4: 384x640 5 forklifts, 3 persons, 6.7ms\n",
            "video 1/1 (frame 130/1522) /content/forkliftvideo.mp4: 384x640 3 forklifts, 1 person, 6.9ms\n",
            "video 1/1 (frame 131/1522) /content/forkliftvideo.mp4: 384x640 3 forklifts, 1 person, 6.7ms\n",
            "video 1/1 (frame 132/1522) /content/forkliftvideo.mp4: 384x640 3 forklifts, 1 person, 6.7ms\n",
            "video 1/1 (frame 133/1522) /content/forkliftvideo.mp4: 384x640 3 forklifts, 1 person, 6.8ms\n",
            "video 1/1 (frame 134/1522) /content/forkliftvideo.mp4: 384x640 3 forklifts, 1 person, 9.6ms\n",
            "video 1/1 (frame 135/1522) /content/forkliftvideo.mp4: 384x640 3 forklifts, 1 person, 7.0ms\n",
            "video 1/1 (frame 136/1522) /content/forkliftvideo.mp4: 384x640 3 forklifts, 1 person, 6.7ms\n",
            "video 1/1 (frame 137/1522) /content/forkliftvideo.mp4: 384x640 3 forklifts, 2 persons, 6.6ms\n",
            "video 1/1 (frame 138/1522) /content/forkliftvideo.mp4: 384x640 3 forklifts, 8.7ms\n",
            "video 1/1 (frame 139/1522) /content/forkliftvideo.mp4: 384x640 3 forklifts, 1 person, 7.5ms\n",
            "video 1/1 (frame 140/1522) /content/forkliftvideo.mp4: 384x640 2 forklifts, 1 person, 6.7ms\n",
            "video 1/1 (frame 141/1522) /content/forkliftvideo.mp4: 384x640 2 forklifts, 2 persons, 6.6ms\n",
            "video 1/1 (frame 142/1522) /content/forkliftvideo.mp4: 384x640 2 forklifts, 2 persons, 7.0ms\n",
            "video 1/1 (frame 143/1522) /content/forkliftvideo.mp4: 384x640 2 forklifts, 2 persons, 6.5ms\n",
            "video 1/1 (frame 144/1522) /content/forkliftvideo.mp4: 384x640 2 forklifts, 2 persons, 6.6ms\n",
            "video 1/1 (frame 145/1522) /content/forkliftvideo.mp4: 384x640 2 forklifts, 2 persons, 7.0ms\n",
            "video 1/1 (frame 146/1522) /content/forkliftvideo.mp4: 384x640 2 forklifts, 2 persons, 7.3ms\n",
            "video 1/1 (frame 147/1522) /content/forkliftvideo.mp4: 384x640 2 forklifts, 2 persons, 6.5ms\n",
            "video 1/1 (frame 148/1522) /content/forkliftvideo.mp4: 384x640 2 forklifts, 2 persons, 8.3ms\n",
            "video 1/1 (frame 149/1522) /content/forkliftvideo.mp4: 384x640 2 forklifts, 2 persons, 6.8ms\n",
            "video 1/1 (frame 150/1522) /content/forkliftvideo.mp4: 384x640 2 forklifts, 2 persons, 6.7ms\n",
            "video 1/1 (frame 151/1522) /content/forkliftvideo.mp4: 384x640 2 forklifts, 2 persons, 6.9ms\n",
            "video 1/1 (frame 152/1522) /content/forkliftvideo.mp4: 384x640 2 forklifts, 2 persons, 6.8ms\n",
            "video 1/1 (frame 153/1522) /content/forkliftvideo.mp4: 384x640 (no detections), 8.8ms\n",
            "video 1/1 (frame 154/1522) /content/forkliftvideo.mp4: 384x640 (no detections), 7.0ms\n",
            "video 1/1 (frame 155/1522) /content/forkliftvideo.mp4: 384x640 (no detections), 6.7ms\n",
            "video 1/1 (frame 156/1522) /content/forkliftvideo.mp4: 384x640 (no detections), 6.5ms\n",
            "video 1/1 (frame 157/1522) /content/forkliftvideo.mp4: 384x640 (no detections), 8.2ms\n",
            "video 1/1 (frame 158/1522) /content/forkliftvideo.mp4: 384x640 (no detections), 6.7ms\n",
            "video 1/1 (frame 159/1522) /content/forkliftvideo.mp4: 384x640 (no detections), 7.9ms\n",
            "video 1/1 (frame 160/1522) /content/forkliftvideo.mp4: 384x640 (no detections), 7.0ms\n",
            "video 1/1 (frame 161/1522) /content/forkliftvideo.mp4: 384x640 (no detections), 6.9ms\n",
            "video 1/1 (frame 162/1522) /content/forkliftvideo.mp4: 384x640 (no detections), 6.7ms\n",
            "video 1/1 (frame 163/1522) /content/forkliftvideo.mp4: 384x640 (no detections), 8.0ms\n",
            "video 1/1 (frame 164/1522) /content/forkliftvideo.mp4: 384x640 (no detections), 6.4ms\n",
            "video 1/1 (frame 165/1522) /content/forkliftvideo.mp4: 384x640 (no detections), 6.9ms\n",
            "video 1/1 (frame 166/1522) /content/forkliftvideo.mp4: 384x640 (no detections), 6.6ms\n",
            "video 1/1 (frame 167/1522) /content/forkliftvideo.mp4: 384x640 (no detections), 6.6ms\n",
            "video 1/1 (frame 168/1522) /content/forkliftvideo.mp4: 384x640 (no detections), 6.7ms\n",
            "video 1/1 (frame 169/1522) /content/forkliftvideo.mp4: 384x640 (no detections), 7.4ms\n",
            "video 1/1 (frame 170/1522) /content/forkliftvideo.mp4: 384x640 (no detections), 6.7ms\n",
            "video 1/1 (frame 171/1522) /content/forkliftvideo.mp4: 384x640 (no detections), 7.4ms\n",
            "video 1/1 (frame 172/1522) /content/forkliftvideo.mp4: 384x640 (no detections), 6.7ms\n",
            "video 1/1 (frame 173/1522) /content/forkliftvideo.mp4: 384x640 (no detections), 8.1ms\n",
            "video 1/1 (frame 174/1522) /content/forkliftvideo.mp4: 384x640 (no detections), 7.1ms\n",
            "video 1/1 (frame 175/1522) /content/forkliftvideo.mp4: 384x640 (no detections), 7.2ms\n",
            "video 1/1 (frame 176/1522) /content/forkliftvideo.mp4: 384x640 (no detections), 9.5ms\n",
            "video 1/1 (frame 177/1522) /content/forkliftvideo.mp4: 384x640 (no detections), 7.4ms\n",
            "video 1/1 (frame 178/1522) /content/forkliftvideo.mp4: 384x640 (no detections), 6.7ms\n",
            "video 1/1 (frame 179/1522) /content/forkliftvideo.mp4: 384x640 (no detections), 7.0ms\n",
            "video 1/1 (frame 180/1522) /content/forkliftvideo.mp4: 384x640 (no detections), 7.0ms\n",
            "video 1/1 (frame 181/1522) /content/forkliftvideo.mp4: 384x640 (no detections), 7.0ms\n",
            "video 1/1 (frame 182/1522) /content/forkliftvideo.mp4: 384x640 (no detections), 6.7ms\n",
            "video 1/1 (frame 183/1522) /content/forkliftvideo.mp4: 384x640 (no detections), 6.9ms\n",
            "video 1/1 (frame 184/1522) /content/forkliftvideo.mp4: 384x640 (no detections), 7.4ms\n",
            "video 1/1 (frame 185/1522) /content/forkliftvideo.mp4: 384x640 (no detections), 6.9ms\n",
            "video 1/1 (frame 186/1522) /content/forkliftvideo.mp4: 384x640 (no detections), 9.2ms\n",
            "video 1/1 (frame 187/1522) /content/forkliftvideo.mp4: 384x640 (no detections), 7.5ms\n",
            "video 1/1 (frame 188/1522) /content/forkliftvideo.mp4: 384x640 (no detections), 7.0ms\n",
            "video 1/1 (frame 189/1522) /content/forkliftvideo.mp4: 384x640 (no detections), 6.4ms\n",
            "video 1/1 (frame 190/1522) /content/forkliftvideo.mp4: 384x640 (no detections), 8.5ms\n",
            "video 1/1 (frame 191/1522) /content/forkliftvideo.mp4: 384x640 2 forklifts, 1 person, 7.1ms\n",
            "video 1/1 (frame 192/1522) /content/forkliftvideo.mp4: 384x640 2 forklifts, 6.5ms\n",
            "video 1/1 (frame 193/1522) /content/forkliftvideo.mp4: 384x640 2 forklifts, 1 person, 7.8ms\n",
            "video 1/1 (frame 194/1522) /content/forkliftvideo.mp4: 384x640 2 forklifts, 1 person, 6.5ms\n",
            "video 1/1 (frame 195/1522) /content/forkliftvideo.mp4: 384x640 2 forklifts, 1 person, 6.8ms\n",
            "video 1/1 (frame 196/1522) /content/forkliftvideo.mp4: 384x640 2 forklifts, 6.7ms\n",
            "video 1/1 (frame 197/1522) /content/forkliftvideo.mp4: 384x640 2 forklifts, 6.7ms\n",
            "video 1/1 (frame 198/1522) /content/forkliftvideo.mp4: 384x640 2 forklifts, 8.9ms\n",
            "video 1/1 (frame 199/1522) /content/forkliftvideo.mp4: 384x640 2 forklifts, 6.7ms\n",
            "video 1/1 (frame 200/1522) /content/forkliftvideo.mp4: 384x640 2 forklifts, 6.8ms\n",
            "video 1/1 (frame 201/1522) /content/forkliftvideo.mp4: 384x640 2 forklifts, 7.4ms\n",
            "video 1/1 (frame 202/1522) /content/forkliftvideo.mp4: 384x640 2 forklifts, 7.2ms\n",
            "video 1/1 (frame 203/1522) /content/forkliftvideo.mp4: 384x640 3 forklifts, 7.2ms\n",
            "video 1/1 (frame 204/1522) /content/forkliftvideo.mp4: 384x640 2 forklifts, 8.4ms\n",
            "video 1/1 (frame 205/1522) /content/forkliftvideo.mp4: 384x640 2 forklifts, 7.2ms\n",
            "video 1/1 (frame 206/1522) /content/forkliftvideo.mp4: 384x640 2 forklifts, 6.8ms\n",
            "video 1/1 (frame 207/1522) /content/forkliftvideo.mp4: 384x640 2 forklifts, 7.4ms\n",
            "video 1/1 (frame 208/1522) /content/forkliftvideo.mp4: 384x640 2 forklifts, 6.7ms\n",
            "video 1/1 (frame 209/1522) /content/forkliftvideo.mp4: 384x640 2 forklifts, 7.1ms\n",
            "video 1/1 (frame 210/1522) /content/forkliftvideo.mp4: 384x640 2 forklifts, 7.8ms\n",
            "video 1/1 (frame 211/1522) /content/forkliftvideo.mp4: 384x640 2 forklifts, 7.3ms\n",
            "video 1/1 (frame 212/1522) /content/forkliftvideo.mp4: 384x640 2 forklifts, 1 person, 6.5ms\n",
            "video 1/1 (frame 213/1522) /content/forkliftvideo.mp4: 384x640 2 forklifts, 7.2ms\n",
            "video 1/1 (frame 214/1522) /content/forkliftvideo.mp4: 384x640 2 forklifts, 6.7ms\n",
            "video 1/1 (frame 215/1522) /content/forkliftvideo.mp4: 384x640 2 forklifts, 8.2ms\n",
            "video 1/1 (frame 216/1522) /content/forkliftvideo.mp4: 384x640 2 forklifts, 6.7ms\n",
            "video 1/1 (frame 217/1522) /content/forkliftvideo.mp4: 384x640 2 forklifts, 7.9ms\n",
            "video 1/1 (frame 218/1522) /content/forkliftvideo.mp4: 384x640 2 forklifts, 6.8ms\n",
            "video 1/1 (frame 219/1522) /content/forkliftvideo.mp4: 384x640 2 forklifts, 8.0ms\n",
            "video 1/1 (frame 220/1522) /content/forkliftvideo.mp4: 384x640 2 forklifts, 7.0ms\n",
            "video 1/1 (frame 221/1522) /content/forkliftvideo.mp4: 384x640 2 forklifts, 7.5ms\n",
            "video 1/1 (frame 222/1522) /content/forkliftvideo.mp4: 384x640 2 forklifts, 7.9ms\n",
            "video 1/1 (frame 223/1522) /content/forkliftvideo.mp4: 384x640 2 forklifts, 6.7ms\n",
            "video 1/1 (frame 224/1522) /content/forkliftvideo.mp4: 384x640 2 forklifts, 7.1ms\n",
            "video 1/1 (frame 225/1522) /content/forkliftvideo.mp4: 384x640 2 forklifts, 6.5ms\n",
            "video 1/1 (frame 226/1522) /content/forkliftvideo.mp4: 384x640 2 forklifts, 6.8ms\n",
            "video 1/1 (frame 227/1522) /content/forkliftvideo.mp4: 384x640 2 forklifts, 6.6ms\n",
            "video 1/1 (frame 228/1522) /content/forkliftvideo.mp4: 384x640 2 forklifts, 7.1ms\n",
            "video 1/1 (frame 229/1522) /content/forkliftvideo.mp4: 384x640 2 forklifts, 6.9ms\n",
            "video 1/1 (frame 230/1522) /content/forkliftvideo.mp4: 384x640 2 forklifts, 9.8ms\n",
            "video 1/1 (frame 231/1522) /content/forkliftvideo.mp4: 384x640 2 forklifts, 6.7ms\n",
            "video 1/1 (frame 232/1522) /content/forkliftvideo.mp4: 384x640 2 forklifts, 7.1ms\n",
            "video 1/1 (frame 233/1522) /content/forkliftvideo.mp4: 384x640 2 forklifts, 7.0ms\n",
            "video 1/1 (frame 234/1522) /content/forkliftvideo.mp4: 384x640 2 forklifts, 8.6ms\n",
            "video 1/1 (frame 235/1522) /content/forkliftvideo.mp4: 384x640 2 forklifts, 6.7ms\n",
            "video 1/1 (frame 236/1522) /content/forkliftvideo.mp4: 384x640 2 forklifts, 6.7ms\n",
            "video 1/1 (frame 237/1522) /content/forkliftvideo.mp4: 384x640 2 forklifts, 8.6ms\n",
            "video 1/1 (frame 238/1522) /content/forkliftvideo.mp4: 384x640 2 forklifts, 9.1ms\n",
            "video 1/1 (frame 239/1522) /content/forkliftvideo.mp4: 384x640 2 forklifts, 6.6ms\n",
            "video 1/1 (frame 240/1522) /content/forkliftvideo.mp4: 384x640 2 forklifts, 6.6ms\n",
            "video 1/1 (frame 241/1522) /content/forkliftvideo.mp4: 384x640 2 forklifts, 6.6ms\n",
            "video 1/1 (frame 242/1522) /content/forkliftvideo.mp4: 384x640 2 forklifts, 7.3ms\n",
            "video 1/1 (frame 243/1522) /content/forkliftvideo.mp4: 384x640 2 forklifts, 6.6ms\n",
            "video 1/1 (frame 244/1522) /content/forkliftvideo.mp4: 384x640 2 forklifts, 9.3ms\n",
            "video 1/1 (frame 245/1522) /content/forkliftvideo.mp4: 384x640 2 forklifts, 7.8ms\n",
            "video 1/1 (frame 246/1522) /content/forkliftvideo.mp4: 384x640 2 forklifts, 6.9ms\n",
            "video 1/1 (frame 247/1522) /content/forkliftvideo.mp4: 384x640 2 forklifts, 6.5ms\n",
            "video 1/1 (frame 248/1522) /content/forkliftvideo.mp4: 384x640 2 forklifts, 6.6ms\n",
            "video 1/1 (frame 249/1522) /content/forkliftvideo.mp4: 384x640 2 forklifts, 6.5ms\n",
            "video 1/1 (frame 250/1522) /content/forkliftvideo.mp4: 384x640 2 forklifts, 6.7ms\n",
            "video 1/1 (frame 251/1522) /content/forkliftvideo.mp4: 384x640 2 forklifts, 7.0ms\n",
            "video 1/1 (frame 252/1522) /content/forkliftvideo.mp4: 384x640 2 forklifts, 10.3ms\n",
            "video 1/1 (frame 253/1522) /content/forkliftvideo.mp4: 384x640 3 forklifts, 2 persons, 6.6ms\n",
            "video 1/1 (frame 254/1522) /content/forkliftvideo.mp4: 384x640 3 forklifts, 2 persons, 7.0ms\n",
            "video 1/1 (frame 255/1522) /content/forkliftvideo.mp4: 384x640 2 forklifts, 3 persons, 6.6ms\n",
            "video 1/1 (frame 256/1522) /content/forkliftvideo.mp4: 384x640 3 forklifts, 3 persons, 8.2ms\n",
            "video 1/1 (frame 257/1522) /content/forkliftvideo.mp4: 384x640 3 forklifts, 3 persons, 7.9ms\n",
            "video 1/1 (frame 258/1522) /content/forkliftvideo.mp4: 384x640 2 forklifts, 3 persons, 7.0ms\n",
            "video 1/1 (frame 259/1522) /content/forkliftvideo.mp4: 384x640 2 forklifts, 2 persons, 6.8ms\n",
            "video 1/1 (frame 260/1522) /content/forkliftvideo.mp4: 384x640 2 forklifts, 3 persons, 7.0ms\n",
            "video 1/1 (frame 261/1522) /content/forkliftvideo.mp4: 384x640 2 forklifts, 2 persons, 6.7ms\n",
            "video 1/1 (frame 262/1522) /content/forkliftvideo.mp4: 384x640 2 forklifts, 3 persons, 6.7ms\n",
            "video 1/1 (frame 263/1522) /content/forkliftvideo.mp4: 384x640 2 forklifts, 3 persons, 6.7ms\n",
            "video 1/1 (frame 264/1522) /content/forkliftvideo.mp4: 384x640 2 forklifts, 3 persons, 7.1ms\n",
            "video 1/1 (frame 265/1522) /content/forkliftvideo.mp4: 384x640 2 forklifts, 3 persons, 6.6ms\n",
            "video 1/1 (frame 266/1522) /content/forkliftvideo.mp4: 384x640 2 forklifts, 3 persons, 6.7ms\n",
            "video 1/1 (frame 267/1522) /content/forkliftvideo.mp4: 384x640 2 forklifts, 2 persons, 7.2ms\n",
            "video 1/1 (frame 268/1522) /content/forkliftvideo.mp4: 384x640 2 forklifts, 1 person, 6.5ms\n",
            "video 1/1 (frame 269/1522) /content/forkliftvideo.mp4: 384x640 2 forklifts, 2 persons, 8.5ms\n",
            "video 1/1 (frame 270/1522) /content/forkliftvideo.mp4: 384x640 2 forklifts, 2 persons, 6.8ms\n",
            "video 1/1 (frame 271/1522) /content/forkliftvideo.mp4: 384x640 2 forklifts, 2 persons, 6.5ms\n",
            "video 1/1 (frame 272/1522) /content/forkliftvideo.mp4: 384x640 2 forklifts, 2 persons, 6.9ms\n",
            "video 1/1 (frame 273/1522) /content/forkliftvideo.mp4: 384x640 2 forklifts, 2 persons, 6.7ms\n",
            "video 1/1 (frame 274/1522) /content/forkliftvideo.mp4: 384x640 2 forklifts, 1 person, 8.6ms\n",
            "video 1/1 (frame 275/1522) /content/forkliftvideo.mp4: 384x640 2 forklifts, 1 person, 6.3ms\n",
            "video 1/1 (frame 276/1522) /content/forkliftvideo.mp4: 384x640 2 forklifts, 2 persons, 8.4ms\n",
            "video 1/1 (frame 277/1522) /content/forkliftvideo.mp4: 384x640 2 forklifts, 3 persons, 6.5ms\n",
            "video 1/1 (frame 278/1522) /content/forkliftvideo.mp4: 384x640 2 forklifts, 2 persons, 7.1ms\n",
            "video 1/1 (frame 279/1522) /content/forkliftvideo.mp4: 384x640 2 forklifts, 2 persons, 7.7ms\n",
            "video 1/1 (frame 280/1522) /content/forkliftvideo.mp4: 384x640 5 forklifts, 1 person, 6.7ms\n",
            "video 1/1 (frame 281/1522) /content/forkliftvideo.mp4: 384x640 5 forklifts, 8.3ms\n",
            "video 1/1 (frame 282/1522) /content/forkliftvideo.mp4: 384x640 5 forklifts, 1 person, 7.3ms\n",
            "video 1/1 (frame 283/1522) /content/forkliftvideo.mp4: 384x640 5 forklifts, 1 person, 6.9ms\n",
            "video 1/1 (frame 284/1522) /content/forkliftvideo.mp4: 384x640 5 forklifts, 1 person, 6.6ms\n",
            "video 1/1 (frame 285/1522) /content/forkliftvideo.mp4: 384x640 5 forklifts, 1 person, 11.2ms\n",
            "video 1/1 (frame 286/1522) /content/forkliftvideo.mp4: 384x640 5 forklifts, 6.5ms\n",
            "video 1/1 (frame 287/1522) /content/forkliftvideo.mp4: 384x640 5 forklifts, 1 person, 6.5ms\n",
            "video 1/1 (frame 288/1522) /content/forkliftvideo.mp4: 384x640 5 forklifts, 1 person, 6.4ms\n",
            "video 1/1 (frame 289/1522) /content/forkliftvideo.mp4: 384x640 6 forklifts, 1 person, 6.5ms\n",
            "video 1/1 (frame 290/1522) /content/forkliftvideo.mp4: 384x640 6 forklifts, 8.3ms\n",
            "video 1/1 (frame 291/1522) /content/forkliftvideo.mp4: 384x640 5 forklifts, 2 persons, 6.6ms\n",
            "video 1/1 (frame 292/1522) /content/forkliftvideo.mp4: 384x640 5 forklifts, 2 persons, 6.8ms\n",
            "video 1/1 (frame 293/1522) /content/forkliftvideo.mp4: 384x640 5 forklifts, 1 person, 7.4ms\n",
            "video 1/1 (frame 294/1522) /content/forkliftvideo.mp4: 384x640 5 forklifts, 1 person, 7.4ms\n",
            "video 1/1 (frame 295/1522) /content/forkliftvideo.mp4: 384x640 5 forklifts, 1 person, 6.7ms\n",
            "video 1/1 (frame 296/1522) /content/forkliftvideo.mp4: 384x640 5 forklifts, 1 person, 8.3ms\n",
            "video 1/1 (frame 297/1522) /content/forkliftvideo.mp4: 384x640 5 forklifts, 1 person, 7.3ms\n",
            "video 1/1 (frame 298/1522) /content/forkliftvideo.mp4: 384x640 5 forklifts, 7.0ms\n",
            "video 1/1 (frame 299/1522) /content/forkliftvideo.mp4: 384x640 5 forklifts, 1 person, 7.2ms\n",
            "video 1/1 (frame 300/1522) /content/forkliftvideo.mp4: 384x640 5 forklifts, 6.5ms\n",
            "video 1/1 (frame 301/1522) /content/forkliftvideo.mp4: 384x640 5 forklifts, 7.6ms\n",
            "video 1/1 (frame 302/1522) /content/forkliftvideo.mp4: 384x640 5 forklifts, 7.4ms\n",
            "video 1/1 (frame 303/1522) /content/forkliftvideo.mp4: 384x640 5 forklifts, 6.5ms\n",
            "video 1/1 (frame 304/1522) /content/forkliftvideo.mp4: 384x640 5 forklifts, 7.0ms\n",
            "video 1/1 (frame 305/1522) /content/forkliftvideo.mp4: 384x640 5 forklifts, 7.3ms\n",
            "video 1/1 (frame 306/1522) /content/forkliftvideo.mp4: 384x640 5 forklifts, 1 person, 6.5ms\n",
            "video 1/1 (frame 307/1522) /content/forkliftvideo.mp4: 384x640 5 forklifts, 1 person, 7.5ms\n",
            "video 1/1 (frame 308/1522) /content/forkliftvideo.mp4: 384x640 5 forklifts, 1 person, 6.5ms\n",
            "video 1/1 (frame 309/1522) /content/forkliftvideo.mp4: 384x640 5 forklifts, 1 person, 6.6ms\n",
            "video 1/1 (frame 310/1522) /content/forkliftvideo.mp4: 384x640 5 forklifts, 1 person, 6.7ms\n",
            "video 1/1 (frame 311/1522) /content/forkliftvideo.mp4: 384x640 5 forklifts, 6.6ms\n",
            "video 1/1 (frame 312/1522) /content/forkliftvideo.mp4: 384x640 5 forklifts, 1 person, 6.6ms\n",
            "video 1/1 (frame 313/1522) /content/forkliftvideo.mp4: 384x640 5 forklifts, 2 persons, 6.3ms\n",
            "video 1/1 (frame 314/1522) /content/forkliftvideo.mp4: 384x640 5 forklifts, 2 persons, 6.5ms\n",
            "video 1/1 (frame 315/1522) /content/forkliftvideo.mp4: 384x640 5 forklifts, 3 persons, 6.2ms\n",
            "video 1/1 (frame 316/1522) /content/forkliftvideo.mp4: 384x640 5 forklifts, 2 persons, 9.6ms\n",
            "video 1/1 (frame 317/1522) /content/forkliftvideo.mp4: 384x640 5 forklifts, 2 persons, 6.7ms\n",
            "video 1/1 (frame 318/1522) /content/forkliftvideo.mp4: 384x640 5 forklifts, 2 persons, 8.3ms\n",
            "video 1/1 (frame 319/1522) /content/forkliftvideo.mp4: 384x640 5 forklifts, 3 persons, 6.9ms\n",
            "video 1/1 (frame 320/1522) /content/forkliftvideo.mp4: 384x640 6 forklifts, 2 persons, 6.8ms\n",
            "video 1/1 (frame 321/1522) /content/forkliftvideo.mp4: 384x640 5 forklifts, 3 persons, 6.5ms\n",
            "video 1/1 (frame 322/1522) /content/forkliftvideo.mp4: 384x640 5 forklifts, 3 persons, 7.5ms\n",
            "video 1/1 (frame 323/1522) /content/forkliftvideo.mp4: 384x640 5 forklifts, 3 persons, 6.7ms\n",
            "video 1/1 (frame 324/1522) /content/forkliftvideo.mp4: 384x640 5 forklifts, 2 persons, 7.0ms\n",
            "video 1/1 (frame 325/1522) /content/forkliftvideo.mp4: 384x640 5 forklifts, 3 persons, 6.4ms\n",
            "video 1/1 (frame 326/1522) /content/forkliftvideo.mp4: 384x640 5 forklifts, 2 persons, 7.1ms\n",
            "video 1/1 (frame 327/1522) /content/forkliftvideo.mp4: 384x640 5 forklifts, 2 persons, 6.6ms\n",
            "video 1/1 (frame 328/1522) /content/forkliftvideo.mp4: 384x640 5 forklifts, 6.7ms\n",
            "video 1/1 (frame 329/1522) /content/forkliftvideo.mp4: 384x640 5 forklifts, 2 persons, 8.4ms\n",
            "video 1/1 (frame 330/1522) /content/forkliftvideo.mp4: 384x640 4 forklifts, 1 person, 7.0ms\n",
            "video 1/1 (frame 331/1522) /content/forkliftvideo.mp4: 384x640 4 forklifts, 1 person, 6.5ms\n",
            "video 1/1 (frame 332/1522) /content/forkliftvideo.mp4: 384x640 4 forklifts, 1 person, 11.2ms\n",
            "video 1/1 (frame 333/1522) /content/forkliftvideo.mp4: 384x640 2 forklifts, 1 person, 7.2ms\n",
            "video 1/1 (frame 334/1522) /content/forkliftvideo.mp4: 384x640 2 forklifts, 1 person, 8.5ms\n",
            "video 1/1 (frame 335/1522) /content/forkliftvideo.mp4: 384x640 2 forklifts, 1 person, 6.3ms\n",
            "video 1/1 (frame 336/1522) /content/forkliftvideo.mp4: 384x640 2 forklifts, 1 person, 6.9ms\n",
            "video 1/1 (frame 337/1522) /content/forkliftvideo.mp4: 384x640 2 forklifts, 1 person, 6.6ms\n",
            "video 1/1 (frame 338/1522) /content/forkliftvideo.mp4: 384x640 2 forklifts, 1 person, 6.6ms\n",
            "video 1/1 (frame 339/1522) /content/forkliftvideo.mp4: 384x640 2 forklifts, 1 person, 6.5ms\n",
            "video 1/1 (frame 340/1522) /content/forkliftvideo.mp4: 384x640 2 forklifts, 1 person, 6.5ms\n",
            "video 1/1 (frame 341/1522) /content/forkliftvideo.mp4: 384x640 2 forklifts, 1 person, 7.6ms\n",
            "video 1/1 (frame 342/1522) /content/forkliftvideo.mp4: 384x640 2 forklifts, 1 person, 8.1ms\n",
            "video 1/1 (frame 343/1522) /content/forkliftvideo.mp4: 384x640 2 forklifts, 2 persons, 6.7ms\n",
            "video 1/1 (frame 344/1522) /content/forkliftvideo.mp4: 384x640 2 forklifts, 2 persons, 7.0ms\n",
            "video 1/1 (frame 345/1522) /content/forkliftvideo.mp4: 384x640 2 forklifts, 1 person, 6.6ms\n",
            "video 1/1 (frame 346/1522) /content/forkliftvideo.mp4: 384x640 2 forklifts, 3 persons, 6.5ms\n",
            "video 1/1 (frame 347/1522) /content/forkliftvideo.mp4: 384x640 2 forklifts, 2 persons, 6.5ms\n",
            "video 1/1 (frame 348/1522) /content/forkliftvideo.mp4: 384x640 2 forklifts, 2 persons, 6.4ms\n",
            "video 1/1 (frame 349/1522) /content/forkliftvideo.mp4: 384x640 2 forklifts, 2 persons, 6.5ms\n",
            "video 1/1 (frame 350/1522) /content/forkliftvideo.mp4: 384x640 2 forklifts, 2 persons, 7.3ms\n",
            "video 1/1 (frame 351/1522) /content/forkliftvideo.mp4: 384x640 2 forklifts, 1 person, 6.5ms\n",
            "video 1/1 (frame 352/1522) /content/forkliftvideo.mp4: 384x640 2 forklifts, 1 person, 6.6ms\n",
            "video 1/1 (frame 353/1522) /content/forkliftvideo.mp4: 384x640 2 forklifts, 1 person, 7.8ms\n",
            "video 1/1 (frame 354/1522) /content/forkliftvideo.mp4: 384x640 2 forklifts, 4 persons, 6.5ms\n",
            "video 1/1 (frame 355/1522) /content/forkliftvideo.mp4: 384x640 2 forklifts, 3 persons, 7.7ms\n",
            "video 1/1 (frame 356/1522) /content/forkliftvideo.mp4: 384x640 2 forklifts, 1 person, 6.6ms\n",
            "video 1/1 (frame 357/1522) /content/forkliftvideo.mp4: 384x640 2 forklifts, 1 person, 7.0ms\n",
            "video 1/1 (frame 358/1522) /content/forkliftvideo.mp4: 384x640 2 forklifts, 1 person, 6.7ms\n",
            "video 1/1 (frame 359/1522) /content/forkliftvideo.mp4: 384x640 2 forklifts, 1 person, 6.7ms\n",
            "video 1/1 (frame 360/1522) /content/forkliftvideo.mp4: 384x640 3 forklifts, 1 person, 7.2ms\n",
            "video 1/1 (frame 361/1522) /content/forkliftvideo.mp4: 384x640 3 forklifts, 2 persons, 6.6ms\n",
            "video 1/1 (frame 362/1522) /content/forkliftvideo.mp4: 384x640 3 forklifts, 2 persons, 7.7ms\n",
            "video 1/1 (frame 363/1522) /content/forkliftvideo.mp4: 384x640 3 forklifts, 2 persons, 7.3ms\n",
            "video 1/1 (frame 364/1522) /content/forkliftvideo.mp4: 384x640 3 forklifts, 2 persons, 6.9ms\n",
            "video 1/1 (frame 365/1522) /content/forkliftvideo.mp4: 384x640 3 forklifts, 2 persons, 8.3ms\n",
            "video 1/1 (frame 366/1522) /content/forkliftvideo.mp4: 384x640 3 forklifts, 2 persons, 7.5ms\n",
            "video 1/1 (frame 367/1522) /content/forkliftvideo.mp4: 384x640 3 forklifts, 1 person, 6.5ms\n",
            "video 1/1 (frame 368/1522) /content/forkliftvideo.mp4: 384x640 3 forklifts, 2 persons, 6.5ms\n",
            "video 1/1 (frame 369/1522) /content/forkliftvideo.mp4: 384x640 3 forklifts, 2 persons, 6.4ms\n",
            "video 1/1 (frame 370/1522) /content/forkliftvideo.mp4: 384x640 3 forklifts, 3 persons, 6.8ms\n",
            "video 1/1 (frame 371/1522) /content/forkliftvideo.mp4: 384x640 4 forklifts, 2 persons, 6.4ms\n",
            "video 1/1 (frame 372/1522) /content/forkliftvideo.mp4: 384x640 4 forklifts, 3 persons, 6.2ms\n",
            "video 1/1 (frame 373/1522) /content/forkliftvideo.mp4: 384x640 4 forklifts, 3 persons, 6.2ms\n",
            "video 1/1 (frame 374/1522) /content/forkliftvideo.mp4: 384x640 4 forklifts, 3 persons, 6.4ms\n",
            "video 1/1 (frame 375/1522) /content/forkliftvideo.mp4: 384x640 4 forklifts, 3 persons, 7.6ms\n",
            "video 1/1 (frame 376/1522) /content/forkliftvideo.mp4: 384x640 5 forklifts, 2 persons, 6.3ms\n",
            "video 1/1 (frame 377/1522) /content/forkliftvideo.mp4: 384x640 5 forklifts, 2 persons, 6.9ms\n",
            "video 1/1 (frame 378/1522) /content/forkliftvideo.mp4: 384x640 5 forklifts, 3 persons, 6.4ms\n",
            "video 1/1 (frame 379/1522) /content/forkliftvideo.mp4: 384x640 5 forklifts, 3 persons, 6.5ms\n",
            "video 1/1 (frame 380/1522) /content/forkliftvideo.mp4: 384x640 5 forklifts, 2 persons, 12.9ms\n",
            "video 1/1 (frame 381/1522) /content/forkliftvideo.mp4: 384x640 5 forklifts, 2 persons, 6.3ms\n",
            "video 1/1 (frame 382/1522) /content/forkliftvideo.mp4: 384x640 5 forklifts, 2 persons, 6.3ms\n",
            "video 1/1 (frame 383/1522) /content/forkliftvideo.mp4: 384x640 5 forklifts, 2 persons, 7.4ms\n",
            "video 1/1 (frame 384/1522) /content/forkliftvideo.mp4: 384x640 4 forklifts, 3 persons, 6.3ms\n",
            "video 1/1 (frame 385/1522) /content/forkliftvideo.mp4: 384x640 5 forklifts, 3 persons, 6.4ms\n",
            "video 1/1 (frame 386/1522) /content/forkliftvideo.mp4: 384x640 5 forklifts, 6.2ms\n",
            "video 1/1 (frame 387/1522) /content/forkliftvideo.mp4: 384x640 5 forklifts, 6.6ms\n",
            "video 1/1 (frame 388/1522) /content/forkliftvideo.mp4: 384x640 5 forklifts, 7.6ms\n",
            "video 1/1 (frame 389/1522) /content/forkliftvideo.mp4: 384x640 6 forklifts, 8.1ms\n",
            "video 1/1 (frame 390/1522) /content/forkliftvideo.mp4: 384x640 5 forklifts, 6.4ms\n",
            "video 1/1 (frame 391/1522) /content/forkliftvideo.mp4: 384x640 5 forklifts, 6.5ms\n",
            "video 1/1 (frame 392/1522) /content/forkliftvideo.mp4: 384x640 5 forklifts, 7.6ms\n",
            "video 1/1 (frame 393/1522) /content/forkliftvideo.mp4: 384x640 5 forklifts, 6.4ms\n",
            "video 1/1 (frame 394/1522) /content/forkliftvideo.mp4: 384x640 5 forklifts, 6.2ms\n",
            "video 1/1 (frame 395/1522) /content/forkliftvideo.mp4: 384x640 5 forklifts, 6.7ms\n",
            "video 1/1 (frame 396/1522) /content/forkliftvideo.mp4: 384x640 5 forklifts, 6.3ms\n",
            "video 1/1 (frame 397/1522) /content/forkliftvideo.mp4: 384x640 5 forklifts, 7.0ms\n",
            "video 1/1 (frame 398/1522) /content/forkliftvideo.mp4: 384x640 5 forklifts, 6.2ms\n",
            "video 1/1 (frame 399/1522) /content/forkliftvideo.mp4: 384x640 5 forklifts, 7.6ms\n",
            "video 1/1 (frame 400/1522) /content/forkliftvideo.mp4: 384x640 6 forklifts, 6.6ms\n",
            "video 1/1 (frame 401/1522) /content/forkliftvideo.mp4: 384x640 5 forklifts, 7.8ms\n",
            "video 1/1 (frame 402/1522) /content/forkliftvideo.mp4: 384x640 5 forklifts, 6.6ms\n",
            "video 1/1 (frame 403/1522) /content/forkliftvideo.mp4: 384x640 5 forklifts, 7.2ms\n",
            "video 1/1 (frame 404/1522) /content/forkliftvideo.mp4: 384x640 5 forklifts, 6.5ms\n",
            "video 1/1 (frame 405/1522) /content/forkliftvideo.mp4: 384x640 5 forklifts, 7.2ms\n",
            "video 1/1 (frame 406/1522) /content/forkliftvideo.mp4: 384x640 5 forklifts, 6.9ms\n",
            "video 1/1 (frame 407/1522) /content/forkliftvideo.mp4: 384x640 5 forklifts, 6.6ms\n",
            "video 1/1 (frame 408/1522) /content/forkliftvideo.mp4: 384x640 5 forklifts, 6.5ms\n",
            "video 1/1 (frame 409/1522) /content/forkliftvideo.mp4: 384x640 5 forklifts, 6.7ms\n",
            "video 1/1 (frame 410/1522) /content/forkliftvideo.mp4: 384x640 5 forklifts, 6.8ms\n",
            "video 1/1 (frame 411/1522) /content/forkliftvideo.mp4: 384x640 5 forklifts, 6.5ms\n",
            "video 1/1 (frame 412/1522) /content/forkliftvideo.mp4: 384x640 5 forklifts, 8.2ms\n",
            "video 1/1 (frame 413/1522) /content/forkliftvideo.mp4: 384x640 5 forklifts, 10.0ms\n",
            "video 1/1 (frame 414/1522) /content/forkliftvideo.mp4: 384x640 5 forklifts, 6.9ms\n",
            "video 1/1 (frame 415/1522) /content/forkliftvideo.mp4: 384x640 4 forklifts, 6.9ms\n",
            "video 1/1 (frame 416/1522) /content/forkliftvideo.mp4: 384x640 4 forklifts, 6.7ms\n",
            "video 1/1 (frame 417/1522) /content/forkliftvideo.mp4: 384x640 5 forklifts, 6.9ms\n",
            "video 1/1 (frame 418/1522) /content/forkliftvideo.mp4: 384x640 5 forklifts, 7.0ms\n",
            "video 1/1 (frame 419/1522) /content/forkliftvideo.mp4: 384x640 6 forklifts, 6.9ms\n",
            "video 1/1 (frame 420/1522) /content/forkliftvideo.mp4: 384x640 5 forklifts, 6.6ms\n",
            "video 1/1 (frame 421/1522) /content/forkliftvideo.mp4: 384x640 6 forklifts, 10.5ms\n",
            "video 1/1 (frame 422/1522) /content/forkliftvideo.mp4: 384x640 7 forklifts, 11.3ms\n",
            "video 1/1 (frame 423/1522) /content/forkliftvideo.mp4: 384x640 6 forklifts, 6.8ms\n",
            "video 1/1 (frame 424/1522) /content/forkliftvideo.mp4: 384x640 7 forklifts, 7.4ms\n",
            "video 1/1 (frame 425/1522) /content/forkliftvideo.mp4: 384x640 6 forklifts, 11.4ms\n",
            "video 1/1 (frame 426/1522) /content/forkliftvideo.mp4: 384x640 6 forklifts, 7.9ms\n",
            "video 1/1 (frame 427/1522) /content/forkliftvideo.mp4: 384x640 6 forklifts, 9.1ms\n",
            "video 1/1 (frame 428/1522) /content/forkliftvideo.mp4: 384x640 6 forklifts, 6.8ms\n",
            "video 1/1 (frame 429/1522) /content/forkliftvideo.mp4: 384x640 6 forklifts, 6.4ms\n",
            "video 1/1 (frame 430/1522) /content/forkliftvideo.mp4: 384x640 6 forklifts, 9.1ms\n",
            "video 1/1 (frame 431/1522) /content/forkliftvideo.mp4: 384x640 6 forklifts, 9.7ms\n",
            "video 1/1 (frame 432/1522) /content/forkliftvideo.mp4: 384x640 5 forklifts, 9.6ms\n",
            "video 1/1 (frame 433/1522) /content/forkliftvideo.mp4: 384x640 5 forklifts, 10.7ms\n",
            "video 1/1 (frame 434/1522) /content/forkliftvideo.mp4: 384x640 5 forklifts, 9.7ms\n",
            "video 1/1 (frame 435/1522) /content/forkliftvideo.mp4: 384x640 5 forklifts, 7.1ms\n",
            "video 1/1 (frame 436/1522) /content/forkliftvideo.mp4: 384x640 5 forklifts, 6.7ms\n",
            "video 1/1 (frame 437/1522) /content/forkliftvideo.mp4: 384x640 6 forklifts, 6.5ms\n",
            "video 1/1 (frame 438/1522) /content/forkliftvideo.mp4: 384x640 6 forklifts, 6.7ms\n",
            "video 1/1 (frame 439/1522) /content/forkliftvideo.mp4: 384x640 6 forklifts, 6.6ms\n",
            "video 1/1 (frame 440/1522) /content/forkliftvideo.mp4: 384x640 6 forklifts, 7.7ms\n",
            "video 1/1 (frame 441/1522) /content/forkliftvideo.mp4: 384x640 6 forklifts, 6.9ms\n",
            "video 1/1 (frame 442/1522) /content/forkliftvideo.mp4: 384x640 5 forklifts, 6.8ms\n",
            "video 1/1 (frame 443/1522) /content/forkliftvideo.mp4: 384x640 5 forklifts, 7.3ms\n",
            "video 1/1 (frame 444/1522) /content/forkliftvideo.mp4: 384x640 (no detections), 6.5ms\n",
            "video 1/1 (frame 445/1522) /content/forkliftvideo.mp4: 384x640 (no detections), 7.8ms\n",
            "video 1/1 (frame 446/1522) /content/forkliftvideo.mp4: 384x640 (no detections), 6.5ms\n",
            "video 1/1 (frame 447/1522) /content/forkliftvideo.mp4: 384x640 1 forklift, 7.0ms\n",
            "video 1/1 (frame 448/1522) /content/forkliftvideo.mp4: 384x640 1 forklift, 7.2ms\n",
            "video 1/1 (frame 449/1522) /content/forkliftvideo.mp4: 384x640 1 forklift, 7.1ms\n",
            "video 1/1 (frame 450/1522) /content/forkliftvideo.mp4: 384x640 1 forklift, 6.7ms\n",
            "video 1/1 (frame 451/1522) /content/forkliftvideo.mp4: 384x640 (no detections), 9.2ms\n",
            "video 1/1 (frame 452/1522) /content/forkliftvideo.mp4: 384x640 (no detections), 7.3ms\n",
            "video 1/1 (frame 453/1522) /content/forkliftvideo.mp4: 384x640 (no detections), 6.9ms\n",
            "video 1/1 (frame 454/1522) /content/forkliftvideo.mp4: 384x640 (no detections), 6.3ms\n",
            "video 1/1 (frame 455/1522) /content/forkliftvideo.mp4: 384x640 (no detections), 6.9ms\n",
            "video 1/1 (frame 456/1522) /content/forkliftvideo.mp4: 384x640 (no detections), 6.4ms\n",
            "video 1/1 (frame 457/1522) /content/forkliftvideo.mp4: 384x640 (no detections), 6.6ms\n",
            "video 1/1 (frame 458/1522) /content/forkliftvideo.mp4: 384x640 1 forklift, 8.4ms\n",
            "video 1/1 (frame 459/1522) /content/forkliftvideo.mp4: 384x640 (no detections), 7.1ms\n",
            "video 1/1 (frame 460/1522) /content/forkliftvideo.mp4: 384x640 (no detections), 6.8ms\n",
            "video 1/1 (frame 461/1522) /content/forkliftvideo.mp4: 384x640 1 forklift, 6.7ms\n",
            "video 1/1 (frame 462/1522) /content/forkliftvideo.mp4: 384x640 1 forklift, 6.5ms\n",
            "video 1/1 (frame 463/1522) /content/forkliftvideo.mp4: 384x640 2 forklifts, 7.0ms\n",
            "video 1/1 (frame 464/1522) /content/forkliftvideo.mp4: 384x640 2 persons, 6.5ms\n",
            "video 1/1 (frame 465/1522) /content/forkliftvideo.mp4: 384x640 (no detections), 7.4ms\n",
            "video 1/1 (frame 466/1522) /content/forkliftvideo.mp4: 384x640 1 forklift, 1 person, 6.4ms\n",
            "video 1/1 (frame 467/1522) /content/forkliftvideo.mp4: 384x640 1 forklift, 1 person, 7.1ms\n",
            "video 1/1 (frame 468/1522) /content/forkliftvideo.mp4: 384x640 1 forklift, 1 person, 6.7ms\n",
            "video 1/1 (frame 469/1522) /content/forkliftvideo.mp4: 384x640 1 forklift, 1 person, 6.7ms\n",
            "video 1/1 (frame 470/1522) /content/forkliftvideo.mp4: 384x640 1 forklift, 1 person, 6.4ms\n",
            "video 1/1 (frame 471/1522) /content/forkliftvideo.mp4: 384x640 1 forklift, 1 person, 9.8ms\n",
            "video 1/1 (frame 472/1522) /content/forkliftvideo.mp4: 384x640 1 forklift, 1 person, 11.8ms\n",
            "video 1/1 (frame 473/1522) /content/forkliftvideo.mp4: 384x640 1 person, 6.6ms\n",
            "video 1/1 (frame 474/1522) /content/forkliftvideo.mp4: 384x640 1 forklift, 1 person, 6.6ms\n",
            "video 1/1 (frame 475/1522) /content/forkliftvideo.mp4: 384x640 1 forklift, 1 person, 6.5ms\n",
            "video 1/1 (frame 476/1522) /content/forkliftvideo.mp4: 384x640 1 forklift, 1 person, 6.2ms\n",
            "video 1/1 (frame 477/1522) /content/forkliftvideo.mp4: 384x640 1 forklift, 1 person, 7.4ms\n",
            "video 1/1 (frame 478/1522) /content/forkliftvideo.mp4: 384x640 1 forklift, 6.4ms\n",
            "video 1/1 (frame 479/1522) /content/forkliftvideo.mp4: 384x640 (no detections), 6.3ms\n",
            "video 1/1 (frame 480/1522) /content/forkliftvideo.mp4: 384x640 (no detections), 7.3ms\n",
            "video 1/1 (frame 481/1522) /content/forkliftvideo.mp4: 384x640 (no detections), 6.2ms\n",
            "video 1/1 (frame 482/1522) /content/forkliftvideo.mp4: 384x640 1 person, 6.5ms\n",
            "video 1/1 (frame 483/1522) /content/forkliftvideo.mp4: 384x640 (no detections), 7.0ms\n",
            "video 1/1 (frame 484/1522) /content/forkliftvideo.mp4: 384x640 1 forklift, 6.7ms\n",
            "video 1/1 (frame 485/1522) /content/forkliftvideo.mp4: 384x640 (no detections), 6.2ms\n",
            "video 1/1 (frame 486/1522) /content/forkliftvideo.mp4: 384x640 1 forklift, 1 person, 6.3ms\n",
            "video 1/1 (frame 487/1522) /content/forkliftvideo.mp4: 384x640 (no detections), 6.6ms\n",
            "video 1/1 (frame 488/1522) /content/forkliftvideo.mp4: 384x640 (no detections), 6.7ms\n",
            "video 1/1 (frame 489/1522) /content/forkliftvideo.mp4: 384x640 1 forklift, 1 person, 6.4ms\n",
            "video 1/1 (frame 490/1522) /content/forkliftvideo.mp4: 384x640 1 forklift, 1 person, 6.4ms\n",
            "video 1/1 (frame 491/1522) /content/forkliftvideo.mp4: 384x640 1 forklift, 1 person, 6.5ms\n",
            "video 1/1 (frame 492/1522) /content/forkliftvideo.mp4: 384x640 1 forklift, 6.4ms\n",
            "video 1/1 (frame 493/1522) /content/forkliftvideo.mp4: 384x640 2 forklifts, 8.5ms\n",
            "video 1/1 (frame 494/1522) /content/forkliftvideo.mp4: 384x640 3 forklifts, 10.6ms\n",
            "video 1/1 (frame 495/1522) /content/forkliftvideo.mp4: 384x640 2 forklifts, 15.2ms\n",
            "video 1/1 (frame 496/1522) /content/forkliftvideo.mp4: 384x640 2 forklifts, 12.5ms\n",
            "video 1/1 (frame 497/1522) /content/forkliftvideo.mp4: 384x640 (no detections), 14.2ms\n",
            "video 1/1 (frame 498/1522) /content/forkliftvideo.mp4: 384x640 1 forklift, 11.8ms\n",
            "video 1/1 (frame 499/1522) /content/forkliftvideo.mp4: 384x640 1 forklift, 14.6ms\n",
            "video 1/1 (frame 500/1522) /content/forkliftvideo.mp4: 384x640 1 forklift, 8.3ms\n",
            "video 1/1 (frame 501/1522) /content/forkliftvideo.mp4: 384x640 1 forklift, 11.3ms\n",
            "video 1/1 (frame 502/1522) /content/forkliftvideo.mp4: 384x640 1 forklift, 8.5ms\n",
            "video 1/1 (frame 503/1522) /content/forkliftvideo.mp4: 384x640 (no detections), 11.5ms\n",
            "video 1/1 (frame 504/1522) /content/forkliftvideo.mp4: 384x640 (no detections), 16.3ms\n",
            "video 1/1 (frame 505/1522) /content/forkliftvideo.mp4: 384x640 1 forklift, 10.6ms\n",
            "video 1/1 (frame 506/1522) /content/forkliftvideo.mp4: 384x640 (no detections), 12.3ms\n",
            "video 1/1 (frame 507/1522) /content/forkliftvideo.mp4: 384x640 1 forklift, 1 person, 13.2ms\n",
            "video 1/1 (frame 508/1522) /content/forkliftvideo.mp4: 384x640 1 forklift, 1 person, 8.7ms\n",
            "video 1/1 (frame 509/1522) /content/forkliftvideo.mp4: 384x640 1 forklift, 1 person, 7.9ms\n",
            "video 1/1 (frame 510/1522) /content/forkliftvideo.mp4: 384x640 1 forklift, 1 person, 12.7ms\n",
            "video 1/1 (frame 511/1522) /content/forkliftvideo.mp4: 384x640 1 forklift, 1 person, 8.9ms\n",
            "video 1/1 (frame 512/1522) /content/forkliftvideo.mp4: 384x640 1 forklift, 1 person, 14.3ms\n",
            "video 1/1 (frame 513/1522) /content/forkliftvideo.mp4: 384x640 1 forklift, 1 person, 10.8ms\n",
            "video 1/1 (frame 514/1522) /content/forkliftvideo.mp4: 384x640 1 forklift, 1 person, 8.4ms\n",
            "video 1/1 (frame 515/1522) /content/forkliftvideo.mp4: 384x640 1 forklift, 1 person, 8.3ms\n",
            "video 1/1 (frame 516/1522) /content/forkliftvideo.mp4: 384x640 1 forklift, 1 person, 10.0ms\n",
            "video 1/1 (frame 517/1522) /content/forkliftvideo.mp4: 384x640 1 forklift, 1 person, 9.3ms\n",
            "video 1/1 (frame 518/1522) /content/forkliftvideo.mp4: 384x640 1 forklift, 1 person, 8.9ms\n",
            "video 1/1 (frame 519/1522) /content/forkliftvideo.mp4: 384x640 1 forklift, 1 person, 8.5ms\n",
            "video 1/1 (frame 520/1522) /content/forkliftvideo.mp4: 384x640 1 forklift, 1 person, 8.4ms\n",
            "video 1/1 (frame 521/1522) /content/forkliftvideo.mp4: 384x640 1 forklift, 1 person, 11.0ms\n",
            "video 1/1 (frame 522/1522) /content/forkliftvideo.mp4: 384x640 1 forklift, 1 person, 9.0ms\n",
            "video 1/1 (frame 523/1522) /content/forkliftvideo.mp4: 384x640 1 forklift, 1 person, 8.5ms\n",
            "video 1/1 (frame 524/1522) /content/forkliftvideo.mp4: 384x640 1 forklift, 1 person, 8.4ms\n",
            "video 1/1 (frame 525/1522) /content/forkliftvideo.mp4: 384x640 1 forklift, 1 person, 8.6ms\n",
            "video 1/1 (frame 526/1522) /content/forkliftvideo.mp4: 384x640 1 forklift, 1 person, 8.2ms\n",
            "video 1/1 (frame 527/1522) /content/forkliftvideo.mp4: 384x640 1 forklift, 1 person, 8.3ms\n",
            "video 1/1 (frame 528/1522) /content/forkliftvideo.mp4: 384x640 1 forklift, 1 person, 8.4ms\n",
            "video 1/1 (frame 529/1522) /content/forkliftvideo.mp4: 384x640 1 forklift, 2 persons, 8.2ms\n",
            "video 1/1 (frame 530/1522) /content/forkliftvideo.mp4: 384x640 1 forklift, 2 persons, 9.3ms\n",
            "video 1/1 (frame 531/1522) /content/forkliftvideo.mp4: 384x640 1 forklift, 2 persons, 7.9ms\n",
            "video 1/1 (frame 532/1522) /content/forkliftvideo.mp4: 384x640 1 forklift, 2 persons, 9.5ms\n",
            "video 1/1 (frame 533/1522) /content/forkliftvideo.mp4: 384x640 1 forklift, 2 persons, 7.7ms\n",
            "video 1/1 (frame 534/1522) /content/forkliftvideo.mp4: 384x640 1 forklift, 2 persons, 7.9ms\n",
            "video 1/1 (frame 535/1522) /content/forkliftvideo.mp4: 384x640 1 forklift, 2 persons, 7.7ms\n",
            "video 1/1 (frame 536/1522) /content/forkliftvideo.mp4: 384x640 1 forklift, 2 persons, 9.3ms\n",
            "video 1/1 (frame 537/1522) /content/forkliftvideo.mp4: 384x640 1 forklift, 2 persons, 7.9ms\n",
            "video 1/1 (frame 538/1522) /content/forkliftvideo.mp4: 384x640 1 forklift, 1 person, 8.1ms\n",
            "video 1/1 (frame 539/1522) /content/forkliftvideo.mp4: 384x640 1 forklift, 2 persons, 9.5ms\n",
            "video 1/1 (frame 540/1522) /content/forkliftvideo.mp4: 384x640 1 forklift, 2 persons, 8.2ms\n",
            "video 1/1 (frame 541/1522) /content/forkliftvideo.mp4: 384x640 1 forklift, 2 persons, 8.0ms\n",
            "video 1/1 (frame 542/1522) /content/forkliftvideo.mp4: 384x640 1 forklift, 2 persons, 8.0ms\n",
            "video 1/1 (frame 543/1522) /content/forkliftvideo.mp4: 384x640 1 forklift, 2 persons, 7.8ms\n",
            "video 1/1 (frame 544/1522) /content/forkliftvideo.mp4: 384x640 1 forklift, 2 persons, 8.0ms\n",
            "video 1/1 (frame 545/1522) /content/forkliftvideo.mp4: 384x640 1 forklift, 2 persons, 7.6ms\n",
            "video 1/1 (frame 546/1522) /content/forkliftvideo.mp4: 384x640 1 forklift, 2 persons, 8.0ms\n",
            "video 1/1 (frame 547/1522) /content/forkliftvideo.mp4: 384x640 1 forklift, 1 person, 8.5ms\n",
            "video 1/1 (frame 548/1522) /content/forkliftvideo.mp4: 384x640 1 forklift, 1 person, 11.6ms\n",
            "video 1/1 (frame 549/1522) /content/forkliftvideo.mp4: 384x640 1 forklift, 1 person, 19.7ms\n",
            "video 1/1 (frame 550/1522) /content/forkliftvideo.mp4: 384x640 1 forklift, 1 person, 14.9ms\n",
            "video 1/1 (frame 551/1522) /content/forkliftvideo.mp4: 384x640 1 forklift, 1 person, 11.3ms\n",
            "video 1/1 (frame 552/1522) /content/forkliftvideo.mp4: 384x640 1 forklift, 1 person, 11.4ms\n",
            "video 1/1 (frame 553/1522) /content/forkliftvideo.mp4: 384x640 1 forklift, 1 person, 12.6ms\n",
            "video 1/1 (frame 554/1522) /content/forkliftvideo.mp4: 384x640 1 forklift, 9.4ms\n",
            "video 1/1 (frame 555/1522) /content/forkliftvideo.mp4: 384x640 (no detections), 10.0ms\n",
            "video 1/1 (frame 556/1522) /content/forkliftvideo.mp4: 384x640 1 forklift, 11.9ms\n",
            "video 1/1 (frame 557/1522) /content/forkliftvideo.mp4: 384x640 1 forklift, 1 person, 8.6ms\n",
            "video 1/1 (frame 558/1522) /content/forkliftvideo.mp4: 384x640 1 forklift, 1 person, 11.1ms\n",
            "video 1/1 (frame 559/1522) /content/forkliftvideo.mp4: 384x640 1 forklift, 1 person, 12.9ms\n",
            "video 1/1 (frame 560/1522) /content/forkliftvideo.mp4: 384x640 1 forklift, 1 person, 8.1ms\n",
            "video 1/1 (frame 561/1522) /content/forkliftvideo.mp4: 384x640 1 forklift, 1 person, 8.6ms\n",
            "video 1/1 (frame 562/1522) /content/forkliftvideo.mp4: 384x640 1 forklift, 1 person, 11.0ms\n",
            "video 1/1 (frame 563/1522) /content/forkliftvideo.mp4: 384x640 1 forklift, 1 person, 10.7ms\n",
            "video 1/1 (frame 564/1522) /content/forkliftvideo.mp4: 384x640 1 forklift, 1 person, 10.3ms\n",
            "video 1/1 (frame 565/1522) /content/forkliftvideo.mp4: 384x640 1 forklift, 1 person, 11.8ms\n",
            "video 1/1 (frame 566/1522) /content/forkliftvideo.mp4: 384x640 1 forklift, 1 person, 12.9ms\n",
            "video 1/1 (frame 567/1522) /content/forkliftvideo.mp4: 384x640 1 forklift, 1 person, 15.5ms\n",
            "video 1/1 (frame 568/1522) /content/forkliftvideo.mp4: 384x640 1 forklift, 1 person, 9.3ms\n",
            "video 1/1 (frame 569/1522) /content/forkliftvideo.mp4: 384x640 1 forklift, 1 person, 11.1ms\n",
            "video 1/1 (frame 570/1522) /content/forkliftvideo.mp4: 384x640 1 forklift, 1 person, 10.9ms\n",
            "video 1/1 (frame 571/1522) /content/forkliftvideo.mp4: 384x640 1 forklift, 1 person, 11.3ms\n",
            "video 1/1 (frame 572/1522) /content/forkliftvideo.mp4: 384x640 1 forklift, 1 person, 12.6ms\n",
            "video 1/1 (frame 573/1522) /content/forkliftvideo.mp4: 384x640 1 forklift, 1 person, 11.4ms\n",
            "video 1/1 (frame 574/1522) /content/forkliftvideo.mp4: 384x640 2 forklifts, 1 person, 11.3ms\n",
            "video 1/1 (frame 575/1522) /content/forkliftvideo.mp4: 384x640 1 forklift, 1 person, 13.2ms\n",
            "video 1/1 (frame 576/1522) /content/forkliftvideo.mp4: 384x640 1 forklift, 1 person, 11.5ms\n",
            "video 1/1 (frame 577/1522) /content/forkliftvideo.mp4: 384x640 1 forklift, 1 person, 10.8ms\n",
            "video 1/1 (frame 578/1522) /content/forkliftvideo.mp4: 384x640 1 forklift, 1 person, 11.1ms\n",
            "video 1/1 (frame 579/1522) /content/forkliftvideo.mp4: 384x640 1 forklift, 1 person, 14.4ms\n",
            "video 1/1 (frame 580/1522) /content/forkliftvideo.mp4: 384x640 1 forklift, 1 person, 9.9ms\n",
            "video 1/1 (frame 581/1522) /content/forkliftvideo.mp4: 384x640 1 forklift, 1 person, 6.3ms\n",
            "video 1/1 (frame 582/1522) /content/forkliftvideo.mp4: 384x640 1 forklift, 1 person, 6.6ms\n",
            "video 1/1 (frame 583/1522) /content/forkliftvideo.mp4: 384x640 1 forklift, 1 person, 6.3ms\n",
            "video 1/1 (frame 584/1522) /content/forkliftvideo.mp4: 384x640 1 forklift, 1 person, 8.3ms\n",
            "video 1/1 (frame 585/1522) /content/forkliftvideo.mp4: 384x640 1 forklift, 1 person, 8.3ms\n",
            "video 1/1 (frame 586/1522) /content/forkliftvideo.mp4: 384x640 1 forklift, 1 person, 7.3ms\n",
            "video 1/1 (frame 587/1522) /content/forkliftvideo.mp4: 384x640 1 forklift, 1 person, 6.4ms\n",
            "video 1/1 (frame 588/1522) /content/forkliftvideo.mp4: 384x640 1 forklift, 1 person, 7.2ms\n",
            "video 1/1 (frame 589/1522) /content/forkliftvideo.mp4: 384x640 1 forklift, 1 person, 6.6ms\n",
            "video 1/1 (frame 590/1522) /content/forkliftvideo.mp4: 384x640 1 forklift, 1 person, 7.9ms\n",
            "video 1/1 (frame 591/1522) /content/forkliftvideo.mp4: 384x640 1 forklift, 1 person, 6.3ms\n",
            "video 1/1 (frame 592/1522) /content/forkliftvideo.mp4: 384x640 1 forklift, 1 person, 7.0ms\n",
            "video 1/1 (frame 593/1522) /content/forkliftvideo.mp4: 384x640 1 forklift, 1 person, 6.2ms\n",
            "video 1/1 (frame 594/1522) /content/forkliftvideo.mp4: 384x640 1 forklift, 1 person, 7.0ms\n",
            "video 1/1 (frame 595/1522) /content/forkliftvideo.mp4: 384x640 1 forklift, 1 person, 6.3ms\n",
            "video 1/1 (frame 596/1522) /content/forkliftvideo.mp4: 384x640 1 forklift, 1 person, 7.0ms\n",
            "video 1/1 (frame 597/1522) /content/forkliftvideo.mp4: 384x640 1 forklift, 1 person, 7.9ms\n",
            "video 1/1 (frame 598/1522) /content/forkliftvideo.mp4: 384x640 1 forklift, 1 person, 6.5ms\n",
            "video 1/1 (frame 599/1522) /content/forkliftvideo.mp4: 384x640 1 forklift, 1 person, 6.8ms\n",
            "video 1/1 (frame 600/1522) /content/forkliftvideo.mp4: 384x640 1 forklift, 1 person, 6.4ms\n",
            "video 1/1 (frame 601/1522) /content/forkliftvideo.mp4: 384x640 1 forklift, 1 person, 6.3ms\n",
            "video 1/1 (frame 602/1522) /content/forkliftvideo.mp4: 384x640 1 forklift, 1 person, 7.3ms\n",
            "video 1/1 (frame 603/1522) /content/forkliftvideo.mp4: 384x640 1 forklift, 1 person, 6.5ms\n",
            "video 1/1 (frame 604/1522) /content/forkliftvideo.mp4: 384x640 1 forklift, 1 person, 7.9ms\n",
            "video 1/1 (frame 605/1522) /content/forkliftvideo.mp4: 384x640 1 forklift, 1 person, 7.0ms\n",
            "video 1/1 (frame 606/1522) /content/forkliftvideo.mp4: 384x640 1 forklift, 1 person, 8.8ms\n",
            "video 1/1 (frame 607/1522) /content/forkliftvideo.mp4: 384x640 1 forklift, 1 person, 7.4ms\n",
            "video 1/1 (frame 608/1522) /content/forkliftvideo.mp4: 384x640 1 forklift, 1 person, 7.0ms\n",
            "video 1/1 (frame 609/1522) /content/forkliftvideo.mp4: 384x640 1 forklift, 1 person, 9.6ms\n",
            "video 1/1 (frame 610/1522) /content/forkliftvideo.mp4: 384x640 1 forklift, 7.6ms\n",
            "video 1/1 (frame 611/1522) /content/forkliftvideo.mp4: 384x640 (no detections), 6.5ms\n",
            "video 1/1 (frame 612/1522) /content/forkliftvideo.mp4: 384x640 (no detections), 6.3ms\n",
            "video 1/1 (frame 613/1522) /content/forkliftvideo.mp4: 384x640 (no detections), 7.6ms\n",
            "video 1/1 (frame 614/1522) /content/forkliftvideo.mp4: 384x640 (no detections), 6.4ms\n",
            "video 1/1 (frame 615/1522) /content/forkliftvideo.mp4: 384x640 1 forklift, 8.7ms\n",
            "video 1/1 (frame 616/1522) /content/forkliftvideo.mp4: 384x640 1 forklift, 6.4ms\n",
            "video 1/1 (frame 617/1522) /content/forkliftvideo.mp4: 384x640 1 forklift, 7.0ms\n",
            "video 1/1 (frame 618/1522) /content/forkliftvideo.mp4: 384x640 1 forklift, 6.3ms\n",
            "video 1/1 (frame 619/1522) /content/forkliftvideo.mp4: 384x640 1 forklift, 6.7ms\n",
            "video 1/1 (frame 620/1522) /content/forkliftvideo.mp4: 384x640 1 forklift, 6.9ms\n",
            "video 1/1 (frame 621/1522) /content/forkliftvideo.mp4: 384x640 1 forklift, 6.7ms\n",
            "video 1/1 (frame 622/1522) /content/forkliftvideo.mp4: 384x640 1 forklift, 7.5ms\n",
            "video 1/1 (frame 623/1522) /content/forkliftvideo.mp4: 384x640 1 forklift, 6.7ms\n",
            "video 1/1 (frame 624/1522) /content/forkliftvideo.mp4: 384x640 1 forklift, 6.8ms\n",
            "video 1/1 (frame 625/1522) /content/forkliftvideo.mp4: 384x640 1 forklift, 6.7ms\n",
            "video 1/1 (frame 626/1522) /content/forkliftvideo.mp4: 384x640 1 forklift, 8.1ms\n",
            "video 1/1 (frame 627/1522) /content/forkliftvideo.mp4: 384x640 1 forklift, 7.2ms\n",
            "video 1/1 (frame 628/1522) /content/forkliftvideo.mp4: 384x640 1 forklift, 7.1ms\n",
            "video 1/1 (frame 629/1522) /content/forkliftvideo.mp4: 384x640 2 forklifts, 6.8ms\n",
            "video 1/1 (frame 630/1522) /content/forkliftvideo.mp4: 384x640 2 forklifts, 6.8ms\n",
            "video 1/1 (frame 631/1522) /content/forkliftvideo.mp4: 384x640 1 forklift, 7.6ms\n",
            "video 1/1 (frame 632/1522) /content/forkliftvideo.mp4: 384x640 2 forklifts, 6.8ms\n",
            "video 1/1 (frame 633/1522) /content/forkliftvideo.mp4: 384x640 2 forklifts, 7.6ms\n",
            "video 1/1 (frame 634/1522) /content/forkliftvideo.mp4: 384x640 1 forklift, 11.9ms\n",
            "video 1/1 (frame 635/1522) /content/forkliftvideo.mp4: 384x640 (no detections), 6.8ms\n",
            "video 1/1 (frame 636/1522) /content/forkliftvideo.mp4: 384x640 (no detections), 6.7ms\n",
            "video 1/1 (frame 637/1522) /content/forkliftvideo.mp4: 384x640 (no detections), 6.7ms\n",
            "video 1/1 (frame 638/1522) /content/forkliftvideo.mp4: 384x640 (no detections), 7.2ms\n",
            "video 1/1 (frame 639/1522) /content/forkliftvideo.mp4: 384x640 1 forklift, 7.5ms\n",
            "video 1/1 (frame 640/1522) /content/forkliftvideo.mp4: 384x640 1 forklift, 6.8ms\n",
            "video 1/1 (frame 641/1522) /content/forkliftvideo.mp4: 384x640 1 forklift, 6.7ms\n",
            "video 1/1 (frame 642/1522) /content/forkliftvideo.mp4: 384x640 1 forklift, 7.4ms\n",
            "video 1/1 (frame 643/1522) /content/forkliftvideo.mp4: 384x640 1 forklift, 8.8ms\n",
            "video 1/1 (frame 644/1522) /content/forkliftvideo.mp4: 384x640 1 forklift, 1 person, 6.9ms\n",
            "video 1/1 (frame 645/1522) /content/forkliftvideo.mp4: 384x640 1 forklift, 1 person, 7.0ms\n",
            "video 1/1 (frame 646/1522) /content/forkliftvideo.mp4: 384x640 1 forklift, 1 person, 9.7ms\n",
            "video 1/1 (frame 647/1522) /content/forkliftvideo.mp4: 384x640 1 forklift, 1 person, 7.2ms\n",
            "video 1/1 (frame 648/1522) /content/forkliftvideo.mp4: 384x640 1 forklift, 1 person, 6.8ms\n",
            "video 1/1 (frame 649/1522) /content/forkliftvideo.mp4: 384x640 1 forklift, 1 person, 6.8ms\n",
            "video 1/1 (frame 650/1522) /content/forkliftvideo.mp4: 384x640 1 forklift, 1 person, 7.6ms\n",
            "video 1/1 (frame 651/1522) /content/forkliftvideo.mp4: 384x640 1 forklift, 1 person, 8.2ms\n",
            "video 1/1 (frame 652/1522) /content/forkliftvideo.mp4: 384x640 1 forklift, 1 person, 7.2ms\n",
            "video 1/1 (frame 653/1522) /content/forkliftvideo.mp4: 384x640 1 forklift, 1 person, 9.2ms\n",
            "video 1/1 (frame 654/1522) /content/forkliftvideo.mp4: 384x640 1 forklift, 1 person, 6.9ms\n",
            "video 1/1 (frame 655/1522) /content/forkliftvideo.mp4: 384x640 1 forklift, 1 person, 7.5ms\n",
            "video 1/1 (frame 656/1522) /content/forkliftvideo.mp4: 384x640 1 forklift, 1 person, 6.7ms\n",
            "video 1/1 (frame 657/1522) /content/forkliftvideo.mp4: 384x640 1 forklift, 1 person, 7.5ms\n",
            "video 1/1 (frame 658/1522) /content/forkliftvideo.mp4: 384x640 1 forklift, 1 person, 9.0ms\n",
            "video 1/1 (frame 659/1522) /content/forkliftvideo.mp4: 384x640 1 forklift, 1 person, 6.8ms\n",
            "video 1/1 (frame 660/1522) /content/forkliftvideo.mp4: 384x640 1 forklift, 1 person, 6.7ms\n",
            "video 1/1 (frame 661/1522) /content/forkliftvideo.mp4: 384x640 1 forklift, 1 person, 7.1ms\n",
            "video 1/1 (frame 662/1522) /content/forkliftvideo.mp4: 384x640 1 forklift, 1 person, 6.7ms\n",
            "video 1/1 (frame 663/1522) /content/forkliftvideo.mp4: 384x640 1 forklift, 1 person, 6.7ms\n",
            "video 1/1 (frame 664/1522) /content/forkliftvideo.mp4: 384x640 1 forklift, 1 person, 6.6ms\n",
            "video 1/1 (frame 665/1522) /content/forkliftvideo.mp4: 384x640 1 forklift, 1 person, 6.7ms\n",
            "video 1/1 (frame 666/1522) /content/forkliftvideo.mp4: 384x640 1 forklift, 2 persons, 7.1ms\n",
            "video 1/1 (frame 667/1522) /content/forkliftvideo.mp4: 384x640 1 forklift, 1 person, 6.8ms\n",
            "video 1/1 (frame 668/1522) /content/forkliftvideo.mp4: 384x640 1 forklift, 2 persons, 6.9ms\n",
            "video 1/1 (frame 669/1522) /content/forkliftvideo.mp4: 384x640 1 forklift, 3 persons, 8.4ms\n",
            "video 1/1 (frame 670/1522) /content/forkliftvideo.mp4: 384x640 1 forklift, 3 persons, 7.8ms\n",
            "video 1/1 (frame 671/1522) /content/forkliftvideo.mp4: 384x640 1 forklift, 2 persons, 8.4ms\n",
            "video 1/1 (frame 672/1522) /content/forkliftvideo.mp4: 384x640 1 forklift, 2 persons, 7.0ms\n",
            "video 1/1 (frame 673/1522) /content/forkliftvideo.mp4: 384x640 1 forklift, 1 person, 7.3ms\n",
            "video 1/1 (frame 674/1522) /content/forkliftvideo.mp4: 384x640 1 forklift, 1 person, 6.6ms\n",
            "video 1/1 (frame 675/1522) /content/forkliftvideo.mp4: 384x640 1 forklift, 1 person, 7.6ms\n",
            "video 1/1 (frame 676/1522) /content/forkliftvideo.mp4: 384x640 1 forklift, 2 persons, 7.8ms\n",
            "video 1/1 (frame 677/1522) /content/forkliftvideo.mp4: 384x640 1 forklift, 2 persons, 7.5ms\n",
            "video 1/1 (frame 678/1522) /content/forkliftvideo.mp4: 384x640 1 forklift, 1 person, 6.8ms\n",
            "video 1/1 (frame 679/1522) /content/forkliftvideo.mp4: 384x640 1 forklift, 1 person, 11.8ms\n",
            "video 1/1 (frame 680/1522) /content/forkliftvideo.mp4: 384x640 1 forklift, 1 person, 15.3ms\n",
            "video 1/1 (frame 681/1522) /content/forkliftvideo.mp4: 384x640 1 forklift, 1 person, 8.0ms\n",
            "video 1/1 (frame 682/1522) /content/forkliftvideo.mp4: 384x640 1 forklift, 2 persons, 6.5ms\n",
            "video 1/1 (frame 683/1522) /content/forkliftvideo.mp4: 384x640 1 forklift, 2 persons, 7.9ms\n",
            "video 1/1 (frame 684/1522) /content/forkliftvideo.mp4: 384x640 1 forklift, 2 persons, 6.9ms\n",
            "video 1/1 (frame 685/1522) /content/forkliftvideo.mp4: 384x640 1 forklift, 2 persons, 7.8ms\n",
            "video 1/1 (frame 686/1522) /content/forkliftvideo.mp4: 384x640 2 forklifts, 2 persons, 7.2ms\n",
            "video 1/1 (frame 687/1522) /content/forkliftvideo.mp4: 384x640 2 forklifts, 3 persons, 7.5ms\n",
            "video 1/1 (frame 688/1522) /content/forkliftvideo.mp4: 384x640 1 forklift, 3 persons, 7.2ms\n",
            "video 1/1 (frame 689/1522) /content/forkliftvideo.mp4: 384x640 1 forklift, 3 persons, 9.0ms\n",
            "video 1/1 (frame 690/1522) /content/forkliftvideo.mp4: 384x640 1 forklift, 3 persons, 6.5ms\n",
            "video 1/1 (frame 691/1522) /content/forkliftvideo.mp4: 384x640 1 forklift, 3 persons, 8.0ms\n",
            "video 1/1 (frame 692/1522) /content/forkliftvideo.mp4: 384x640 1 forklift, 3 persons, 7.1ms\n",
            "video 1/1 (frame 693/1522) /content/forkliftvideo.mp4: 384x640 1 forklift, 3 persons, 6.7ms\n",
            "video 1/1 (frame 694/1522) /content/forkliftvideo.mp4: 384x640 2 forklifts, 3 persons, 6.6ms\n",
            "video 1/1 (frame 695/1522) /content/forkliftvideo.mp4: 384x640 1 forklift, 3 persons, 7.2ms\n",
            "video 1/1 (frame 696/1522) /content/forkliftvideo.mp4: 384x640 1 forklift, 3 persons, 7.5ms\n",
            "video 1/1 (frame 697/1522) /content/forkliftvideo.mp4: 384x640 1 forklift, 3 persons, 7.9ms\n",
            "video 1/1 (frame 698/1522) /content/forkliftvideo.mp4: 384x640 2 forklifts, 3 persons, 6.7ms\n",
            "video 1/1 (frame 699/1522) /content/forkliftvideo.mp4: 384x640 2 forklifts, 3 persons, 12.1ms\n",
            "video 1/1 (frame 700/1522) /content/forkliftvideo.mp4: 384x640 2 forklifts, 3 persons, 7.1ms\n",
            "video 1/1 (frame 701/1522) /content/forkliftvideo.mp4: 384x640 2 forklifts, 3 persons, 6.9ms\n",
            "video 1/1 (frame 702/1522) /content/forkliftvideo.mp4: 384x640 1 forklift, 3 persons, 9.0ms\n",
            "video 1/1 (frame 703/1522) /content/forkliftvideo.mp4: 384x640 1 forklift, 3 persons, 6.9ms\n",
            "video 1/1 (frame 704/1522) /content/forkliftvideo.mp4: 384x640 1 forklift, 3 persons, 6.8ms\n",
            "video 1/1 (frame 705/1522) /content/forkliftvideo.mp4: 384x640 1 forklift, 3 persons, 7.1ms\n",
            "video 1/1 (frame 706/1522) /content/forkliftvideo.mp4: 384x640 2 forklifts, 3 persons, 7.4ms\n",
            "video 1/1 (frame 707/1522) /content/forkliftvideo.mp4: 384x640 2 forklifts, 3 persons, 7.0ms\n",
            "video 1/1 (frame 708/1522) /content/forkliftvideo.mp4: 384x640 2 forklifts, 3 persons, 6.7ms\n",
            "video 1/1 (frame 709/1522) /content/forkliftvideo.mp4: 384x640 2 forklifts, 3 persons, 6.9ms\n",
            "video 1/1 (frame 710/1522) /content/forkliftvideo.mp4: 384x640 2 forklifts, 3 persons, 7.0ms\n",
            "video 1/1 (frame 711/1522) /content/forkliftvideo.mp4: 384x640 2 forklifts, 3 persons, 6.9ms\n",
            "video 1/1 (frame 712/1522) /content/forkliftvideo.mp4: 384x640 2 forklifts, 3 persons, 7.0ms\n",
            "video 1/1 (frame 713/1522) /content/forkliftvideo.mp4: 384x640 3 forklifts, 3 persons, 11.5ms\n",
            "video 1/1 (frame 714/1522) /content/forkliftvideo.mp4: 384x640 3 forklifts, 3 persons, 7.0ms\n",
            "video 1/1 (frame 715/1522) /content/forkliftvideo.mp4: 384x640 2 forklifts, 3 persons, 7.0ms\n",
            "video 1/1 (frame 716/1522) /content/forkliftvideo.mp4: 384x640 2 forklifts, 3 persons, 6.7ms\n",
            "video 1/1 (frame 717/1522) /content/forkliftvideo.mp4: 384x640 2 forklifts, 3 persons, 7.4ms\n",
            "video 1/1 (frame 718/1522) /content/forkliftvideo.mp4: 384x640 2 forklifts, 3 persons, 6.9ms\n",
            "video 1/1 (frame 719/1522) /content/forkliftvideo.mp4: 384x640 2 forklifts, 3 persons, 8.6ms\n",
            "video 1/1 (frame 720/1522) /content/forkliftvideo.mp4: 384x640 2 forklifts, 3 persons, 7.3ms\n",
            "video 1/1 (frame 721/1522) /content/forkliftvideo.mp4: 384x640 2 forklifts, 3 persons, 7.5ms\n",
            "video 1/1 (frame 722/1522) /content/forkliftvideo.mp4: 384x640 1 forklift, 3 persons, 7.2ms\n",
            "video 1/1 (frame 723/1522) /content/forkliftvideo.mp4: 384x640 1 forklift, 3 persons, 8.2ms\n",
            "video 1/1 (frame 724/1522) /content/forkliftvideo.mp4: 384x640 2 forklifts, 3 persons, 7.2ms\n",
            "video 1/1 (frame 725/1522) /content/forkliftvideo.mp4: 384x640 2 forklifts, 3 persons, 7.2ms\n",
            "video 1/1 (frame 726/1522) /content/forkliftvideo.mp4: 384x640 2 forklifts, 3 persons, 7.0ms\n",
            "video 1/1 (frame 727/1522) /content/forkliftvideo.mp4: 384x640 3 forklifts, 3 persons, 6.8ms\n",
            "video 1/1 (frame 728/1522) /content/forkliftvideo.mp4: 384x640 1 forklift, 3 persons, 7.4ms\n",
            "video 1/1 (frame 729/1522) /content/forkliftvideo.mp4: 384x640 1 forklift, 2 persons, 6.8ms\n",
            "video 1/1 (frame 730/1522) /content/forkliftvideo.mp4: 384x640 1 person, 8.0ms\n",
            "video 1/1 (frame 731/1522) /content/forkliftvideo.mp4: 384x640 (no detections), 6.7ms\n",
            "video 1/1 (frame 732/1522) /content/forkliftvideo.mp4: 384x640 (no detections), 8.9ms\n",
            "video 1/1 (frame 733/1522) /content/forkliftvideo.mp4: 384x640 (no detections), 6.6ms\n",
            "video 1/1 (frame 734/1522) /content/forkliftvideo.mp4: 384x640 (no detections), 9.8ms\n",
            "video 1/1 (frame 735/1522) /content/forkliftvideo.mp4: 384x640 1 person, 7.1ms\n",
            "video 1/1 (frame 736/1522) /content/forkliftvideo.mp4: 384x640 1 person, 6.5ms\n",
            "video 1/1 (frame 737/1522) /content/forkliftvideo.mp4: 384x640 1 person, 6.5ms\n",
            "video 1/1 (frame 738/1522) /content/forkliftvideo.mp4: 384x640 1 forklift, 1 person, 6.5ms\n",
            "video 1/1 (frame 739/1522) /content/forkliftvideo.mp4: 384x640 1 forklift, 1 person, 6.4ms\n",
            "video 1/1 (frame 740/1522) /content/forkliftvideo.mp4: 384x640 1 forklift, 1 person, 6.8ms\n",
            "video 1/1 (frame 741/1522) /content/forkliftvideo.mp4: 384x640 1 forklift, 1 person, 6.7ms\n",
            "video 1/1 (frame 742/1522) /content/forkliftvideo.mp4: 384x640 1 forklift, 1 person, 6.7ms\n",
            "video 1/1 (frame 743/1522) /content/forkliftvideo.mp4: 384x640 1 forklift, 1 person, 6.6ms\n",
            "video 1/1 (frame 744/1522) /content/forkliftvideo.mp4: 384x640 1 forklift, 1 person, 6.7ms\n",
            "video 1/1 (frame 745/1522) /content/forkliftvideo.mp4: 384x640 1 forklift, 2 persons, 6.8ms\n",
            "video 1/1 (frame 746/1522) /content/forkliftvideo.mp4: 384x640 2 forklifts, 1 person, 6.9ms\n",
            "video 1/1 (frame 747/1522) /content/forkliftvideo.mp4: 384x640 1 forklift, 1 person, 11.0ms\n",
            "video 1/1 (frame 748/1522) /content/forkliftvideo.mp4: 384x640 1 forklift, 7.0ms\n",
            "video 1/1 (frame 749/1522) /content/forkliftvideo.mp4: 384x640 2 forklifts, 1 person, 6.5ms\n",
            "video 1/1 (frame 750/1522) /content/forkliftvideo.mp4: 384x640 2 forklifts, 1 person, 7.2ms\n",
            "video 1/1 (frame 751/1522) /content/forkliftvideo.mp4: 384x640 2 forklifts, 1 person, 7.3ms\n",
            "video 1/1 (frame 752/1522) /content/forkliftvideo.mp4: 384x640 2 forklifts, 6.7ms\n",
            "video 1/1 (frame 753/1522) /content/forkliftvideo.mp4: 384x640 1 forklift, 6.8ms\n",
            "video 1/1 (frame 754/1522) /content/forkliftvideo.mp4: 384x640 1 forklift, 1 person, 6.8ms\n",
            "video 1/1 (frame 755/1522) /content/forkliftvideo.mp4: 384x640 1 forklift, 1 person, 6.9ms\n",
            "video 1/1 (frame 756/1522) /content/forkliftvideo.mp4: 384x640 1 forklift, 1 person, 6.8ms\n",
            "video 1/1 (frame 757/1522) /content/forkliftvideo.mp4: 384x640 1 forklift, 1 person, 7.9ms\n",
            "video 1/1 (frame 758/1522) /content/forkliftvideo.mp4: 384x640 1 forklift, 1 person, 6.6ms\n",
            "video 1/1 (frame 759/1522) /content/forkliftvideo.mp4: 384x640 1 forklift, 1 person, 9.8ms\n",
            "video 1/1 (frame 760/1522) /content/forkliftvideo.mp4: 384x640 1 forklift, 1 person, 6.7ms\n",
            "video 1/1 (frame 761/1522) /content/forkliftvideo.mp4: 384x640 1 forklift, 6.9ms\n",
            "video 1/1 (frame 762/1522) /content/forkliftvideo.mp4: 384x640 1 forklift, 2 persons, 6.7ms\n",
            "video 1/1 (frame 763/1522) /content/forkliftvideo.mp4: 384x640 1 forklift, 2 persons, 8.3ms\n",
            "video 1/1 (frame 764/1522) /content/forkliftvideo.mp4: 384x640 1 forklift, 3 persons, 7.2ms\n",
            "video 1/1 (frame 765/1522) /content/forkliftvideo.mp4: 384x640 1 forklift, 1 person, 7.2ms\n",
            "video 1/1 (frame 766/1522) /content/forkliftvideo.mp4: 384x640 1 forklift, 3 persons, 7.0ms\n",
            "video 1/1 (frame 767/1522) /content/forkliftvideo.mp4: 384x640 1 forklift, 2 persons, 7.0ms\n",
            "video 1/1 (frame 768/1522) /content/forkliftvideo.mp4: 384x640 1 forklift, 2 persons, 13.3ms\n",
            "video 1/1 (frame 769/1522) /content/forkliftvideo.mp4: 384x640 1 forklift, 2 persons, 8.0ms\n",
            "video 1/1 (frame 770/1522) /content/forkliftvideo.mp4: 384x640 1 forklift, 1 person, 6.9ms\n",
            "video 1/1 (frame 771/1522) /content/forkliftvideo.mp4: 384x640 1 forklift, 2 persons, 7.3ms\n",
            "video 1/1 (frame 772/1522) /content/forkliftvideo.mp4: 384x640 1 forklift, 2 persons, 7.3ms\n",
            "video 1/1 (frame 773/1522) /content/forkliftvideo.mp4: 384x640 1 forklift, 2 persons, 7.3ms\n",
            "video 1/1 (frame 774/1522) /content/forkliftvideo.mp4: 384x640 1 forklift, 1 person, 6.8ms\n",
            "video 1/1 (frame 775/1522) /content/forkliftvideo.mp4: 384x640 1 forklift, 2 persons, 7.1ms\n",
            "video 1/1 (frame 776/1522) /content/forkliftvideo.mp4: 384x640 1 forklift, 2 persons, 6.9ms\n",
            "video 1/1 (frame 777/1522) /content/forkliftvideo.mp4: 384x640 1 forklift, 1 person, 6.8ms\n",
            "video 1/1 (frame 778/1522) /content/forkliftvideo.mp4: 384x640 1 forklift, 1 person, 8.6ms\n",
            "video 1/1 (frame 779/1522) /content/forkliftvideo.mp4: 384x640 2 forklifts, 7.3ms\n",
            "video 1/1 (frame 780/1522) /content/forkliftvideo.mp4: 384x640 2 forklifts, 6.6ms\n",
            "video 1/1 (frame 781/1522) /content/forkliftvideo.mp4: 384x640 2 forklifts, 7.3ms\n",
            "video 1/1 (frame 782/1522) /content/forkliftvideo.mp4: 384x640 2 forklifts, 6.8ms\n",
            "video 1/1 (frame 783/1522) /content/forkliftvideo.mp4: 384x640 2 forklifts, 9.9ms\n",
            "video 1/1 (frame 784/1522) /content/forkliftvideo.mp4: 384x640 3 forklifts, 7.3ms\n",
            "video 1/1 (frame 785/1522) /content/forkliftvideo.mp4: 384x640 2 forklifts, 6.9ms\n",
            "video 1/1 (frame 786/1522) /content/forkliftvideo.mp4: 384x640 2 forklifts, 6.9ms\n",
            "video 1/1 (frame 787/1522) /content/forkliftvideo.mp4: 384x640 2 forklifts, 7.0ms\n",
            "video 1/1 (frame 788/1522) /content/forkliftvideo.mp4: 384x640 2 forklifts, 9.5ms\n",
            "video 1/1 (frame 789/1522) /content/forkliftvideo.mp4: 384x640 2 forklifts, 8.4ms\n",
            "video 1/1 (frame 790/1522) /content/forkliftvideo.mp4: 384x640 2 forklifts, 7.7ms\n",
            "video 1/1 (frame 791/1522) /content/forkliftvideo.mp4: 384x640 2 forklifts, 6.9ms\n",
            "video 1/1 (frame 792/1522) /content/forkliftvideo.mp4: 384x640 2 forklifts, 9.8ms\n",
            "video 1/1 (frame 793/1522) /content/forkliftvideo.mp4: 384x640 3 forklifts, 8.1ms\n",
            "video 1/1 (frame 794/1522) /content/forkliftvideo.mp4: 384x640 2 forklifts, 1 person, 7.6ms\n",
            "video 1/1 (frame 795/1522) /content/forkliftvideo.mp4: 384x640 3 forklifts, 1 person, 7.0ms\n",
            "video 1/1 (frame 796/1522) /content/forkliftvideo.mp4: 384x640 3 forklifts, 7.7ms\n",
            "video 1/1 (frame 797/1522) /content/forkliftvideo.mp4: 384x640 3 forklifts, 1 person, 9.4ms\n",
            "video 1/1 (frame 798/1522) /content/forkliftvideo.mp4: 384x640 3 forklifts, 1 person, 7.8ms\n",
            "video 1/1 (frame 799/1522) /content/forkliftvideo.mp4: 384x640 3 forklifts, 7.3ms\n",
            "video 1/1 (frame 800/1522) /content/forkliftvideo.mp4: 384x640 2 forklifts, 1 person, 7.4ms\n",
            "video 1/1 (frame 801/1522) /content/forkliftvideo.mp4: 384x640 2 forklifts, 7.4ms\n",
            "video 1/1 (frame 802/1522) /content/forkliftvideo.mp4: 384x640 2 forklifts, 6.7ms\n",
            "video 1/1 (frame 803/1522) /content/forkliftvideo.mp4: 384x640 2 forklifts, 7.8ms\n",
            "video 1/1 (frame 804/1522) /content/forkliftvideo.mp4: 384x640 2 forklifts, 7.0ms\n",
            "video 1/1 (frame 805/1522) /content/forkliftvideo.mp4: 384x640 2 forklifts, 6.6ms\n",
            "video 1/1 (frame 806/1522) /content/forkliftvideo.mp4: 384x640 3 forklifts, 10.3ms\n",
            "video 1/1 (frame 807/1522) /content/forkliftvideo.mp4: 384x640 3 forklifts, 8.1ms\n",
            "video 1/1 (frame 808/1522) /content/forkliftvideo.mp4: 384x640 3 forklifts, 7.4ms\n",
            "video 1/1 (frame 809/1522) /content/forkliftvideo.mp4: 384x640 2 forklifts, 6.6ms\n",
            "video 1/1 (frame 810/1522) /content/forkliftvideo.mp4: 384x640 2 forklifts, 7.3ms\n",
            "video 1/1 (frame 811/1522) /content/forkliftvideo.mp4: 384x640 2 forklifts, 6.6ms\n",
            "video 1/1 (frame 812/1522) /content/forkliftvideo.mp4: 384x640 2 forklifts, 11.4ms\n",
            "video 1/1 (frame 813/1522) /content/forkliftvideo.mp4: 384x640 2 forklifts, 9.4ms\n",
            "video 1/1 (frame 814/1522) /content/forkliftvideo.mp4: 384x640 2 forklifts, 9.5ms\n",
            "video 1/1 (frame 815/1522) /content/forkliftvideo.mp4: 384x640 2 forklifts, 6.6ms\n",
            "video 1/1 (frame 816/1522) /content/forkliftvideo.mp4: 384x640 2 forklifts, 6.6ms\n",
            "video 1/1 (frame 817/1522) /content/forkliftvideo.mp4: 384x640 2 forklifts, 6.7ms\n",
            "video 1/1 (frame 818/1522) /content/forkliftvideo.mp4: 384x640 2 forklifts, 6.6ms\n",
            "video 1/1 (frame 819/1522) /content/forkliftvideo.mp4: 384x640 2 forklifts, 7.1ms\n",
            "video 1/1 (frame 820/1522) /content/forkliftvideo.mp4: 384x640 2 forklifts, 6.6ms\n",
            "video 1/1 (frame 821/1522) /content/forkliftvideo.mp4: 384x640 2 forklifts, 6.8ms\n",
            "video 1/1 (frame 822/1522) /content/forkliftvideo.mp4: 384x640 2 forklifts, 1 person, 7.1ms\n",
            "video 1/1 (frame 823/1522) /content/forkliftvideo.mp4: 384x640 2 forklifts, 1 person, 7.5ms\n",
            "video 1/1 (frame 824/1522) /content/forkliftvideo.mp4: 384x640 2 forklifts, 7.9ms\n",
            "video 1/1 (frame 825/1522) /content/forkliftvideo.mp4: 384x640 2 forklifts, 1 person, 6.9ms\n",
            "video 1/1 (frame 826/1522) /content/forkliftvideo.mp4: 384x640 2 forklifts, 1 person, 9.1ms\n",
            "video 1/1 (frame 827/1522) /content/forkliftvideo.mp4: 384x640 2 forklifts, 1 person, 7.8ms\n",
            "video 1/1 (frame 828/1522) /content/forkliftvideo.mp4: 384x640 2 forklifts, 1 person, 6.9ms\n",
            "video 1/1 (frame 829/1522) /content/forkliftvideo.mp4: 384x640 2 forklifts, 1 person, 7.2ms\n",
            "video 1/1 (frame 830/1522) /content/forkliftvideo.mp4: 384x640 2 forklifts, 1 person, 7.7ms\n",
            "video 1/1 (frame 831/1522) /content/forkliftvideo.mp4: 384x640 2 forklifts, 1 person, 6.6ms\n",
            "video 1/1 (frame 832/1522) /content/forkliftvideo.mp4: 384x640 2 forklifts, 1 person, 7.3ms\n",
            "video 1/1 (frame 833/1522) /content/forkliftvideo.mp4: 384x640 1 forklift, 1 person, 6.6ms\n",
            "video 1/1 (frame 834/1522) /content/forkliftvideo.mp4: 384x640 1 forklift, 7.4ms\n",
            "video 1/1 (frame 835/1522) /content/forkliftvideo.mp4: 384x640 2 forklifts, 7.9ms\n",
            "video 1/1 (frame 836/1522) /content/forkliftvideo.mp4: 384x640 1 forklift, 1 person, 8.5ms\n",
            "video 1/1 (frame 837/1522) /content/forkliftvideo.mp4: 384x640 1 forklift, 9.0ms\n",
            "video 1/1 (frame 838/1522) /content/forkliftvideo.mp4: 384x640 3 forklifts, 6.8ms\n",
            "video 1/1 (frame 839/1522) /content/forkliftvideo.mp4: 384x640 3 forklifts, 8.0ms\n",
            "video 1/1 (frame 840/1522) /content/forkliftvideo.mp4: 384x640 4 forklifts, 7.3ms\n",
            "video 1/1 (frame 841/1522) /content/forkliftvideo.mp4: 384x640 3 forklifts, 6.8ms\n",
            "video 1/1 (frame 842/1522) /content/forkliftvideo.mp4: 384x640 1 forklift, 7.5ms\n",
            "video 1/1 (frame 843/1522) /content/forkliftvideo.mp4: 384x640 2 forklifts, 6.8ms\n",
            "video 1/1 (frame 844/1522) /content/forkliftvideo.mp4: 384x640 2 forklifts, 7.0ms\n",
            "video 1/1 (frame 845/1522) /content/forkliftvideo.mp4: 384x640 2 forklifts, 7.7ms\n",
            "video 1/1 (frame 846/1522) /content/forkliftvideo.mp4: 384x640 2 forklifts, 1 person, 8.2ms\n",
            "video 1/1 (frame 847/1522) /content/forkliftvideo.mp4: 384x640 1 forklift, 6.9ms\n",
            "video 1/1 (frame 848/1522) /content/forkliftvideo.mp4: 384x640 1 forklift, 1 person, 7.3ms\n",
            "video 1/1 (frame 849/1522) /content/forkliftvideo.mp4: 384x640 2 forklifts, 11.9ms\n",
            "video 1/1 (frame 850/1522) /content/forkliftvideo.mp4: 384x640 1 forklift, 10.6ms\n",
            "video 1/1 (frame 851/1522) /content/forkliftvideo.mp4: 384x640 1 forklift, 1 person, 12.6ms\n",
            "video 1/1 (frame 852/1522) /content/forkliftvideo.mp4: 384x640 1 forklift, 1 person, 6.9ms\n",
            "video 1/1 (frame 853/1522) /content/forkliftvideo.mp4: 384x640 1 forklift, 1 person, 7.7ms\n",
            "video 1/1 (frame 854/1522) /content/forkliftvideo.mp4: 384x640 1 forklift, 7.8ms\n",
            "video 1/1 (frame 855/1522) /content/forkliftvideo.mp4: 384x640 1 forklift, 7.0ms\n",
            "video 1/1 (frame 856/1522) /content/forkliftvideo.mp4: 384x640 2 forklifts, 7.5ms\n",
            "video 1/1 (frame 857/1522) /content/forkliftvideo.mp4: 384x640 2 forklifts, 9.8ms\n",
            "video 1/1 (frame 858/1522) /content/forkliftvideo.mp4: 384x640 2 forklifts, 7.4ms\n",
            "video 1/1 (frame 859/1522) /content/forkliftvideo.mp4: 384x640 1 forklift, 8.6ms\n",
            "video 1/1 (frame 860/1522) /content/forkliftvideo.mp4: 384x640 1 forklift, 2 persons, 7.4ms\n",
            "video 1/1 (frame 861/1522) /content/forkliftvideo.mp4: 384x640 1 forklift, 2 persons, 7.1ms\n",
            "video 1/1 (frame 862/1522) /content/forkliftvideo.mp4: 384x640 1 forklift, 2 persons, 7.3ms\n",
            "video 1/1 (frame 863/1522) /content/forkliftvideo.mp4: 384x640 1 forklift, 2 persons, 7.9ms\n",
            "video 1/1 (frame 864/1522) /content/forkliftvideo.mp4: 384x640 1 forklift, 2 persons, 6.7ms\n",
            "video 1/1 (frame 865/1522) /content/forkliftvideo.mp4: 384x640 1 forklift, 2 persons, 8.1ms\n",
            "video 1/1 (frame 866/1522) /content/forkliftvideo.mp4: 384x640 1 forklift, 2 persons, 6.7ms\n",
            "video 1/1 (frame 867/1522) /content/forkliftvideo.mp4: 384x640 1 forklift, 2 persons, 7.2ms\n",
            "video 1/1 (frame 868/1522) /content/forkliftvideo.mp4: 384x640 1 forklift, 2 persons, 8.8ms\n",
            "video 1/1 (frame 869/1522) /content/forkliftvideo.mp4: 384x640 1 forklift, 2 persons, 7.0ms\n",
            "video 1/1 (frame 870/1522) /content/forkliftvideo.mp4: 384x640 1 forklift, 2 persons, 8.7ms\n",
            "video 1/1 (frame 871/1522) /content/forkliftvideo.mp4: 384x640 1 forklift, 2 persons, 9.8ms\n",
            "video 1/1 (frame 872/1522) /content/forkliftvideo.mp4: 384x640 1 forklift, 2 persons, 7.2ms\n",
            "video 1/1 (frame 873/1522) /content/forkliftvideo.mp4: 384x640 1 forklift, 2 persons, 6.5ms\n",
            "video 1/1 (frame 874/1522) /content/forkliftvideo.mp4: 384x640 1 forklift, 2 persons, 6.7ms\n",
            "video 1/1 (frame 875/1522) /content/forkliftvideo.mp4: 384x640 1 forklift, 2 persons, 6.6ms\n",
            "video 1/1 (frame 876/1522) /content/forkliftvideo.mp4: 384x640 1 forklift, 2 persons, 6.8ms\n",
            "video 1/1 (frame 877/1522) /content/forkliftvideo.mp4: 384x640 1 forklift, 2 persons, 7.0ms\n",
            "video 1/1 (frame 878/1522) /content/forkliftvideo.mp4: 384x640 1 forklift, 2 persons, 6.9ms\n",
            "video 1/1 (frame 879/1522) /content/forkliftvideo.mp4: 384x640 1 forklift, 2 persons, 6.5ms\n",
            "video 1/1 (frame 880/1522) /content/forkliftvideo.mp4: 384x640 1 forklift, 2 persons, 7.2ms\n",
            "video 1/1 (frame 881/1522) /content/forkliftvideo.mp4: 384x640 1 forklift, 2 persons, 6.9ms\n",
            "video 1/1 (frame 882/1522) /content/forkliftvideo.mp4: 384x640 1 forklift, 2 persons, 6.6ms\n",
            "video 1/1 (frame 883/1522) /content/forkliftvideo.mp4: 384x640 1 forklift, 2 persons, 7.7ms\n",
            "video 1/1 (frame 884/1522) /content/forkliftvideo.mp4: 384x640 1 forklift, 2 persons, 6.7ms\n",
            "video 1/1 (frame 885/1522) /content/forkliftvideo.mp4: 384x640 1 forklift, 2 persons, 6.9ms\n",
            "video 1/1 (frame 886/1522) /content/forkliftvideo.mp4: 384x640 1 forklift, 2 persons, 8.6ms\n",
            "video 1/1 (frame 887/1522) /content/forkliftvideo.mp4: 384x640 1 forklift, 2 persons, 7.4ms\n",
            "video 1/1 (frame 888/1522) /content/forkliftvideo.mp4: 384x640 1 forklift, 2 persons, 6.7ms\n",
            "video 1/1 (frame 889/1522) /content/forkliftvideo.mp4: 384x640 1 forklift, 2 persons, 7.1ms\n",
            "video 1/1 (frame 890/1522) /content/forkliftvideo.mp4: 384x640 1 forklift, 2 persons, 7.0ms\n",
            "video 1/1 (frame 891/1522) /content/forkliftvideo.mp4: 384x640 1 forklift, 1 person, 7.2ms\n",
            "video 1/1 (frame 892/1522) /content/forkliftvideo.mp4: 384x640 1 forklift, 2 persons, 7.2ms\n",
            "video 1/1 (frame 893/1522) /content/forkliftvideo.mp4: 384x640 1 forklift, 1 person, 6.5ms\n",
            "video 1/1 (frame 894/1522) /content/forkliftvideo.mp4: 384x640 (no detections), 8.1ms\n",
            "video 1/1 (frame 895/1522) /content/forkliftvideo.mp4: 384x640 (no detections), 6.6ms\n",
            "video 1/1 (frame 896/1522) /content/forkliftvideo.mp4: 384x640 1 person, 7.4ms\n",
            "video 1/1 (frame 897/1522) /content/forkliftvideo.mp4: 384x640 1 person, 6.4ms\n",
            "video 1/1 (frame 898/1522) /content/forkliftvideo.mp4: 384x640 1 person, 7.8ms\n",
            "video 1/1 (frame 899/1522) /content/forkliftvideo.mp4: 384x640 (no detections), 6.8ms\n",
            "video 1/1 (frame 900/1522) /content/forkliftvideo.mp4: 384x640 (no detections), 7.5ms\n",
            "video 1/1 (frame 901/1522) /content/forkliftvideo.mp4: 384x640 (no detections), 7.1ms\n",
            "video 1/1 (frame 902/1522) /content/forkliftvideo.mp4: 384x640 1 person, 7.1ms\n",
            "video 1/1 (frame 903/1522) /content/forkliftvideo.mp4: 384x640 1 person, 10.6ms\n",
            "video 1/1 (frame 904/1522) /content/forkliftvideo.mp4: 384x640 1 person, 7.3ms\n",
            "video 1/1 (frame 905/1522) /content/forkliftvideo.mp4: 384x640 1 person, 6.9ms\n",
            "video 1/1 (frame 906/1522) /content/forkliftvideo.mp4: 384x640 (no detections), 9.1ms\n",
            "video 1/1 (frame 907/1522) /content/forkliftvideo.mp4: 384x640 (no detections), 6.5ms\n",
            "video 1/1 (frame 908/1522) /content/forkliftvideo.mp4: 384x640 (no detections), 7.5ms\n",
            "video 1/1 (frame 909/1522) /content/forkliftvideo.mp4: 384x640 (no detections), 7.1ms\n",
            "video 1/1 (frame 910/1522) /content/forkliftvideo.mp4: 384x640 (no detections), 6.6ms\n",
            "video 1/1 (frame 911/1522) /content/forkliftvideo.mp4: 384x640 (no detections), 6.5ms\n",
            "video 1/1 (frame 912/1522) /content/forkliftvideo.mp4: 384x640 (no detections), 7.5ms\n",
            "video 1/1 (frame 913/1522) /content/forkliftvideo.mp4: 384x640 (no detections), 6.9ms\n",
            "video 1/1 (frame 914/1522) /content/forkliftvideo.mp4: 384x640 (no detections), 6.8ms\n",
            "video 1/1 (frame 915/1522) /content/forkliftvideo.mp4: 384x640 (no detections), 6.7ms\n",
            "video 1/1 (frame 916/1522) /content/forkliftvideo.mp4: 384x640 (no detections), 6.8ms\n",
            "video 1/1 (frame 917/1522) /content/forkliftvideo.mp4: 384x640 (no detections), 6.9ms\n",
            "video 1/1 (frame 918/1522) /content/forkliftvideo.mp4: 384x640 (no detections), 6.6ms\n",
            "video 1/1 (frame 919/1522) /content/forkliftvideo.mp4: 384x640 (no detections), 8.9ms\n",
            "video 1/1 (frame 920/1522) /content/forkliftvideo.mp4: 384x640 (no detections), 7.4ms\n",
            "video 1/1 (frame 921/1522) /content/forkliftvideo.mp4: 384x640 (no detections), 7.0ms\n",
            "video 1/1 (frame 922/1522) /content/forkliftvideo.mp4: 384x640 (no detections), 7.1ms\n",
            "video 1/1 (frame 923/1522) /content/forkliftvideo.mp4: 384x640 1 person, 6.9ms\n",
            "video 1/1 (frame 924/1522) /content/forkliftvideo.mp4: 384x640 (no detections), 6.9ms\n",
            "video 1/1 (frame 925/1522) /content/forkliftvideo.mp4: 384x640 (no detections), 7.1ms\n",
            "video 1/1 (frame 926/1522) /content/forkliftvideo.mp4: 384x640 (no detections), 6.9ms\n",
            "video 1/1 (frame 927/1522) /content/forkliftvideo.mp4: 384x640 (no detections), 8.0ms\n",
            "video 1/1 (frame 928/1522) /content/forkliftvideo.mp4: 384x640 (no detections), 6.9ms\n",
            "video 1/1 (frame 929/1522) /content/forkliftvideo.mp4: 384x640 (no detections), 7.0ms\n",
            "video 1/1 (frame 930/1522) /content/forkliftvideo.mp4: 384x640 (no detections), 6.9ms\n",
            "video 1/1 (frame 931/1522) /content/forkliftvideo.mp4: 384x640 (no detections), 7.7ms\n",
            "video 1/1 (frame 932/1522) /content/forkliftvideo.mp4: 384x640 (no detections), 9.3ms\n",
            "video 1/1 (frame 933/1522) /content/forkliftvideo.mp4: 384x640 (no detections), 7.6ms\n",
            "video 1/1 (frame 934/1522) /content/forkliftvideo.mp4: 384x640 (no detections), 6.6ms\n",
            "video 1/1 (frame 935/1522) /content/forkliftvideo.mp4: 384x640 (no detections), 6.6ms\n",
            "video 1/1 (frame 936/1522) /content/forkliftvideo.mp4: 384x640 (no detections), 6.7ms\n",
            "video 1/1 (frame 937/1522) /content/forkliftvideo.mp4: 384x640 (no detections), 8.2ms\n",
            "video 1/1 (frame 938/1522) /content/forkliftvideo.mp4: 384x640 (no detections), 8.3ms\n",
            "video 1/1 (frame 939/1522) /content/forkliftvideo.mp4: 384x640 (no detections), 6.6ms\n",
            "video 1/1 (frame 940/1522) /content/forkliftvideo.mp4: 384x640 (no detections), 6.8ms\n",
            "video 1/1 (frame 941/1522) /content/forkliftvideo.mp4: 384x640 (no detections), 7.6ms\n",
            "video 1/1 (frame 942/1522) /content/forkliftvideo.mp4: 384x640 (no detections), 7.4ms\n",
            "video 1/1 (frame 943/1522) /content/forkliftvideo.mp4: 384x640 (no detections), 10.8ms\n",
            "video 1/1 (frame 944/1522) /content/forkliftvideo.mp4: 384x640 (no detections), 7.5ms\n",
            "video 1/1 (frame 945/1522) /content/forkliftvideo.mp4: 384x640 (no detections), 6.6ms\n",
            "video 1/1 (frame 946/1522) /content/forkliftvideo.mp4: 384x640 1 forklift, 8.0ms\n",
            "video 1/1 (frame 947/1522) /content/forkliftvideo.mp4: 384x640 (no detections), 7.4ms\n",
            "video 1/1 (frame 948/1522) /content/forkliftvideo.mp4: 384x640 (no detections), 8.0ms\n",
            "video 1/1 (frame 949/1522) /content/forkliftvideo.mp4: 384x640 (no detections), 7.1ms\n",
            "video 1/1 (frame 950/1522) /content/forkliftvideo.mp4: 384x640 (no detections), 8.2ms\n",
            "video 1/1 (frame 951/1522) /content/forkliftvideo.mp4: 384x640 (no detections), 11.2ms\n",
            "video 1/1 (frame 952/1522) /content/forkliftvideo.mp4: 384x640 (no detections), 7.8ms\n",
            "video 1/1 (frame 953/1522) /content/forkliftvideo.mp4: 384x640 1 forklift, 2 persons, 7.2ms\n",
            "video 1/1 (frame 954/1522) /content/forkliftvideo.mp4: 384x640 3 persons, 9.6ms\n",
            "video 1/1 (frame 955/1522) /content/forkliftvideo.mp4: 384x640 1 forklift, 2 persons, 9.3ms\n",
            "video 1/1 (frame 956/1522) /content/forkliftvideo.mp4: 384x640 1 forklift, 2 persons, 8.1ms\n",
            "video 1/1 (frame 957/1522) /content/forkliftvideo.mp4: 384x640 1 forklift, 2 persons, 6.4ms\n",
            "video 1/1 (frame 958/1522) /content/forkliftvideo.mp4: 384x640 2 persons, 6.8ms\n",
            "video 1/1 (frame 959/1522) /content/forkliftvideo.mp4: 384x640 1 person, 6.6ms\n",
            "video 1/1 (frame 960/1522) /content/forkliftvideo.mp4: 384x640 1 person, 7.0ms\n",
            "video 1/1 (frame 961/1522) /content/forkliftvideo.mp4: 384x640 3 persons, 7.3ms\n",
            "video 1/1 (frame 962/1522) /content/forkliftvideo.mp4: 384x640 2 persons, 8.6ms\n",
            "video 1/1 (frame 963/1522) /content/forkliftvideo.mp4: 384x640 2 persons, 7.0ms\n",
            "video 1/1 (frame 964/1522) /content/forkliftvideo.mp4: 384x640 2 persons, 6.4ms\n",
            "video 1/1 (frame 965/1522) /content/forkliftvideo.mp4: 384x640 2 persons, 7.2ms\n",
            "video 1/1 (frame 966/1522) /content/forkliftvideo.mp4: 384x640 2 persons, 8.9ms\n",
            "video 1/1 (frame 967/1522) /content/forkliftvideo.mp4: 384x640 2 persons, 7.2ms\n",
            "video 1/1 (frame 968/1522) /content/forkliftvideo.mp4: 384x640 2 persons, 6.6ms\n",
            "video 1/1 (frame 969/1522) /content/forkliftvideo.mp4: 384x640 2 persons, 6.8ms\n",
            "video 1/1 (frame 970/1522) /content/forkliftvideo.mp4: 384x640 1 person, 7.2ms\n",
            "video 1/1 (frame 971/1522) /content/forkliftvideo.mp4: 384x640 2 persons, 7.1ms\n",
            "video 1/1 (frame 972/1522) /content/forkliftvideo.mp4: 384x640 2 persons, 6.8ms\n",
            "video 1/1 (frame 973/1522) /content/forkliftvideo.mp4: 384x640 2 persons, 6.9ms\n",
            "video 1/1 (frame 974/1522) /content/forkliftvideo.mp4: 384x640 1 person, 7.3ms\n",
            "video 1/1 (frame 975/1522) /content/forkliftvideo.mp4: 384x640 1 person, 7.1ms\n",
            "video 1/1 (frame 976/1522) /content/forkliftvideo.mp4: 384x640 2 persons, 7.9ms\n",
            "video 1/1 (frame 977/1522) /content/forkliftvideo.mp4: 384x640 2 persons, 6.6ms\n",
            "video 1/1 (frame 978/1522) /content/forkliftvideo.mp4: 384x640 2 persons, 8.8ms\n",
            "video 1/1 (frame 979/1522) /content/forkliftvideo.mp4: 384x640 2 persons, 7.3ms\n",
            "video 1/1 (frame 980/1522) /content/forkliftvideo.mp4: 384x640 3 persons, 6.6ms\n",
            "video 1/1 (frame 981/1522) /content/forkliftvideo.mp4: 384x640 2 persons, 6.3ms\n",
            "video 1/1 (frame 982/1522) /content/forkliftvideo.mp4: 384x640 2 persons, 7.5ms\n",
            "video 1/1 (frame 983/1522) /content/forkliftvideo.mp4: 384x640 2 persons, 6.9ms\n",
            "video 1/1 (frame 984/1522) /content/forkliftvideo.mp4: 384x640 1 person, 7.0ms\n",
            "video 1/1 (frame 985/1522) /content/forkliftvideo.mp4: 384x640 2 persons, 7.0ms\n",
            "video 1/1 (frame 986/1522) /content/forkliftvideo.mp4: 384x640 3 persons, 6.8ms\n",
            "video 1/1 (frame 987/1522) /content/forkliftvideo.mp4: 384x640 3 persons, 7.1ms\n",
            "video 1/1 (frame 988/1522) /content/forkliftvideo.mp4: 384x640 3 persons, 6.8ms\n",
            "video 1/1 (frame 989/1522) /content/forkliftvideo.mp4: 384x640 2 persons, 6.7ms\n",
            "video 1/1 (frame 990/1522) /content/forkliftvideo.mp4: 384x640 2 persons, 9.0ms\n",
            "video 1/1 (frame 991/1522) /content/forkliftvideo.mp4: 384x640 3 persons, 6.8ms\n",
            "video 1/1 (frame 992/1522) /content/forkliftvideo.mp4: 384x640 2 persons, 6.9ms\n",
            "video 1/1 (frame 993/1522) /content/forkliftvideo.mp4: 384x640 2 persons, 6.6ms\n",
            "video 1/1 (frame 994/1522) /content/forkliftvideo.mp4: 384x640 2 persons, 6.5ms\n",
            "video 1/1 (frame 995/1522) /content/forkliftvideo.mp4: 384x640 1 forklift, 1 person, 6.9ms\n",
            "video 1/1 (frame 996/1522) /content/forkliftvideo.mp4: 384x640 2 persons, 6.4ms\n",
            "video 1/1 (frame 997/1522) /content/forkliftvideo.mp4: 384x640 2 persons, 11.0ms\n",
            "video 1/1 (frame 998/1522) /content/forkliftvideo.mp4: 384x640 1 forklift, 3 persons, 6.8ms\n",
            "video 1/1 (frame 999/1522) /content/forkliftvideo.mp4: 384x640 1 forklift, 2 persons, 6.4ms\n",
            "video 1/1 (frame 1000/1522) /content/forkliftvideo.mp4: 384x640 1 forklift, 2 persons, 8.1ms\n",
            "video 1/1 (frame 1001/1522) /content/forkliftvideo.mp4: 384x640 1 forklift, 4 persons, 7.6ms\n",
            "video 1/1 (frame 1002/1522) /content/forkliftvideo.mp4: 384x640 1 forklift, 4 persons, 7.0ms\n",
            "video 1/1 (frame 1003/1522) /content/forkliftvideo.mp4: 384x640 1 forklift, 3 persons, 8.1ms\n",
            "video 1/1 (frame 1004/1522) /content/forkliftvideo.mp4: 384x640 1 forklift, 3 persons, 10.6ms\n",
            "video 1/1 (frame 1005/1522) /content/forkliftvideo.mp4: 384x640 3 persons, 6.5ms\n",
            "video 1/1 (frame 1006/1522) /content/forkliftvideo.mp4: 384x640 3 persons, 12.1ms\n",
            "video 1/1 (frame 1007/1522) /content/forkliftvideo.mp4: 384x640 5 persons, 6.5ms\n",
            "video 1/1 (frame 1008/1522) /content/forkliftvideo.mp4: 384x640 1 forklift, 4 persons, 8.2ms\n",
            "video 1/1 (frame 1009/1522) /content/forkliftvideo.mp4: 384x640 1 forklift, 4 persons, 6.6ms\n",
            "video 1/1 (frame 1010/1522) /content/forkliftvideo.mp4: 384x640 1 forklift, 4 persons, 7.8ms\n",
            "video 1/1 (frame 1011/1522) /content/forkliftvideo.mp4: 384x640 1 forklift, 5 persons, 6.7ms\n",
            "video 1/1 (frame 1012/1522) /content/forkliftvideo.mp4: 384x640 1 forklift, 4 persons, 9.8ms\n",
            "video 1/1 (frame 1013/1522) /content/forkliftvideo.mp4: 384x640 5 persons, 7.0ms\n",
            "video 1/1 (frame 1014/1522) /content/forkliftvideo.mp4: 384x640 1 forklift, 4 persons, 6.9ms\n",
            "video 1/1 (frame 1015/1522) /content/forkliftvideo.mp4: 384x640 2 forklifts, 5 persons, 6.6ms\n",
            "video 1/1 (frame 1016/1522) /content/forkliftvideo.mp4: 384x640 2 forklifts, 6 persons, 7.9ms\n",
            "video 1/1 (frame 1017/1522) /content/forkliftvideo.mp4: 384x640 5 persons, 6.7ms\n",
            "video 1/1 (frame 1018/1522) /content/forkliftvideo.mp4: 384x640 1 forklift, 5 persons, 6.8ms\n",
            "video 1/1 (frame 1019/1522) /content/forkliftvideo.mp4: 384x640 2 forklifts, 5 persons, 6.9ms\n",
            "video 1/1 (frame 1020/1522) /content/forkliftvideo.mp4: 384x640 4 persons, 7.5ms\n",
            "video 1/1 (frame 1021/1522) /content/forkliftvideo.mp4: 384x640 4 persons, 9.3ms\n",
            "video 1/1 (frame 1022/1522) /content/forkliftvideo.mp4: 384x640 3 persons, 7.2ms\n",
            "video 1/1 (frame 1023/1522) /content/forkliftvideo.mp4: 384x640 3 persons, 16.2ms\n",
            "video 1/1 (frame 1024/1522) /content/forkliftvideo.mp4: 384x640 2 persons, 11.9ms\n",
            "video 1/1 (frame 1025/1522) /content/forkliftvideo.mp4: 384x640 2 persons, 11.7ms\n",
            "video 1/1 (frame 1026/1522) /content/forkliftvideo.mp4: 384x640 2 persons, 13.8ms\n",
            "video 1/1 (frame 1027/1522) /content/forkliftvideo.mp4: 384x640 2 persons, 12.7ms\n",
            "video 1/1 (frame 1028/1522) /content/forkliftvideo.mp4: 384x640 2 persons, 9.8ms\n",
            "video 1/1 (frame 1029/1522) /content/forkliftvideo.mp4: 384x640 3 persons, 9.6ms\n",
            "video 1/1 (frame 1030/1522) /content/forkliftvideo.mp4: 384x640 2 persons, 8.5ms\n",
            "video 1/1 (frame 1031/1522) /content/forkliftvideo.mp4: 384x640 2 persons, 12.6ms\n",
            "video 1/1 (frame 1032/1522) /content/forkliftvideo.mp4: 384x640 3 persons, 11.5ms\n",
            "video 1/1 (frame 1033/1522) /content/forkliftvideo.mp4: 384x640 4 persons, 10.1ms\n",
            "video 1/1 (frame 1034/1522) /content/forkliftvideo.mp4: 384x640 5 persons, 11.5ms\n",
            "video 1/1 (frame 1035/1522) /content/forkliftvideo.mp4: 384x640 2 persons, 17.0ms\n",
            "video 1/1 (frame 1036/1522) /content/forkliftvideo.mp4: 384x640 1 forklift, 3 persons, 9.1ms\n",
            "video 1/1 (frame 1037/1522) /content/forkliftvideo.mp4: 384x640 1 forklift, 2 persons, 8.9ms\n",
            "video 1/1 (frame 1038/1522) /content/forkliftvideo.mp4: 384x640 1 forklift, 1 person, 8.2ms\n",
            "video 1/1 (frame 1039/1522) /content/forkliftvideo.mp4: 384x640 1 forklift, 3 persons, 15.2ms\n",
            "video 1/1 (frame 1040/1522) /content/forkliftvideo.mp4: 384x640 1 forklift, 8.9ms\n",
            "video 1/1 (frame 1041/1522) /content/forkliftvideo.mp4: 384x640 1 forklift, 1 person, 11.4ms\n",
            "video 1/1 (frame 1042/1522) /content/forkliftvideo.mp4: 384x640 2 persons, 8.8ms\n",
            "video 1/1 (frame 1043/1522) /content/forkliftvideo.mp4: 384x640 1 person, 11.3ms\n",
            "video 1/1 (frame 1044/1522) /content/forkliftvideo.mp4: 384x640 2 persons, 8.9ms\n",
            "video 1/1 (frame 1045/1522) /content/forkliftvideo.mp4: 384x640 2 persons, 8.8ms\n",
            "video 1/1 (frame 1046/1522) /content/forkliftvideo.mp4: 384x640 2 persons, 8.5ms\n",
            "video 1/1 (frame 1047/1522) /content/forkliftvideo.mp4: 384x640 1 forklift, 1 person, 9.0ms\n",
            "video 1/1 (frame 1048/1522) /content/forkliftvideo.mp4: 384x640 1 forklift, 1 person, 8.5ms\n",
            "video 1/1 (frame 1049/1522) /content/forkliftvideo.mp4: 384x640 1 forklift, 3 persons, 9.6ms\n",
            "video 1/1 (frame 1050/1522) /content/forkliftvideo.mp4: 384x640 1 forklift, 3 persons, 8.6ms\n",
            "video 1/1 (frame 1051/1522) /content/forkliftvideo.mp4: 384x640 3 persons, 8.9ms\n",
            "video 1/1 (frame 1052/1522) /content/forkliftvideo.mp4: 384x640 3 persons, 8.9ms\n",
            "video 1/1 (frame 1053/1522) /content/forkliftvideo.mp4: 384x640 2 persons, 12.0ms\n",
            "video 1/1 (frame 1054/1522) /content/forkliftvideo.mp4: 384x640 2 persons, 10.9ms\n",
            "video 1/1 (frame 1055/1522) /content/forkliftvideo.mp4: 384x640 3 persons, 10.3ms\n",
            "video 1/1 (frame 1056/1522) /content/forkliftvideo.mp4: 384x640 2 persons, 10.5ms\n",
            "video 1/1 (frame 1057/1522) /content/forkliftvideo.mp4: 384x640 1 person, 8.7ms\n",
            "video 1/1 (frame 1058/1522) /content/forkliftvideo.mp4: 384x640 2 persons, 9.7ms\n",
            "video 1/1 (frame 1059/1522) /content/forkliftvideo.mp4: 384x640 1 person, 7.9ms\n",
            "video 1/1 (frame 1060/1522) /content/forkliftvideo.mp4: 384x640 1 person, 8.7ms\n",
            "video 1/1 (frame 1061/1522) /content/forkliftvideo.mp4: 384x640 2 persons, 7.9ms\n",
            "video 1/1 (frame 1062/1522) /content/forkliftvideo.mp4: 384x640 1 person, 10.8ms\n",
            "video 1/1 (frame 1063/1522) /content/forkliftvideo.mp4: 384x640 2 persons, 8.0ms\n",
            "video 1/1 (frame 1064/1522) /content/forkliftvideo.mp4: 384x640 2 persons, 10.4ms\n",
            "video 1/1 (frame 1065/1522) /content/forkliftvideo.mp4: 384x640 2 persons, 8.0ms\n",
            "video 1/1 (frame 1066/1522) /content/forkliftvideo.mp4: 384x640 2 persons, 8.1ms\n",
            "video 1/1 (frame 1067/1522) /content/forkliftvideo.mp4: 384x640 1 forklift, 2 persons, 8.2ms\n",
            "video 1/1 (frame 1068/1522) /content/forkliftvideo.mp4: 384x640 1 forklift, 1 person, 13.3ms\n",
            "video 1/1 (frame 1069/1522) /content/forkliftvideo.mp4: 384x640 2 persons, 8.8ms\n",
            "video 1/1 (frame 1070/1522) /content/forkliftvideo.mp4: 384x640 1 forklift, 2 persons, 9.1ms\n",
            "video 1/1 (frame 1071/1522) /content/forkliftvideo.mp4: 384x640 1 forklift, 3 persons, 8.1ms\n",
            "video 1/1 (frame 1072/1522) /content/forkliftvideo.mp4: 384x640 1 forklift, 3 persons, 8.5ms\n",
            "video 1/1 (frame 1073/1522) /content/forkliftvideo.mp4: 384x640 1 forklift, 2 persons, 11.3ms\n",
            "video 1/1 (frame 1074/1522) /content/forkliftvideo.mp4: 384x640 1 person, 12.4ms\n",
            "video 1/1 (frame 1075/1522) /content/forkliftvideo.mp4: 384x640 2 persons, 12.8ms\n",
            "video 1/1 (frame 1076/1522) /content/forkliftvideo.mp4: 384x640 2 persons, 11.7ms\n",
            "video 1/1 (frame 1077/1522) /content/forkliftvideo.mp4: 384x640 1 forklift, 12.5ms\n",
            "video 1/1 (frame 1078/1522) /content/forkliftvideo.mp4: 384x640 1 forklift, 11.4ms\n",
            "video 1/1 (frame 1079/1522) /content/forkliftvideo.mp4: 384x640 (no detections), 9.1ms\n",
            "video 1/1 (frame 1080/1522) /content/forkliftvideo.mp4: 384x640 (no detections), 12.7ms\n",
            "video 1/1 (frame 1081/1522) /content/forkliftvideo.mp4: 384x640 1 forklift, 12.2ms\n",
            "video 1/1 (frame 1082/1522) /content/forkliftvideo.mp4: 384x640 (no detections), 9.4ms\n",
            "video 1/1 (frame 1083/1522) /content/forkliftvideo.mp4: 384x640 (no detections), 12.8ms\n",
            "video 1/1 (frame 1084/1522) /content/forkliftvideo.mp4: 384x640 (no detections), 12.4ms\n",
            "video 1/1 (frame 1085/1522) /content/forkliftvideo.mp4: 384x640 1 forklift, 10.3ms\n",
            "video 1/1 (frame 1086/1522) /content/forkliftvideo.mp4: 384x640 1 forklift, 9.6ms\n",
            "video 1/1 (frame 1087/1522) /content/forkliftvideo.mp4: 384x640 2 forklifts, 8.3ms\n",
            "video 1/1 (frame 1088/1522) /content/forkliftvideo.mp4: 384x640 2 forklifts, 9.0ms\n",
            "video 1/1 (frame 1089/1522) /content/forkliftvideo.mp4: 384x640 2 forklifts, 13.4ms\n",
            "video 1/1 (frame 1090/1522) /content/forkliftvideo.mp4: 384x640 2 forklifts, 13.7ms\n",
            "video 1/1 (frame 1091/1522) /content/forkliftvideo.mp4: 384x640 2 forklifts, 14.1ms\n",
            "video 1/1 (frame 1092/1522) /content/forkliftvideo.mp4: 384x640 2 forklifts, 12.0ms\n",
            "video 1/1 (frame 1093/1522) /content/forkliftvideo.mp4: 384x640 2 forklifts, 11.5ms\n",
            "video 1/1 (frame 1094/1522) /content/forkliftvideo.mp4: 384x640 2 forklifts, 11.8ms\n",
            "video 1/1 (frame 1095/1522) /content/forkliftvideo.mp4: 384x640 2 forklifts, 9.2ms\n",
            "video 1/1 (frame 1096/1522) /content/forkliftvideo.mp4: 384x640 2 forklifts, 11.4ms\n",
            "video 1/1 (frame 1097/1522) /content/forkliftvideo.mp4: 384x640 1 forklift, 19.5ms\n",
            "video 1/1 (frame 1098/1522) /content/forkliftvideo.mp4: 384x640 1 forklift, 15.7ms\n",
            "video 1/1 (frame 1099/1522) /content/forkliftvideo.mp4: 384x640 2 forklifts, 14.1ms\n",
            "video 1/1 (frame 1100/1522) /content/forkliftvideo.mp4: 384x640 2 forklifts, 13.5ms\n",
            "video 1/1 (frame 1101/1522) /content/forkliftvideo.mp4: 384x640 2 forklifts, 11.4ms\n",
            "video 1/1 (frame 1102/1522) /content/forkliftvideo.mp4: 384x640 2 forklifts, 20.6ms\n",
            "video 1/1 (frame 1103/1522) /content/forkliftvideo.mp4: 384x640 2 forklifts, 14.1ms\n",
            "video 1/1 (frame 1104/1522) /content/forkliftvideo.mp4: 384x640 2 forklifts, 14.0ms\n",
            "video 1/1 (frame 1105/1522) /content/forkliftvideo.mp4: 384x640 2 forklifts, 12.9ms\n",
            "video 1/1 (frame 1106/1522) /content/forkliftvideo.mp4: 384x640 2 forklifts, 7.2ms\n",
            "video 1/1 (frame 1107/1522) /content/forkliftvideo.mp4: 384x640 2 forklifts, 6.6ms\n",
            "video 1/1 (frame 1108/1522) /content/forkliftvideo.mp4: 384x640 2 forklifts, 6.6ms\n",
            "video 1/1 (frame 1109/1522) /content/forkliftvideo.mp4: 384x640 3 forklifts, 6.8ms\n",
            "video 1/1 (frame 1110/1522) /content/forkliftvideo.mp4: 384x640 3 forklifts, 6.6ms\n",
            "video 1/1 (frame 1111/1522) /content/forkliftvideo.mp4: 384x640 3 forklifts, 7.1ms\n",
            "video 1/1 (frame 1112/1522) /content/forkliftvideo.mp4: 384x640 3 forklifts, 6.4ms\n",
            "video 1/1 (frame 1113/1522) /content/forkliftvideo.mp4: 384x640 3 forklifts, 6.5ms\n",
            "video 1/1 (frame 1114/1522) /content/forkliftvideo.mp4: 384x640 3 forklifts, 12.8ms\n",
            "video 1/1 (frame 1115/1522) /content/forkliftvideo.mp4: 384x640 3 forklifts, 7.3ms\n",
            "video 1/1 (frame 1116/1522) /content/forkliftvideo.mp4: 384x640 3 forklifts, 8.3ms\n",
            "video 1/1 (frame 1117/1522) /content/forkliftvideo.mp4: 384x640 3 forklifts, 6.9ms\n",
            "video 1/1 (frame 1118/1522) /content/forkliftvideo.mp4: 384x640 3 forklifts, 7.8ms\n",
            "video 1/1 (frame 1119/1522) /content/forkliftvideo.mp4: 384x640 3 forklifts, 6.4ms\n",
            "video 1/1 (frame 1120/1522) /content/forkliftvideo.mp4: 384x640 3 forklifts, 7.0ms\n",
            "video 1/1 (frame 1121/1522) /content/forkliftvideo.mp4: 384x640 2 forklifts, 6.5ms\n",
            "video 1/1 (frame 1122/1522) /content/forkliftvideo.mp4: 384x640 2 forklifts, 6.2ms\n",
            "video 1/1 (frame 1123/1522) /content/forkliftvideo.mp4: 384x640 3 forklifts, 6.3ms\n",
            "video 1/1 (frame 1124/1522) /content/forkliftvideo.mp4: 384x640 2 forklifts, 11.6ms\n",
            "video 1/1 (frame 1125/1522) /content/forkliftvideo.mp4: 384x640 2 forklifts, 7.4ms\n",
            "video 1/1 (frame 1126/1522) /content/forkliftvideo.mp4: 384x640 2 forklifts, 6.2ms\n",
            "video 1/1 (frame 1127/1522) /content/forkliftvideo.mp4: 384x640 2 forklifts, 9.4ms\n",
            "video 1/1 (frame 1128/1522) /content/forkliftvideo.mp4: 384x640 3 forklifts, 6.7ms\n",
            "video 1/1 (frame 1129/1522) /content/forkliftvideo.mp4: 384x640 3 forklifts, 7.0ms\n",
            "video 1/1 (frame 1130/1522) /content/forkliftvideo.mp4: 384x640 2 forklifts, 6.7ms\n",
            "video 1/1 (frame 1131/1522) /content/forkliftvideo.mp4: 384x640 2 forklifts, 7.6ms\n",
            "video 1/1 (frame 1132/1522) /content/forkliftvideo.mp4: 384x640 2 forklifts, 7.5ms\n",
            "video 1/1 (frame 1133/1522) /content/forkliftvideo.mp4: 384x640 2 forklifts, 7.9ms\n",
            "video 1/1 (frame 1134/1522) /content/forkliftvideo.mp4: 384x640 2 forklifts, 6.5ms\n",
            "video 1/1 (frame 1135/1522) /content/forkliftvideo.mp4: 384x640 2 forklifts, 6.4ms\n",
            "video 1/1 (frame 1136/1522) /content/forkliftvideo.mp4: 384x640 2 forklifts, 9.1ms\n",
            "video 1/1 (frame 1137/1522) /content/forkliftvideo.mp4: 384x640 2 forklifts, 7.6ms\n",
            "video 1/1 (frame 1138/1522) /content/forkliftvideo.mp4: 384x640 2 forklifts, 7.2ms\n",
            "video 1/1 (frame 1139/1522) /content/forkliftvideo.mp4: 384x640 2 forklifts, 8.0ms\n",
            "video 1/1 (frame 1140/1522) /content/forkliftvideo.mp4: 384x640 2 forklifts, 6.9ms\n",
            "video 1/1 (frame 1141/1522) /content/forkliftvideo.mp4: 384x640 2 forklifts, 9.9ms\n",
            "video 1/1 (frame 1142/1522) /content/forkliftvideo.mp4: 384x640 2 forklifts, 11.5ms\n",
            "video 1/1 (frame 1143/1522) /content/forkliftvideo.mp4: 384x640 2 forklifts, 6.3ms\n",
            "video 1/1 (frame 1144/1522) /content/forkliftvideo.mp4: 384x640 2 forklifts, 7.1ms\n",
            "video 1/1 (frame 1145/1522) /content/forkliftvideo.mp4: 384x640 2 forklifts, 8.2ms\n",
            "video 1/1 (frame 1146/1522) /content/forkliftvideo.mp4: 384x640 1 forklift, 2 persons, 8.6ms\n",
            "video 1/1 (frame 1147/1522) /content/forkliftvideo.mp4: 384x640 1 forklift, 2 persons, 6.4ms\n",
            "video 1/1 (frame 1148/1522) /content/forkliftvideo.mp4: 384x640 1 forklift, 3 persons, 10.5ms\n",
            "video 1/1 (frame 1149/1522) /content/forkliftvideo.mp4: 384x640 1 forklift, 2 persons, 7.3ms\n",
            "video 1/1 (frame 1150/1522) /content/forkliftvideo.mp4: 384x640 2 forklifts, 2 persons, 7.5ms\n",
            "video 1/1 (frame 1151/1522) /content/forkliftvideo.mp4: 384x640 2 forklifts, 2 persons, 8.6ms\n",
            "video 1/1 (frame 1152/1522) /content/forkliftvideo.mp4: 384x640 1 forklift, 2 persons, 8.3ms\n",
            "video 1/1 (frame 1153/1522) /content/forkliftvideo.mp4: 384x640 1 forklift, 3 persons, 7.3ms\n",
            "video 1/1 (frame 1154/1522) /content/forkliftvideo.mp4: 384x640 1 forklift, 2 persons, 7.3ms\n",
            "video 1/1 (frame 1155/1522) /content/forkliftvideo.mp4: 384x640 1 forklift, 4 persons, 6.4ms\n",
            "video 1/1 (frame 1156/1522) /content/forkliftvideo.mp4: 384x640 1 forklift, 2 persons, 9.1ms\n",
            "video 1/1 (frame 1157/1522) /content/forkliftvideo.mp4: 384x640 1 forklift, 3 persons, 6.3ms\n",
            "video 1/1 (frame 1158/1522) /content/forkliftvideo.mp4: 384x640 1 forklift, 4 persons, 9.1ms\n",
            "video 1/1 (frame 1159/1522) /content/forkliftvideo.mp4: 384x640 1 forklift, 3 persons, 8.1ms\n",
            "video 1/1 (frame 1160/1522) /content/forkliftvideo.mp4: 384x640 2 forklifts, 3 persons, 6.9ms\n",
            "video 1/1 (frame 1161/1522) /content/forkliftvideo.mp4: 384x640 2 forklifts, 3 persons, 6.5ms\n",
            "video 1/1 (frame 1162/1522) /content/forkliftvideo.mp4: 384x640 2 forklifts, 2 persons, 6.9ms\n",
            "video 1/1 (frame 1163/1522) /content/forkliftvideo.mp4: 384x640 1 forklift, 2 persons, 6.8ms\n",
            "video 1/1 (frame 1164/1522) /content/forkliftvideo.mp4: 384x640 1 forklift, 3 persons, 6.6ms\n",
            "video 1/1 (frame 1165/1522) /content/forkliftvideo.mp4: 384x640 1 forklift, 2 persons, 7.2ms\n",
            "video 1/1 (frame 1166/1522) /content/forkliftvideo.mp4: 384x640 1 forklift, 1 person, 8.6ms\n",
            "video 1/1 (frame 1167/1522) /content/forkliftvideo.mp4: 384x640 1 forklift, 1 person, 6.5ms\n",
            "video 1/1 (frame 1168/1522) /content/forkliftvideo.mp4: 384x640 1 forklift, 1 person, 7.3ms\n",
            "video 1/1 (frame 1169/1522) /content/forkliftvideo.mp4: 384x640 1 forklift, 1 person, 6.7ms\n",
            "video 1/1 (frame 1170/1522) /content/forkliftvideo.mp4: 384x640 1 person, 7.7ms\n",
            "video 1/1 (frame 1171/1522) /content/forkliftvideo.mp4: 384x640 1 person, 7.5ms\n",
            "video 1/1 (frame 1172/1522) /content/forkliftvideo.mp4: 384x640 1 person, 7.3ms\n",
            "video 1/1 (frame 1173/1522) /content/forkliftvideo.mp4: 384x640 1 person, 6.6ms\n",
            "video 1/1 (frame 1174/1522) /content/forkliftvideo.mp4: 384x640 1 person, 6.7ms\n",
            "video 1/1 (frame 1175/1522) /content/forkliftvideo.mp4: 384x640 1 person, 8.3ms\n",
            "video 1/1 (frame 1176/1522) /content/forkliftvideo.mp4: 384x640 1 person, 6.5ms\n",
            "video 1/1 (frame 1177/1522) /content/forkliftvideo.mp4: 384x640 1 person, 6.6ms\n",
            "video 1/1 (frame 1178/1522) /content/forkliftvideo.mp4: 384x640 1 person, 6.4ms\n",
            "video 1/1 (frame 1179/1522) /content/forkliftvideo.mp4: 384x640 1 person, 6.5ms\n",
            "video 1/1 (frame 1180/1522) /content/forkliftvideo.mp4: 384x640 2 persons, 7.6ms\n",
            "video 1/1 (frame 1181/1522) /content/forkliftvideo.mp4: 384x640 1 person, 6.4ms\n",
            "video 1/1 (frame 1182/1522) /content/forkliftvideo.mp4: 384x640 1 person, 7.9ms\n",
            "video 1/1 (frame 1183/1522) /content/forkliftvideo.mp4: 384x640 1 person, 6.7ms\n",
            "video 1/1 (frame 1184/1522) /content/forkliftvideo.mp4: 384x640 1 person, 6.7ms\n",
            "video 1/1 (frame 1185/1522) /content/forkliftvideo.mp4: 384x640 1 person, 12.0ms\n",
            "video 1/1 (frame 1186/1522) /content/forkliftvideo.mp4: 384x640 2 persons, 6.7ms\n",
            "video 1/1 (frame 1187/1522) /content/forkliftvideo.mp4: 384x640 1 person, 8.3ms\n",
            "video 1/1 (frame 1188/1522) /content/forkliftvideo.mp4: 384x640 1 person, 7.2ms\n",
            "video 1/1 (frame 1189/1522) /content/forkliftvideo.mp4: 384x640 1 person, 7.4ms\n",
            "video 1/1 (frame 1190/1522) /content/forkliftvideo.mp4: 384x640 1 person, 6.5ms\n",
            "video 1/1 (frame 1191/1522) /content/forkliftvideo.mp4: 384x640 1 person, 12.0ms\n",
            "video 1/1 (frame 1192/1522) /content/forkliftvideo.mp4: 384x640 1 forklift, 1 person, 6.6ms\n",
            "video 1/1 (frame 1193/1522) /content/forkliftvideo.mp4: 384x640 1 forklift, 1 person, 9.1ms\n",
            "video 1/1 (frame 1194/1522) /content/forkliftvideo.mp4: 384x640 1 forklift, 1 person, 7.1ms\n",
            "video 1/1 (frame 1195/1522) /content/forkliftvideo.mp4: 384x640 1 forklift, 2 persons, 7.2ms\n",
            "video 1/1 (frame 1196/1522) /content/forkliftvideo.mp4: 384x640 1 forklift, 1 person, 7.6ms\n",
            "video 1/1 (frame 1197/1522) /content/forkliftvideo.mp4: 384x640 1 forklift, 1 person, 8.0ms\n",
            "video 1/1 (frame 1198/1522) /content/forkliftvideo.mp4: 384x640 1 forklift, 1 person, 6.7ms\n",
            "video 1/1 (frame 1199/1522) /content/forkliftvideo.mp4: 384x640 4 forklifts, 6.6ms\n",
            "video 1/1 (frame 1200/1522) /content/forkliftvideo.mp4: 384x640 3 forklifts, 1 person, 8.6ms\n",
            "video 1/1 (frame 1201/1522) /content/forkliftvideo.mp4: 384x640 3 forklifts, 1 person, 7.3ms\n",
            "video 1/1 (frame 1202/1522) /content/forkliftvideo.mp4: 384x640 2 forklifts, 1 person, 6.5ms\n",
            "video 1/1 (frame 1203/1522) /content/forkliftvideo.mp4: 384x640 1 forklift, 1 person, 6.3ms\n",
            "video 1/1 (frame 1204/1522) /content/forkliftvideo.mp4: 384x640 2 forklifts, 1 person, 6.8ms\n",
            "video 1/1 (frame 1205/1522) /content/forkliftvideo.mp4: 384x640 (no detections), 6.6ms\n",
            "video 1/1 (frame 1206/1522) /content/forkliftvideo.mp4: 384x640 (no detections), 9.1ms\n",
            "video 1/1 (frame 1207/1522) /content/forkliftvideo.mp4: 384x640 1 forklift, 6.2ms\n",
            "video 1/1 (frame 1208/1522) /content/forkliftvideo.mp4: 384x640 1 forklift, 6.6ms\n",
            "video 1/1 (frame 1209/1522) /content/forkliftvideo.mp4: 384x640 1 forklift, 6.9ms\n",
            "video 1/1 (frame 1210/1522) /content/forkliftvideo.mp4: 384x640 2 forklifts, 7.4ms\n",
            "video 1/1 (frame 1211/1522) /content/forkliftvideo.mp4: 384x640 1 forklift, 1 person, 7.2ms\n",
            "video 1/1 (frame 1212/1522) /content/forkliftvideo.mp4: 384x640 1 forklift, 7.3ms\n",
            "video 1/1 (frame 1213/1522) /content/forkliftvideo.mp4: 384x640 1 forklift, 1 person, 7.7ms\n",
            "video 1/1 (frame 1214/1522) /content/forkliftvideo.mp4: 384x640 1 forklift, 6.5ms\n",
            "video 1/1 (frame 1215/1522) /content/forkliftvideo.mp4: 384x640 1 forklift, 8.4ms\n",
            "video 1/1 (frame 1216/1522) /content/forkliftvideo.mp4: 384x640 2 forklifts, 1 person, 6.9ms\n",
            "video 1/1 (frame 1217/1522) /content/forkliftvideo.mp4: 384x640 (no detections), 7.7ms\n",
            "video 1/1 (frame 1218/1522) /content/forkliftvideo.mp4: 384x640 (no detections), 8.4ms\n",
            "video 1/1 (frame 1219/1522) /content/forkliftvideo.mp4: 384x640 1 person, 7.1ms\n",
            "video 1/1 (frame 1220/1522) /content/forkliftvideo.mp4: 384x640 1 person, 6.8ms\n",
            "video 1/1 (frame 1221/1522) /content/forkliftvideo.mp4: 384x640 1 person, 8.2ms\n",
            "video 1/1 (frame 1222/1522) /content/forkliftvideo.mp4: 384x640 (no detections), 6.8ms\n",
            "video 1/1 (frame 1223/1522) /content/forkliftvideo.mp4: 384x640 (no detections), 6.9ms\n",
            "video 1/1 (frame 1224/1522) /content/forkliftvideo.mp4: 384x640 (no detections), 7.6ms\n",
            "video 1/1 (frame 1225/1522) /content/forkliftvideo.mp4: 384x640 (no detections), 6.4ms\n",
            "video 1/1 (frame 1226/1522) /content/forkliftvideo.mp4: 384x640 (no detections), 8.5ms\n",
            "video 1/1 (frame 1227/1522) /content/forkliftvideo.mp4: 384x640 (no detections), 6.3ms\n",
            "video 1/1 (frame 1228/1522) /content/forkliftvideo.mp4: 384x640 (no detections), 7.5ms\n",
            "video 1/1 (frame 1229/1522) /content/forkliftvideo.mp4: 384x640 (no detections), 6.5ms\n",
            "video 1/1 (frame 1230/1522) /content/forkliftvideo.mp4: 384x640 (no detections), 10.8ms\n",
            "video 1/1 (frame 1231/1522) /content/forkliftvideo.mp4: 384x640 (no detections), 6.5ms\n",
            "video 1/1 (frame 1232/1522) /content/forkliftvideo.mp4: 384x640 (no detections), 10.8ms\n",
            "video 1/1 (frame 1233/1522) /content/forkliftvideo.mp4: 384x640 (no detections), 9.5ms\n",
            "video 1/1 (frame 1234/1522) /content/forkliftvideo.mp4: 384x640 (no detections), 6.7ms\n",
            "video 1/1 (frame 1235/1522) /content/forkliftvideo.mp4: 384x640 (no detections), 6.7ms\n",
            "video 1/1 (frame 1236/1522) /content/forkliftvideo.mp4: 384x640 (no detections), 6.8ms\n",
            "video 1/1 (frame 1237/1522) /content/forkliftvideo.mp4: 384x640 (no detections), 8.1ms\n",
            "video 1/1 (frame 1238/1522) /content/forkliftvideo.mp4: 384x640 (no detections), 6.8ms\n",
            "video 1/1 (frame 1239/1522) /content/forkliftvideo.mp4: 384x640 (no detections), 6.4ms\n",
            "video 1/1 (frame 1240/1522) /content/forkliftvideo.mp4: 384x640 (no detections), 6.4ms\n",
            "video 1/1 (frame 1241/1522) /content/forkliftvideo.mp4: 384x640 (no detections), 9.4ms\n",
            "video 1/1 (frame 1242/1522) /content/forkliftvideo.mp4: 384x640 (no detections), 8.7ms\n",
            "video 1/1 (frame 1243/1522) /content/forkliftvideo.mp4: 384x640 (no detections), 7.4ms\n",
            "video 1/1 (frame 1244/1522) /content/forkliftvideo.mp4: 384x640 (no detections), 6.4ms\n",
            "video 1/1 (frame 1245/1522) /content/forkliftvideo.mp4: 384x640 (no detections), 7.2ms\n",
            "video 1/1 (frame 1246/1522) /content/forkliftvideo.mp4: 384x640 (no detections), 7.0ms\n",
            "video 1/1 (frame 1247/1522) /content/forkliftvideo.mp4: 384x640 (no detections), 7.0ms\n",
            "video 1/1 (frame 1248/1522) /content/forkliftvideo.mp4: 384x640 (no detections), 10.3ms\n",
            "video 1/1 (frame 1249/1522) /content/forkliftvideo.mp4: 384x640 (no detections), 7.1ms\n",
            "video 1/1 (frame 1250/1522) /content/forkliftvideo.mp4: 384x640 (no detections), 9.8ms\n",
            "video 1/1 (frame 1251/1522) /content/forkliftvideo.mp4: 384x640 (no detections), 7.7ms\n",
            "video 1/1 (frame 1252/1522) /content/forkliftvideo.mp4: 384x640 1 person, 7.8ms\n",
            "video 1/1 (frame 1253/1522) /content/forkliftvideo.mp4: 384x640 1 person, 10.7ms\n",
            "video 1/1 (frame 1254/1522) /content/forkliftvideo.mp4: 384x640 2 persons, 8.4ms\n",
            "video 1/1 (frame 1255/1522) /content/forkliftvideo.mp4: 384x640 1 person, 8.4ms\n",
            "video 1/1 (frame 1256/1522) /content/forkliftvideo.mp4: 384x640 2 persons, 9.4ms\n",
            "video 1/1 (frame 1257/1522) /content/forkliftvideo.mp4: 384x640 2 persons, 7.5ms\n",
            "video 1/1 (frame 1258/1522) /content/forkliftvideo.mp4: 384x640 2 persons, 9.5ms\n",
            "video 1/1 (frame 1259/1522) /content/forkliftvideo.mp4: 384x640 2 persons, 6.7ms\n",
            "video 1/1 (frame 1260/1522) /content/forkliftvideo.mp4: 384x640 1 forklift, 3 persons, 9.4ms\n",
            "video 1/1 (frame 1261/1522) /content/forkliftvideo.mp4: 384x640 2 persons, 6.5ms\n",
            "video 1/1 (frame 1262/1522) /content/forkliftvideo.mp4: 384x640 1 forklift, 2 persons, 7.0ms\n",
            "video 1/1 (frame 1263/1522) /content/forkliftvideo.mp4: 384x640 2 persons, 7.3ms\n",
            "video 1/1 (frame 1264/1522) /content/forkliftvideo.mp4: 384x640 2 persons, 6.5ms\n",
            "video 1/1 (frame 1265/1522) /content/forkliftvideo.mp4: 384x640 2 persons, 8.6ms\n",
            "video 1/1 (frame 1266/1522) /content/forkliftvideo.mp4: 384x640 2 persons, 6.7ms\n",
            "video 1/1 (frame 1267/1522) /content/forkliftvideo.mp4: 384x640 2 persons, 6.8ms\n",
            "video 1/1 (frame 1268/1522) /content/forkliftvideo.mp4: 384x640 2 persons, 9.9ms\n",
            "video 1/1 (frame 1269/1522) /content/forkliftvideo.mp4: 384x640 2 persons, 9.9ms\n",
            "video 1/1 (frame 1270/1522) /content/forkliftvideo.mp4: 384x640 2 persons, 9.8ms\n",
            "video 1/1 (frame 1271/1522) /content/forkliftvideo.mp4: 384x640 3 persons, 12.8ms\n",
            "video 1/1 (frame 1272/1522) /content/forkliftvideo.mp4: 384x640 3 persons, 8.4ms\n",
            "video 1/1 (frame 1273/1522) /content/forkliftvideo.mp4: 384x640 3 persons, 7.6ms\n",
            "video 1/1 (frame 1274/1522) /content/forkliftvideo.mp4: 384x640 2 persons, 7.2ms\n",
            "video 1/1 (frame 1275/1522) /content/forkliftvideo.mp4: 384x640 2 persons, 6.5ms\n",
            "video 1/1 (frame 1276/1522) /content/forkliftvideo.mp4: 384x640 2 persons, 10.0ms\n",
            "video 1/1 (frame 1277/1522) /content/forkliftvideo.mp4: 384x640 2 persons, 17.4ms\n",
            "video 1/1 (frame 1278/1522) /content/forkliftvideo.mp4: 384x640 2 persons, 6.8ms\n",
            "video 1/1 (frame 1279/1522) /content/forkliftvideo.mp4: 384x640 2 persons, 6.7ms\n",
            "video 1/1 (frame 1280/1522) /content/forkliftvideo.mp4: 384x640 2 persons, 7.4ms\n",
            "video 1/1 (frame 1281/1522) /content/forkliftvideo.mp4: 384x640 2 persons, 7.2ms\n",
            "video 1/1 (frame 1282/1522) /content/forkliftvideo.mp4: 384x640 2 persons, 9.0ms\n",
            "video 1/1 (frame 1283/1522) /content/forkliftvideo.mp4: 384x640 2 persons, 8.1ms\n",
            "video 1/1 (frame 1284/1522) /content/forkliftvideo.mp4: 384x640 2 persons, 7.0ms\n",
            "video 1/1 (frame 1285/1522) /content/forkliftvideo.mp4: 384x640 2 persons, 7.0ms\n",
            "video 1/1 (frame 1286/1522) /content/forkliftvideo.mp4: 384x640 2 persons, 6.6ms\n",
            "video 1/1 (frame 1287/1522) /content/forkliftvideo.mp4: 384x640 2 persons, 6.7ms\n",
            "video 1/1 (frame 1288/1522) /content/forkliftvideo.mp4: 384x640 2 persons, 7.5ms\n",
            "video 1/1 (frame 1289/1522) /content/forkliftvideo.mp4: 384x640 1 person, 8.3ms\n",
            "video 1/1 (frame 1290/1522) /content/forkliftvideo.mp4: 384x640 1 forklift, 1 person, 6.8ms\n",
            "video 1/1 (frame 1291/1522) /content/forkliftvideo.mp4: 384x640 1 forklift, 2 persons, 6.7ms\n",
            "video 1/1 (frame 1292/1522) /content/forkliftvideo.mp4: 384x640 2 persons, 6.7ms\n",
            "video 1/1 (frame 1293/1522) /content/forkliftvideo.mp4: 384x640 2 persons, 6.6ms\n",
            "video 1/1 (frame 1294/1522) /content/forkliftvideo.mp4: 384x640 (no detections), 6.9ms\n",
            "video 1/1 (frame 1295/1522) /content/forkliftvideo.mp4: 384x640 (no detections), 7.0ms\n",
            "video 1/1 (frame 1296/1522) /content/forkliftvideo.mp4: 384x640 (no detections), 8.4ms\n",
            "video 1/1 (frame 1297/1522) /content/forkliftvideo.mp4: 384x640 (no detections), 7.4ms\n",
            "video 1/1 (frame 1298/1522) /content/forkliftvideo.mp4: 384x640 (no detections), 7.9ms\n",
            "video 1/1 (frame 1299/1522) /content/forkliftvideo.mp4: 384x640 (no detections), 7.5ms\n",
            "video 1/1 (frame 1300/1522) /content/forkliftvideo.mp4: 384x640 (no detections), 12.2ms\n",
            "video 1/1 (frame 1301/1522) /content/forkliftvideo.mp4: 384x640 (no detections), 6.6ms\n",
            "video 1/1 (frame 1302/1522) /content/forkliftvideo.mp4: 384x640 (no detections), 9.5ms\n",
            "video 1/1 (frame 1303/1522) /content/forkliftvideo.mp4: 384x640 (no detections), 6.5ms\n",
            "video 1/1 (frame 1304/1522) /content/forkliftvideo.mp4: 384x640 (no detections), 6.7ms\n",
            "video 1/1 (frame 1305/1522) /content/forkliftvideo.mp4: 384x640 (no detections), 9.5ms\n",
            "video 1/1 (frame 1306/1522) /content/forkliftvideo.mp4: 384x640 (no detections), 7.1ms\n",
            "video 1/1 (frame 1307/1522) /content/forkliftvideo.mp4: 384x640 (no detections), 7.7ms\n",
            "video 1/1 (frame 1308/1522) /content/forkliftvideo.mp4: 384x640 (no detections), 6.9ms\n",
            "video 1/1 (frame 1309/1522) /content/forkliftvideo.mp4: 384x640 (no detections), 9.6ms\n",
            "video 1/1 (frame 1310/1522) /content/forkliftvideo.mp4: 384x640 (no detections), 7.9ms\n",
            "video 1/1 (frame 1311/1522) /content/forkliftvideo.mp4: 384x640 (no detections), 6.6ms\n",
            "video 1/1 (frame 1312/1522) /content/forkliftvideo.mp4: 384x640 (no detections), 6.7ms\n",
            "video 1/1 (frame 1313/1522) /content/forkliftvideo.mp4: 384x640 (no detections), 8.4ms\n",
            "video 1/1 (frame 1314/1522) /content/forkliftvideo.mp4: 384x640 (no detections), 6.8ms\n",
            "video 1/1 (frame 1315/1522) /content/forkliftvideo.mp4: 384x640 (no detections), 9.5ms\n",
            "video 1/1 (frame 1316/1522) /content/forkliftvideo.mp4: 384x640 (no detections), 7.2ms\n",
            "video 1/1 (frame 1317/1522) /content/forkliftvideo.mp4: 384x640 (no detections), 7.6ms\n",
            "video 1/1 (frame 1318/1522) /content/forkliftvideo.mp4: 384x640 (no detections), 6.6ms\n",
            "video 1/1 (frame 1319/1522) /content/forkliftvideo.mp4: 384x640 (no detections), 8.0ms\n",
            "video 1/1 (frame 1320/1522) /content/forkliftvideo.mp4: 384x640 (no detections), 6.9ms\n",
            "video 1/1 (frame 1321/1522) /content/forkliftvideo.mp4: 384x640 (no detections), 9.8ms\n",
            "video 1/1 (frame 1322/1522) /content/forkliftvideo.mp4: 384x640 (no detections), 6.5ms\n",
            "video 1/1 (frame 1323/1522) /content/forkliftvideo.mp4: 384x640 (no detections), 7.0ms\n",
            "video 1/1 (frame 1324/1522) /content/forkliftvideo.mp4: 384x640 (no detections), 6.6ms\n",
            "video 1/1 (frame 1325/1522) /content/forkliftvideo.mp4: 384x640 (no detections), 10.5ms\n",
            "video 1/1 (frame 1326/1522) /content/forkliftvideo.mp4: 384x640 1 forklift, 12.1ms\n",
            "video 1/1 (frame 1327/1522) /content/forkliftvideo.mp4: 384x640 1 forklift, 10.4ms\n",
            "video 1/1 (frame 1328/1522) /content/forkliftvideo.mp4: 384x640 (no detections), 6.4ms\n",
            "video 1/1 (frame 1329/1522) /content/forkliftvideo.mp4: 384x640 1 forklift, 6.5ms\n",
            "video 1/1 (frame 1330/1522) /content/forkliftvideo.mp4: 384x640 (no detections), 10.2ms\n",
            "video 1/1 (frame 1331/1522) /content/forkliftvideo.mp4: 384x640 (no detections), 6.3ms\n",
            "video 1/1 (frame 1332/1522) /content/forkliftvideo.mp4: 384x640 (no detections), 6.4ms\n",
            "video 1/1 (frame 1333/1522) /content/forkliftvideo.mp4: 384x640 (no detections), 7.0ms\n",
            "video 1/1 (frame 1334/1522) /content/forkliftvideo.mp4: 384x640 (no detections), 6.7ms\n",
            "video 1/1 (frame 1335/1522) /content/forkliftvideo.mp4: 384x640 (no detections), 9.6ms\n",
            "video 1/1 (frame 1336/1522) /content/forkliftvideo.mp4: 384x640 (no detections), 18.6ms\n",
            "video 1/1 (frame 1337/1522) /content/forkliftvideo.mp4: 384x640 1 forklift, 6.3ms\n",
            "video 1/1 (frame 1338/1522) /content/forkliftvideo.mp4: 384x640 1 forklift, 6.2ms\n",
            "video 1/1 (frame 1339/1522) /content/forkliftvideo.mp4: 384x640 (no detections), 8.8ms\n",
            "video 1/1 (frame 1340/1522) /content/forkliftvideo.mp4: 384x640 (no detections), 6.5ms\n",
            "video 1/1 (frame 1341/1522) /content/forkliftvideo.mp4: 384x640 (no detections), 7.4ms\n",
            "video 1/1 (frame 1342/1522) /content/forkliftvideo.mp4: 384x640 (no detections), 6.8ms\n",
            "video 1/1 (frame 1343/1522) /content/forkliftvideo.mp4: 384x640 (no detections), 6.4ms\n",
            "video 1/1 (frame 1344/1522) /content/forkliftvideo.mp4: 384x640 (no detections), 6.5ms\n",
            "video 1/1 (frame 1345/1522) /content/forkliftvideo.mp4: 384x640 (no detections), 10.6ms\n",
            "video 1/1 (frame 1346/1522) /content/forkliftvideo.mp4: 384x640 (no detections), 6.4ms\n",
            "video 1/1 (frame 1347/1522) /content/forkliftvideo.mp4: 384x640 (no detections), 7.3ms\n",
            "video 1/1 (frame 1348/1522) /content/forkliftvideo.mp4: 384x640 (no detections), 6.6ms\n",
            "video 1/1 (frame 1349/1522) /content/forkliftvideo.mp4: 384x640 (no detections), 6.4ms\n",
            "video 1/1 (frame 1350/1522) /content/forkliftvideo.mp4: 384x640 (no detections), 11.4ms\n",
            "video 1/1 (frame 1351/1522) /content/forkliftvideo.mp4: 384x640 (no detections), 7.1ms\n",
            "video 1/1 (frame 1352/1522) /content/forkliftvideo.mp4: 384x640 (no detections), 6.6ms\n",
            "video 1/1 (frame 1353/1522) /content/forkliftvideo.mp4: 384x640 (no detections), 8.9ms\n",
            "video 1/1 (frame 1354/1522) /content/forkliftvideo.mp4: 384x640 (no detections), 6.8ms\n",
            "video 1/1 (frame 1355/1522) /content/forkliftvideo.mp4: 384x640 (no detections), 7.9ms\n",
            "video 1/1 (frame 1356/1522) /content/forkliftvideo.mp4: 384x640 (no detections), 7.3ms\n",
            "video 1/1 (frame 1357/1522) /content/forkliftvideo.mp4: 384x640 (no detections), 6.8ms\n",
            "video 1/1 (frame 1358/1522) /content/forkliftvideo.mp4: 384x640 (no detections), 7.0ms\n",
            "video 1/1 (frame 1359/1522) /content/forkliftvideo.mp4: 384x640 (no detections), 10.2ms\n",
            "video 1/1 (frame 1360/1522) /content/forkliftvideo.mp4: 384x640 (no detections), 6.9ms\n",
            "video 1/1 (frame 1361/1522) /content/forkliftvideo.mp4: 384x640 (no detections), 7.3ms\n",
            "video 1/1 (frame 1362/1522) /content/forkliftvideo.mp4: 384x640 (no detections), 6.8ms\n",
            "video 1/1 (frame 1363/1522) /content/forkliftvideo.mp4: 384x640 (no detections), 16.1ms\n",
            "video 1/1 (frame 1364/1522) /content/forkliftvideo.mp4: 384x640 (no detections), 6.9ms\n",
            "video 1/1 (frame 1365/1522) /content/forkliftvideo.mp4: 384x640 (no detections), 7.5ms\n",
            "video 1/1 (frame 1366/1522) /content/forkliftvideo.mp4: 384x640 (no detections), 9.3ms\n",
            "video 1/1 (frame 1367/1522) /content/forkliftvideo.mp4: 384x640 (no detections), 6.9ms\n",
            "video 1/1 (frame 1368/1522) /content/forkliftvideo.mp4: 384x640 1 forklift, 8.5ms\n",
            "video 1/1 (frame 1369/1522) /content/forkliftvideo.mp4: 384x640 1 forklift, 7.8ms\n",
            "video 1/1 (frame 1370/1522) /content/forkliftvideo.mp4: 384x640 1 forklift, 9.5ms\n",
            "video 1/1 (frame 1371/1522) /content/forkliftvideo.mp4: 384x640 4 persons, 6.9ms\n",
            "video 1/1 (frame 1372/1522) /content/forkliftvideo.mp4: 384x640 4 persons, 7.3ms\n",
            "video 1/1 (frame 1373/1522) /content/forkliftvideo.mp4: 384x640 4 persons, 7.8ms\n",
            "video 1/1 (frame 1374/1522) /content/forkliftvideo.mp4: 384x640 4 persons, 6.8ms\n",
            "video 1/1 (frame 1375/1522) /content/forkliftvideo.mp4: 384x640 1 forklift, 4 persons, 8.8ms\n",
            "video 1/1 (frame 1376/1522) /content/forkliftvideo.mp4: 384x640 1 forklift, 3 persons, 11.6ms\n",
            "video 1/1 (frame 1377/1522) /content/forkliftvideo.mp4: 384x640 1 forklift, 3 persons, 9.6ms\n",
            "video 1/1 (frame 1378/1522) /content/forkliftvideo.mp4: 384x640 1 forklift, 2 persons, 12.1ms\n",
            "video 1/1 (frame 1379/1522) /content/forkliftvideo.mp4: 384x640 1 forklift, 4 persons, 6.8ms\n",
            "video 1/1 (frame 1380/1522) /content/forkliftvideo.mp4: 384x640 5 persons, 8.8ms\n",
            "video 1/1 (frame 1381/1522) /content/forkliftvideo.mp4: 384x640 4 persons, 6.9ms\n",
            "video 1/1 (frame 1382/1522) /content/forkliftvideo.mp4: 384x640 1 forklift, 4 persons, 9.4ms\n",
            "video 1/1 (frame 1383/1522) /content/forkliftvideo.mp4: 384x640 3 persons, 6.8ms\n",
            "video 1/1 (frame 1384/1522) /content/forkliftvideo.mp4: 384x640 3 persons, 6.6ms\n",
            "video 1/1 (frame 1385/1522) /content/forkliftvideo.mp4: 384x640 1 forklift, 4 persons, 8.3ms\n",
            "video 1/1 (frame 1386/1522) /content/forkliftvideo.mp4: 384x640 1 forklift, 3 persons, 7.1ms\n",
            "video 1/1 (frame 1387/1522) /content/forkliftvideo.mp4: 384x640 1 forklift, 2 persons, 7.1ms\n",
            "video 1/1 (frame 1388/1522) /content/forkliftvideo.mp4: 384x640 1 forklift, 2 persons, 8.2ms\n",
            "video 1/1 (frame 1389/1522) /content/forkliftvideo.mp4: 384x640 1 forklift, 2 persons, 7.0ms\n",
            "video 1/1 (frame 1390/1522) /content/forkliftvideo.mp4: 384x640 1 forklift, 2 persons, 9.7ms\n",
            "video 1/1 (frame 1391/1522) /content/forkliftvideo.mp4: 384x640 1 forklift, 3 persons, 7.7ms\n",
            "video 1/1 (frame 1392/1522) /content/forkliftvideo.mp4: 384x640 1 forklift, 2 persons, 8.6ms\n",
            "video 1/1 (frame 1393/1522) /content/forkliftvideo.mp4: 384x640 1 forklift, 2 persons, 8.4ms\n",
            "video 1/1 (frame 1394/1522) /content/forkliftvideo.mp4: 384x640 1 forklift, 2 persons, 7.2ms\n",
            "video 1/1 (frame 1395/1522) /content/forkliftvideo.mp4: 384x640 1 forklift, 2 persons, 8.5ms\n",
            "video 1/1 (frame 1396/1522) /content/forkliftvideo.mp4: 384x640 1 forklift, 2 persons, 6.7ms\n",
            "video 1/1 (frame 1397/1522) /content/forkliftvideo.mp4: 384x640 1 forklift, 2 persons, 9.0ms\n",
            "video 1/1 (frame 1398/1522) /content/forkliftvideo.mp4: 384x640 1 forklift, 2 persons, 6.9ms\n",
            "video 1/1 (frame 1399/1522) /content/forkliftvideo.mp4: 384x640 1 forklift, 2 persons, 9.4ms\n",
            "video 1/1 (frame 1400/1522) /content/forkliftvideo.mp4: 384x640 1 forklift, 2 persons, 7.3ms\n",
            "video 1/1 (frame 1401/1522) /content/forkliftvideo.mp4: 384x640 1 forklift, 1 person, 8.6ms\n",
            "video 1/1 (frame 1402/1522) /content/forkliftvideo.mp4: 384x640 1 forklift, 1 person, 7.3ms\n",
            "video 1/1 (frame 1403/1522) /content/forkliftvideo.mp4: 384x640 1 forklift, 3 persons, 8.4ms\n",
            "video 1/1 (frame 1404/1522) /content/forkliftvideo.mp4: 384x640 1 forklift, 3 persons, 6.8ms\n",
            "video 1/1 (frame 1405/1522) /content/forkliftvideo.mp4: 384x640 1 person, 7.8ms\n",
            "video 1/1 (frame 1406/1522) /content/forkliftvideo.mp4: 384x640 1 forklift, 3 persons, 8.9ms\n",
            "video 1/1 (frame 1407/1522) /content/forkliftvideo.mp4: 384x640 2 persons, 7.8ms\n",
            "video 1/1 (frame 1408/1522) /content/forkliftvideo.mp4: 384x640 2 persons, 6.7ms\n",
            "video 1/1 (frame 1409/1522) /content/forkliftvideo.mp4: 384x640 2 persons, 8.1ms\n",
            "video 1/1 (frame 1410/1522) /content/forkliftvideo.mp4: 384x640 2 persons, 7.4ms\n",
            "video 1/1 (frame 1411/1522) /content/forkliftvideo.mp4: 384x640 2 persons, 7.1ms\n",
            "video 1/1 (frame 1412/1522) /content/forkliftvideo.mp4: 384x640 3 persons, 9.3ms\n",
            "video 1/1 (frame 1413/1522) /content/forkliftvideo.mp4: 384x640 3 persons, 6.7ms\n",
            "video 1/1 (frame 1414/1522) /content/forkliftvideo.mp4: 384x640 3 persons, 9.5ms\n",
            "video 1/1 (frame 1415/1522) /content/forkliftvideo.mp4: 384x640 4 persons, 7.0ms\n",
            "video 1/1 (frame 1416/1522) /content/forkliftvideo.mp4: 384x640 1 forklift, 4 persons, 6.6ms\n",
            "video 1/1 (frame 1417/1522) /content/forkliftvideo.mp4: 384x640 (no detections), 8.5ms\n",
            "video 1/1 (frame 1418/1522) /content/forkliftvideo.mp4: 384x640 (no detections), 8.9ms\n",
            "video 1/1 (frame 1419/1522) /content/forkliftvideo.mp4: 384x640 (no detections), 8.8ms\n",
            "video 1/1 (frame 1420/1522) /content/forkliftvideo.mp4: 384x640 (no detections), 14.7ms\n",
            "video 1/1 (frame 1421/1522) /content/forkliftvideo.mp4: 384x640 (no detections), 8.6ms\n",
            "video 1/1 (frame 1422/1522) /content/forkliftvideo.mp4: 384x640 (no detections), 7.0ms\n",
            "video 1/1 (frame 1423/1522) /content/forkliftvideo.mp4: 384x640 (no detections), 6.6ms\n",
            "video 1/1 (frame 1424/1522) /content/forkliftvideo.mp4: 384x640 (no detections), 6.5ms\n",
            "video 1/1 (frame 1425/1522) /content/forkliftvideo.mp4: 384x640 (no detections), 8.5ms\n",
            "video 1/1 (frame 1426/1522) /content/forkliftvideo.mp4: 384x640 (no detections), 6.5ms\n",
            "video 1/1 (frame 1427/1522) /content/forkliftvideo.mp4: 384x640 1 forklift, 6.5ms\n",
            "video 1/1 (frame 1428/1522) /content/forkliftvideo.mp4: 384x640 1 forklift, 6.7ms\n",
            "video 1/1 (frame 1429/1522) /content/forkliftvideo.mp4: 384x640 1 forklift, 6.4ms\n",
            "video 1/1 (frame 1430/1522) /content/forkliftvideo.mp4: 384x640 1 forklift, 6.6ms\n",
            "video 1/1 (frame 1431/1522) /content/forkliftvideo.mp4: 384x640 1 forklift, 6.9ms\n",
            "video 1/1 (frame 1432/1522) /content/forkliftvideo.mp4: 384x640 (no detections), 6.4ms\n",
            "video 1/1 (frame 1433/1522) /content/forkliftvideo.mp4: 384x640 1 forklift, 7.6ms\n",
            "video 1/1 (frame 1434/1522) /content/forkliftvideo.mp4: 384x640 1 forklift, 6.6ms\n",
            "video 1/1 (frame 1435/1522) /content/forkliftvideo.mp4: 384x640 1 forklift, 7.7ms\n",
            "video 1/1 (frame 1436/1522) /content/forkliftvideo.mp4: 384x640 1 forklift, 6.8ms\n",
            "video 1/1 (frame 1437/1522) /content/forkliftvideo.mp4: 384x640 (no detections), 6.9ms\n",
            "video 1/1 (frame 1438/1522) /content/forkliftvideo.mp4: 384x640 (no detections), 7.4ms\n",
            "video 1/1 (frame 1439/1522) /content/forkliftvideo.mp4: 384x640 (no detections), 6.6ms\n",
            "video 1/1 (frame 1440/1522) /content/forkliftvideo.mp4: 384x640 (no detections), 6.7ms\n",
            "video 1/1 (frame 1441/1522) /content/forkliftvideo.mp4: 384x640 (no detections), 7.3ms\n",
            "video 1/1 (frame 1442/1522) /content/forkliftvideo.mp4: 384x640 (no detections), 6.4ms\n",
            "video 1/1 (frame 1443/1522) /content/forkliftvideo.mp4: 384x640 (no detections), 6.5ms\n",
            "video 1/1 (frame 1444/1522) /content/forkliftvideo.mp4: 384x640 (no detections), 7.0ms\n",
            "video 1/1 (frame 1445/1522) /content/forkliftvideo.mp4: 384x640 (no detections), 6.6ms\n",
            "video 1/1 (frame 1446/1522) /content/forkliftvideo.mp4: 384x640 (no detections), 7.8ms\n",
            "video 1/1 (frame 1447/1522) /content/forkliftvideo.mp4: 384x640 (no detections), 6.7ms\n",
            "video 1/1 (frame 1448/1522) /content/forkliftvideo.mp4: 384x640 (no detections), 7.0ms\n",
            "video 1/1 (frame 1449/1522) /content/forkliftvideo.mp4: 384x640 (no detections), 8.0ms\n",
            "video 1/1 (frame 1450/1522) /content/forkliftvideo.mp4: 384x640 (no detections), 6.4ms\n",
            "video 1/1 (frame 1451/1522) /content/forkliftvideo.mp4: 384x640 (no detections), 7.0ms\n",
            "video 1/1 (frame 1452/1522) /content/forkliftvideo.mp4: 384x640 (no detections), 6.7ms\n",
            "video 1/1 (frame 1453/1522) /content/forkliftvideo.mp4: 384x640 (no detections), 6.7ms\n",
            "video 1/1 (frame 1454/1522) /content/forkliftvideo.mp4: 384x640 (no detections), 6.8ms\n",
            "video 1/1 (frame 1455/1522) /content/forkliftvideo.mp4: 384x640 (no detections), 7.3ms\n",
            "video 1/1 (frame 1456/1522) /content/forkliftvideo.mp4: 384x640 (no detections), 6.8ms\n",
            "video 1/1 (frame 1457/1522) /content/forkliftvideo.mp4: 384x640 1 forklift, 6.8ms\n",
            "video 1/1 (frame 1458/1522) /content/forkliftvideo.mp4: 384x640 (no detections), 10.0ms\n",
            "video 1/1 (frame 1459/1522) /content/forkliftvideo.mp4: 384x640 1 forklift, 8.4ms\n",
            "video 1/1 (frame 1460/1522) /content/forkliftvideo.mp4: 384x640 1 forklift, 7.8ms\n",
            "video 1/1 (frame 1461/1522) /content/forkliftvideo.mp4: 384x640 1 forklift, 10.6ms\n",
            "video 1/1 (frame 1462/1522) /content/forkliftvideo.mp4: 384x640 (no detections), 7.7ms\n",
            "video 1/1 (frame 1463/1522) /content/forkliftvideo.mp4: 384x640 2 forklifts, 1 person, 8.4ms\n",
            "video 1/1 (frame 1464/1522) /content/forkliftvideo.mp4: 384x640 2 forklifts, 1 person, 6.8ms\n",
            "video 1/1 (frame 1465/1522) /content/forkliftvideo.mp4: 384x640 2 forklifts, 1 person, 6.4ms\n",
            "video 1/1 (frame 1466/1522) /content/forkliftvideo.mp4: 384x640 2 forklifts, 2 persons, 6.3ms\n",
            "video 1/1 (frame 1467/1522) /content/forkliftvideo.mp4: 384x640 2 forklifts, 2 persons, 9.3ms\n",
            "video 1/1 (frame 1468/1522) /content/forkliftvideo.mp4: 384x640 2 forklifts, 1 person, 10.7ms\n",
            "video 1/1 (frame 1469/1522) /content/forkliftvideo.mp4: 384x640 2 forklifts, 1 person, 7.5ms\n",
            "video 1/1 (frame 1470/1522) /content/forkliftvideo.mp4: 384x640 2 forklifts, 1 person, 8.1ms\n",
            "video 1/1 (frame 1471/1522) /content/forkliftvideo.mp4: 384x640 1 forklift, 1 person, 6.6ms\n",
            "video 1/1 (frame 1472/1522) /content/forkliftvideo.mp4: 384x640 1 forklift, 1 person, 6.5ms\n",
            "video 1/1 (frame 1473/1522) /content/forkliftvideo.mp4: 384x640 1 forklift, 1 person, 8.6ms\n",
            "video 1/1 (frame 1474/1522) /content/forkliftvideo.mp4: 384x640 2 forklifts, 2 persons, 6.5ms\n",
            "video 1/1 (frame 1475/1522) /content/forkliftvideo.mp4: 384x640 2 forklifts, 2 persons, 6.6ms\n",
            "video 1/1 (frame 1476/1522) /content/forkliftvideo.mp4: 384x640 2 forklifts, 2 persons, 9.3ms\n",
            "video 1/1 (frame 1477/1522) /content/forkliftvideo.mp4: 384x640 1 forklift, 1 person, 6.7ms\n",
            "video 1/1 (frame 1478/1522) /content/forkliftvideo.mp4: 384x640 2 forklifts, 1 person, 7.1ms\n",
            "video 1/1 (frame 1479/1522) /content/forkliftvideo.mp4: 384x640 2 forklifts, 1 person, 6.8ms\n",
            "video 1/1 (frame 1480/1522) /content/forkliftvideo.mp4: 384x640 2 forklifts, 2 persons, 6.7ms\n",
            "video 1/1 (frame 1481/1522) /content/forkliftvideo.mp4: 384x640 1 forklift, 9.0ms\n",
            "video 1/1 (frame 1482/1522) /content/forkliftvideo.mp4: 384x640 1 forklift, 8.6ms\n",
            "video 1/1 (frame 1483/1522) /content/forkliftvideo.mp4: 384x640 1 forklift, 7.7ms\n",
            "video 1/1 (frame 1484/1522) /content/forkliftvideo.mp4: 384x640 1 forklift, 7.0ms\n",
            "video 1/1 (frame 1485/1522) /content/forkliftvideo.mp4: 384x640 1 forklift, 8.8ms\n",
            "video 1/1 (frame 1486/1522) /content/forkliftvideo.mp4: 384x640 1 forklift, 7.5ms\n",
            "video 1/1 (frame 1487/1522) /content/forkliftvideo.mp4: 384x640 2 forklifts, 7.4ms\n",
            "video 1/1 (frame 1488/1522) /content/forkliftvideo.mp4: 384x640 1 forklift, 7.4ms\n",
            "video 1/1 (frame 1489/1522) /content/forkliftvideo.mp4: 384x640 2 forklifts, 6.8ms\n",
            "video 1/1 (frame 1490/1522) /content/forkliftvideo.mp4: 384x640 1 forklift, 7.2ms\n",
            "video 1/1 (frame 1491/1522) /content/forkliftvideo.mp4: 384x640 1 forklift, 6.4ms\n",
            "video 1/1 (frame 1492/1522) /content/forkliftvideo.mp4: 384x640 1 forklift, 7.9ms\n",
            "video 1/1 (frame 1493/1522) /content/forkliftvideo.mp4: 384x640 1 forklift, 6.4ms\n",
            "video 1/1 (frame 1494/1522) /content/forkliftvideo.mp4: 384x640 2 forklifts, 2 persons, 8.4ms\n",
            "video 1/1 (frame 1495/1522) /content/forkliftvideo.mp4: 384x640 1 forklift, 1 person, 8.5ms\n",
            "video 1/1 (frame 1496/1522) /content/forkliftvideo.mp4: 384x640 1 forklift, 1 person, 7.8ms\n",
            "video 1/1 (frame 1497/1522) /content/forkliftvideo.mp4: 384x640 1 forklift, 2 persons, 6.7ms\n",
            "video 1/1 (frame 1498/1522) /content/forkliftvideo.mp4: 384x640 1 forklift, 2 persons, 6.7ms\n",
            "video 1/1 (frame 1499/1522) /content/forkliftvideo.mp4: 384x640 1 forklift, 2 persons, 7.5ms\n",
            "video 1/1 (frame 1500/1522) /content/forkliftvideo.mp4: 384x640 1 forklift, 2 persons, 8.9ms\n",
            "video 1/1 (frame 1501/1522) /content/forkliftvideo.mp4: 384x640 1 forklift, 2 persons, 6.6ms\n",
            "video 1/1 (frame 1502/1522) /content/forkliftvideo.mp4: 384x640 1 forklift, 3 persons, 9.3ms\n",
            "video 1/1 (frame 1503/1522) /content/forkliftvideo.mp4: 384x640 1 forklift, 2 persons, 7.1ms\n",
            "video 1/1 (frame 1504/1522) /content/forkliftvideo.mp4: 384x640 1 forklift, 3 persons, 11.5ms\n",
            "video 1/1 (frame 1505/1522) /content/forkliftvideo.mp4: 384x640 1 forklift, 3 persons, 8.0ms\n",
            "video 1/1 (frame 1506/1522) /content/forkliftvideo.mp4: 384x640 1 forklift, 1 person, 10.5ms\n",
            "video 1/1 (frame 1507/1522) /content/forkliftvideo.mp4: 384x640 1 forklift, 1 person, 7.8ms\n",
            "video 1/1 (frame 1508/1522) /content/forkliftvideo.mp4: 384x640 1 forklift, 1 person, 8.0ms\n",
            "video 1/1 (frame 1509/1522) /content/forkliftvideo.mp4: 384x640 1 forklift, 1 person, 11.7ms\n",
            "video 1/1 (frame 1510/1522) /content/forkliftvideo.mp4: 384x640 1 forklift, 1 person, 6.4ms\n",
            "video 1/1 (frame 1511/1522) /content/forkliftvideo.mp4: 384x640 1 forklift, 1 person, 9.3ms\n",
            "video 1/1 (frame 1512/1522) /content/forkliftvideo.mp4: 384x640 1 forklift, 1 person, 6.5ms\n",
            "video 1/1 (frame 1513/1522) /content/forkliftvideo.mp4: 384x640 1 forklift, 1 person, 6.6ms\n",
            "video 1/1 (frame 1514/1522) /content/forkliftvideo.mp4: 384x640 1 forklift, 1 person, 12.6ms\n",
            "video 1/1 (frame 1515/1522) /content/forkliftvideo.mp4: 384x640 1 forklift, 2 persons, 8.5ms\n",
            "video 1/1 (frame 1516/1522) /content/forkliftvideo.mp4: 384x640 2 forklifts, 1 person, 6.4ms\n",
            "video 1/1 (frame 1517/1522) /content/forkliftvideo.mp4: 384x640 1 forklift, 1 person, 8.0ms\n",
            "video 1/1 (frame 1518/1522) /content/forkliftvideo.mp4: 384x640 1 forklift, 1 person, 7.5ms\n",
            "video 1/1 (frame 1519/1522) /content/forkliftvideo.mp4: 384x640 2 forklifts, 1 person, 6.4ms\n",
            "video 1/1 (frame 1520/1522) /content/forkliftvideo.mp4: 384x640 1 forklift, 6.5ms\n",
            "video 1/1 (frame 1521/1522) /content/forkliftvideo.mp4: 384x640 1 forklift, 10.7ms\n",
            "video 1/1 (frame 1522/1522) /content/forkliftvideo.mp4: 384x640 1 person, 6.6ms\n",
            "Speed: 3.3ms preprocess, 8.1ms inference, 1.1ms postprocess per image at shape (1, 3, 384, 640)\n",
            "Results saved to \u001b[1mruns/detect/predict2\u001b[0m\n"
          ]
        }
      ]
    },
    {
      "cell_type": "code",
      "source": [
        "!zip -r yolo_dataset.zip /content/yolo_dataset\n"
      ],
      "metadata": {
        "colab": {
          "base_uri": "https://localhost:8080/"
        },
        "id": "fgm5g0Rns2EM",
        "outputId": "37f33a51-399c-4e54-b610-387e8278e1c7"
      },
      "execution_count": null,
      "outputs": [
        {
          "output_type": "stream",
          "name": "stdout",
          "text": [
            "  adding: content/yolo_dataset/ (stored 0%)\n",
            "  adding: content/yolo_dataset/val/ (stored 0%)\n",
            "  adding: content/yolo_dataset/val/labels.cache (deflated 86%)\n",
            "  adding: content/yolo_dataset/val/labels/ (stored 0%)\n",
            "  adding: content/yolo_dataset/val/labels/image_248.txt (deflated 15%)\n",
            "  adding: content/yolo_dataset/val/labels/image_279.txt (deflated 23%)\n",
            "  adding: content/yolo_dataset/val/labels/image_226.txt (deflated 5%)\n",
            "  adding: content/yolo_dataset/val/labels/image_229.txt (deflated 5%)\n",
            "  adding: content/yolo_dataset/val/labels/image_206.txt (deflated 10%)\n",
            "  adding: content/yolo_dataset/val/labels/image_293.txt (deflated 21%)\n",
            "  adding: content/yolo_dataset/val/labels/image_290.txt (deflated 13%)\n",
            "  adding: content/yolo_dataset/val/labels/image_233.txt (deflated 18%)\n",
            "  adding: content/yolo_dataset/val/labels/image_270.txt (deflated 8%)\n",
            "  adding: content/yolo_dataset/val/labels/image_240.txt (deflated 8%)\n",
            "  adding: content/yolo_dataset/val/labels/image_227.txt (deflated 23%)\n",
            "  adding: content/yolo_dataset/val/labels/image_309.txt (deflated 5%)\n",
            "  adding: content/yolo_dataset/val/labels/image_301.txt (deflated 10%)\n",
            "  adding: content/yolo_dataset/val/labels/image_276.txt (deflated 10%)\n",
            "  adding: content/yolo_dataset/val/labels/image_208.txt (deflated 18%)\n",
            "  adding: content/yolo_dataset/val/labels/image_257.txt (deflated 18%)\n",
            "  adding: content/yolo_dataset/val/labels/image_243.txt (deflated 13%)\n",
            "  adding: content/yolo_dataset/val/labels/image_285.txt (deflated 8%)\n",
            "  adding: content/yolo_dataset/val/labels/image_259.txt (deflated 18%)\n",
            "  adding: content/yolo_dataset/val/labels/image_253.txt (deflated 10%)\n",
            "  adding: content/yolo_dataset/val/labels/image_210.txt (deflated 21%)\n",
            "  adding: content/yolo_dataset/val/labels/image_230.txt (deflated 8%)\n",
            "  adding: content/yolo_dataset/val/labels/image_228.txt (deflated 13%)\n",
            "  adding: content/yolo_dataset/val/labels/image_273.txt (deflated 5%)\n",
            "  adding: content/yolo_dataset/val/labels/image_283.txt (deflated 10%)\n",
            "  adding: content/yolo_dataset/val/labels/image_244.txt (deflated 13%)\n",
            "  adding: content/yolo_dataset/val/labels/image_277.txt (deflated 21%)\n",
            "  adding: content/yolo_dataset/val/labels/image_216.txt (deflated 8%)\n",
            "  adding: content/yolo_dataset/val/labels/image_211.txt (deflated 18%)\n",
            "  adding: content/yolo_dataset/val/labels/image_212.txt (deflated 10%)\n",
            "  adding: content/yolo_dataset/val/labels/image_215.txt (deflated 5%)\n",
            "  adding: content/yolo_dataset/val/labels/image_305.txt (deflated 10%)\n",
            "  adding: content/yolo_dataset/val/labels/image_278.txt (deflated 21%)\n",
            "  adding: content/yolo_dataset/val/labels/image_271.txt (deflated 5%)\n",
            "  adding: content/yolo_dataset/val/labels/image_234.txt (deflated 21%)\n",
            "  adding: content/yolo_dataset/val/labels/image_205.txt (deflated 13%)\n",
            "  adding: content/yolo_dataset/val/labels/image_2.txt (deflated 28%)\n",
            "  adding: content/yolo_dataset/val/labels/image_254.txt (deflated 8%)\n",
            "  adding: content/yolo_dataset/val/labels/image_199.txt (deflated 13%)\n",
            "  adding: content/yolo_dataset/val/labels/image_25.txt (deflated 26%)\n",
            "  adding: content/yolo_dataset/val/labels/image_289.txt (deflated 10%)\n",
            "  adding: content/yolo_dataset/val/labels/image_287.txt (deflated 10%)\n",
            "  adding: content/yolo_dataset/val/labels/image_247.txt (deflated 15%)\n",
            "  adding: content/yolo_dataset/val/labels/image_252.txt (deflated 18%)\n",
            "  adding: content/yolo_dataset/val/labels/image_275.txt (deflated 18%)\n",
            "  adding: content/yolo_dataset/val/labels/image_302.txt (deflated 8%)\n",
            "  adding: content/yolo_dataset/val/labels/image_214.txt (deflated 8%)\n",
            "  adding: content/yolo_dataset/val/labels/image_250.txt (deflated 15%)\n",
            "  adding: content/yolo_dataset/val/labels/image_223.txt (deflated 18%)\n",
            "  adding: content/yolo_dataset/val/labels/image_267.txt (deflated 5%)\n",
            "  adding: content/yolo_dataset/val/labels/image_297.txt (deflated 13%)\n",
            "  adding: content/yolo_dataset/val/labels/image_209.txt (deflated 18%)\n",
            "  adding: content/yolo_dataset/val/labels/image_24.txt (deflated 26%)\n",
            "  adding: content/yolo_dataset/val/labels/image_299.txt (deflated 18%)\n",
            "  adding: content/yolo_dataset/val/labels/image_235.txt (deflated 18%)\n",
            "  adding: content/yolo_dataset/val/labels/image_258.txt (deflated 8%)\n",
            "  adding: content/yolo_dataset/val/labels/image_291.txt (deflated 10%)\n",
            "  adding: content/yolo_dataset/val/labels/image_204.txt (deflated 10%)\n",
            "  adding: content/yolo_dataset/val/labels/image_201.txt (deflated 8%)\n",
            "  adding: content/yolo_dataset/val/labels/image_237.txt (deflated 8%)\n",
            "  adding: content/yolo_dataset/val/labels/image_245.txt (deflated 5%)\n",
            "  adding: content/yolo_dataset/val/labels/image_28.txt (deflated 24%)\n",
            "  adding: content/yolo_dataset/val/labels/image_294.txt (deflated 13%)\n",
            "  adding: content/yolo_dataset/val/labels/image_241.txt (deflated 21%)\n",
            "  adding: content/yolo_dataset/val/labels/image_288.txt (deflated 13%)\n",
            "  adding: content/yolo_dataset/val/labels/image_306.txt (deflated 10%)\n",
            "  adding: content/yolo_dataset/val/labels/image_281.txt (deflated 13%)\n",
            "  adding: content/yolo_dataset/val/labels/image_286.txt (deflated 10%)\n",
            "  adding: content/yolo_dataset/val/labels/image_221.txt (deflated 10%)\n",
            "  adding: content/yolo_dataset/val/labels/image_29.txt (deflated 26%)\n",
            "  adding: content/yolo_dataset/val/labels/image_295.txt (deflated 8%)\n",
            "  adding: content/yolo_dataset/val/labels/image_21.txt (deflated 24%)\n",
            "  adding: content/yolo_dataset/val/labels/image_261.txt (deflated 8%)\n",
            "  adding: content/yolo_dataset/val/labels/image_282.txt (deflated 15%)\n",
            "  adding: content/yolo_dataset/val/labels/image_307.txt (deflated 21%)\n",
            "  adding: content/yolo_dataset/val/labels/image_266.txt (deflated 27%)\n",
            "  adding: content/yolo_dataset/val/labels/image_26.txt (deflated 29%)\n",
            "  adding: content/yolo_dataset/val/labels/image_30.txt (deflated 27%)\n",
            "  adding: content/yolo_dataset/val/labels/image_203.txt (deflated 13%)\n",
            "  adding: content/yolo_dataset/val/labels/image_207.txt (deflated 8%)\n",
            "  adding: content/yolo_dataset/val/labels/image_260.txt (deflated 18%)\n",
            "  adding: content/yolo_dataset/val/labels/image_219.txt (deflated 15%)\n",
            "  adding: content/yolo_dataset/val/labels/image_224.txt (deflated 13%)\n",
            "  adding: content/yolo_dataset/val/labels/image_268.txt (deflated 15%)\n",
            "  adding: content/yolo_dataset/val/labels/image_213.txt (deflated 15%)\n",
            "  adding: content/yolo_dataset/val/labels/image_217.txt (deflated 8%)\n",
            "  adding: content/yolo_dataset/val/labels/image_292.txt (deflated 21%)\n",
            "  adding: content/yolo_dataset/val/labels/image_280.txt (deflated 5%)\n",
            "  adding: content/yolo_dataset/val/labels/image_256.txt (deflated 5%)\n",
            "  adding: content/yolo_dataset/val/labels/image_236.txt (deflated 8%)\n",
            "  adding: content/yolo_dataset/val/labels/image_27.txt (deflated 27%)\n",
            "  adding: content/yolo_dataset/val/labels/image_222.txt (deflated 23%)\n",
            "  adding: content/yolo_dataset/val/labels/image_218.txt (deflated 15%)\n",
            "  adding: content/yolo_dataset/val/labels/image_22.txt (deflated 10%)\n",
            "  adding: content/yolo_dataset/val/labels/image_202.txt (deflated 5%)\n",
            "  adding: content/yolo_dataset/val/labels/image_20.txt (deflated 21%)\n",
            "  adding: content/yolo_dataset/val/labels/image_246.txt (deflated 26%)\n",
            "  adding: content/yolo_dataset/val/labels/image_262.txt (deflated 8%)\n",
            "  adding: content/yolo_dataset/val/labels/image_231.txt (deflated 10%)\n",
            "  adding: content/yolo_dataset/val/labels/image_308.txt (deflated 10%)\n",
            "  adding: content/yolo_dataset/val/labels/image_220.txt (deflated 15%)\n",
            "  adding: content/yolo_dataset/val/labels/image_303.txt (deflated 15%)\n",
            "  adding: content/yolo_dataset/val/labels/image_239.txt (deflated 10%)\n",
            "  adding: content/yolo_dataset/val/labels/image_238.txt (deflated 21%)\n",
            "  adding: content/yolo_dataset/val/labels/image_269.txt (deflated 5%)\n",
            "  adding: content/yolo_dataset/val/labels/image_249.txt (deflated 5%)\n",
            "  adding: content/yolo_dataset/val/labels/image_296.txt (deflated 8%)\n",
            "  adding: content/yolo_dataset/val/labels/image_3.txt (deflated 13%)\n",
            "  adding: content/yolo_dataset/val/labels/image_300.txt (deflated 10%)\n",
            "  adding: content/yolo_dataset/val/labels/image_263.txt (deflated 5%)\n",
            "  adding: content/yolo_dataset/val/labels/image_251.txt (deflated 15%)\n",
            "  adding: content/yolo_dataset/val/labels/image_274.txt (deflated 15%)\n",
            "  adding: content/yolo_dataset/val/labels/image_304.txt (deflated 13%)\n",
            "  adding: content/yolo_dataset/val/labels/image_242.txt (deflated 15%)\n",
            "  adding: content/yolo_dataset/val/labels/image_255.txt (deflated 10%)\n",
            "  adding: content/yolo_dataset/val/labels/image_264.txt (deflated 13%)\n",
            "  adding: content/yolo_dataset/val/labels/image_23.txt (deflated 28%)\n",
            "  adding: content/yolo_dataset/val/labels/image_232.txt (deflated 13%)\n",
            "  adding: content/yolo_dataset/val/labels/image_200.txt (deflated 10%)\n",
            "  adding: content/yolo_dataset/val/labels/image_272.txt (deflated 13%)\n",
            "  adding: content/yolo_dataset/val/labels/image_298.txt (deflated 13%)\n",
            "  adding: content/yolo_dataset/val/labels/image_284.txt (deflated 5%)\n",
            "  adding: content/yolo_dataset/val/labels/image_225.txt (deflated 15%)\n",
            "  adding: content/yolo_dataset/val/labels/image_265.txt (deflated 26%)\n",
            "  adding: content/yolo_dataset/val/images/ (stored 0%)\n",
            "  adding: content/yolo_dataset/val/images/image_223.jpg (deflated 1%)\n",
            "  adding: content/yolo_dataset/val/images/image_290.jpg (deflated 1%)\n",
            "  adding: content/yolo_dataset/val/images/image_213.jpg (deflated 1%)\n",
            "  adding: content/yolo_dataset/val/images/image_247.jpg (deflated 1%)\n",
            "  adding: content/yolo_dataset/val/images/image_300.jpg (deflated 0%)\n",
            "  adding: content/yolo_dataset/val/images/image_296.jpg (deflated 5%)\n",
            "  adding: content/yolo_dataset/val/images/image_256.jpg (deflated 7%)\n",
            "  adding: content/yolo_dataset/val/images/image_225.jpg (deflated 1%)\n",
            "  adding: content/yolo_dataset/val/images/image_217.jpg (deflated 1%)\n",
            "  adding: content/yolo_dataset/val/images/image_288.jpg (deflated 1%)\n",
            "  adding: content/yolo_dataset/val/images/image_284.jpg (deflated 0%)\n",
            "  adding: content/yolo_dataset/val/images/image_264.jpg (deflated 6%)\n",
            "  adding: content/yolo_dataset/val/images/image_214.jpg (deflated 1%)\n",
            "  adding: content/yolo_dataset/val/images/image_21.jpg (deflated 0%)\n",
            "  adding: content/yolo_dataset/val/images/image_265.jpg (deflated 1%)\n",
            "  adding: content/yolo_dataset/val/images/image_222.jpg (deflated 1%)\n",
            "  adding: content/yolo_dataset/val/images/image_307.jpg (deflated 0%)\n",
            "  adding: content/yolo_dataset/val/images/image_268.jpg (deflated 1%)\n",
            "  adding: content/yolo_dataset/val/images/image_285.jpg (deflated 1%)\n",
            "  adding: content/yolo_dataset/val/images/image_252.jpg (deflated 7%)\n",
            "  adding: content/yolo_dataset/val/images/image_245.jpg (deflated 1%)\n",
            "  adding: content/yolo_dataset/val/images/image_266.jpg (deflated 2%)\n",
            "  adding: content/yolo_dataset/val/images/image_262.jpg (deflated 7%)\n",
            "  adding: content/yolo_dataset/val/images/image_273.jpg (deflated 1%)\n",
            "  adding: content/yolo_dataset/val/images/image_248.jpg (deflated 1%)\n",
            "  adding: content/yolo_dataset/val/images/image_241.jpg (deflated 0%)\n",
            "  adding: content/yolo_dataset/val/images/image_208.jpg (deflated 1%)\n",
            "  adding: content/yolo_dataset/val/images/image_239.jpg (deflated 1%)\n",
            "  adding: content/yolo_dataset/val/images/image_292.jpg (deflated 1%)\n",
            "  adding: content/yolo_dataset/val/images/image_200.jpg (deflated 1%)\n",
            "  adding: content/yolo_dataset/val/images/image_278.jpg (deflated 1%)\n",
            "  adding: content/yolo_dataset/val/images/image_260.jpg (deflated 7%)\n",
            "  adding: content/yolo_dataset/val/images/image_211.jpg (deflated 1%)\n",
            "  adding: content/yolo_dataset/val/images/image_226.jpg (deflated 0%)\n",
            "  adding: content/yolo_dataset/val/images/image_282.jpg (deflated 0%)\n",
            "  adding: content/yolo_dataset/val/images/image_29.jpg (deflated 0%)\n",
            "  adding: content/yolo_dataset/val/images/image_220.jpg (deflated 2%)\n",
            "  adding: content/yolo_dataset/val/images/image_254.jpg (deflated 7%)\n",
            "  adding: content/yolo_dataset/val/images/image_275.jpg (deflated 2%)\n",
            "  adding: content/yolo_dataset/val/images/image_287.jpg (deflated 1%)\n",
            "  adding: content/yolo_dataset/val/images/image_216.jpg (deflated 1%)\n",
            "  adding: content/yolo_dataset/val/images/image_259.jpg (deflated 7%)\n",
            "  adding: content/yolo_dataset/val/images/image_235.jpg (deflated 0%)\n",
            "  adding: content/yolo_dataset/val/images/image_231.jpg (deflated 1%)\n",
            "  adding: content/yolo_dataset/val/images/image_202.jpg (deflated 0%)\n",
            "  adding: content/yolo_dataset/val/images/image_279.jpg (deflated 1%)\n",
            "  adding: content/yolo_dataset/val/images/image_277.jpg (deflated 1%)\n",
            "  adding: content/yolo_dataset/val/images/image_297.jpg (deflated 5%)\n",
            "  adding: content/yolo_dataset/val/images/image_27.jpg (deflated 0%)\n",
            "  adding: content/yolo_dataset/val/images/image_210.jpg (deflated 1%)\n",
            "  adding: content/yolo_dataset/val/images/image_224.jpg (deflated 2%)\n",
            "  adding: content/yolo_dataset/val/images/image_24.jpg (deflated 1%)\n",
            "  adding: content/yolo_dataset/val/images/image_295.jpg (deflated 1%)\n",
            "  adding: content/yolo_dataset/val/images/image_236.jpg (deflated 1%)\n",
            "  adding: content/yolo_dataset/val/images/image_243.jpg (deflated 0%)\n",
            "  adding: content/yolo_dataset/val/images/image_249.jpg (deflated 0%)\n",
            "  adding: content/yolo_dataset/val/images/image_253.jpg (deflated 7%)\n",
            "  adding: content/yolo_dataset/val/images/image_267.jpg (deflated 1%)\n",
            "  adding: content/yolo_dataset/val/images/image_201.jpg (deflated 1%)\n",
            "  adding: content/yolo_dataset/val/images/image_230.jpg (deflated 0%)\n",
            "  adding: content/yolo_dataset/val/images/image_251.jpg (deflated 1%)\n",
            "  adding: content/yolo_dataset/val/images/image_281.jpg (deflated 1%)\n",
            "  adding: content/yolo_dataset/val/images/image_215.jpg (deflated 0%)\n",
            "  adding: content/yolo_dataset/val/images/image_298.jpg (deflated 5%)\n",
            "  adding: content/yolo_dataset/val/images/image_309.jpg (deflated 0%)\n",
            "  adding: content/yolo_dataset/val/images/image_258.jpg (deflated 0%)\n",
            "  adding: content/yolo_dataset/val/images/image_293.jpg (deflated 1%)\n",
            "  adding: content/yolo_dataset/val/images/image_218.jpg (deflated 1%)\n",
            "  adding: content/yolo_dataset/val/images/image_204.jpg (deflated 1%)\n",
            "  adding: content/yolo_dataset/val/images/image_271.jpg (deflated 1%)\n",
            "  adding: content/yolo_dataset/val/images/image_234.jpg (deflated 0%)\n",
            "  adding: content/yolo_dataset/val/images/image_305.jpg (deflated 0%)\n",
            "  adding: content/yolo_dataset/val/images/image_212.jpg (deflated 1%)\n",
            "  adding: content/yolo_dataset/val/images/image_246.jpg (deflated 0%)\n",
            "  adding: content/yolo_dataset/val/images/image_205.jpg (deflated 1%)\n",
            "  adding: content/yolo_dataset/val/images/image_199.jpg (deflated 1%)\n",
            "  adding: content/yolo_dataset/val/images/image_242.jpg (deflated 0%)\n",
            "  adding: content/yolo_dataset/val/images/image_291.jpg (deflated 1%)\n",
            "  adding: content/yolo_dataset/val/images/image_26.jpg (deflated 0%)\n",
            "  adding: content/yolo_dataset/val/images/image_232.jpg (deflated 1%)\n",
            "  adding: content/yolo_dataset/val/images/image_209.jpg (deflated 1%)\n",
            "  adding: content/yolo_dataset/val/images/image_280.jpg (deflated 0%)\n",
            "  adding: content/yolo_dataset/val/images/image_22.jpg (deflated 0%)\n",
            "  adding: content/yolo_dataset/val/images/image_228.jpg (deflated 1%)\n",
            "  adding: content/yolo_dataset/val/images/image_306.jpg (deflated 1%)\n",
            "  adding: content/yolo_dataset/val/images/image_261.jpg (deflated 7%)\n",
            "  adding: content/yolo_dataset/val/images/image_20.jpg (deflated 0%)\n",
            "  adding: content/yolo_dataset/val/images/image_3.jpg (deflated 0%)\n",
            "  adding: content/yolo_dataset/val/images/image_299.jpg (deflated 0%)\n",
            "  adding: content/yolo_dataset/val/images/image_276.jpg (deflated 1%)\n",
            "  adding: content/yolo_dataset/val/images/image_229.jpg (deflated 0%)\n",
            "  adding: content/yolo_dataset/val/images/image_302.jpg (deflated 0%)\n",
            "  adding: content/yolo_dataset/val/images/image_23.jpg (deflated 0%)\n",
            "  adding: content/yolo_dataset/val/images/image_269.jpg (deflated 0%)\n",
            "  adding: content/yolo_dataset/val/images/image_203.jpg (deflated 1%)\n",
            "  adding: content/yolo_dataset/val/images/image_272.jpg (deflated 2%)\n",
            "  adding: content/yolo_dataset/val/images/image_270.jpg (deflated 1%)\n",
            "  adding: content/yolo_dataset/val/images/image_227.jpg (deflated 1%)\n",
            "  adding: content/yolo_dataset/val/images/image_286.jpg (deflated 0%)\n",
            "  adding: content/yolo_dataset/val/images/image_219.jpg (deflated 1%)\n",
            "  adding: content/yolo_dataset/val/images/image_30.jpg (deflated 0%)\n",
            "  adding: content/yolo_dataset/val/images/image_294.jpg (deflated 1%)\n",
            "  adding: content/yolo_dataset/val/images/image_207.jpg (deflated 2%)\n",
            "  adding: content/yolo_dataset/val/images/image_301.jpg (deflated 0%)\n",
            "  adding: content/yolo_dataset/val/images/image_250.jpg (deflated 0%)\n",
            "  adding: content/yolo_dataset/val/images/image_244.jpg (deflated 0%)\n",
            "  adding: content/yolo_dataset/val/images/image_255.jpg (deflated 7%)\n",
            "  adding: content/yolo_dataset/val/images/image_257.jpg (deflated 7%)\n",
            "  adding: content/yolo_dataset/val/images/image_308.jpg (deflated 0%)\n",
            "  adding: content/yolo_dataset/val/images/image_283.jpg (deflated 0%)\n",
            "  adding: content/yolo_dataset/val/images/image_304.jpg (deflated 0%)\n",
            "  adding: content/yolo_dataset/val/images/image_25.jpg (deflated 0%)\n",
            "  adding: content/yolo_dataset/val/images/image_206.jpg (deflated 1%)\n",
            "  adding: content/yolo_dataset/val/images/image_303.jpg (deflated 0%)\n",
            "  adding: content/yolo_dataset/val/images/image_233.jpg (deflated 0%)\n",
            "  adding: content/yolo_dataset/val/images/image_2.jpg (deflated 0%)\n",
            "  adding: content/yolo_dataset/val/images/image_274.jpg (deflated 1%)\n",
            "  adding: content/yolo_dataset/val/images/image_221.jpg (deflated 1%)\n",
            "  adding: content/yolo_dataset/val/images/image_263.jpg (deflated 1%)\n",
            "  adding: content/yolo_dataset/val/images/image_289.jpg (deflated 1%)\n",
            "  adding: content/yolo_dataset/val/images/image_237.jpg (deflated 1%)\n",
            "  adding: content/yolo_dataset/val/images/image_238.jpg (deflated 0%)\n",
            "  adding: content/yolo_dataset/val/images/image_240.jpg (deflated 0%)\n",
            "  adding: content/yolo_dataset/val/images/image_28.jpg (deflated 0%)\n",
            "  adding: content/yolo_dataset/train/ (stored 0%)\n",
            "  adding: content/yolo_dataset/train/labels.cache (deflated 76%)\n",
            "  adding: content/yolo_dataset/train/labels/ (stored 0%)\n",
            "  adding: content/yolo_dataset/train/labels/dataq_106.txt (deflated 38%)\n",
            "  adding: content/yolo_dataset/train/labels/PH2LGQ76AMCK_jpg.rf.60ddc59620762f9081d72766dd9db8bf.txt (deflated 23%)\n",
            "  adding: content/yolo_dataset/train/labels/HYU3I5172K0I_jpg.rf.e95df8aaf283548aed65a21506d72a5d.txt (stored 0%)\n",
            "  adding: content/yolo_dataset/train/labels/datax_126.txt (deflated 25%)\n",
            "  adding: content/yolo_dataset/train/labels/data_16.txt (deflated 48%)\n",
            "  adding: content/yolo_dataset/train/labels/data_13.txt (deflated 5%)\n",
            "  adding: content/yolo_dataset/train/labels/data_110.txt (deflated 37%)\n",
            "  adding: content/yolo_dataset/train/labels/data_112.txt (deflated 43%)\n",
            "  adding: content/yolo_dataset/train/labels/dataq_127.txt (deflated 38%)\n",
            "  adding: content/yolo_dataset/train/labels/data_242.txt (deflated 47%)\n",
            "  adding: content/yolo_dataset/train/labels/data_98.txt (deflated 27%)\n",
            "  adding: content/yolo_dataset/train/labels/data_280.txt (deflated 49%)\n",
            "  adding: content/yolo_dataset/train/labels/dataq_135.txt (deflated 31%)\n",
            "  adding: content/yolo_dataset/train/labels/AOJABFLL5ZMF_jpg.rf.eefb86279f7c81180ae9d15f201e5d25.txt (deflated 50%)\n",
            "  adding: content/yolo_dataset/train/labels/data_235.txt (deflated 44%)\n",
            "  adding: content/yolo_dataset/train/labels/5LX6AEYSTTOX_jpg.rf.9d665077d62dda43d2acd02eb103f4b4.txt (deflated 47%)\n",
            "  adding: content/yolo_dataset/train/labels/ESOPR4IXWXEE_jpg.rf.5ed295e9a4ec04dafe886a9f90060467.txt (deflated 38%)\n",
            "  adding: content/yolo_dataset/train/labels/dataq_14.txt (deflated 28%)\n",
            "  adding: content/yolo_dataset/train/labels/datax_58.txt (deflated 28%)\n",
            "  adding: content/yolo_dataset/train/labels/datax_41.txt (deflated 43%)\n",
            "  adding: content/yolo_dataset/train/labels/data_275.txt (deflated 51%)\n",
            "  adding: content/yolo_dataset/train/labels/datax_17.txt (deflated 27%)\n",
            "  adding: content/yolo_dataset/train/labels/dataq_73.txt (deflated 29%)\n",
            "  adding: content/yolo_dataset/train/labels/8YVPWMG6TN0R_jpg.rf.bd4c56428686f49a204ecde8af10340b.txt (deflated 55%)\n",
            "  adding: content/yolo_dataset/train/labels/datax_22.txt (deflated 46%)\n",
            "  adding: content/yolo_dataset/train/labels/data_195.txt (deflated 38%)\n",
            "  adding: content/yolo_dataset/train/labels/data_184.txt (deflated 11%)\n",
            "  adding: content/yolo_dataset/train/labels/MN8O0XOXWRAL_jpg.rf.3d84a2e0c3ae6bee60e3f6eedc6fff58.txt (deflated 30%)\n",
            "  adding: content/yolo_dataset/train/labels/ZI89ROYM87IW_jpg.rf.08354055ec4d73f593712290a8517533.txt (deflated 33%)\n",
            "  adding: content/yolo_dataset/train/labels/data_228.txt (deflated 39%)\n",
            "  adding: content/yolo_dataset/train/labels/TV64DR0YEUCU_jpg.rf.f3eccd12a819546f86812268a9a848c0.txt (deflated 36%)\n",
            "  adding: content/yolo_dataset/train/labels/2ZEX9SO1O79P_jpg.rf.ed775df29113d51aa4a3885ed0d6bfd8.txt (deflated 51%)\n",
            "  adding: content/yolo_dataset/train/labels/data_255.txt (deflated 37%)\n",
            "  adding: content/yolo_dataset/train/labels/data_71.txt (deflated 28%)\n",
            "  adding: content/yolo_dataset/train/labels/678D6SF75N64_jpg.rf.0671093665f19a427d2730af8a62000f.txt (deflated 44%)\n",
            "  adding: content/yolo_dataset/train/labels/image_116.txt (deflated 27%)\n",
            "  adding: content/yolo_dataset/train/labels/data_209.txt (deflated 44%)\n",
            "  adding: content/yolo_dataset/train/labels/data_193.txt (deflated 43%)\n",
            "  adding: content/yolo_dataset/train/labels/datax_50.txt (deflated 29%)\n",
            "  adding: content/yolo_dataset/train/labels/B5IBHEJZOKCH_jpg.rf.7b6edccd22c6dfeb9360b40abc32871b.txt (deflated 62%)\n",
            "  adding: content/yolo_dataset/train/labels/image_152.txt (deflated 26%)\n",
            "  adding: content/yolo_dataset/train/labels/dataq_40.txt (deflated 29%)\n",
            "  adding: content/yolo_dataset/train/labels/data_170.txt (deflated 48%)\n",
            "  adding: content/yolo_dataset/train/labels/LM324M9ASGHY_jpg.rf.22fe090ea98e851d1a3c332e92a662ca.txt (deflated 48%)\n",
            "  adding: content/yolo_dataset/train/labels/data_277.txt (deflated 49%)\n",
            "  adding: content/yolo_dataset/train/labels/UB0BIMJEO6VV_jpg.rf.6c01854b34b3a3dea71351807ddb4a8e.txt (deflated 54%)\n",
            "  adding: content/yolo_dataset/train/labels/data_91.txt (deflated 49%)\n",
            "  adding: content/yolo_dataset/train/labels/image_167.txt (deflated 27%)\n",
            "  adding: content/yolo_dataset/train/labels/data_239.txt (deflated 53%)\n",
            "  adding: content/yolo_dataset/train/labels/dataq_122.txt (deflated 14%)\n",
            "  adding: content/yolo_dataset/train/labels/datax_43.txt (deflated 5%)\n",
            "  adding: content/yolo_dataset/train/labels/datax_99.txt (deflated 27%)\n",
            "  adding: content/yolo_dataset/train/labels/datax_112.txt (deflated 29%)\n",
            "  adding: content/yolo_dataset/train/labels/VL70S53JI8ZM_jpg.rf.60d8f42954f5cca69581736f82ea5de9.txt (deflated 66%)\n",
            "  adding: content/yolo_dataset/train/labels/ME0I4GI2F986_jpg.rf.e378acce6c3fc1d74c2fe1acbcb495b9.txt (deflated 27%)\n",
            "  adding: content/yolo_dataset/train/labels/datax_84.txt (deflated 25%)\n",
            "  adding: content/yolo_dataset/train/labels/X7LY4HTFT2XE_jpg.rf.b171bec13657347f0bd0af194cd38960.txt (deflated 29%)\n",
            "  adding: content/yolo_dataset/train/labels/datax_3.txt (deflated 31%)\n",
            "  adding: content/yolo_dataset/train/labels/ZBSHFC3OHSL5_jpg.rf.2d0351e8d6b3cd6cb45d75679f20b908.txt (deflated 42%)\n",
            "  adding: content/yolo_dataset/train/labels/XAJ6ZAC975XQ_jpg.rf.62c3f8b8f1ecb3977a1665b258be0542.txt (deflated 49%)\n",
            "  adding: content/yolo_dataset/train/labels/dataq_153.txt (deflated 28%)\n",
            "  adding: content/yolo_dataset/train/labels/2ITU1GQBQO6Y_jpg.rf.d4ede5610eceecbb3062029bded3c70e.txt (deflated 51%)\n",
            "  adding: content/yolo_dataset/train/labels/1KILJRO4UDBB_jpg.rf.cd8d721dabf39a247ac44d2518a1dfc0.txt (deflated 36%)\n",
            "  adding: content/yolo_dataset/train/labels/data_163.txt (deflated 44%)\n",
            "  adding: content/yolo_dataset/train/labels/dataq_68.txt (deflated 39%)\n",
            "  adding: content/yolo_dataset/train/labels/image_16.txt (deflated 5%)\n",
            "  adding: content/yolo_dataset/train/labels/data_175.txt (deflated 39%)\n",
            "  adding: content/yolo_dataset/train/labels/G67JOACJXYE5_jpg.rf.dc6cf1c326c7fc7ad67dd11ba2aa3db5.txt (deflated 56%)\n",
            "  adding: content/yolo_dataset/train/labels/data_151.txt (deflated 37%)\n",
            "  adding: content/yolo_dataset/train/labels/dataq_45.txt (deflated 28%)\n",
            "  adding: content/yolo_dataset/train/labels/image_103.txt (deflated 39%)\n",
            "  adding: content/yolo_dataset/train/labels/image_194.txt (deflated 21%)\n",
            "  adding: content/yolo_dataset/train/labels/dataq_131.txt (deflated 5%)\n",
            "  adding: content/yolo_dataset/train/labels/data_74.txt (deflated 5%)\n",
            "  adding: content/yolo_dataset/train/labels/datax_56.txt (deflated 38%)\n",
            "  adding: content/yolo_dataset/train/labels/datax_5.txt (deflated 37%)\n",
            "  adding: content/yolo_dataset/train/labels/data_222.txt (deflated 37%)\n",
            "  adding: content/yolo_dataset/train/labels/data_221.txt (deflated 28%)\n",
            "  adding: content/yolo_dataset/train/labels/data_268.txt (deflated 47%)\n",
            "  adding: content/yolo_dataset/train/labels/datax_61.txt (deflated 29%)\n",
            "  adding: content/yolo_dataset/train/labels/dataq_130.txt (deflated 37%)\n",
            "  adding: content/yolo_dataset/train/labels/datax_92.txt (deflated 27%)\n",
            "  adding: content/yolo_dataset/train/labels/data_270.txt (deflated 50%)\n",
            "  adding: content/yolo_dataset/train/labels/dataq_109.txt (deflated 37%)\n",
            "  adding: content/yolo_dataset/train/labels/image_124.txt (deflated 31%)\n",
            "  adding: content/yolo_dataset/train/labels/dataq_67.txt (deflated 27%)\n",
            "  adding: content/yolo_dataset/train/labels/FU46N5R9C6B3_jpg.rf.bae1afc6398d4d4572162904cdd52956.txt (deflated 29%)\n",
            "  adding: content/yolo_dataset/train/labels/9EAIWF6MSFDH_jpg.rf.20d6a147e856575abb0031debc2095d6.txt (deflated 40%)\n",
            "  adding: content/yolo_dataset/train/labels/image_150.txt (deflated 27%)\n",
            "  adding: content/yolo_dataset/train/labels/dataq_24.txt (deflated 27%)\n",
            "  adding: content/yolo_dataset/train/labels/JR43V3D9QMTL_jpg.rf.807ff7d192e531762cb38dbacbe187c0.txt (deflated 37%)\n",
            "  adding: content/yolo_dataset/train/labels/J1BZ0B2GOWUK_jpg.rf.25599dbf0147dfe469f0b2f84462afab.txt (deflated 35%)\n",
            "  adding: content/yolo_dataset/train/labels/data_93.txt (deflated 27%)\n",
            "  adding: content/yolo_dataset/train/labels/data_159.txt (deflated 47%)\n",
            "  adding: content/yolo_dataset/train/labels/data_92.txt (deflated 28%)\n",
            "  adding: content/yolo_dataset/train/labels/DEC8KVTIU2G9_jpg.rf.06058b64f8858e21bc17588d831d2675.txt (deflated 48%)\n",
            "  adding: content/yolo_dataset/train/labels/A49XU2OFO50J_jpg.rf.58f0270212cea4c1d4c876bc5215659e.txt (deflated 35%)\n",
            "  adding: content/yolo_dataset/train/labels/N8G06BFROO8O_jpg.rf.e1739061c6edd3f0e3d4a2a259b253ae.txt (deflated 58%)\n",
            "  adding: content/yolo_dataset/train/labels/dataq_35.txt (deflated 8%)\n",
            "  adding: content/yolo_dataset/train/labels/dataq_103.txt (deflated 31%)\n",
            "  adding: content/yolo_dataset/train/labels/data_245.txt (deflated 51%)\n",
            "  adding: content/yolo_dataset/train/labels/data_11.txt (deflated 29%)\n",
            "  adding: content/yolo_dataset/train/labels/data_252.txt (deflated 54%)\n",
            "  adding: content/yolo_dataset/train/labels/data_33.txt (deflated 44%)\n",
            "  adding: content/yolo_dataset/train/labels/data_28.txt (deflated 28%)\n",
            "  adding: content/yolo_dataset/train/labels/QHT3U4AXROLF_jpg.rf.bb82c62b3582f0f8ec25a3a7939904cd.txt (deflated 54%)\n",
            "  adding: content/yolo_dataset/train/labels/KDX23LXHAQVK_jpg.rf.48e5134149e0774486f5cf31414b2e8d.txt (deflated 51%)\n",
            "  adding: content/yolo_dataset/train/labels/Y3CQCAW80H94_jpg.rf.f1643255043a07a26b505d98cd4803f3.txt (deflated 57%)\n",
            "  adding: content/yolo_dataset/train/labels/4ZD5D5B6YEND_jpg.rf.114234902775594574f8bca8b01021b2.txt (deflated 48%)\n",
            "  adding: content/yolo_dataset/train/labels/image_13.txt (deflated 26%)\n",
            "  adding: content/yolo_dataset/train/labels/HPMATMGB7XCS_jpg.rf.5376713448d0e2b4c5bb4806153c114f.txt (deflated 37%)\n",
            "  adding: content/yolo_dataset/train/labels/image_197.txt (deflated 10%)\n",
            "  adding: content/yolo_dataset/train/labels/dataq_129.txt (deflated 5%)\n",
            "  adding: content/yolo_dataset/train/labels/62LXGO7FCDAQ_jpg.rf.466228aac3eae9cdb9408bd443c444c4.txt (deflated 52%)\n",
            "  adding: content/yolo_dataset/train/labels/datax_18.txt (deflated 28%)\n",
            "  adding: content/yolo_dataset/train/labels/7U7OK6PBK4X0_jpg.rf.981511d47da00ac949fae661a34a3706.txt (deflated 63%)\n",
            "  adding: content/yolo_dataset/train/labels/N0QDCGT2KPQ2_jpg.rf.ffda381fe9c8252e7e10e3480a45c1be.txt (deflated 34%)\n",
            "  adding: content/yolo_dataset/train/labels/image_127.txt (deflated 10%)\n",
            "  adding: content/yolo_dataset/train/labels/datax_129.txt (deflated 28%)\n",
            "  adding: content/yolo_dataset/train/labels/image_155.txt (deflated 28%)\n",
            "  adding: content/yolo_dataset/train/labels/data_113.txt (deflated 47%)\n",
            "  adding: content/yolo_dataset/train/labels/40RYVAAKAGDC_jpg.rf.56b57a3b86a3ae85d3ab3d65269bd8ec.txt (deflated 38%)\n",
            "  adding: content/yolo_dataset/train/labels/KRF2MXZHR7U3_jpg.rf.b44e6a2f5f6efc3f2d4b90d7afb27588.txt (deflated 42%)\n",
            "  adding: content/yolo_dataset/train/labels/dataq_39.txt (deflated 27%)\n",
            "  adding: content/yolo_dataset/train/labels/image_102.txt (deflated 10%)\n",
            "  adding: content/yolo_dataset/train/labels/ET54G43B0F92_jpg.rf.f68ae7f92dabc3dcc4345b0f381adecf.txt (deflated 61%)\n",
            "  adding: content/yolo_dataset/train/labels/datax_123.txt (deflated 25%)\n",
            "  adding: content/yolo_dataset/train/labels/RRZW0OJLETZU_jpg.rf.476c844c905fb9fba1d2e94cd07b13b7.txt (deflated 46%)\n",
            "  adding: content/yolo_dataset/train/labels/data_2.txt (deflated 55%)\n",
            "  adding: content/yolo_dataset/train/labels/7B57Z09MAMWO_jpg.rf.62fea6f17201a316f767c90d5f252ebf.txt (deflated 52%)\n",
            "  adding: content/yolo_dataset/train/labels/data_157.txt (deflated 43%)\n",
            "  adding: content/yolo_dataset/train/labels/D8Q5OLA7OB6D_jpg.rf.25ca6d6c4d8664dd6e4c4987fa028c79.txt (deflated 46%)\n",
            "  adding: content/yolo_dataset/train/labels/data_153.txt (deflated 11%)\n",
            "  adding: content/yolo_dataset/train/labels/data_18.txt (deflated 25%)\n",
            "  adding: content/yolo_dataset/train/labels/data_185.txt (deflated 8%)\n",
            "  adding: content/yolo_dataset/train/labels/datax_16.txt (deflated 48%)\n",
            "  adding: content/yolo_dataset/train/labels/MV9PL3LER0UU_jpg.rf.1cd4eac99e5a0c019f182c4e86ba430f.txt (deflated 15%)\n",
            "  adding: content/yolo_dataset/train/labels/datax_154.txt (deflated 29%)\n",
            "  adding: content/yolo_dataset/train/labels/data_104.txt (deflated 52%)\n",
            "  adding: content/yolo_dataset/train/labels/MCGG9NQ3ZS1R_jpg.rf.aee6501a4180110ce31254afe51d4942.txt (deflated 38%)\n",
            "  adding: content/yolo_dataset/train/labels/NZHVKUMJ0D77_jpg.rf.dc469449f59926ea6cf203e78fee9a63.txt (deflated 50%)\n",
            "  adding: content/yolo_dataset/train/labels/image_170.txt (deflated 38%)\n",
            "  adding: content/yolo_dataset/train/labels/dataq_88.txt (deflated 16%)\n",
            "  adding: content/yolo_dataset/train/labels/dataq_90.txt (deflated 5%)\n",
            "  adding: content/yolo_dataset/train/labels/BQ1J39DG8EFC_jpg.rf.c73f86418f754cb4ae3e40a6f7eb92e2.txt (deflated 66%)\n",
            "  adding: content/yolo_dataset/train/labels/datax_120.txt (deflated 48%)\n",
            "  adding: content/yolo_dataset/train/labels/datax_140.txt (deflated 25%)\n",
            "  adding: content/yolo_dataset/train/labels/data_241.txt (deflated 5%)\n",
            "  adding: content/yolo_dataset/train/labels/PA553OKVYVT8_jpg.rf.636195807bd8f18c5927eaf493f249bf.txt (deflated 37%)\n",
            "  adding: content/yolo_dataset/train/labels/ZVVKFJVWEFSB_jpg.rf.4ed5afb471c28a7a644deae8537bbcaa.txt (deflated 39%)\n",
            "  adding: content/yolo_dataset/train/labels/S8OYO5MBFMJJ_jpg.rf.aaa36f9c3f52de73c3508d06274fc148.txt (deflated 58%)\n",
            "  adding: content/yolo_dataset/train/labels/datax_101.txt (deflated 28%)\n",
            "  adding: content/yolo_dataset/train/labels/KDUZLTHRYNK4_jpg.rf.f3dc280b5a2f12e4ff264663d759d213.txt (deflated 48%)\n",
            "  adding: content/yolo_dataset/train/labels/datax_34.txt (deflated 46%)\n",
            "  adding: content/yolo_dataset/train/labels/data_40.txt (deflated 27%)\n",
            "  adding: content/yolo_dataset/train/labels/dataq_43.txt (deflated 27%)\n",
            "  adding: content/yolo_dataset/train/labels/2CFQA6UIS0S6_jpg.rf.41a868319ce1c397a0e7504456e33897.txt (deflated 31%)\n",
            "  adding: content/yolo_dataset/train/labels/K1KP415JNH2S_jpg.rf.b61ffd65088d5928ea9c6e09af0e911f.txt (deflated 50%)\n",
            "  adding: content/yolo_dataset/train/labels/data_121.txt (deflated 44%)\n",
            "  adding: content/yolo_dataset/train/labels/dataq_27.txt (deflated 28%)\n",
            "  adding: content/yolo_dataset/train/labels/dataq_37.txt (deflated 39%)\n",
            "  adding: content/yolo_dataset/train/labels/image_14.txt (deflated 21%)\n",
            "  adding: content/yolo_dataset/train/labels/DWW0BQXCK5CS_jpg.rf.95e2527faea0523963265b9dfc5cfd1a.txt (deflated 65%)\n",
            "  adding: content/yolo_dataset/train/labels/datax_138.txt (deflated 29%)\n",
            "  adding: content/yolo_dataset/train/labels/X2D2MMSF5YCF_jpg.rf.8bfdd6b2a79ba8875557f5a2bc5cb31a.txt (deflated 40%)\n",
            "  adding: content/yolo_dataset/train/labels/dataq_95.txt (deflated 27%)\n",
            "  adding: content/yolo_dataset/train/labels/data_244.txt (deflated 38%)\n",
            "  adding: content/yolo_dataset/train/labels/data_44.txt (deflated 27%)\n",
            "  adding: content/yolo_dataset/train/labels/datax_86.txt (deflated 28%)\n",
            "  adding: content/yolo_dataset/train/labels/dataq_83.txt (deflated 31%)\n",
            "  adding: content/yolo_dataset/train/labels/data_273.txt (deflated 49%)\n",
            "  adding: content/yolo_dataset/train/labels/data_22.txt (deflated 27%)\n",
            "  adding: content/yolo_dataset/train/labels/datax_145.txt (deflated 29%)\n",
            "  adding: content/yolo_dataset/train/labels/image_112.txt (deflated 38%)\n",
            "  adding: content/yolo_dataset/train/labels/data_114.txt (deflated 43%)\n",
            "  adding: content/yolo_dataset/train/labels/datax_69.txt (deflated 27%)\n",
            "  adding: content/yolo_dataset/train/labels/datax_103.txt (deflated 27%)\n",
            "  adding: content/yolo_dataset/train/labels/datax_38.txt (deflated 25%)\n",
            "  adding: content/yolo_dataset/train/labels/data_89.txt (deflated 28%)\n",
            "  adding: content/yolo_dataset/train/labels/dataq_32.txt (deflated 11%)\n",
            "  adding: content/yolo_dataset/train/labels/3PDJJJC5A6WD_jpg.rf.a7c1be380430d5f0b800254844aadd3e.txt (deflated 52%)\n",
            "  adding: content/yolo_dataset/train/labels/OP2T5GC0M5J4_jpg.rf.28fb501d98afdb325d32ac6ce6c247e4.txt (deflated 36%)\n",
            "  adding: content/yolo_dataset/train/labels/data_135.txt (deflated 42%)\n",
            "  adding: content/yolo_dataset/train/labels/E8JGRHSLXB8M_jpg.rf.ad3aff029253dca0868be248d96397ae.txt (deflated 20%)\n",
            "  adding: content/yolo_dataset/train/labels/dataq_21.txt (deflated 31%)\n",
            "  adding: content/yolo_dataset/train/labels/datax_132.txt (deflated 47%)\n",
            "  adding: content/yolo_dataset/train/labels/data_43.txt (deflated 43%)\n",
            "  adding: content/yolo_dataset/train/labels/dataq_12.txt (deflated 27%)\n",
            "  adding: content/yolo_dataset/train/labels/image_139.txt (deflated 27%)\n",
            "  adding: content/yolo_dataset/train/labels/dataq_17.txt (deflated 28%)\n",
            "  adding: content/yolo_dataset/train/labels/data_14.txt (deflated 8%)\n",
            "  adding: content/yolo_dataset/train/labels/image_126.txt (deflated 27%)\n",
            "  adding: content/yolo_dataset/train/labels/TA8S8MRA9CO6_jpg.rf.2d4e55d85f04179641771fdd1896b3f7.txt (deflated 46%)\n",
            "  adding: content/yolo_dataset/train/labels/datax_35.txt (deflated 27%)\n",
            "  adding: content/yolo_dataset/train/labels/ABAXLJ1PL1LK_jpg.rf.9a9b2db2ce81f0ba48c66dc2213fed20.txt (deflated 62%)\n",
            "  adding: content/yolo_dataset/train/labels/data_260.txt (deflated 29%)\n",
            "  adding: content/yolo_dataset/train/labels/data_115.txt (deflated 43%)\n",
            "  adding: content/yolo_dataset/train/labels/data_158.txt (deflated 28%)\n",
            "  adding: content/yolo_dataset/train/labels/datax_6.txt (deflated 27%)\n",
            "  adding: content/yolo_dataset/train/labels/dataq_98.txt (deflated 25%)\n",
            "  adding: content/yolo_dataset/train/labels/data_122.txt (deflated 44%)\n",
            "  adding: content/yolo_dataset/train/labels/ML0NSNEGZ1QK_jpg.rf.251ed0e307f6b3bb31e62a124aa8bf97.txt (deflated 38%)\n",
            "  adding: content/yolo_dataset/train/labels/data_31.txt (deflated 28%)\n",
            "  adding: content/yolo_dataset/train/labels/I8FA5DI4IH0S_jpg.rf.00e74df9568ae81eae9173480281bec7.txt (deflated 34%)\n",
            "  adding: content/yolo_dataset/train/labels/data_4.txt (deflated 47%)\n",
            "  adding: content/yolo_dataset/train/labels/image_153.txt (deflated 5%)\n",
            "  adding: content/yolo_dataset/train/labels/WDEHB328UV9W_jpg.rf.6f017f93bdd2cee4c48d660050c18e9e.txt (deflated 52%)\n",
            "  adding: content/yolo_dataset/train/labels/IV8TLVKXHSSF_jpg.rf.43f4c050ef2e0474cbaca786e4e67a5c.txt (deflated 35%)\n",
            "  adding: content/yolo_dataset/train/labels/datax_85.txt (deflated 28%)\n",
            "  adding: content/yolo_dataset/train/labels/dataq_16.txt (deflated 28%)\n",
            "  adding: content/yolo_dataset/train/labels/7NM9XVI2RLDJ_jpg.rf.18df9ad2a6cf2c281769ae99451cd097.txt (deflated 42%)\n",
            "  adding: content/yolo_dataset/train/labels/NWY6NE0QBQTD_jpg.rf.6f4a93363f77876399c07240061cd1dd.txt (deflated 42%)\n",
            "  adding: content/yolo_dataset/train/labels/image_118.txt (deflated 18%)\n",
            "  adding: content/yolo_dataset/train/labels/P84CZ2MLASEZ_jpg.rf.15df96dcdf02c16e227ffee835d53711.txt (deflated 37%)\n",
            "  adding: content/yolo_dataset/train/labels/P773XJ9TA9IM_jpg.rf.00513d510bdca103f50f69d7ec7649d5.txt (deflated 53%)\n",
            "  adding: content/yolo_dataset/train/labels/datax_106.txt (deflated 27%)\n",
            "  adding: content/yolo_dataset/train/labels/datax_24.txt (deflated 47%)\n",
            "  adding: content/yolo_dataset/train/labels/data_30.txt (deflated 29%)\n",
            "  adding: content/yolo_dataset/train/labels/dataq_9.txt (deflated 25%)\n",
            "  adding: content/yolo_dataset/train/labels/dataq_162.txt (deflated 28%)\n",
            "  adding: content/yolo_dataset/train/labels/PR3NBPY5W1U3_jpg.rf.bec18ee4171299b41b5f3375d772b4ea.txt (deflated 45%)\n",
            "  adding: content/yolo_dataset/train/labels/data_200.txt (deflated 8%)\n",
            "  adding: content/yolo_dataset/train/labels/data_17.txt (deflated 35%)\n",
            "  adding: content/yolo_dataset/train/labels/TGXQXDIUNCIH_jpg.rf.b2439424403676e32e9dae367a2ffa2f.txt (deflated 50%)\n",
            "  adding: content/yolo_dataset/train/labels/2P8CF1G4CVSU_jpg.rf.7bf88daa749fb877eadf8bddb3f7f59a.txt (deflated 30%)\n",
            "  adding: content/yolo_dataset/train/labels/EEUZ7IX7JX98_jpg.rf.c88403399901721018ae59b3e5237633.txt (deflated 46%)\n",
            "  adding: content/yolo_dataset/train/labels/dataq_91.txt (deflated 27%)\n",
            "  adding: content/yolo_dataset/train/labels/data_199.txt (deflated 11%)\n",
            "  adding: content/yolo_dataset/train/labels/G4LHLDE31ELB_jpg.rf.e9c72a4c643e8b60e7704e4d354645f4.txt (deflated 61%)\n",
            "  adding: content/yolo_dataset/train/labels/GER9Y0HATREU_jpg.rf.a1fb41438d5b270f2c3231d9bf0b4952.txt (deflated 58%)\n",
            "  adding: content/yolo_dataset/train/labels/dataq_5.txt (deflated 27%)\n",
            "  adding: content/yolo_dataset/train/labels/data_256.txt (deflated 39%)\n",
            "  adding: content/yolo_dataset/train/labels/GGHN7T2R5XQG_jpg.rf.47daca3a922667f14f4ddc3857121a25.txt (deflated 44%)\n",
            "  adding: content/yolo_dataset/train/labels/YV6W2UZOQXDM_jpg.rf.5524e0d82c123ef16434b8692c6a4ec5.txt (deflated 48%)\n",
            "  adding: content/yolo_dataset/train/labels/dataq_87.txt (deflated 28%)\n",
            "  adding: content/yolo_dataset/train/labels/data_201.txt (deflated 5%)\n",
            "  adding: content/yolo_dataset/train/labels/image_154.txt (deflated 28%)\n",
            "  adding: content/yolo_dataset/train/labels/RXPYYD9ZW5KH_jpg.rf.4417234dad9a1c01e7bc58d0c48141fd.txt (deflated 41%)\n",
            "  adding: content/yolo_dataset/train/labels/image_174.txt (deflated 24%)\n",
            "  adding: content/yolo_dataset/train/labels/E2GAOUTOJRFX_jpg.rf.891aff0f48e7db1d72fab573f4f2ada9.txt (deflated 48%)\n",
            "  adding: content/yolo_dataset/train/labels/data_29.txt (deflated 28%)\n",
            "  adding: content/yolo_dataset/train/labels/datax_136.txt (deflated 28%)\n",
            "  adding: content/yolo_dataset/train/labels/data_70.txt (deflated 40%)\n",
            "  adding: content/yolo_dataset/train/labels/datax_143.txt (deflated 27%)\n",
            "  adding: content/yolo_dataset/train/labels/image_113.txt (deflated 42%)\n",
            "  adding: content/yolo_dataset/train/labels/P4I54EOIJE0U_jpg.rf.4ea2e0db8d30a4ea17b1cec155b0ba2e.txt (deflated 26%)\n",
            "  adding: content/yolo_dataset/train/labels/02I0NSL4O8BH_jpg.rf.fc9973bd72f912957908767054d0431e.txt (deflated 50%)\n",
            "  adding: content/yolo_dataset/train/labels/A1VPFOL50SNO_jpg.rf.e350de6314c893e7ac73330a7dabdf35.txt (deflated 63%)\n",
            "  adding: content/yolo_dataset/train/labels/P8YAHMOAPHW0_jpg.rf.84cdb3790cbecb9dac5ca7376d4100e1.txt (deflated 38%)\n",
            "  adding: content/yolo_dataset/train/labels/D8MXVDW1HP24_jpg.rf.f0846facc9f4fc97b4d0c36e09b9a83e.txt (deflated 67%)\n",
            "  adding: content/yolo_dataset/train/labels/IJHSGANAXSD6_jpg.rf.b2f5464499b6a6fd0f899076436150f2.txt (deflated 51%)\n",
            "  adding: content/yolo_dataset/train/labels/data_118.txt (deflated 43%)\n",
            "  adding: content/yolo_dataset/train/labels/dataq_11.txt (deflated 29%)\n",
            "  adding: content/yolo_dataset/train/labels/ZOS2FGOQVQTY_jpg.rf.d8390bad94bff4affb56eab8d95606d9.txt (deflated 50%)\n",
            "  adding: content/yolo_dataset/train/labels/data_116.txt (deflated 47%)\n",
            "  adding: content/yolo_dataset/train/labels/dataq_33.txt (deflated 39%)\n",
            "  adding: content/yolo_dataset/train/labels/dataq_8.txt (deflated 27%)\n",
            "  adding: content/yolo_dataset/train/labels/HLHO9S5T01KM_jpg.rf.4c7fd0a8705316493f84ea0632e66954.txt (deflated 35%)\n",
            "  adding: content/yolo_dataset/train/labels/0G9I5DS07WIS_jpg.rf.1bc3c57d9d180c6451a50511c93f6aa5.txt (deflated 47%)\n",
            "  adding: content/yolo_dataset/train/labels/image_19.txt (deflated 26%)\n",
            "  adding: content/yolo_dataset/train/labels/image_133.txt (deflated 28%)\n",
            "  adding: content/yolo_dataset/train/labels/data_84.txt (deflated 29%)\n",
            "  adding: content/yolo_dataset/train/labels/CGQYWW74UBH4_jpg.rf.7e591f9f8731dfaddab811c210ffd4e9.txt (deflated 56%)\n",
            "  adding: content/yolo_dataset/train/labels/dataq_147.txt (deflated 28%)\n",
            "  adding: content/yolo_dataset/train/labels/data_265.txt (deflated 28%)\n",
            "  adding: content/yolo_dataset/train/labels/data_154.txt (deflated 43%)\n",
            "  adding: content/yolo_dataset/train/labels/NFNL5ZEZHVMZ_jpg.rf.1e2254031841f92e9b3c6fdd38834740.txt (deflated 46%)\n",
            "  adding: content/yolo_dataset/train/labels/08R9ND0N8GXW_jpg.rf.dd5dcaceb6b502fdf2f795c428e84364.txt (deflated 43%)\n",
            "  adding: content/yolo_dataset/train/labels/VZO029HKTGO8_jpg.rf.5580679bd4b534876c7640f8582ed051.txt (deflated 33%)\n",
            "  adding: content/yolo_dataset/train/labels/data_105.txt (deflated 50%)\n",
            "  adding: content/yolo_dataset/train/labels/image_142.txt (deflated 27%)\n",
            "  adding: content/yolo_dataset/train/labels/R4UNYJMX3UHU_jpg.rf.9f7132f99e91ab2bf43236a0ff602545.txt (deflated 41%)\n",
            "  adding: content/yolo_dataset/train/labels/image_111.txt (deflated 15%)\n",
            "  adding: content/yolo_dataset/train/labels/data_149.txt (deflated 46%)\n",
            "  adding: content/yolo_dataset/train/labels/763BMAGH3BSH_jpg.rf.1c2a64bdc3f648c1605bc534b8dda1bb.txt (deflated 52%)\n",
            "  adding: content/yolo_dataset/train/labels/dataq_7.txt (deflated 27%)\n",
            "  adding: content/yolo_dataset/train/labels/data_168.txt (deflated 36%)\n",
            "  adding: content/yolo_dataset/train/labels/ZCKROF0UR45E_jpg.rf.1ca089ca2f579e2576bb80588645c16b.txt (deflated 38%)\n",
            "  adding: content/yolo_dataset/train/labels/data_52.txt (deflated 27%)\n",
            "  adding: content/yolo_dataset/train/labels/XSH9P3BVYYOT_jpg.rf.b247a1475e2e6272345a51849b3520f2.txt (deflated 25%)\n",
            "  adding: content/yolo_dataset/train/labels/datax_46.txt (deflated 28%)\n",
            "  adding: content/yolo_dataset/train/labels/data_137.txt (deflated 43%)\n",
            "  adding: content/yolo_dataset/train/labels/dataq_157.txt (deflated 5%)\n",
            "  adding: content/yolo_dataset/train/labels/data_129.txt (deflated 27%)\n",
            "  adding: content/yolo_dataset/train/labels/TZ3Y2NSQILO2_jpg.rf.250d2addaf05568356f1f57ab6228297.txt (deflated 60%)\n",
            "  adding: content/yolo_dataset/train/labels/datax_54.txt (deflated 27%)\n",
            "  adding: content/yolo_dataset/train/labels/datax_90.txt (deflated 31%)\n",
            "  adding: content/yolo_dataset/train/labels/dataq_58.txt (deflated 29%)\n",
            "  adding: content/yolo_dataset/train/labels/image_11.txt (deflated 10%)\n",
            "  adding: content/yolo_dataset/train/labels/QWXLQOR02ED4_jpg.rf.a9dc7d9c036524c5d704a09ce8bf1494.txt (deflated 39%)\n",
            "  adding: content/yolo_dataset/train/labels/datax_82.txt (deflated 28%)\n",
            "  adding: content/yolo_dataset/train/labels/datax_8.txt (deflated 28%)\n",
            "  adding: content/yolo_dataset/train/labels/dataq_55.txt (deflated 39%)\n",
            "  adding: content/yolo_dataset/train/labels/datax_76.txt (deflated 27%)\n",
            "  adding: content/yolo_dataset/train/labels/data_166.txt (deflated 42%)\n",
            "  adding: content/yolo_dataset/train/labels/3JZYZSJC4MC7_jpg.rf.fa8b9ce0b911a566ebf49ede2cb3c385.txt (deflated 34%)\n",
            "  adding: content/yolo_dataset/train/labels/image_168.txt (deflated 24%)\n",
            "  adding: content/yolo_dataset/train/labels/319D3HVXW50D_jpg.rf.bd075421c763b4564992318e87a52e83.txt (deflated 43%)\n",
            "  adding: content/yolo_dataset/train/labels/image_172.txt (deflated 13%)\n",
            "  adding: content/yolo_dataset/train/labels/159NHJ4X1O6C_jpg.rf.f9368d111407fbcdb7a8a5701482fce6.txt (deflated 45%)\n",
            "  adding: content/yolo_dataset/train/labels/datax_29.txt (deflated 47%)\n",
            "  adding: content/yolo_dataset/train/labels/data_238.txt (deflated 37%)\n",
            "  adding: content/yolo_dataset/train/labels/dataq_2.txt (deflated 25%)\n",
            "  adding: content/yolo_dataset/train/labels/data_83.txt (deflated 27%)\n",
            "  adding: content/yolo_dataset/train/labels/1JR7XIDE4BF5_jpg.rf.474256f377911cb4ad555cf10f0bbfed.txt (deflated 49%)\n",
            "  adding: content/yolo_dataset/train/labels/data_72.txt (deflated 5%)\n",
            "  adding: content/yolo_dataset/train/labels/data_19.txt (deflated 29%)\n",
            "  adding: content/yolo_dataset/train/labels/O54VSCTXSW3J_jpg.rf.2d825228547c8e29409f694fe94f5871.txt (deflated 46%)\n",
            "  adding: content/yolo_dataset/train/labels/data_102.txt (deflated 27%)\n",
            "  adding: content/yolo_dataset/train/labels/I01WFPT9SHJQ_jpg.rf.aa814ce1b7b755a931808b62a58ab7c7.txt (deflated 31%)\n",
            "  adding: content/yolo_dataset/train/labels/dataq_125.txt (deflated 29%)\n",
            "  adding: content/yolo_dataset/train/labels/ZCDXKH9FT9KV_jpg.rf.8c30705ef07c39a11d4691f2e6165b5a.txt (deflated 24%)\n",
            "  adding: content/yolo_dataset/train/labels/NVL8YR7VSQ04_jpg.rf.5d32a227590c79db13af3f53bb45f5ae.txt (deflated 41%)\n",
            "  adding: content/yolo_dataset/train/labels/data_247.txt (deflated 28%)\n",
            "  adding: content/yolo_dataset/train/labels/datax_130.txt (deflated 31%)\n",
            "  adding: content/yolo_dataset/train/labels/data_5.txt (deflated 46%)\n",
            "  adding: content/yolo_dataset/train/labels/SQ1SU8KS5WNU_jpg.rf.1490e0727e20d7c0d5cbf62276817665.txt (deflated 42%)\n",
            "  adding: content/yolo_dataset/train/labels/COQD0I9TAYIZ_jpg.rf.cf8c04ac0776f0ba9e03a5c60d71a88e.txt (deflated 40%)\n",
            "  adding: content/yolo_dataset/train/labels/ZMGPHSMTZU0W_jpg.rf.18caa8285056ec99ffa0be9fb430c992.txt (deflated 47%)\n",
            "  adding: content/yolo_dataset/train/labels/data_1.txt (deflated 43%)\n",
            "  adding: content/yolo_dataset/train/labels/data_27.txt (deflated 28%)\n",
            "  adding: content/yolo_dataset/train/labels/data_142.txt (deflated 44%)\n",
            "  adding: content/yolo_dataset/train/labels/dataq_104.txt (deflated 39%)\n",
            "  adding: content/yolo_dataset/train/labels/data_77.txt (deflated 28%)\n",
            "  adding: content/yolo_dataset/train/labels/IUHQCQKA445T_jpg.rf.c4e1ae1e1ac2ab1f30452e19bbe4d261.txt (deflated 60%)\n",
            "  adding: content/yolo_dataset/train/labels/datax_55.txt (deflated 29%)\n",
            "  adding: content/yolo_dataset/train/labels/data_120.txt (deflated 52%)\n",
            "  adding: content/yolo_dataset/train/labels/BIGAAI46KMG1_jpg.rf.2ff347a9a279c86cb0476310e0fb23e1.txt (deflated 57%)\n",
            "  adding: content/yolo_dataset/train/labels/KR4VY0QY6H20_jpg.rf.35256dd398264e7650e18639d08e560c.txt (deflated 60%)\n",
            "  adding: content/yolo_dataset/train/labels/ZNIMO19IHZOK_jpg.rf.d8a1bdb45a2cf0f9ee41cfe6679130a0.txt (deflated 47%)\n",
            "  adding: content/yolo_dataset/train/labels/538PJ11WP67J_jpg.rf.e71740a26a7100c3378ed0f793da49a9.txt (deflated 38%)\n",
            "  adding: content/yolo_dataset/train/labels/data_161.txt (deflated 27%)\n",
            "  adding: content/yolo_dataset/train/labels/datax_114.txt (deflated 29%)\n",
            "  adding: content/yolo_dataset/train/labels/data_264.txt (deflated 11%)\n",
            "  adding: content/yolo_dataset/train/labels/data_119.txt (deflated 44%)\n",
            "  adding: content/yolo_dataset/train/labels/data_78.txt (deflated 43%)\n",
            "  adding: content/yolo_dataset/train/labels/image_187.txt (deflated 28%)\n",
            "  adding: content/yolo_dataset/train/labels/data_274.txt (deflated 48%)\n",
            "  adding: content/yolo_dataset/train/labels/data_224.txt (deflated 39%)\n",
            "  adding: content/yolo_dataset/train/labels/CT0EQTGAECMD_jpg.rf.81bd3397137ef75dff832fc41b20387a.txt (deflated 46%)\n",
            "  adding: content/yolo_dataset/train/labels/data_167.txt (deflated 28%)\n",
            "  adding: content/yolo_dataset/train/labels/dataq_114.txt (deflated 16%)\n",
            "  adding: content/yolo_dataset/train/labels/image_175.txt (deflated 27%)\n",
            "  adding: content/yolo_dataset/train/labels/data_24.txt (deflated 40%)\n",
            "  adding: content/yolo_dataset/train/labels/OPOED6W5KKC8_jpg.rf.a59840763525d19127044785c7f591d9.txt (deflated 47%)\n",
            "  adding: content/yolo_dataset/train/labels/dataq_168.txt (deflated 28%)\n",
            "  adding: content/yolo_dataset/train/labels/image_165.txt (deflated 40%)\n",
            "  adding: content/yolo_dataset/train/labels/dataq_101.txt (deflated 29%)\n",
            "  adding: content/yolo_dataset/train/labels/5DQ7FF0WGW8Z_jpg.rf.47c0adf1379b33cd513181a297826dd2.txt (deflated 44%)\n",
            "  adding: content/yolo_dataset/train/labels/Y4Y4IQOWJ9NM_jpg.rf.95aa4806f0a767b0ab8561493d4221c0.txt (deflated 41%)\n",
            "  adding: content/yolo_dataset/train/labels/data_88.txt (deflated 28%)\n",
            "  adding: content/yolo_dataset/train/labels/XJ884TROR3EL_jpg.rf.804d5442e37da6fb6d45f2fe55e13784.txt (deflated 49%)\n",
            "  adding: content/yolo_dataset/train/labels/image_128.txt (deflated 26%)\n",
            "  adding: content/yolo_dataset/train/labels/Q0GRGJIJ7177_jpg.rf.9fed84c88fc25b7e53f52e766660c735.txt (deflated 34%)\n",
            "  adding: content/yolo_dataset/train/labels/datax_42.txt (deflated 44%)\n",
            "  adding: content/yolo_dataset/train/labels/F67VXFAH8U9F_jpg.rf.7b4dd8377183a43250bead3609f529e2.txt (deflated 61%)\n",
            "  adding: content/yolo_dataset/train/labels/data_51.txt (deflated 42%)\n",
            "  adding: content/yolo_dataset/train/labels/dataq_116.txt (deflated 16%)\n",
            "  adding: content/yolo_dataset/train/labels/datax_64.txt (deflated 27%)\n",
            "  adding: content/yolo_dataset/train/labels/dataq_107.txt (deflated 8%)\n",
            "  adding: content/yolo_dataset/train/labels/data_246.txt (deflated 40%)\n",
            "  adding: content/yolo_dataset/train/labels/RPUBT6GIO2GC_jpg.rf.693e39193fcfdad3e2840d515bb5604e.txt (deflated 24%)\n",
            "  adding: content/yolo_dataset/train/labels/datax_63.txt (deflated 28%)\n",
            "  adding: content/yolo_dataset/train/labels/image_180.txt (deflated 45%)\n",
            "  adding: content/yolo_dataset/train/labels/data_279.txt (deflated 50%)\n",
            "  adding: content/yolo_dataset/train/labels/datax_121.txt (deflated 27%)\n",
            "  adding: content/yolo_dataset/train/labels/S401A14VR21B_jpg.rf.32934433cc30cd425ff886ca7cf73efd.txt (deflated 45%)\n",
            "  adding: content/yolo_dataset/train/labels/X1301M7WYHN4_jpg.rf.c6c9de660006dbdf831e341b565f7c1d.txt (deflated 47%)\n",
            "  adding: content/yolo_dataset/train/labels/image_132.txt (deflated 26%)\n",
            "  adding: content/yolo_dataset/train/labels/dataq_53.txt (deflated 38%)\n",
            "  adding: content/yolo_dataset/train/labels/data_206.txt (deflated 44%)\n",
            "  adding: content/yolo_dataset/train/labels/dataq_31.txt (deflated 27%)\n",
            "  adding: content/yolo_dataset/train/labels/0VE1OCAVLKMX_jpg.rf.dec9354f703dcc5640de737e852d21b1.txt (deflated 16%)\n",
            "  adding: content/yolo_dataset/train/labels/FL3QPQ46X92C_jpg.rf.b21090647576749f483d788055499207.txt (deflated 57%)\n",
            "  adding: content/yolo_dataset/train/labels/M0R0VLUKY2DP_jpg.rf.a2ff3db3e1bbaaaaacdd98d8f2fb7f84.txt (deflated 26%)\n",
            "  adding: content/yolo_dataset/train/labels/IQ0JL0PHTGG5_jpg.rf.3a2d3489568072c0d8c75fc8bff525cb.txt (deflated 61%)\n",
            "  adding: content/yolo_dataset/train/labels/datax_14.txt (deflated 28%)\n",
            "  adding: content/yolo_dataset/train/labels/dataq_18.txt (deflated 27%)\n",
            "  adding: content/yolo_dataset/train/labels/dataq_66.txt (deflated 47%)\n",
            "  adding: content/yolo_dataset/train/labels/datax_15.txt (deflated 28%)\n",
            "  adding: content/yolo_dataset/train/labels/dataq_51.txt (deflated 8%)\n",
            "  adding: content/yolo_dataset/train/labels/Q2FFU22M82PS_jpg.rf.1d13865d4efd7b3d89121545dfecff22.txt (deflated 25%)\n",
            "  adding: content/yolo_dataset/train/labels/datax_27.txt (deflated 42%)\n",
            "  adding: content/yolo_dataset/train/labels/dataq_128.txt (deflated 5%)\n",
            "  adding: content/yolo_dataset/train/labels/data_179.txt (deflated 55%)\n",
            "  adding: content/yolo_dataset/train/labels/dataq_110.txt (deflated 11%)\n",
            "  adding: content/yolo_dataset/train/labels/dataq_62.txt (deflated 44%)\n",
            "  adding: content/yolo_dataset/train/labels/image_140.txt (deflated 5%)\n",
            "  adding: content/yolo_dataset/train/labels/data_282.txt (deflated 49%)\n",
            "  adding: content/yolo_dataset/train/labels/image_177.txt (deflated 8%)\n",
            "  adding: content/yolo_dataset/train/labels/data_45.txt (deflated 47%)\n",
            "  adding: content/yolo_dataset/train/labels/0DBZCMRDL65L_jpg.rf.3f1e720d887bd8e482f2a713d1c08494.txt (deflated 24%)\n",
            "  adding: content/yolo_dataset/train/labels/dataq_146.txt (deflated 41%)\n",
            "  adding: content/yolo_dataset/train/labels/image_149.txt (deflated 31%)\n",
            "  adding: content/yolo_dataset/train/labels/datax_81.txt (deflated 44%)\n",
            "  adding: content/yolo_dataset/train/labels/image_196.txt (deflated 5%)\n",
            "  adding: content/yolo_dataset/train/labels/dataq_120.txt (deflated 8%)\n",
            "  adding: content/yolo_dataset/train/labels/dataq_75.txt (deflated 27%)\n",
            "  adding: content/yolo_dataset/train/labels/data_20.txt (deflated 37%)\n",
            "  adding: content/yolo_dataset/train/labels/1KXGJDQVOGTU_jpg.rf.15b09883a1a931d6de8b40029cef47f6.txt (deflated 53%)\n",
            "  adding: content/yolo_dataset/train/labels/data_50.txt (deflated 27%)\n",
            "  adding: content/yolo_dataset/train/labels/image_161.txt (deflated 27%)\n",
            "  adding: content/yolo_dataset/train/labels/image_105.txt (deflated 13%)\n",
            "  adding: content/yolo_dataset/train/labels/data_101.txt (deflated 44%)\n",
            "  adding: content/yolo_dataset/train/labels/datax_37.txt (deflated 38%)\n",
            "  adding: content/yolo_dataset/train/labels/datax_157.txt (deflated 27%)\n",
            "  adding: content/yolo_dataset/train/labels/LM7V587BDJ37_jpg.rf.2fca458aa485655d62ef513f78955b20.txt (deflated 45%)\n",
            "  adding: content/yolo_dataset/train/labels/datax_150.txt (deflated 27%)\n",
            "  adding: content/yolo_dataset/train/labels/K4XTNJQSWHWP_jpg.rf.aef2513fd22e8568692bf316f4f158be.txt (deflated 59%)\n",
            "  adding: content/yolo_dataset/train/labels/data_103.txt (deflated 52%)\n",
            "  adding: content/yolo_dataset/train/labels/data_41.txt (deflated 28%)\n",
            "  adding: content/yolo_dataset/train/labels/image_120.txt (deflated 38%)\n",
            "  adding: content/yolo_dataset/train/labels/data_248.txt (deflated 28%)\n",
            "  adding: content/yolo_dataset/train/labels/data_63.txt (deflated 37%)\n",
            "  adding: content/yolo_dataset/train/labels/data_25.txt (deflated 28%)\n",
            "  adding: content/yolo_dataset/train/labels/data_207.txt (deflated 38%)\n",
            "  adding: content/yolo_dataset/train/labels/data_15.txt (deflated 8%)\n",
            "  adding: content/yolo_dataset/train/labels/image_192.txt (deflated 8%)\n",
            "  adding: content/yolo_dataset/train/labels/image_141.txt (deflated 39%)\n",
            "  adding: content/yolo_dataset/train/labels/image_189.txt (deflated 8%)\n",
            "  adding: content/yolo_dataset/train/labels/dataq_111.txt (deflated 38%)\n",
            "  adding: content/yolo_dataset/train/labels/K68OOWL2DK7Z_jpg.rf.43409b3cb7da5089c9e0f3f9572df84d.txt (deflated 42%)\n",
            "  adding: content/yolo_dataset/train/labels/datax_59.txt (deflated 28%)\n",
            "  adding: content/yolo_dataset/train/labels/RPZXJD3O5GLN_jpg.rf.e2e86a0051ebfd1fa25224535ab09614.txt (deflated 49%)\n",
            "  adding: content/yolo_dataset/train/labels/datax_47.txt (deflated 27%)\n",
            "  adding: content/yolo_dataset/train/labels/data_258.txt (deflated 57%)\n",
            "  adding: content/yolo_dataset/train/labels/TTF1451D6VP9_jpg.rf.b0567bbc98ab0810d562b8884515cb5b.txt (deflated 34%)\n",
            "  adding: content/yolo_dataset/train/labels/Q96MNGZFXK7V_jpg.rf.2d927138180ca01cabb7059ff61d37ca.txt (deflated 51%)\n",
            "  adding: content/yolo_dataset/train/labels/7QENMANN1XF8_jpg.rf.655d10e07cd9751f83d56a880597943f.txt (deflated 61%)\n",
            "  adding: content/yolo_dataset/train/labels/dataq_78.txt (deflated 28%)\n",
            "  adding: content/yolo_dataset/train/labels/datax_65.txt (deflated 8%)\n",
            "  adding: content/yolo_dataset/train/labels/dataq_105.txt (deflated 27%)\n",
            "  adding: content/yolo_dataset/train/labels/dataq_100.txt (deflated 25%)\n",
            "  adding: content/yolo_dataset/train/labels/dataq_159.txt (deflated 27%)\n",
            "  adding: content/yolo_dataset/train/labels/M9BJHHMZ7WTZ_jpg.rf.fb297f9ca9422f881c15e792c1dfe88e.txt (deflated 49%)\n",
            "  adding: content/yolo_dataset/train/labels/data_237.txt (deflated 38%)\n",
            "  adding: content/yolo_dataset/train/labels/datax_26.txt (deflated 50%)\n",
            "  adding: content/yolo_dataset/train/labels/BFDH7R1MHSA3_jpg.rf.8a5daa9f6b4119a24d1b28d9c5427109.txt (deflated 33%)\n",
            "  adding: content/yolo_dataset/train/labels/data_107.txt (deflated 55%)\n",
            "  adding: content/yolo_dataset/train/labels/data_131.txt (deflated 48%)\n",
            "  adding: content/yolo_dataset/train/labels/datax_33.txt (deflated 39%)\n",
            "  adding: content/yolo_dataset/train/labels/6FIV4WUB8IRH_jpg.rf.0bab8d64d5af527146d43d831664a15d.txt (deflated 47%)\n",
            "  adding: content/yolo_dataset/train/labels/image_195.txt (deflated 8%)\n",
            "  adding: content/yolo_dataset/train/labels/datax_155.txt (deflated 28%)\n",
            "  adding: content/yolo_dataset/train/labels/LJ18KOWHMS4W_jpg.rf.86bd9b16c6d2faf79cf168064eed4cc1.txt (deflated 33%)\n",
            "  adding: content/yolo_dataset/train/labels/image_121.txt (deflated 29%)\n",
            "  adding: content/yolo_dataset/train/labels/dataq_64.txt (deflated 37%)\n",
            "  adding: content/yolo_dataset/train/labels/dataq_158.txt (deflated 5%)\n",
            "  adding: content/yolo_dataset/train/labels/CYSZU4EXSO3X_jpg.rf.09d459df973aeb29d1303a5ea6244d8d.txt (deflated 42%)\n",
            "  adding: content/yolo_dataset/train/labels/data_174.txt (deflated 51%)\n",
            "  adding: content/yolo_dataset/train/labels/9EGOYISWUUGP_jpg.rf.4daab9570c6b4538409a20846dbb347c.txt (deflated 48%)\n",
            "  adding: content/yolo_dataset/train/labels/data_125.txt (deflated 11%)\n",
            "  adding: content/yolo_dataset/train/labels/dataq_65.txt (deflated 28%)\n",
            "  adding: content/yolo_dataset/train/labels/data_55.txt (deflated 27%)\n",
            "  adding: content/yolo_dataset/train/labels/data_204.txt (deflated 28%)\n",
            "  adding: content/yolo_dataset/train/labels/O8OEYK11CI5G_jpg.rf.4edf386c5b8c63559371fcd403096012.txt (deflated 50%)\n",
            "  adding: content/yolo_dataset/train/labels/data_172.txt (deflated 50%)\n",
            "  adding: content/yolo_dataset/train/labels/datax_115.txt (deflated 28%)\n",
            "  adding: content/yolo_dataset/train/labels/836G7KZ7KH4P_jpg.rf.3407fa94db0bf485a20475f960ea4402.txt (deflated 26%)\n",
            "  adding: content/yolo_dataset/train/labels/6LOT4117QFN2_jpg.rf.110f6e2eb11bdf3f9ad1e5ca5db73ce5.txt (deflated 33%)\n",
            "  adding: content/yolo_dataset/train/labels/dataq_123.txt (deflated 5%)\n",
            "  adding: content/yolo_dataset/train/labels/data_39.txt (deflated 37%)\n",
            "  adding: content/yolo_dataset/train/labels/image_143.txt (deflated 29%)\n",
            "  adding: content/yolo_dataset/train/labels/image_190.txt (deflated 8%)\n",
            "  adding: content/yolo_dataset/train/labels/data_220.txt (deflated 36%)\n",
            "  adding: content/yolo_dataset/train/labels/datax_100.txt (deflated 27%)\n",
            "  adding: content/yolo_dataset/train/labels/dataq_59.txt (deflated 28%)\n",
            "  adding: content/yolo_dataset/train/labels/data_203.txt (deflated 44%)\n",
            "  adding: content/yolo_dataset/train/labels/data_117.txt (deflated 46%)\n",
            "  adding: content/yolo_dataset/train/labels/datax_66.txt (deflated 28%)\n",
            "  adding: content/yolo_dataset/train/labels/data_145.txt (deflated 43%)\n",
            "  adding: content/yolo_dataset/train/labels/data_254.txt (deflated 37%)\n",
            "  adding: content/yolo_dataset/train/labels/datax_67.txt (deflated 32%)\n",
            "  adding: content/yolo_dataset/train/labels/data_211.txt (deflated 37%)\n",
            "  adding: content/yolo_dataset/train/labels/image_164.txt (deflated 26%)\n",
            "  adding: content/yolo_dataset/train/labels/dataq_150.txt (deflated 25%)\n",
            "  adding: content/yolo_dataset/train/labels/VMHRC1AX0XUM_jpg.rf.a21e66e89f1c670fae27f928c6e4416d.txt (deflated 60%)\n",
            "  adding: content/yolo_dataset/train/labels/image_137.txt (deflated 13%)\n",
            "  adding: content/yolo_dataset/train/labels/image_108.txt (deflated 27%)\n",
            "  adding: content/yolo_dataset/train/labels/data_59.txt (deflated 27%)\n",
            "  adding: content/yolo_dataset/train/labels/dataq_102.txt (deflated 32%)\n",
            "  adding: content/yolo_dataset/train/labels/UQ5KLWBW4QHF_jpg.rf.7f2b0e0b12d5202438a0ceb80da75867.txt (deflated 35%)\n",
            "  adding: content/yolo_dataset/train/labels/data_136.txt (deflated 42%)\n",
            "  adding: content/yolo_dataset/train/labels/dataq_77.txt (deflated 38%)\n",
            "  adding: content/yolo_dataset/train/labels/datax_147.txt (deflated 16%)\n",
            "  adding: content/yolo_dataset/train/labels/data_130.txt (deflated 43%)\n",
            "  adding: content/yolo_dataset/train/labels/data_278.txt (deflated 52%)\n",
            "  adding: content/yolo_dataset/train/labels/data_266.txt (deflated 37%)\n",
            "  adding: content/yolo_dataset/train/labels/image_186.txt (deflated 26%)\n",
            "  adding: content/yolo_dataset/train/labels/dataq_34.txt (deflated 11%)\n",
            "  adding: content/yolo_dataset/train/labels/image_179.txt (deflated 13%)\n",
            "  adding: content/yolo_dataset/train/labels/F3H1FDT1AIMA_jpg.rf.441b4b7f6f8e332ab049ad88a8563644.txt (deflated 26%)\n",
            "  adding: content/yolo_dataset/train/labels/data_192.txt (deflated 28%)\n",
            "  adding: content/yolo_dataset/train/labels/CKBQWZS8TGOP_jpg.rf.ac644cc141ebadce5bb801aad5a637ae.txt (deflated 50%)\n",
            "  adding: content/yolo_dataset/train/labels/5GEH29PPLAYC_jpg.rf.f17ebcf9a0619d01597c406bb7205fd7.txt (deflated 41%)\n",
            "  adding: content/yolo_dataset/train/labels/datax_21.txt (deflated 42%)\n",
            "  adding: content/yolo_dataset/train/labels/datax_124.txt (deflated 28%)\n",
            "  adding: content/yolo_dataset/train/labels/data_217.txt (deflated 37%)\n",
            "  adding: content/yolo_dataset/train/labels/data_219.txt (deflated 39%)\n",
            "  adding: content/yolo_dataset/train/labels/data_187.txt (deflated 47%)\n",
            "  adding: content/yolo_dataset/train/labels/image_146.txt (deflated 26%)\n",
            "  adding: content/yolo_dataset/train/labels/datax_62.txt (deflated 27%)\n",
            "  adding: content/yolo_dataset/train/labels/image_166.txt (deflated 8%)\n",
            "  adding: content/yolo_dataset/train/labels/image_12.txt (deflated 13%)\n",
            "  adding: content/yolo_dataset/train/labels/data_61.txt (deflated 38%)\n",
            "  adding: content/yolo_dataset/train/labels/dataq_176.txt (deflated 31%)\n",
            "  adding: content/yolo_dataset/train/labels/datax_93.txt (deflated 27%)\n",
            "  adding: content/yolo_dataset/train/labels/dataq_161.txt (deflated 28%)\n",
            "  adding: content/yolo_dataset/train/labels/dataq_15.txt (deflated 25%)\n",
            "  adding: content/yolo_dataset/train/labels/data_97.txt (deflated 27%)\n",
            "  adding: content/yolo_dataset/train/labels/datax_23.txt (deflated 48%)\n",
            "  adding: content/yolo_dataset/train/labels/dataq_108.txt (deflated 14%)\n",
            "  adding: content/yolo_dataset/train/labels/dataq_86.txt (deflated 28%)\n",
            "  adding: content/yolo_dataset/train/labels/image_156.txt (deflated 24%)\n",
            "  adding: content/yolo_dataset/train/labels/image_10.txt (deflated 13%)\n",
            "  adding: content/yolo_dataset/train/labels/UZBHPVVIXNC7_jpg.rf.2d540b1ab441a96ad92ebcde098ec2b5.txt (deflated 32%)\n",
            "  adding: content/yolo_dataset/train/labels/JTBIAXQ7ML1C_jpg.rf.e4ab1405ed1a1b0b7399890239290275.txt (deflated 57%)\n",
            "  adding: content/yolo_dataset/train/labels/data_233.txt (deflated 40%)\n",
            "  adding: content/yolo_dataset/train/labels/6FW39Q68WR1F_jpg.rf.55f64f0ea377a6ad4e24cd9a7d367738.txt (deflated 61%)\n",
            "  adding: content/yolo_dataset/train/labels/datax_141.txt (deflated 25%)\n",
            "  adding: content/yolo_dataset/train/labels/data_150.txt (deflated 29%)\n",
            "  adding: content/yolo_dataset/train/labels/dataq_140.txt (deflated 29%)\n",
            "  adding: content/yolo_dataset/train/labels/data_132.txt (deflated 53%)\n",
            "  adding: content/yolo_dataset/train/labels/dataq_28.txt (deflated 37%)\n",
            "  adding: content/yolo_dataset/train/labels/data_276.txt (deflated 36%)\n",
            "  adding: content/yolo_dataset/train/labels/data_169.txt (deflated 48%)\n",
            "  adding: content/yolo_dataset/train/labels/image_158.txt (deflated 8%)\n",
            "  adding: content/yolo_dataset/train/labels/dataq_23.txt (deflated 27%)\n",
            "  adding: content/yolo_dataset/train/labels/dataq_93.txt (deflated 29%)\n",
            "  adding: content/yolo_dataset/train/labels/dataq_151.txt (deflated 27%)\n",
            "  adding: content/yolo_dataset/train/labels/image_110.txt (deflated 27%)\n",
            "  adding: content/yolo_dataset/train/labels/Z7FVMQ9KVVQ4_jpg.rf.76af85b7af3fa747ddb375b4ec65f1bd.txt (deflated 59%)\n",
            "  adding: content/yolo_dataset/train/labels/image_100.txt (deflated 8%)\n",
            "  adding: content/yolo_dataset/train/labels/O4JB34D5BW0Q_jpg.rf.9928a17c35820a78c18843e68e50d855.txt (deflated 37%)\n",
            "  adding: content/yolo_dataset/train/labels/data_190.txt (deflated 39%)\n",
            "  adding: content/yolo_dataset/train/labels/dataq_132.txt (deflated 37%)\n",
            "  adding: content/yolo_dataset/train/labels/image_157.txt (deflated 28%)\n",
            "  adding: content/yolo_dataset/train/labels/datax_32.txt (deflated 46%)\n",
            "  adding: content/yolo_dataset/train/labels/HMCZ8BJ51CR7_jpg.rf.2a555bbd1f2f40a3d571cdb9814b4cf0.txt (deflated 40%)\n",
            "  adding: content/yolo_dataset/train/labels/data_60.txt (deflated 39%)\n",
            "  adding: content/yolo_dataset/train/labels/image_185.txt (deflated 27%)\n",
            "  adding: content/yolo_dataset/train/labels/image_138.txt (deflated 27%)\n",
            "  adding: content/yolo_dataset/train/labels/image_147.txt (deflated 13%)\n",
            "  adding: content/yolo_dataset/train/labels/image_181.txt (deflated 15%)\n",
            "  adding: content/yolo_dataset/train/labels/dataq_56.txt (deflated 37%)\n",
            "  adding: content/yolo_dataset/train/labels/RCLDXPA1L3O2_jpg.rf.26bc1f08646b59d5633cbcbf3fc64c9c.txt (deflated 31%)\n",
            "  adding: content/yolo_dataset/train/labels/J5Z515I5PZJL_jpg.rf.63963958f386b6a5b1a0b0129202db3c.txt (deflated 33%)\n",
            "  adding: content/yolo_dataset/train/labels/JVI8NV97S5EF_jpg.rf.f3e81ec86d26d03e4b4adc8b573b463b.txt (deflated 51%)\n",
            "  adding: content/yolo_dataset/train/labels/dataq_113.txt (deflated 5%)\n",
            "  adding: content/yolo_dataset/train/labels/data_80.txt (deflated 28%)\n",
            "  adding: content/yolo_dataset/train/labels/0PJKAIHB0TLE_jpg.rf.da056805067b55bb6f11d6dc9ed37e7b.txt (deflated 51%)\n",
            "  adding: content/yolo_dataset/train/labels/dataq_38.txt (deflated 28%)\n",
            "  adding: content/yolo_dataset/train/labels/dataq_41.txt (deflated 27%)\n",
            "  adding: content/yolo_dataset/train/labels/image_160.txt (deflated 32%)\n",
            "  adding: content/yolo_dataset/train/labels/0PVKVE0CITYQ_jpg.rf.d803acad3a851f22fe52bd560bc2a37c.txt (deflated 50%)\n",
            "  adding: content/yolo_dataset/train/labels/data_12.txt (deflated 49%)\n",
            "  adding: content/yolo_dataset/train/labels/dataq_138.txt (deflated 27%)\n",
            "  adding: content/yolo_dataset/train/labels/B3OV5EXCX9TH_jpg.rf.a0b339082101ede7c07c0d08e2e4c9dc.txt (deflated 35%)\n",
            "  adding: content/yolo_dataset/train/labels/U7LEQ7JP4PBE_jpg.rf.1ca10fd8b53dabf372769a3feb0891ce.txt (deflated 47%)\n",
            "  adding: content/yolo_dataset/train/labels/dataq_134.txt (deflated 38%)\n",
            "  adding: content/yolo_dataset/train/labels/dataq_19.txt (deflated 27%)\n",
            "  adding: content/yolo_dataset/train/labels/UHL11BOVQLWU_jpg.rf.7a095417fb77feb38b63491454216e3e.txt (deflated 62%)\n",
            "  adding: content/yolo_dataset/train/labels/data_218.txt (deflated 39%)\n",
            "  adding: content/yolo_dataset/train/labels/data_108.txt (deflated 54%)\n",
            "  adding: content/yolo_dataset/train/labels/data_230.txt (deflated 38%)\n",
            "  adding: content/yolo_dataset/train/labels/datax_13.txt (deflated 29%)\n",
            "  adding: content/yolo_dataset/train/labels/data_99.txt (deflated 27%)\n",
            "  adding: content/yolo_dataset/train/labels/COW60W8PPCQW_jpg.rf.6a9413ebcb209789c7137a9ae4725e04.txt (deflated 54%)\n",
            "  adding: content/yolo_dataset/train/labels/dataq_177.txt (deflated 27%)\n",
            "  adding: content/yolo_dataset/train/labels/dataq_3.txt (deflated 25%)\n",
            "  adding: content/yolo_dataset/train/labels/YF1N3QSY4MUB_jpg.rf.0c1cf291460c99882266deb395795a4d.txt (deflated 60%)\n",
            "  adding: content/yolo_dataset/train/labels/data_106.txt (deflated 47%)\n",
            "  adding: content/yolo_dataset/train/labels/YNXXF05Z27WV_jpg.rf.5054095245b19f6c21eedc2fb65e6428.txt (deflated 50%)\n",
            "  adding: content/yolo_dataset/train/labels/770S4VA5QUAX_jpg.rf.3c678368aa7ed51e0348d16f74f132c5.txt (deflated 36%)\n",
            "  adding: content/yolo_dataset/train/labels/dataq_61.txt (deflated 5%)\n",
            "  adding: content/yolo_dataset/train/labels/datax_116.txt (deflated 27%)\n",
            "  adding: content/yolo_dataset/train/labels/AF4GT1WMLS49_jpg.rf.ea0c29bc111e600503da87e6d750108b.txt (deflated 45%)\n",
            "  adding: content/yolo_dataset/train/labels/image_101.txt (deflated 13%)\n",
            "  adding: content/yolo_dataset/train/labels/data_38.txt (deflated 25%)\n",
            "  adding: content/yolo_dataset/train/labels/GHK3D16K1LR4_jpg.rf.ce3bea80aea54e97a00f2e496f10c9c5.txt (deflated 38%)\n",
            "  adding: content/yolo_dataset/train/labels/dataq_164.txt (deflated 38%)\n",
            "  adding: content/yolo_dataset/train/labels/dataq_167.txt (deflated 29%)\n",
            "  adding: content/yolo_dataset/train/labels/datax_60.txt (deflated 28%)\n",
            "  adding: content/yolo_dataset/train/labels/data_191.txt (deflated 43%)\n",
            "  adding: content/yolo_dataset/train/labels/image_17.txt (deflated 8%)\n",
            "  adding: content/yolo_dataset/train/labels/data_96.txt (deflated 28%)\n",
            "  adding: content/yolo_dataset/train/labels/6FEAR0NVGC6S_jpg.rf.7aabc56774e1458eff91f1c2b82b5ae8.txt (deflated 50%)\n",
            "  adding: content/yolo_dataset/train/labels/datax_105.txt (deflated 37%)\n",
            "  adding: content/yolo_dataset/train/labels/data_66.txt (deflated 28%)\n",
            "  adding: content/yolo_dataset/train/labels/data_262.txt (deflated 54%)\n",
            "  adding: content/yolo_dataset/train/labels/dataq_165.txt (deflated 42%)\n",
            "  adding: content/yolo_dataset/train/labels/data_111.txt (deflated 27%)\n",
            "  adding: content/yolo_dataset/train/labels/data_67.txt (deflated 27%)\n",
            "  adding: content/yolo_dataset/train/labels/datax_91.txt (deflated 27%)\n",
            "  adding: content/yolo_dataset/train/labels/datax_127.txt (deflated 27%)\n",
            "  adding: content/yolo_dataset/train/labels/data_226.txt (deflated 39%)\n",
            "  adding: content/yolo_dataset/train/labels/dataq_44.txt (deflated 29%)\n",
            "  adding: content/yolo_dataset/train/labels/Z2FAFX4CS2XI_jpg.rf.29dc33e2add5f7ef288e9ecb8d67f1c5.txt (deflated 26%)\n",
            "  adding: content/yolo_dataset/train/labels/data_7.txt (deflated 47%)\n",
            "  adding: content/yolo_dataset/train/labels/datax_96.txt (deflated 28%)\n",
            "  adding: content/yolo_dataset/train/labels/image_198.txt (deflated 8%)\n",
            "  adding: content/yolo_dataset/train/labels/datax_139.txt (deflated 28%)\n",
            "  adding: content/yolo_dataset/train/labels/data_35.txt (deflated 39%)\n",
            "  adding: content/yolo_dataset/train/labels/data_58.txt (deflated 27%)\n",
            "  adding: content/yolo_dataset/train/labels/data_156.txt (deflated 49%)\n",
            "  adding: content/yolo_dataset/train/labels/dataq_139.txt (deflated 27%)\n",
            "  adding: content/yolo_dataset/train/labels/datax_119.txt (deflated 46%)\n",
            "  adding: content/yolo_dataset/train/labels/data_85.txt (deflated 24%)\n",
            "  adding: content/yolo_dataset/train/labels/TB4VLOPQQGWS_jpg.rf.79650197d0cc79cbe065d42343f48fc4.txt (deflated 46%)\n",
            "  adding: content/yolo_dataset/train/labels/data_8.txt (deflated 28%)\n",
            "  adding: content/yolo_dataset/train/labels/image_119.txt (deflated 28%)\n",
            "  adding: content/yolo_dataset/train/labels/A11BBYO93AJU_jpg.rf.2fd99c5cb96e3931c64dbc9ada63481f.txt (deflated 20%)\n",
            "  adding: content/yolo_dataset/train/labels/dataq_149.txt (deflated 27%)\n",
            "  adding: content/yolo_dataset/train/labels/image_109.txt (deflated 15%)\n",
            "  adding: content/yolo_dataset/train/labels/dataq_136.txt (deflated 40%)\n",
            "  adding: content/yolo_dataset/train/labels/data_65.txt (deflated 27%)\n",
            "  adding: content/yolo_dataset/train/labels/dataq_160.txt (deflated 27%)\n",
            "  adding: content/yolo_dataset/train/labels/dataq_85.txt (deflated 29%)\n",
            "  adding: content/yolo_dataset/train/labels/WVA72LIT2FCZ_jpg.rf.f789dc72a547f969db1eb852e5ac6e75.txt (deflated 50%)\n",
            "  adding: content/yolo_dataset/train/labels/dataq_180.txt (deflated 29%)\n",
            "  adding: content/yolo_dataset/train/labels/datax_39.txt (deflated 44%)\n",
            "  adding: content/yolo_dataset/train/labels/data_281.txt (deflated 47%)\n",
            "  adding: content/yolo_dataset/train/labels/datax_109.txt (deflated 29%)\n",
            "  adding: content/yolo_dataset/train/labels/data_143.txt (deflated 44%)\n",
            "  adding: content/yolo_dataset/train/labels/Q03LK3B3WF3E_jpg.rf.092c701a831e2a381bbe01e17c5eddd2.txt (deflated 50%)\n",
            "  adding: content/yolo_dataset/train/labels/datax_108.txt (deflated 27%)\n",
            "  adding: content/yolo_dataset/train/labels/image_134.txt (deflated 31%)\n",
            "  adding: content/yolo_dataset/train/labels/dataq_20.txt (deflated 28%)\n",
            "  adding: content/yolo_dataset/train/labels/dataq_42.txt (deflated 28%)\n",
            "  adding: content/yolo_dataset/train/labels/WWZ21AAHCGUY_jpg.rf.f198f072bacdab36fe799ea60fa418fa.txt (deflated 38%)\n",
            "  adding: content/yolo_dataset/train/labels/AZBJKOXZQ49X_jpg.rf.12a1af6e7e34383305fc877348b1d747.txt (deflated 58%)\n",
            "  adding: content/yolo_dataset/train/labels/dataq_60.txt (deflated 36%)\n",
            "  adding: content/yolo_dataset/train/labels/data_229.txt (deflated 49%)\n",
            "  adding: content/yolo_dataset/train/labels/AEDEGSL64GH9_jpg.rf.e1cc57977017392b97b1c2f6e6775d39.txt (deflated 40%)\n",
            "  adding: content/yolo_dataset/train/labels/datax_28.txt (deflated 47%)\n",
            "  adding: content/yolo_dataset/train/labels/data_90.txt (deflated 27%)\n",
            "  adding: content/yolo_dataset/train/labels/data_155.txt (deflated 47%)\n",
            "  adding: content/yolo_dataset/train/labels/data_269.txt (deflated 48%)\n",
            "  adding: content/yolo_dataset/train/labels/data_128.txt (deflated 5%)\n",
            "  adding: content/yolo_dataset/train/labels/data_213.txt (deflated 36%)\n",
            "  adding: content/yolo_dataset/train/labels/01FVZIGPUGWI_jpg.rf.aba0f700dd5dbecf27af2f25d719b757.txt (deflated 31%)\n",
            "  adding: content/yolo_dataset/train/labels/dataq_94.txt (deflated 29%)\n",
            "  adding: content/yolo_dataset/train/labels/dataq_124.txt (deflated 36%)\n",
            "  adding: content/yolo_dataset/train/labels/dataq_26.txt (deflated 8%)\n",
            "  adding: content/yolo_dataset/train/labels/data_267.txt (deflated 47%)\n",
            "  adding: content/yolo_dataset/train/labels/data_272.txt (deflated 49%)\n",
            "  adding: content/yolo_dataset/train/labels/dataq_89.txt (deflated 29%)\n",
            "  adding: content/yolo_dataset/train/labels/TF2ZYE7IQENS_jpg.rf.4a5af6fd5884349cc5d5f74260fbf6c5.txt (deflated 51%)\n",
            "  adding: content/yolo_dataset/train/labels/datax_40.txt (deflated 38%)\n",
            "  adding: content/yolo_dataset/train/labels/datax_89.txt (deflated 27%)\n",
            "  adding: content/yolo_dataset/train/labels/datax_12.txt (deflated 27%)\n",
            "  adding: content/yolo_dataset/train/labels/MW7788LHNP9N_jpg.rf.82735c44e6856cf341915ffd2d6dcca3.txt (deflated 48%)\n",
            "  adding: content/yolo_dataset/train/labels/09B3JULPBRKM_jpg.rf.ab6ad0205a722550a1e497c2e5b56f1a.txt (deflated 32%)\n",
            "  adding: content/yolo_dataset/train/labels/dataq_172.txt (deflated 29%)\n",
            "  adding: content/yolo_dataset/train/labels/KN5F7C3Q15A9_jpg.rf.8b64fe6c6d9101e80be64db5d9996637.txt (deflated 58%)\n",
            "  adding: content/yolo_dataset/train/labels/dataq_22.txt (deflated 29%)\n",
            "  adding: content/yolo_dataset/train/labels/dataq_25.txt (deflated 38%)\n",
            "  adding: content/yolo_dataset/train/labels/data_57.txt (deflated 27%)\n",
            "  adding: content/yolo_dataset/train/labels/image_144.txt (deflated 32%)\n",
            "  adding: content/yolo_dataset/train/labels/YTH1IVYI6136_jpg.rf.e882632ea58c7f6d1aa713701684eea3.txt (deflated 64%)\n",
            "  adding: content/yolo_dataset/train/labels/datax_104.txt (deflated 40%)\n",
            "  adding: content/yolo_dataset/train/labels/LBU741FZX1OZ_jpg.rf.b8e8ed7b2d98f6a7a8c5066302631fed.txt (deflated 28%)\n",
            "  adding: content/yolo_dataset/train/labels/datax_95.txt (deflated 27%)\n",
            "  adding: content/yolo_dataset/train/labels/O0LGBOYUUI7J_jpg.rf.d5d3cba883a00852f980874651830c2b.txt (deflated 58%)\n",
            "  adding: content/yolo_dataset/train/labels/data_53.txt (deflated 44%)\n",
            "  adding: content/yolo_dataset/train/labels/dataq_63.txt (deflated 38%)\n",
            "  adding: content/yolo_dataset/train/labels/DWGGM031MW2M_jpg.rf.2e47fd5320ad4825516e146d5590ae63.txt (deflated 29%)\n",
            "  adding: content/yolo_dataset/train/labels/data_23.txt (deflated 27%)\n",
            "  adding: content/yolo_dataset/train/labels/dataq_4.txt (deflated 27%)\n",
            "  adding: content/yolo_dataset/train/labels/OUAFY9ZVRAE4_jpg.rf.18790450471c5333e1cc29e4ca48a59d.txt (deflated 39%)\n",
            "  adding: content/yolo_dataset/train/labels/data_68.txt (deflated 38%)\n",
            "  adding: content/yolo_dataset/train/labels/72HAX054J94Q_jpg.rf.08964ac92336c0b211aedad01e4c4bb4.txt (deflated 50%)\n",
            "  adding: content/yolo_dataset/train/labels/datax_48.txt (deflated 31%)\n",
            "  adding: content/yolo_dataset/train/labels/YEA2G9OZQ3FB_jpg.rf.d6a4da1fe5f8a62e3f276a807afac085.txt (deflated 65%)\n",
            "  adding: content/yolo_dataset/train/labels/data_42.txt (deflated 28%)\n",
            "  adding: content/yolo_dataset/train/labels/datax_149.txt (deflated 31%)\n",
            "  adding: content/yolo_dataset/train/labels/S3NEX3WGG1T5_jpg.rf.69ff78a1d474ce84f363f597d6d28352.txt (deflated 49%)\n",
            "  adding: content/yolo_dataset/train/labels/LHZFP7ZD002E_jpg.rf.42e1944f3b6db5d402836fbcbba9630c.txt (deflated 43%)\n",
            "  adding: content/yolo_dataset/train/labels/ED0QGZ9QBCIJ_jpg.rf.12c14230a0a1c92a5e9e0141a98aa32a.txt (deflated 43%)\n",
            "  adding: content/yolo_dataset/train/labels/data_177.txt (deflated 42%)\n",
            "  adding: content/yolo_dataset/train/labels/datax_71.txt (deflated 11%)\n",
            "  adding: content/yolo_dataset/train/labels/dataq_84.txt (deflated 27%)\n",
            "  adding: content/yolo_dataset/train/labels/data_148.txt (deflated 50%)\n",
            "  adding: content/yolo_dataset/train/labels/RE9TB10QGJ1K_jpg.rf.bc3cf0f08abd18362b792fe0f4605b28.txt (deflated 34%)\n",
            "  adding: content/yolo_dataset/train/labels/EHX63JQ3HRGA_jpg.rf.c218c9ccde35be140ce0d18537e80859.txt (deflated 42%)\n",
            "  adding: content/yolo_dataset/train/labels/BEH607T8L0CW_jpg.rf.7522102c57b594081f21b0bb2cb3fd92.txt (deflated 48%)\n",
            "  adding: content/yolo_dataset/train/labels/image_136.txt (deflated 28%)\n",
            "  adding: content/yolo_dataset/train/labels/NTQ9Q8LQVG7E_jpg.rf.a38c240af209562fab231f7365ee134e.txt (deflated 63%)\n",
            "  adding: content/yolo_dataset/train/labels/O1P0IK3IK3A1_jpg.rf.96c4d82ccf697654bef51f08b50b83e5.txt (deflated 49%)\n",
            "  adding: content/yolo_dataset/train/labels/TIXFXMK7GTGU_jpg.rf.8e8b0b0d029bc11d87582cd1f11ebd60.txt (deflated 35%)\n",
            "  adding: content/yolo_dataset/train/labels/data_147.txt (deflated 49%)\n",
            "  adding: content/yolo_dataset/train/labels/dataq_57.txt (deflated 5%)\n",
            "  adding: content/yolo_dataset/train/labels/data_95.txt (deflated 28%)\n",
            "  adding: content/yolo_dataset/train/labels/datax_2.txt (deflated 28%)\n",
            "  adding: content/yolo_dataset/train/labels/8GJBGVEOJD8P_jpg.rf.4e2219e7dd7b0ce993d448ad0895ac21.txt (deflated 44%)\n",
            "  adding: content/yolo_dataset/train/labels/image_178.txt (deflated 31%)\n",
            "  adding: content/yolo_dataset/train/labels/datax_118.txt (deflated 49%)\n",
            "  adding: content/yolo_dataset/train/labels/data_189.txt (deflated 5%)\n",
            "  adding: content/yolo_dataset/train/labels/data_263.txt (deflated 56%)\n",
            "  adding: content/yolo_dataset/train/labels/data_94.txt (deflated 27%)\n",
            "  adding: content/yolo_dataset/train/labels/I2THEGI0PUST_jpg.rf.310d716f79969dd052f5b46efbf2904d.txt (deflated 50%)\n",
            "  adding: content/yolo_dataset/train/labels/datax_152.txt (deflated 27%)\n",
            "  adding: content/yolo_dataset/train/labels/1V6ZQK9T48OP_jpg.rf.21e287769300a9a273fbf4e810cadee6.txt (deflated 45%)\n",
            "  adding: content/yolo_dataset/train/labels/datax_30.txt (deflated 43%)\n",
            "  adding: content/yolo_dataset/train/labels/image_191.txt (deflated 8%)\n",
            "  adding: content/yolo_dataset/train/labels/data_48.txt (deflated 28%)\n",
            "  adding: content/yolo_dataset/train/labels/datax_49.txt (deflated 25%)\n",
            "  adding: content/yolo_dataset/train/labels/1IY60E8WI66F_jpg.rf.d0436c04b7e98e77d907f98b62339ed6.txt (deflated 44%)\n",
            "  adding: content/yolo_dataset/train/labels/dataq_121.txt (deflated 39%)\n",
            "  adding: content/yolo_dataset/train/labels/data_160.txt (deflated 43%)\n",
            "  adding: content/yolo_dataset/train/labels/image_129.txt (deflated 8%)\n",
            "  adding: content/yolo_dataset/train/labels/RL4ECQ76XGJL_jpg.rf.ecad473d096b5d762836f2ca1f818196.txt (deflated 41%)\n",
            "  adding: content/yolo_dataset/train/labels/image_145.txt (deflated 38%)\n",
            "  adding: content/yolo_dataset/train/labels/3L1GJ68D5QBZ_jpg.rf.75fc4440dd4ff85620051f73fadac950.txt (deflated 39%)\n",
            "  adding: content/yolo_dataset/train/labels/XDWZW1MYORCB_jpg.rf.f61632f88d98f9db6a23656110ed93e4.txt (deflated 50%)\n",
            "  adding: content/yolo_dataset/train/labels/image_18.txt (deflated 18%)\n",
            "  adding: content/yolo_dataset/train/labels/image_131.txt (deflated 32%)\n",
            "  adding: content/yolo_dataset/train/labels/data_47.txt (deflated 25%)\n",
            "  adding: content/yolo_dataset/train/labels/data_87.txt (deflated 27%)\n",
            "  adding: content/yolo_dataset/train/labels/dataq_99.txt (deflated 32%)\n",
            "  adding: content/yolo_dataset/train/labels/data_234.txt (deflated 47%)\n",
            "  adding: content/yolo_dataset/train/labels/data_236.txt (deflated 43%)\n",
            "  adding: content/yolo_dataset/train/labels/D92FYEQMT0BY_jpg.rf.fe0f88a820073099eb9d6cc775c6ef71.txt (deflated 19%)\n",
            "  adding: content/yolo_dataset/train/labels/datax_72.txt (deflated 27%)\n",
            "  adding: content/yolo_dataset/train/labels/NZTA0I39NFW9_jpg.rf.562c5133af7203fdbd7cdd0ec6d27b9d.txt (deflated 65%)\n",
            "  adding: content/yolo_dataset/train/labels/datax_75.txt (deflated 27%)\n",
            "  adding: content/yolo_dataset/train/labels/data_261.txt (deflated 5%)\n",
            "  adding: content/yolo_dataset/train/labels/data_182.txt (deflated 8%)\n",
            "  adding: content/yolo_dataset/train/labels/datax_98.txt (deflated 25%)\n",
            "  adding: content/yolo_dataset/train/labels/datax_153.txt (deflated 27%)\n",
            "  adding: content/yolo_dataset/train/labels/dataq_96.txt (deflated 32%)\n",
            "  adding: content/yolo_dataset/train/labels/dataq_166.txt (deflated 27%)\n",
            "  adding: content/yolo_dataset/train/labels/datax_137.txt (deflated 37%)\n",
            "  adding: content/yolo_dataset/train/labels/data_232.txt (deflated 37%)\n",
            "  adding: content/yolo_dataset/train/labels/data_146.txt (deflated 49%)\n",
            "  adding: content/yolo_dataset/train/labels/data_144.txt (deflated 51%)\n",
            "  adding: content/yolo_dataset/train/labels/KVTAIUOFGV35_jpg.rf.ca3e30ffb3d04f52d3abdd3a300f5c73.txt (deflated 26%)\n",
            "  adding: content/yolo_dataset/train/labels/datax_134.txt (deflated 27%)\n",
            "  adding: content/yolo_dataset/train/labels/A7LYTN2N8DZQ_jpg.rf.ddae6349fa54cc7209d7cf406f099631.txt (deflated 50%)\n",
            "  adding: content/yolo_dataset/train/labels/HZHVKCK0L21E_jpg.rf.f338b623d23492c5a2355b527930d1d3.txt (deflated 54%)\n",
            "  adding: content/yolo_dataset/train/labels/2JXIC0X5D240_jpg.rf.e8ab797b68f2a83072398a0db4a0a99a.txt (deflated 40%)\n",
            "  adding: content/yolo_dataset/train/labels/data_36.txt (deflated 27%)\n",
            "  adding: content/yolo_dataset/train/labels/data_215.txt (deflated 27%)\n",
            "  adding: content/yolo_dataset/train/labels/data_123.txt (deflated 36%)\n",
            "  adding: content/yolo_dataset/train/labels/data_188.txt (deflated 8%)\n",
            "  adding: content/yolo_dataset/train/labels/datax_74.txt (deflated 37%)\n",
            "  adding: content/yolo_dataset/train/labels/image_115.txt (deflated 26%)\n",
            "  adding: content/yolo_dataset/train/labels/image_193.txt (deflated 23%)\n",
            "  adding: content/yolo_dataset/train/labels/data_124.txt (deflated 27%)\n",
            "  adding: content/yolo_dataset/train/labels/datax_20.txt (deflated 25%)\n",
            "  adding: content/yolo_dataset/train/labels/data_81.txt (deflated 39%)\n",
            "  adding: content/yolo_dataset/train/labels/data_198.txt (deflated 8%)\n",
            "  adding: content/yolo_dataset/train/labels/datax_36.txt (deflated 43%)\n",
            "  adding: content/yolo_dataset/train/labels/image_15.txt (deflated 13%)\n",
            "  adding: content/yolo_dataset/train/labels/datax_88.txt (deflated 31%)\n",
            "  adding: content/yolo_dataset/train/labels/datax_7.txt (deflated 28%)\n",
            "  adding: content/yolo_dataset/train/labels/FMPQF2M0X2PF_jpg.rf.69b9629f7ebe68a9a4703238b09e3b66.txt (deflated 53%)\n",
            "  adding: content/yolo_dataset/train/labels/image_117.txt (deflated 40%)\n",
            "  adding: content/yolo_dataset/train/labels/P6RHLIBE8IIA_jpg.rf.4b0a16490e75ebb88e4e2e558aa37042.txt (deflated 13%)\n",
            "  adding: content/yolo_dataset/train/labels/JXFPTRHR122O_jpg.rf.a8ffd7b5721b67ff3f5543782042a408.txt (deflated 52%)\n",
            "  adding: content/yolo_dataset/train/labels/DVV0R1ZWB0T4_jpg.rf.b0b085ea929a6d9da2424bcc458d1517.txt (deflated 50%)\n",
            "  adding: content/yolo_dataset/train/labels/NU2QXBMCMT62_jpg.rf.ffdda94abfb227112ff9893e60d4fd0a.txt (deflated 53%)\n",
            "  adding: content/yolo_dataset/train/labels/dataq_10.txt (deflated 14%)\n",
            "  adding: content/yolo_dataset/train/labels/data_164.txt (deflated 50%)\n",
            "  adding: content/yolo_dataset/train/labels/ZGIOEFI2A67T_jpg.rf.840eefc04e892ddaaa2f5cb95798b2e7.txt (deflated 59%)\n",
            "  adding: content/yolo_dataset/train/labels/dataq_173.txt (deflated 27%)\n",
            "  adding: content/yolo_dataset/train/labels/image_173.txt (deflated 26%)\n",
            "  adding: content/yolo_dataset/train/labels/YZQKBUBHA9E9_jpg.rf.281e99a5a2797d74088e8daeeb51460c.txt (deflated 47%)\n",
            "  adding: content/yolo_dataset/train/labels/datax_68.txt (deflated 38%)\n",
            "  adding: content/yolo_dataset/train/labels/data_82.txt (deflated 27%)\n",
            "  adding: content/yolo_dataset/train/labels/datax_128.txt (deflated 27%)\n",
            "  adding: content/yolo_dataset/train/labels/image_159.txt (deflated 31%)\n",
            "  adding: content/yolo_dataset/train/labels/dataq_118.txt (deflated 37%)\n",
            "  adding: content/yolo_dataset/train/labels/Z690CTXIZ456_jpg.rf.02c97af535a56ef02945d904f5da08cb.txt (deflated 42%)\n",
            "  adding: content/yolo_dataset/train/labels/dataq_13.txt (deflated 37%)\n",
            "  adding: content/yolo_dataset/train/labels/data_214.txt (deflated 27%)\n",
            "  adding: content/yolo_dataset/train/labels/datax_117.txt (deflated 48%)\n",
            "  adding: content/yolo_dataset/train/labels/data_73.txt (deflated 27%)\n",
            "  adding: content/yolo_dataset/train/labels/dataq_47.txt (deflated 28%)\n",
            "  adding: content/yolo_dataset/train/labels/QHC4SD50LRK2_jpg.rf.8f436303155b54b0963b50c931af05f8.txt (deflated 31%)\n",
            "  adding: content/yolo_dataset/train/labels/VLHQCQLIBED6_jpg.rf.57b54fba8e0350044f5a13bc8c3da85d.txt (deflated 70%)\n",
            "  adding: content/yolo_dataset/train/labels/datax_144.txt (deflated 28%)\n",
            "  adding: content/yolo_dataset/train/labels/data_134.txt (deflated 44%)\n",
            "  adding: content/yolo_dataset/train/labels/JDU110AVBREE_jpg.rf.106ba2148cfd685e3ae7b3890e8974a0.txt (deflated 49%)\n",
            "  adding: content/yolo_dataset/train/labels/data_194.txt (deflated 44%)\n",
            "  adding: content/yolo_dataset/train/labels/data_64.txt (deflated 28%)\n",
            "  adding: content/yolo_dataset/train/labels/datax_146.txt (deflated 28%)\n",
            "  adding: content/yolo_dataset/train/labels/data_227.txt (deflated 37%)\n",
            "  adding: content/yolo_dataset/train/labels/image_104.txt (deflated 15%)\n",
            "  adding: content/yolo_dataset/train/labels/datax_156.txt (deflated 28%)\n",
            "  adding: content/yolo_dataset/train/labels/data_76.txt (deflated 31%)\n",
            "  adding: content/yolo_dataset/train/labels/5WHXJUOX6BH2_jpg.rf.4be681875b71f3b27ebd458625d8482b.txt (deflated 53%)\n",
            "  adding: content/yolo_dataset/train/labels/data_133.txt (deflated 46%)\n",
            "  adding: content/yolo_dataset/train/labels/data_205.txt (deflated 43%)\n",
            "  adding: content/yolo_dataset/train/labels/Y2XP2SL5FXFD_jpg.rf.63493914e9ca063c8a1d341a2095b825.txt (deflated 43%)\n",
            "  adding: content/yolo_dataset/train/labels/image_151.txt (deflated 24%)\n",
            "  adding: content/yolo_dataset/train/labels/49GDHT7BA1NR_jpg.rf.70010631b1017d08a7b673979c6320ca.txt (deflated 45%)\n",
            "  adding: content/yolo_dataset/train/labels/dataq_50.txt (deflated 8%)\n",
            "  adding: content/yolo_dataset/train/labels/dataq_1.txt (deflated 28%)\n",
            "  adding: content/yolo_dataset/train/labels/dataq_163.txt (deflated 25%)\n",
            "  adding: content/yolo_dataset/train/labels/NDIZ6V6VRZG6_jpg.rf.a32cec4d7ea7a3d380eeb812dc35c645.txt (deflated 15%)\n",
            "  adding: content/yolo_dataset/train/labels/data_271.txt (deflated 50%)\n",
            "  adding: content/yolo_dataset/train/labels/data_210.txt (deflated 43%)\n",
            "  adding: content/yolo_dataset/train/labels/image_184.txt (deflated 26%)\n",
            "  adding: content/yolo_dataset/train/labels/datax_94.txt (deflated 31%)\n",
            "  adding: content/yolo_dataset/train/labels/data_223.txt (deflated 37%)\n",
            "  adding: content/yolo_dataset/train/labels/BKSPW6S722PU_jpg.rf.6481f5e8012a615c0b4444689c2c82b0.txt (deflated 55%)\n",
            "  adding: content/yolo_dataset/train/labels/dataq_145.txt (deflated 5%)\n",
            "  adding: content/yolo_dataset/train/labels/data_253.txt (deflated 38%)\n",
            "  adding: content/yolo_dataset/train/labels/dataq_156.txt (deflated 5%)\n",
            "  adding: content/yolo_dataset/train/labels/image_182.txt (deflated 27%)\n",
            "  adding: content/yolo_dataset/train/labels/image_176.txt (deflated 32%)\n",
            "  adding: content/yolo_dataset/train/labels/dataq_148.txt (deflated 28%)\n",
            "  adding: content/yolo_dataset/train/labels/dataq_117.txt (deflated 5%)\n",
            "  adding: content/yolo_dataset/train/labels/data_196.txt (deflated 44%)\n",
            "  adding: content/yolo_dataset/train/labels/datax_10.txt (deflated 48%)\n",
            "  adding: content/yolo_dataset/train/labels/datax_122.txt (deflated 28%)\n",
            "  adding: content/yolo_dataset/train/labels/RLBUPVCF7IK5_jpg.rf.c8ea9feaef8ca8a36e134ac79273a154.txt (deflated 32%)\n",
            "  adding: content/yolo_dataset/train/labels/CU8C39JDIJ9X_jpg.rf.0f24471ab85b71c7333ebb7933a3933b.txt (deflated 52%)\n",
            "  adding: content/yolo_dataset/train/labels/HM5MUXJZWV0G_jpg.rf.0eb977e4840822e0cd9ba158ed5a5acb.txt (deflated 33%)\n",
            "  adding: content/yolo_dataset/train/labels/data_26.txt (deflated 5%)\n",
            "  adding: content/yolo_dataset/train/labels/image_123.txt (deflated 15%)\n",
            "  adding: content/yolo_dataset/train/labels/IFJXK18NO1FX_jpg.rf.2cb979f456d5228c99f2b9b8e0fd9385.txt (deflated 59%)\n",
            "  adding: content/yolo_dataset/train/labels/datax_4.txt (deflated 27%)\n",
            "  adding: content/yolo_dataset/train/labels/datax_151.txt (deflated 14%)\n",
            "  adding: content/yolo_dataset/train/labels/datax_83.txt (deflated 16%)\n",
            "  adding: content/yolo_dataset/train/labels/datax_148.txt (deflated 29%)\n",
            "  adding: content/yolo_dataset/train/labels/86CPNVRFXWD6_jpg.rf.e56a2ad8ed6c3ee116bba2772cac5252.txt (deflated 58%)\n",
            "  adding: content/yolo_dataset/train/labels/CV6GGJVE91XB_jpg.rf.48e1e11c36bb58e04866cc4be9a262ed.txt (deflated 29%)\n",
            "  adding: content/yolo_dataset/train/labels/43ECQ1JZ5A17_jpg.rf.ec7d205254be8567737ed84a94b457c0.txt (deflated 55%)\n",
            "  adding: content/yolo_dataset/train/labels/datax_77.txt (deflated 27%)\n",
            "  adding: content/yolo_dataset/train/labels/datax_11.txt (deflated 28%)\n",
            "  adding: content/yolo_dataset/train/labels/image_114.txt (deflated 15%)\n",
            "  adding: content/yolo_dataset/train/labels/JKUGCIV85GXR_jpg.rf.5410e305782ec5971d2bd01c51434561.txt (deflated 48%)\n",
            "  adding: content/yolo_dataset/train/labels/data_186.txt (deflated 50%)\n",
            "  adding: content/yolo_dataset/train/labels/HILZJIWVPORL_jpg.rf.26acc4deb2f0c0667ca4a09ca046c390.txt (deflated 67%)\n",
            "  adding: content/yolo_dataset/train/labels/datax_44.txt (deflated 27%)\n",
            "  adding: content/yolo_dataset/train/labels/dataq_36.txt (deflated 8%)\n",
            "  adding: content/yolo_dataset/train/labels/data_212.txt (deflated 28%)\n",
            "  adding: content/yolo_dataset/train/labels/dataq_30.txt (deflated 38%)\n",
            "  adding: content/yolo_dataset/train/labels/image_1.txt (deflated 42%)\n",
            "  adding: content/yolo_dataset/train/labels/datax_142.txt (deflated 37%)\n",
            "  adding: content/yolo_dataset/train/labels/Y3VTQRM6PQOD_jpg.rf.895325c4b770c65c71cd2bccba46f993.txt (deflated 30%)\n",
            "  adding: content/yolo_dataset/train/labels/data_165.txt (deflated 44%)\n",
            "  adding: content/yolo_dataset/train/labels/datax_87.txt (deflated 27%)\n",
            "  adding: content/yolo_dataset/train/labels/image_125.txt (deflated 8%)\n",
            "  adding: content/yolo_dataset/train/labels/dataq_46.txt (deflated 14%)\n",
            "  adding: content/yolo_dataset/train/labels/data_126.txt (deflated 5%)\n",
            "  adding: content/yolo_dataset/train/labels/datax_9.txt (deflated 37%)\n",
            "  adding: content/yolo_dataset/train/labels/HTIB1XCJVBEW_jpg.rf.511db9336b1e473fd431d86ff928d630.txt (deflated 57%)\n",
            "  adding: content/yolo_dataset/train/labels/dataq_175.txt (deflated 27%)\n",
            "  adding: content/yolo_dataset/train/labels/datax_73.txt (deflated 51%)\n",
            "  adding: content/yolo_dataset/train/labels/dataq_29.txt (deflated 39%)\n",
            "  adding: content/yolo_dataset/train/labels/datax_80.txt (deflated 14%)\n",
            "  adding: content/yolo_dataset/train/labels/IO1OQLR0VHX3_jpg.rf.f0184e15e66914ccd7c0e9d0cf89638c.txt (deflated 36%)\n",
            "  adding: content/yolo_dataset/train/labels/H6IVAWULXGZ8_jpg.rf.59c8b21eafb4bf06014f82c6b3f02c80.txt (deflated 42%)\n",
            "  adding: content/yolo_dataset/train/labels/data_176.txt (deflated 55%)\n",
            "  adding: content/yolo_dataset/train/labels/62LQY0VI1CKT_jpg.rf.76dbe484ee46acd3389ffd48fbdce9d6.txt (deflated 49%)\n",
            "  adding: content/yolo_dataset/train/labels/P3G04BX2HDK4_jpg.rf.49778a358aff6d2934f131b0cbde9129.txt (deflated 49%)\n",
            "  adding: content/yolo_dataset/train/labels/dataq_178.txt (deflated 28%)\n",
            "  adding: content/yolo_dataset/train/labels/HY9NCZ3KS3VW_jpg.rf.89837c6669e340f10a48f34acf1b5368.txt (deflated 30%)\n",
            "  adding: content/yolo_dataset/train/labels/data_6.txt (deflated 47%)\n",
            "  adding: content/yolo_dataset/train/labels/SITAQO3FHUZD_jpg.rf.972dbb64b0690174651768ce9b16eff7.txt (deflated 60%)\n",
            "  adding: content/yolo_dataset/train/labels/dataq_133.txt (deflated 8%)\n",
            "  adding: content/yolo_dataset/train/labels/data_79.txt (deflated 8%)\n",
            "  adding: content/yolo_dataset/train/labels/data_197.txt (deflated 39%)\n",
            "  adding: content/yolo_dataset/train/labels/7Y8VMEQ934RX_jpg.rf.e232eac3a352e683504947d37a4e25c1.txt (deflated 35%)\n",
            "  adding: content/yolo_dataset/train/labels/datax_19.txt (deflated 28%)\n",
            "  adding: content/yolo_dataset/train/labels/image_163.txt (deflated 27%)\n",
            "  adding: content/yolo_dataset/train/labels/T4QKVO0XTP0Q_jpg.rf.3eb979dafd351bbbb1d2fd74457b21ce.txt (deflated 26%)\n",
            "  adding: content/yolo_dataset/train/labels/datax_1.txt (deflated 38%)\n",
            "  adding: content/yolo_dataset/train/labels/datax_57.txt (deflated 27%)\n",
            "  adding: content/yolo_dataset/train/labels/dataq_6.txt (deflated 28%)\n",
            "  adding: content/yolo_dataset/train/labels/0Q86CMPW8GGE_jpg.rf.dabd33fe47142ec78a238a23d14592c7.txt (deflated 50%)\n",
            "  adding: content/yolo_dataset/train/labels/datax_125.txt (deflated 27%)\n",
            "  adding: content/yolo_dataset/train/labels/dataq_70.txt (deflated 37%)\n",
            "  adding: content/yolo_dataset/train/labels/BO40JH95XNW3_jpg.rf.86d3e71c2020e4ca945899b764d4d5e0.txt (deflated 29%)\n",
            "  adding: content/yolo_dataset/train/labels/VO83XQZF8H1R_jpg.rf.b46a4dabf5f9ea5fd8ac8cad9be2968d.txt (deflated 49%)\n",
            "  adding: content/yolo_dataset/train/labels/dataq_112.txt (deflated 38%)\n",
            "  adding: content/yolo_dataset/train/labels/image_188.txt (deflated 31%)\n",
            "  adding: content/yolo_dataset/train/labels/data_162.txt (deflated 43%)\n",
            "  adding: content/yolo_dataset/train/labels/CP48052GSNSS_jpg.rf.05de97259e34d87f6fbd41f0d5dc39b9.txt (deflated 59%)\n",
            "  adding: content/yolo_dataset/train/labels/data_138.txt (deflated 36%)\n",
            "  adding: content/yolo_dataset/train/labels/dataq_92.txt (deflated 27%)\n",
            "  adding: content/yolo_dataset/train/labels/data_249.txt (deflated 38%)\n",
            "  adding: content/yolo_dataset/train/labels/data_21.txt (deflated 28%)\n",
            "  adding: content/yolo_dataset/train/labels/K33CQM6AF64F_jpg.rf.924698876b9d9f649d867e9439cdbf3e.txt (deflated 50%)\n",
            "  adding: content/yolo_dataset/train/labels/datax_53.txt (deflated 27%)\n",
            "  adding: content/yolo_dataset/train/labels/data_3.txt (deflated 56%)\n",
            "  adding: content/yolo_dataset/train/labels/image_169.txt (deflated 26%)\n",
            "  adding: content/yolo_dataset/train/labels/Y32JRLFRW6UD_jpg.rf.9b927bea08137222ec365ad8498762d2.txt (deflated 19%)\n",
            "  adding: content/yolo_dataset/train/labels/AXK2DBQQL7IC_jpg.rf.0c0622e354d7b0503eb18c866a6c62ec.txt (deflated 53%)\n",
            "  adding: content/yolo_dataset/train/labels/data_243.txt (deflated 37%)\n",
            "  adding: content/yolo_dataset/train/labels/P08XRYYM03NL_jpg.rf.b20f7e8b74cfd7b004abe80dee17785c.txt (deflated 40%)\n",
            "  adding: content/yolo_dataset/train/labels/dataq_154.txt (deflated 5%)\n",
            "  adding: content/yolo_dataset/train/labels/dataq_115.txt (deflated 27%)\n",
            "  adding: content/yolo_dataset/train/labels/dataq_49.txt (deflated 29%)\n",
            "  adding: content/yolo_dataset/train/labels/datax_45.txt (deflated 27%)\n",
            "  adding: content/yolo_dataset/train/labels/Q4BPRQXQNGI5_jpg.rf.6e6625449ee084c6a86c6584cab08ff4.txt (deflated 46%)\n",
            "  adding: content/yolo_dataset/train/labels/dataq_54.txt (deflated 29%)\n",
            "  adding: content/yolo_dataset/train/labels/data_56.txt (deflated 46%)\n",
            "  adding: content/yolo_dataset/train/labels/9KJVN6G84JL2_jpg.rf.8d8220a48ca73186b8bd441bbe62ff77.txt (deflated 53%)\n",
            "  adding: content/yolo_dataset/train/labels/datax_52.txt (deflated 27%)\n",
            "  adding: content/yolo_dataset/train/labels/HHA0M56UCNZU_jpg.rf.275d8171739877e21dcea27613725ead.txt (deflated 58%)\n",
            "  adding: content/yolo_dataset/train/labels/9TFH23H15BVX_jpg.rf.f803783bcedc7588eabd3ea4a9057b51.txt (deflated 48%)\n",
            "  adding: content/yolo_dataset/train/labels/dataq_141.txt (deflated 29%)\n",
            "  adding: content/yolo_dataset/train/labels/image_106.txt (deflated 27%)\n",
            "  adding: content/yolo_dataset/train/labels/datax_31.txt (deflated 28%)\n",
            "  adding: content/yolo_dataset/train/labels/dataq_126.txt (deflated 8%)\n",
            "  adding: content/yolo_dataset/train/labels/datax_78.txt (deflated 37%)\n",
            "  adding: content/yolo_dataset/train/labels/WIIG5IL08DRO_jpg.rf.dd5cde8a727a00daaec4a5a51e1bee4c.txt (deflated 52%)\n",
            "  adding: content/yolo_dataset/train/labels/A5I41ONMH4X9_jpg.rf.1d506dc5f5bbfa0d7bd52e99746ab896.txt (deflated 37%)\n",
            "  adding: content/yolo_dataset/train/labels/data_100.txt (deflated 54%)\n",
            "  adding: content/yolo_dataset/train/labels/8R2637B47YNB_jpg.rf.9399103580b3f39bc7cff59c6de90d13.txt (deflated 42%)\n",
            "  adding: content/yolo_dataset/train/labels/8H6PR7AKW29O_jpg.rf.7e2c0ff4a52a61a1defef7a036e3c215.txt (deflated 50%)\n",
            "  adding: content/yolo_dataset/train/labels/dataq_97.txt (deflated 27%)\n",
            "  adding: content/yolo_dataset/train/labels/image_122.txt (deflated 8%)\n",
            "  adding: content/yolo_dataset/train/labels/datax_97.txt (deflated 27%)\n",
            "  adding: content/yolo_dataset/train/labels/image_135.txt (deflated 26%)\n",
            "  adding: content/yolo_dataset/train/labels/datax_25.txt (deflated 49%)\n",
            "  adding: content/yolo_dataset/train/labels/1JHQ0M6SUPZN_jpg.rf.59f03d96dda7ea598bfdc7aa0a4ab8d4.txt (deflated 18%)\n",
            "  adding: content/yolo_dataset/train/labels/QMFL1WEQF1EH_jpg.rf.5d322c704a8c67f93df40179b4e166e0.txt (deflated 66%)\n",
            "  adding: content/yolo_dataset/train/labels/data_216.txt (deflated 52%)\n",
            "  adding: content/yolo_dataset/train/labels/image_171.txt (deflated 26%)\n",
            "  adding: content/yolo_dataset/train/labels/dataq_48.txt (deflated 38%)\n",
            "  adding: content/yolo_dataset/train/labels/dataq_155.txt (deflated 5%)\n",
            "  adding: content/yolo_dataset/train/labels/1DUOU2W1RCVI_jpg.rf.834c5eacbff2f12b18bd7c666ef7d218.txt (deflated 46%)\n",
            "  adding: content/yolo_dataset/train/labels/datax_133.txt (deflated 28%)\n",
            "  adding: content/yolo_dataset/train/labels/TI7MLSL5RT4D_jpg.rf.302b5bb1acc2acaa4ffbf0a29bfc10f3.txt (deflated 34%)\n",
            "  adding: content/yolo_dataset/train/labels/datax_70.txt (deflated 28%)\n",
            "  adding: content/yolo_dataset/train/labels/data_208.txt (deflated 44%)\n",
            "  adding: content/yolo_dataset/train/labels/datax_107.txt (deflated 29%)\n",
            "  adding: content/yolo_dataset/train/labels/data_86.txt (deflated 29%)\n",
            "  adding: content/yolo_dataset/train/labels/39CTE9EAHXHY_jpg.rf.764c2e1e2a180c457e902bee4f2e37a2.txt (deflated 41%)\n",
            "  adding: content/yolo_dataset/train/labels/data_173.txt (deflated 52%)\n",
            "  adding: content/yolo_dataset/train/labels/YE5E5VJUJ61O_jpg.rf.c30a778caf181048980d339e21e8f37f.txt (deflated 48%)\n",
            "  adding: content/yolo_dataset/train/labels/BFZKH8ZQMQXT_jpg.rf.6680a4038c815ac500b5ed4930ad8af4.txt (deflated 50%)\n",
            "  adding: content/yolo_dataset/train/labels/data_251.txt (deflated 38%)\n",
            "  adding: content/yolo_dataset/train/labels/data_54.txt (deflated 28%)\n",
            "  adding: content/yolo_dataset/train/labels/9DUC3W8KLTSX_jpg.rf.22674b2547f1d8c6b2d058f3934e7ed4.txt (deflated 49%)\n",
            "  adding: content/yolo_dataset/train/labels/NW1SRKMLFP1S_jpg.rf.af2b9913e8cbc7123e9e4311a7ae72d3.txt (deflated 55%)\n",
            "  adding: content/yolo_dataset/train/labels/image_130.txt (deflated 28%)\n",
            "  adding: content/yolo_dataset/train/labels/3QGVJAU50BJJ_jpg.rf.01d5eae20d94eb06b4a16c45d9fcd690.txt (deflated 46%)\n",
            "  adding: content/yolo_dataset/train/labels/GHRMLV7CGPRQ_jpg.rf.6256b704b1b803014fbf92519a0df5ff.txt (deflated 53%)\n",
            "  adding: content/yolo_dataset/train/labels/4PUI1WUNR9BV_jpg.rf.e83702a41866c2bba4a03363cd85f29f.txt (deflated 43%)\n",
            "  adding: content/yolo_dataset/train/labels/BTFOYCTP6PZD_jpg.rf.68f13fa36bcda015b5d53f325f4842ac.txt (deflated 66%)\n",
            "  adding: content/yolo_dataset/train/labels/dataq_52.txt (deflated 8%)\n",
            "  adding: content/yolo_dataset/train/labels/CA8AYOHAH0NE_jpg.rf.79a1c205b62993475731fce494d87197.txt (deflated 35%)\n",
            "  adding: content/yolo_dataset/train/labels/QSB2QBZHFMEP_jpg.rf.9ed510146de498487a58138f9650763d.txt (deflated 43%)\n",
            "  adding: content/yolo_dataset/train/labels/datax_51.txt (deflated 27%)\n",
            "  adding: content/yolo_dataset/train/labels/JTCM1X8BZSN2_jpg.rf.bed84c76e6fc7957db3a4136a2ea7114.txt (deflated 49%)\n",
            "  adding: content/yolo_dataset/train/labels/data_49.txt (deflated 36%)\n",
            "  adding: content/yolo_dataset/train/labels/data_75.txt (deflated 25%)\n",
            "  adding: content/yolo_dataset/train/labels/data_37.txt (deflated 37%)\n",
            "  adding: content/yolo_dataset/train/labels/WT2U7751A11M_jpg.rf.28f660e7a98604eed3de5b9162d0389e.txt (deflated 50%)\n",
            "  adding: content/yolo_dataset/train/labels/data_109.txt (deflated 56%)\n",
            "  adding: content/yolo_dataset/train/labels/dataq_179.txt (deflated 28%)\n",
            "  adding: content/yolo_dataset/train/labels/datax_110.txt (deflated 27%)\n",
            "  adding: content/yolo_dataset/train/labels/DBJKWHEXGQ1B_jpg.rf.b34f62a900b65f571d9082eef3c14af6.txt (deflated 45%)\n",
            "  adding: content/yolo_dataset/train/labels/VNNBSPZ8J2DR_jpg.rf.712d620307cee3a0c966ba41e451c21e.txt (deflated 47%)\n",
            "  adding: content/yolo_dataset/train/labels/data_139.txt (deflated 29%)\n",
            "  adding: content/yolo_dataset/train/labels/image_107.txt (deflated 5%)\n",
            "  adding: content/yolo_dataset/train/labels/data_250.txt (deflated 5%)\n",
            "  adding: content/yolo_dataset/train/labels/datax_102.txt (deflated 28%)\n",
            "  adding: content/yolo_dataset/train/labels/FC0LO1BEY9ME_jpg.rf.c4793fab237dc2d90ad78a89590d8b75.txt (deflated 53%)\n",
            "  adding: content/yolo_dataset/train/labels/9IBST0ZJQXMB_jpg.rf.3775b6e77dc9710474925435071f0353.txt (deflated 43%)\n",
            "  adding: content/yolo_dataset/train/labels/data_32.txt (deflated 39%)\n",
            "  adding: content/yolo_dataset/train/labels/dataq_69.txt (deflated 37%)\n",
            "  adding: content/yolo_dataset/train/labels/data_10.txt (deflated 28%)\n",
            "  adding: content/yolo_dataset/train/labels/UOAH3FM819VX_jpg.rf.a85b165b1e77c79cb9c8d4ed00afafff.txt (deflated 35%)\n",
            "  adding: content/yolo_dataset/train/labels/data_62.txt (deflated 27%)\n",
            "  adding: content/yolo_dataset/train/labels/QT10A4SD4PBY_jpg.rf.940a189a7bc52b2a24fbd5c12edc53ff.txt (deflated 32%)\n",
            "  adding: content/yolo_dataset/train/labels/image_183.txt (deflated 8%)\n",
            "  adding: content/yolo_dataset/train/labels/EB2UHJDEOVJY_jpg.rf.fb7c74028a8632321e684da30efbcbed.txt (deflated 52%)\n",
            "  adding: content/yolo_dataset/train/labels/S6A3DS0KYLLO_jpg.rf.9910bf2382a3e6ded3177a2e30f1bab1.txt (deflated 53%)\n",
            "  adding: content/yolo_dataset/train/labels/data_225.txt (deflated 11%)\n",
            "  adding: content/yolo_dataset/train/labels/data_171.txt (deflated 44%)\n",
            "  adding: content/yolo_dataset/train/labels/data_257.txt (deflated 8%)\n",
            "  adding: content/yolo_dataset/train/labels/datax_111.txt (deflated 28%)\n",
            "  adding: content/yolo_dataset/train/labels/1IME79QHGAPK_jpg.rf.7b3914ccdf1e13e04b79633b23d8f043.txt (deflated 50%)\n",
            "  adding: content/yolo_dataset/train/labels/data_140.txt (deflated 38%)\n",
            "  adding: content/yolo_dataset/train/labels/data_152.txt (deflated 29%)\n",
            "  adding: content/yolo_dataset/train/labels/data_127.txt (deflated 38%)\n",
            "  adding: content/yolo_dataset/train/labels/datax_135.txt (deflated 28%)\n",
            "  adding: content/yolo_dataset/train/labels/datax_79.txt (deflated 5%)\n",
            "  adding: content/yolo_dataset/train/labels/datax_131.txt (deflated 27%)\n",
            "  adding: content/yolo_dataset/train/labels/image_162.txt (deflated 26%)\n",
            "  adding: content/yolo_dataset/train/labels/4YADSLP6QWWA_jpg.rf.adfc3c0489075fc8c84bbc2479b6aa37.txt (deflated 51%)\n",
            "  adding: content/yolo_dataset/train/labels/DTL2QW4REEMH_jpg.rf.ce54c8a5bdcd9c2776a5459dd8944e6f.txt (deflated 34%)\n",
            "  adding: content/yolo_dataset/train/labels/data_141.txt (deflated 43%)\n",
            "  adding: content/yolo_dataset/train/labels/data_34.txt (deflated 28%)\n",
            "  adding: content/yolo_dataset/train/labels/0R4V5100QSN6_jpg.rf.25313596875a8780852383090b176212.txt (deflated 35%)\n",
            "  adding: content/yolo_dataset/train/labels/WN3IK0S4ULLL_jpg.rf.97c513dac8f0b6c24cc89587613b7be7.txt (deflated 48%)\n",
            "  adding: content/yolo_dataset/train/labels/image_148.txt (deflated 39%)\n",
            "  adding: content/yolo_dataset/train/labels/dataq_152.txt (deflated 5%)\n",
            "  adding: content/yolo_dataset/train/labels/data_183.txt (deflated 38%)\n",
            "  adding: content/yolo_dataset/train/labels/dataq_119.txt (deflated 16%)\n",
            "  adding: content/yolo_dataset/train/labels/datax_113.txt (deflated 28%)\n",
            "  adding: content/yolo_dataset/train/labels/data_46.txt (deflated 31%)\n",
            "  adding: content/yolo_dataset/train/images/ (stored 0%)\n",
            "  adding: content/yolo_dataset/train/images/datax_115.jpg (deflated 0%)\n",
            "  adding: content/yolo_dataset/train/images/dataq_62.jpg (deflated 0%)\n",
            "  adding: content/yolo_dataset/train/images/image_18.jpg (deflated 0%)\n",
            "  adding: content/yolo_dataset/train/images/dataq_132.jpg (deflated 0%)\n",
            "  adding: content/yolo_dataset/train/images/data_111.jpg (deflated 0%)\n",
            "  adding: content/yolo_dataset/train/images/data_175.jpg (deflated 0%)\n",
            "  adding: content/yolo_dataset/train/images/data_270.jpg (deflated 0%)\n",
            "  adding: content/yolo_dataset/train/images/data_71.jpg (deflated 1%)\n",
            "  adding: content/yolo_dataset/train/images/AOJABFLL5ZMF_jpg.rf.eefb86279f7c81180ae9d15f201e5d25.jpg (deflated 4%)\n",
            "  adding: content/yolo_dataset/train/images/Z2FAFX4CS2XI_jpg.rf.29dc33e2add5f7ef288e9ecb8d67f1c5.jpg (deflated 4%)\n",
            "  adding: content/yolo_dataset/train/images/data_184.jpg (deflated 0%)\n",
            "  adding: content/yolo_dataset/train/images/JR43V3D9QMTL_jpg.rf.807ff7d192e531762cb38dbacbe187c0.jpg (deflated 7%)\n",
            "  adding: content/yolo_dataset/train/images/datax_51.jpg (deflated 3%)\n",
            "  adding: content/yolo_dataset/train/images/data_196.jpg (deflated 1%)\n",
            "  adding: content/yolo_dataset/train/images/OUAFY9ZVRAE4_jpg.rf.18790450471c5333e1cc29e4ca48a59d.jpg (deflated 4%)\n",
            "  adding: content/yolo_dataset/train/images/datax_110.jpg (deflated 0%)\n",
            "  adding: content/yolo_dataset/train/images/dataq_167.jpg (deflated 0%)\n",
            "  adding: content/yolo_dataset/train/images/datax_64.jpg (deflated 3%)\n",
            "  adding: content/yolo_dataset/train/images/IUHQCQKA445T_jpg.rf.c4e1ae1e1ac2ab1f30452e19bbe4d261.jpg (deflated 4%)\n",
            "  adding: content/yolo_dataset/train/images/data_153.jpg (deflated 0%)\n",
            "  adding: content/yolo_dataset/train/images/dataq_106.jpg (deflated 0%)\n",
            "  adding: content/yolo_dataset/train/images/datax_114.jpg (deflated 0%)\n",
            "  adding: content/yolo_dataset/train/images/data_54.jpg (deflated 1%)\n",
            "  adding: content/yolo_dataset/train/images/43ECQ1JZ5A17_jpg.rf.ec7d205254be8567737ed84a94b457c0.jpg (deflated 5%)\n",
            "  adding: content/yolo_dataset/train/images/image_137.jpg (deflated 0%)\n",
            "  adding: content/yolo_dataset/train/images/1IY60E8WI66F_jpg.rf.d0436c04b7e98e77d907f98b62339ed6.jpg (deflated 5%)\n",
            "  adding: content/yolo_dataset/train/images/datax_34.jpg (deflated 1%)\n",
            "  adding: content/yolo_dataset/train/images/datax_155.jpg (deflated 0%)\n",
            "  adding: content/yolo_dataset/train/images/data_75.jpg (deflated 0%)\n",
            "  adding: content/yolo_dataset/train/images/dataq_65.jpg (deflated 1%)\n",
            "  adding: content/yolo_dataset/train/images/datax_108.jpg (deflated 0%)\n",
            "  adding: content/yolo_dataset/train/images/data_46.jpg (deflated 1%)\n",
            "  adding: content/yolo_dataset/train/images/datax_17.jpg (deflated 1%)\n",
            "  adding: content/yolo_dataset/train/images/7QENMANN1XF8_jpg.rf.655d10e07cd9751f83d56a880597943f.jpg (deflated 4%)\n",
            "  adding: content/yolo_dataset/train/images/GHRMLV7CGPRQ_jpg.rf.6256b704b1b803014fbf92519a0df5ff.jpg (deflated 5%)\n",
            "  adding: content/yolo_dataset/train/images/dataq_7.jpg (deflated 0%)\n",
            "  adding: content/yolo_dataset/train/images/N8G06BFROO8O_jpg.rf.e1739061c6edd3f0e3d4a2a259b253ae.jpg (deflated 5%)\n",
            "  adding: content/yolo_dataset/train/images/data_21.jpg (deflated 1%)\n",
            "  adding: content/yolo_dataset/train/images/data_18.jpg (deflated 1%)\n",
            "  adding: content/yolo_dataset/train/images/data_92.jpg (deflated 1%)\n",
            "  adding: content/yolo_dataset/train/images/datax_89.jpg (deflated 0%)\n",
            "  adding: content/yolo_dataset/train/images/data_133.jpg (deflated 0%)\n",
            "  adding: content/yolo_dataset/train/images/data_267.jpg (deflated 0%)\n",
            "  adding: content/yolo_dataset/train/images/datax_38.jpg (deflated 1%)\n",
            "  adding: content/yolo_dataset/train/images/NDIZ6V6VRZG6_jpg.rf.a32cec4d7ea7a3d380eeb812dc35c645.jpg (deflated 4%)\n",
            "  adding: content/yolo_dataset/train/images/1V6ZQK9T48OP_jpg.rf.21e287769300a9a273fbf4e810cadee6.jpg (deflated 5%)\n",
            "  adding: content/yolo_dataset/train/images/image_152.jpg (deflated 0%)\n",
            "  adding: content/yolo_dataset/train/images/TZ3Y2NSQILO2_jpg.rf.250d2addaf05568356f1f57ab6228297.jpg (deflated 5%)\n",
            "  adding: content/yolo_dataset/train/images/datax_107.jpg (deflated 0%)\n",
            "  adding: content/yolo_dataset/train/images/JVI8NV97S5EF_jpg.rf.f3e81ec86d26d03e4b4adc8b573b463b.jpg (deflated 4%)\n",
            "  adding: content/yolo_dataset/train/images/datax_54.jpg (deflated 4%)\n",
            "  adding: content/yolo_dataset/train/images/dataq_10.jpg (deflated 0%)\n",
            "  adding: content/yolo_dataset/train/images/data_268.jpg (deflated 0%)\n",
            "  adding: content/yolo_dataset/train/images/data_30.jpg (deflated 0%)\n",
            "  adding: content/yolo_dataset/train/images/TGXQXDIUNCIH_jpg.rf.b2439424403676e32e9dae367a2ffa2f.jpg (deflated 4%)\n",
            "  adding: content/yolo_dataset/train/images/datax_41.jpg (deflated 1%)\n",
            "  adding: content/yolo_dataset/train/images/YEA2G9OZQ3FB_jpg.rf.d6a4da1fe5f8a62e3f276a807afac085.jpg (deflated 4%)\n",
            "  adding: content/yolo_dataset/train/images/4PUI1WUNR9BV_jpg.rf.e83702a41866c2bba4a03363cd85f29f.jpg (deflated 5%)\n",
            "  adding: content/yolo_dataset/train/images/data_86.jpg (deflated 1%)\n",
            "  adding: content/yolo_dataset/train/images/datax_67.jpg (deflated 0%)\n",
            "  adding: content/yolo_dataset/train/images/datax_149.jpg (deflated 0%)\n",
            "  adding: content/yolo_dataset/train/images/dataq_26.jpg (deflated 0%)\n",
            "  adding: content/yolo_dataset/train/images/datax_131.jpg (deflated 0%)\n",
            "  adding: content/yolo_dataset/train/images/dataq_42.jpg (deflated 0%)\n",
            "  adding: content/yolo_dataset/train/images/JKUGCIV85GXR_jpg.rf.5410e305782ec5971d2bd01c51434561.jpg (deflated 5%)\n",
            "  adding: content/yolo_dataset/train/images/9EAIWF6MSFDH_jpg.rf.20d6a147e856575abb0031debc2095d6.jpg (deflated 6%)\n",
            "  adding: content/yolo_dataset/train/images/2CFQA6UIS0S6_jpg.rf.41a868319ce1c397a0e7504456e33897.jpg (deflated 5%)\n",
            "  adding: content/yolo_dataset/train/images/data_61.jpg (deflated 0%)\n",
            "  adding: content/yolo_dataset/train/images/1IME79QHGAPK_jpg.rf.7b3914ccdf1e13e04b79633b23d8f043.jpg (deflated 5%)\n",
            "  adding: content/yolo_dataset/train/images/PA553OKVYVT8_jpg.rf.636195807bd8f18c5927eaf493f249bf.jpg (deflated 5%)\n",
            "  adding: content/yolo_dataset/train/images/data_218.jpg (deflated 0%)\n",
            "  adding: content/yolo_dataset/train/images/data_246.jpg (deflated 0%)\n",
            "  adding: content/yolo_dataset/train/images/dataq_22.jpg (deflated 0%)\n",
            "  adding: content/yolo_dataset/train/images/data_252.jpg (deflated 0%)\n",
            "  adding: content/yolo_dataset/train/images/data_254.jpg (deflated 0%)\n",
            "  adding: content/yolo_dataset/train/images/data_90.jpg (deflated 0%)\n",
            "  adding: content/yolo_dataset/train/images/image_173.jpg (deflated 0%)\n",
            "  adding: content/yolo_dataset/train/images/Q0GRGJIJ7177_jpg.rf.9fed84c88fc25b7e53f52e766660c735.jpg (deflated 7%)\n",
            "  adding: content/yolo_dataset/train/images/image_165.jpg (deflated 0%)\n",
            "  adding: content/yolo_dataset/train/images/CV6GGJVE91XB_jpg.rf.48e1e11c36bb58e04866cc4be9a262ed.jpg (deflated 4%)\n",
            "  adding: content/yolo_dataset/train/images/dataq_44.jpg (deflated 0%)\n",
            "  adding: content/yolo_dataset/train/images/data_65.jpg (deflated 0%)\n",
            "  adding: content/yolo_dataset/train/images/dataq_68.jpg (deflated 0%)\n",
            "  adding: content/yolo_dataset/train/images/data_250.jpg (deflated 0%)\n",
            "  adding: content/yolo_dataset/train/images/datax_49.jpg (deflated 3%)\n",
            "  adding: content/yolo_dataset/train/images/data_176.jpg (deflated 0%)\n",
            "  adding: content/yolo_dataset/train/images/09B3JULPBRKM_jpg.rf.ab6ad0205a722550a1e497c2e5b56f1a.jpg (deflated 13%)\n",
            "  adding: content/yolo_dataset/train/images/image_105.jpg (deflated 0%)\n",
            "  adding: content/yolo_dataset/train/images/LHZFP7ZD002E_jpg.rf.42e1944f3b6db5d402836fbcbba9630c.jpg (deflated 5%)\n",
            "  adding: content/yolo_dataset/train/images/data_144.jpg (deflated 0%)\n",
            "  adding: content/yolo_dataset/train/images/data_183.jpg (deflated 0%)\n",
            "  adding: content/yolo_dataset/train/images/image_191.jpg (deflated 1%)\n",
            "  adding: content/yolo_dataset/train/images/image_17.jpg (deflated 0%)\n",
            "  adding: content/yolo_dataset/train/images/dataq_105.jpg (deflated 0%)\n",
            "  adding: content/yolo_dataset/train/images/KR4VY0QY6H20_jpg.rf.35256dd398264e7650e18639d08e560c.jpg (deflated 4%)\n",
            "  adding: content/yolo_dataset/train/images/dataq_38.jpg (deflated 0%)\n",
            "  adding: content/yolo_dataset/train/images/data_159.jpg (deflated 0%)\n",
            "  adding: content/yolo_dataset/train/images/dataq_69.jpg (deflated 1%)\n",
            "  adding: content/yolo_dataset/train/images/dataq_36.jpg (deflated 0%)\n",
            "  adding: content/yolo_dataset/train/images/IFJXK18NO1FX_jpg.rf.2cb979f456d5228c99f2b9b8e0fd9385.jpg (deflated 5%)\n",
            "  adding: content/yolo_dataset/train/images/HZHVKCK0L21E_jpg.rf.f338b623d23492c5a2355b527930d1d3.jpg (deflated 5%)\n",
            "  adding: content/yolo_dataset/train/images/UHL11BOVQLWU_jpg.rf.7a095417fb77feb38b63491454216e3e.jpg (deflated 6%)\n",
            "  adding: content/yolo_dataset/train/images/data_109.jpg (deflated 0%)\n",
            "  adding: content/yolo_dataset/train/images/dataq_165.jpg (deflated 0%)\n",
            "  adding: content/yolo_dataset/train/images/data_226.jpg (deflated 0%)\n",
            "  adding: content/yolo_dataset/train/images/data_113.jpg (deflated 0%)\n",
            "  adding: content/yolo_dataset/train/images/A11BBYO93AJU_jpg.rf.2fd99c5cb96e3931c64dbc9ada63481f.jpg (deflated 4%)\n",
            "  adding: content/yolo_dataset/train/images/02I0NSL4O8BH_jpg.rf.fc9973bd72f912957908767054d0431e.jpg (deflated 5%)\n",
            "  adding: content/yolo_dataset/train/images/datax_65.jpg (deflated 3%)\n",
            "  adding: content/yolo_dataset/train/images/datax_22.jpg (deflated 2%)\n",
            "  adding: content/yolo_dataset/train/images/datax_109.jpg (deflated 0%)\n",
            "  adding: content/yolo_dataset/train/images/3PDJJJC5A6WD_jpg.rf.a7c1be380430d5f0b800254844aadd3e.jpg (deflated 4%)\n",
            "  adding: content/yolo_dataset/train/images/data_17.jpg (deflated 0%)\n",
            "  adding: content/yolo_dataset/train/images/H6IVAWULXGZ8_jpg.rf.59c8b21eafb4bf06014f82c6b3f02c80.jpg (deflated 7%)\n",
            "  adding: content/yolo_dataset/train/images/datax_136.jpg (deflated 0%)\n",
            "  adding: content/yolo_dataset/train/images/dataq_51.jpg (deflated 0%)\n",
            "  adding: content/yolo_dataset/train/images/image_180.jpg (deflated 1%)\n",
            "  adding: content/yolo_dataset/train/images/datax_86.jpg (deflated 0%)\n",
            "  adding: content/yolo_dataset/train/images/data_156.jpg (deflated 0%)\n",
            "  adding: content/yolo_dataset/train/images/AXK2DBQQL7IC_jpg.rf.0c0622e354d7b0503eb18c866a6c62ec.jpg (deflated 5%)\n",
            "  adding: content/yolo_dataset/train/images/dataq_4.jpg (deflated 0%)\n",
            "  adding: content/yolo_dataset/train/images/dataq_37.jpg (deflated 0%)\n",
            "  adding: content/yolo_dataset/train/images/image_195.jpg (deflated 1%)\n",
            "  adding: content/yolo_dataset/train/images/data_63.jpg (deflated 0%)\n",
            "  adding: content/yolo_dataset/train/images/ZI89ROYM87IW_jpg.rf.08354055ec4d73f593712290a8517533.jpg (deflated 5%)\n",
            "  adding: content/yolo_dataset/train/images/319D3HVXW50D_jpg.rf.bd075421c763b4564992318e87a52e83.jpg (deflated 5%)\n",
            "  adding: content/yolo_dataset/train/images/datax_101.jpg (deflated 0%)\n",
            "  adding: content/yolo_dataset/train/images/0DBZCMRDL65L_jpg.rf.3f1e720d887bd8e482f2a713d1c08494.jpg (deflated 8%)\n",
            "  adding: content/yolo_dataset/train/images/datax_152.jpg (deflated 0%)\n",
            "  adding: content/yolo_dataset/train/images/data_219.jpg (deflated 0%)\n",
            "  adding: content/yolo_dataset/train/images/datax_141.jpg (deflated 2%)\n",
            "  adding: content/yolo_dataset/train/images/data_97.jpg (deflated 1%)\n",
            "  adding: content/yolo_dataset/train/images/Q96MNGZFXK7V_jpg.rf.2d927138180ca01cabb7059ff61d37ca.jpg (deflated 5%)\n",
            "  adding: content/yolo_dataset/train/images/YTH1IVYI6136_jpg.rf.e882632ea58c7f6d1aa713701684eea3.jpg (deflated 4%)\n",
            "  adding: content/yolo_dataset/train/images/dataq_25.jpg (deflated 0%)\n",
            "  adding: content/yolo_dataset/train/images/datax_116.jpg (deflated 0%)\n",
            "  adding: content/yolo_dataset/train/images/EHX63JQ3HRGA_jpg.rf.c218c9ccde35be140ce0d18537e80859.jpg (deflated 5%)\n",
            "  adding: content/yolo_dataset/train/images/data_222.jpg (deflated 0%)\n",
            "  adding: content/yolo_dataset/train/images/P6RHLIBE8IIA_jpg.rf.4b0a16490e75ebb88e4e2e558aa37042.jpg (deflated 5%)\n",
            "  adding: content/yolo_dataset/train/images/ZMGPHSMTZU0W_jpg.rf.18caa8285056ec99ffa0be9fb430c992.jpg (deflated 4%)\n",
            "  adding: content/yolo_dataset/train/images/dataq_2.jpg (deflated 0%)\n",
            "  adding: content/yolo_dataset/train/images/NZHVKUMJ0D77_jpg.rf.dc469449f59926ea6cf203e78fee9a63.jpg (deflated 6%)\n",
            "  adding: content/yolo_dataset/train/images/datax_48.jpg (deflated 3%)\n",
            "  adding: content/yolo_dataset/train/images/image_146.jpg (deflated 0%)\n",
            "  adding: content/yolo_dataset/train/images/data_224.jpg (deflated 0%)\n",
            "  adding: content/yolo_dataset/train/images/A1VPFOL50SNO_jpg.rf.e350de6314c893e7ac73330a7dabdf35.jpg (deflated 5%)\n",
            "  adding: content/yolo_dataset/train/images/data_13.jpg (deflated 0%)\n",
            "  adding: content/yolo_dataset/train/images/datax_78.jpg (deflated 0%)\n",
            "  adding: content/yolo_dataset/train/images/dataq_35.jpg (deflated 0%)\n",
            "  adding: content/yolo_dataset/train/images/data_28.jpg (deflated 0%)\n",
            "  adding: content/yolo_dataset/train/images/J1BZ0B2GOWUK_jpg.rf.25599dbf0147dfe469f0b2f84462afab.jpg (deflated 5%)\n",
            "  adding: content/yolo_dataset/train/images/dataq_55.jpg (deflated 0%)\n",
            "  adding: content/yolo_dataset/train/images/data_50.jpg (deflated 1%)\n",
            "  adding: content/yolo_dataset/train/images/data_78.jpg (deflated 0%)\n",
            "  adding: content/yolo_dataset/train/images/data_238.jpg (deflated 0%)\n",
            "  adding: content/yolo_dataset/train/images/data_76.jpg (deflated 0%)\n",
            "  adding: content/yolo_dataset/train/images/0R4V5100QSN6_jpg.rf.25313596875a8780852383090b176212.jpg (deflated 5%)\n",
            "  adding: content/yolo_dataset/train/images/data_100.jpg (deflated 0%)\n",
            "  adding: content/yolo_dataset/train/images/dataq_108.jpg (deflated 0%)\n",
            "  adding: content/yolo_dataset/train/images/Y2XP2SL5FXFD_jpg.rf.63493914e9ca063c8a1d341a2095b825.jpg (deflated 4%)\n",
            "  adding: content/yolo_dataset/train/images/data_126.jpg (deflated 0%)\n",
            "  adding: content/yolo_dataset/train/images/image_107.jpg (deflated 0%)\n",
            "  adding: content/yolo_dataset/train/images/datax_77.jpg (deflated 1%)\n",
            "  adding: content/yolo_dataset/train/images/data_228.jpg (deflated 0%)\n",
            "  adding: content/yolo_dataset/train/images/data_151.jpg (deflated 0%)\n",
            "  adding: content/yolo_dataset/train/images/data_127.jpg (deflated 0%)\n",
            "  adding: content/yolo_dataset/train/images/ZOS2FGOQVQTY_jpg.rf.d8390bad94bff4affb56eab8d95606d9.jpg (deflated 6%)\n",
            "  adding: content/yolo_dataset/train/images/dataq_161.jpg (deflated 0%)\n",
            "  adding: content/yolo_dataset/train/images/data_26.jpg (deflated 0%)\n",
            "  adding: content/yolo_dataset/train/images/T4QKVO0XTP0Q_jpg.rf.3eb979dafd351bbbb1d2fd74457b21ce.jpg (deflated 5%)\n",
            "  adding: content/yolo_dataset/train/images/image_131.jpg (deflated 0%)\n",
            "  adding: content/yolo_dataset/train/images/OP2T5GC0M5J4_jpg.rf.28fb501d98afdb325d32ac6ce6c247e4.jpg (deflated 5%)\n",
            "  adding: content/yolo_dataset/train/images/dataq_20.jpg (deflated 0%)\n",
            "  adding: content/yolo_dataset/train/images/data_204.jpg (deflated 0%)\n",
            "  adding: content/yolo_dataset/train/images/data_227.jpg (deflated 0%)\n",
            "  adding: content/yolo_dataset/train/images/data_273.jpg (deflated 0%)\n",
            "  adding: content/yolo_dataset/train/images/dataq_109.jpg (deflated 0%)\n",
            "  adding: content/yolo_dataset/train/images/dataq_126.jpg (deflated 0%)\n",
            "  adding: content/yolo_dataset/train/images/dataq_134.jpg (deflated 0%)\n",
            "  adding: content/yolo_dataset/train/images/HM5MUXJZWV0G_jpg.rf.0eb977e4840822e0cd9ba158ed5a5acb.jpg (deflated 5%)\n",
            "  adding: content/yolo_dataset/train/images/data_266.jpg (deflated 0%)\n",
            "  adding: content/yolo_dataset/train/images/dataq_173.jpg (deflated 0%)\n",
            "  adding: content/yolo_dataset/train/images/G4LHLDE31ELB_jpg.rf.e9c72a4c643e8b60e7704e4d354645f4.jpg (deflated 4%)\n",
            "  adding: content/yolo_dataset/train/images/datax_98.jpg (deflated 0%)\n",
            "  adding: content/yolo_dataset/train/images/MCGG9NQ3ZS1R_jpg.rf.aee6501a4180110ce31254afe51d4942.jpg (deflated 7%)\n",
            "  adding: content/yolo_dataset/train/images/image_175.jpg (deflated 0%)\n",
            "  adding: content/yolo_dataset/train/images/image_10.jpg (deflated 0%)\n",
            "  adding: content/yolo_dataset/train/images/WIIG5IL08DRO_jpg.rf.dd5cde8a727a00daaec4a5a51e1bee4c.jpg (deflated 4%)\n",
            "  adding: content/yolo_dataset/train/images/2ITU1GQBQO6Y_jpg.rf.d4ede5610eceecbb3062029bded3c70e.jpg (deflated 5%)\n",
            "  adding: content/yolo_dataset/train/images/data_215.jpg (deflated 0%)\n",
            "  adding: content/yolo_dataset/train/images/8YVPWMG6TN0R_jpg.rf.bd4c56428686f49a204ecde8af10340b.jpg (deflated 4%)\n",
            "  adding: content/yolo_dataset/train/images/FMPQF2M0X2PF_jpg.rf.69b9629f7ebe68a9a4703238b09e3b66.jpg (deflated 4%)\n",
            "  adding: content/yolo_dataset/train/images/image_169.jpg (deflated 0%)\n",
            "  adding: content/yolo_dataset/train/images/VZO029HKTGO8_jpg.rf.5580679bd4b534876c7640f8582ed051.jpg (deflated 5%)\n",
            "  adding: content/yolo_dataset/train/images/EEUZ7IX7JX98_jpg.rf.c88403399901721018ae59b3e5237633.jpg (deflated 5%)\n",
            "  adding: content/yolo_dataset/train/images/datax_142.jpg (deflated 0%)\n",
            "  adding: content/yolo_dataset/train/images/dataq_164.jpg (deflated 0%)\n",
            "  adding: content/yolo_dataset/train/images/PR3NBPY5W1U3_jpg.rf.bec18ee4171299b41b5f3375d772b4ea.jpg (deflated 5%)\n",
            "  adding: content/yolo_dataset/train/images/BFDH7R1MHSA3_jpg.rf.8a5daa9f6b4119a24d1b28d9c5427109.jpg (deflated 4%)\n",
            "  adding: content/yolo_dataset/train/images/data_11.jpg (deflated 0%)\n",
            "  adding: content/yolo_dataset/train/images/data_161.jpg (deflated 0%)\n",
            "  adding: content/yolo_dataset/train/images/datax_5.jpg (deflated 0%)\n",
            "  adding: content/yolo_dataset/train/images/data_37.jpg (deflated 0%)\n",
            "  adding: content/yolo_dataset/train/images/data_119.jpg (deflated 0%)\n",
            "  adding: content/yolo_dataset/train/images/datax_21.jpg (deflated 2%)\n",
            "  adding: content/yolo_dataset/train/images/datax_146.jpg (deflated 0%)\n",
            "  adding: content/yolo_dataset/train/images/N0QDCGT2KPQ2_jpg.rf.ffda381fe9c8252e7e10e3480a45c1be.jpg (deflated 3%)\n",
            "  adding: content/yolo_dataset/train/images/I8FA5DI4IH0S_jpg.rf.00e74df9568ae81eae9173480281bec7.jpg (deflated 4%)\n",
            "  adding: content/yolo_dataset/train/images/dataq_46.jpg (deflated 0%)\n",
            "  adding: content/yolo_dataset/train/images/data_166.jpg (deflated 0%)\n",
            "  adding: content/yolo_dataset/train/images/data_265.jpg (deflated 0%)\n",
            "  adding: content/yolo_dataset/train/images/ABAXLJ1PL1LK_jpg.rf.9a9b2db2ce81f0ba48c66dc2213fed20.jpg (deflated 4%)\n",
            "  adding: content/yolo_dataset/train/images/image_133.jpg (deflated 0%)\n",
            "  adding: content/yolo_dataset/train/images/image_196.jpg (deflated 2%)\n",
            "  adding: content/yolo_dataset/train/images/HHA0M56UCNZU_jpg.rf.275d8171739877e21dcea27613725ead.jpg (deflated 5%)\n",
            "  adding: content/yolo_dataset/train/images/UB0BIMJEO6VV_jpg.rf.6c01854b34b3a3dea71351807ddb4a8e.jpg (deflated 5%)\n",
            "  adding: content/yolo_dataset/train/images/dataq_140.jpg (deflated 0%)\n",
            "  adding: content/yolo_dataset/train/images/X2D2MMSF5YCF_jpg.rf.8bfdd6b2a79ba8875557f5a2bc5cb31a.jpg (deflated 4%)\n",
            "  adding: content/yolo_dataset/train/images/data_112.jpg (deflated 0%)\n",
            "  adding: content/yolo_dataset/train/images/ZVVKFJVWEFSB_jpg.rf.4ed5afb471c28a7a644deae8537bbcaa.jpg (deflated 5%)\n",
            "  adding: content/yolo_dataset/train/images/datax_3.jpg (deflated 0%)\n",
            "  adding: content/yolo_dataset/train/images/data_237.jpg (deflated 0%)\n",
            "  adding: content/yolo_dataset/train/images/image_159.jpg (deflated 0%)\n",
            "  adding: content/yolo_dataset/train/images/data_245.jpg (deflated 0%)\n",
            "  adding: content/yolo_dataset/train/images/9EGOYISWUUGP_jpg.rf.4daab9570c6b4538409a20846dbb347c.jpg (deflated 4%)\n",
            "  adding: content/yolo_dataset/train/images/dataq_15.jpg (deflated 0%)\n",
            "  adding: content/yolo_dataset/train/images/image_178.jpg (deflated 0%)\n",
            "  adding: content/yolo_dataset/train/images/dataq_27.jpg (deflated 0%)\n",
            "  adding: content/yolo_dataset/train/images/WN3IK0S4ULLL_jpg.rf.97c513dac8f0b6c24cc89587613b7be7.jpg (deflated 3%)\n",
            "  adding: content/yolo_dataset/train/images/dataq_60.jpg (deflated 0%)\n",
            "  adding: content/yolo_dataset/train/images/TV64DR0YEUCU_jpg.rf.f3eccd12a819546f86812268a9a848c0.jpg (deflated 5%)\n",
            "  adding: content/yolo_dataset/train/images/datax_148.jpg (deflated 0%)\n",
            "  adding: content/yolo_dataset/train/images/U7LEQ7JP4PBE_jpg.rf.1ca10fd8b53dabf372769a3feb0891ce.jpg (deflated 5%)\n",
            "  adding: content/yolo_dataset/train/images/datax_75.jpg (deflated 0%)\n",
            "  adding: content/yolo_dataset/train/images/M0R0VLUKY2DP_jpg.rf.a2ff3db3e1bbaaaaacdd98d8f2fb7f84.jpg (deflated 7%)\n",
            "  adding: content/yolo_dataset/train/images/dataq_145.jpg (deflated 0%)\n",
            "  adding: content/yolo_dataset/train/images/9TFH23H15BVX_jpg.rf.f803783bcedc7588eabd3ea4a9057b51.jpg (deflated 4%)\n",
            "  adding: content/yolo_dataset/train/images/image_103.jpg (deflated 0%)\n",
            "  adding: content/yolo_dataset/train/images/image_102.jpg (deflated 0%)\n",
            "  adding: content/yolo_dataset/train/images/image_148.jpg (deflated 1%)\n",
            "  adding: content/yolo_dataset/train/images/data_157.jpg (deflated 0%)\n",
            "  adding: content/yolo_dataset/train/images/3QGVJAU50BJJ_jpg.rf.01d5eae20d94eb06b4a16c45d9fcd690.jpg (deflated 4%)\n",
            "  adding: content/yolo_dataset/train/images/dataq_135.jpg (deflated 0%)\n",
            "  adding: content/yolo_dataset/train/images/image_124.jpg (deflated 0%)\n",
            "  adding: content/yolo_dataset/train/images/IJHSGANAXSD6_jpg.rf.b2f5464499b6a6fd0f899076436150f2.jpg (deflated 6%)\n",
            "  adding: content/yolo_dataset/train/images/datax_4.jpg (deflated 0%)\n",
            "  adding: content/yolo_dataset/train/images/2ZEX9SO1O79P_jpg.rf.ed775df29113d51aa4a3885ed0d6bfd8.jpg (deflated 7%)\n",
            "  adding: content/yolo_dataset/train/images/data_22.jpg (deflated 0%)\n",
            "  adding: content/yolo_dataset/train/images/dataq_179.jpg (deflated 0%)\n",
            "  adding: content/yolo_dataset/train/images/data_229.jpg (deflated 0%)\n",
            "  adding: content/yolo_dataset/train/images/datax_83.jpg (deflated 0%)\n",
            "  adding: content/yolo_dataset/train/images/datax_7.jpg (deflated 0%)\n",
            "  adding: content/yolo_dataset/train/images/01FVZIGPUGWI_jpg.rf.aba0f700dd5dbecf27af2f25d719b757.jpg (deflated 5%)\n",
            "  adding: content/yolo_dataset/train/images/datax_74.jpg (deflated 1%)\n",
            "  adding: content/yolo_dataset/train/images/datax_70.jpg (deflated 0%)\n",
            "  adding: content/yolo_dataset/train/images/QWXLQOR02ED4_jpg.rf.a9dc7d9c036524c5d704a09ce8bf1494.jpg (deflated 5%)\n",
            "  adding: content/yolo_dataset/train/images/image_114.jpg (deflated 0%)\n",
            "  adding: content/yolo_dataset/train/images/datax_27.jpg (deflated 1%)\n",
            "  adding: content/yolo_dataset/train/images/datax_52.jpg (deflated 3%)\n",
            "  adding: content/yolo_dataset/train/images/2JXIC0X5D240_jpg.rf.e8ab797b68f2a83072398a0db4a0a99a.jpg (deflated 5%)\n",
            "  adding: content/yolo_dataset/train/images/dataq_150.jpg (deflated 0%)\n",
            "  adding: content/yolo_dataset/train/images/KN5F7C3Q15A9_jpg.rf.8b64fe6c6d9101e80be64db5d9996637.jpg (deflated 5%)\n",
            "  adding: content/yolo_dataset/train/images/dataq_9.jpg (deflated 0%)\n",
            "  adding: content/yolo_dataset/train/images/data_249.jpg (deflated 0%)\n",
            "  adding: content/yolo_dataset/train/images/image_139.jpg (deflated 1%)\n",
            "  adding: content/yolo_dataset/train/images/data_32.jpg (deflated 0%)\n",
            "  adding: content/yolo_dataset/train/images/data_158.jpg (deflated 0%)\n",
            "  adding: content/yolo_dataset/train/images/data_77.jpg (deflated 1%)\n",
            "  adding: content/yolo_dataset/train/images/dataq_168.jpg (deflated 0%)\n",
            "  adding: content/yolo_dataset/train/images/K68OOWL2DK7Z_jpg.rf.43409b3cb7da5089c9e0f3f9572df84d.jpg (deflated 4%)\n",
            "  adding: content/yolo_dataset/train/images/datax_129.jpg (deflated 0%)\n",
            "  adding: content/yolo_dataset/train/images/dataq_112.jpg (deflated 0%)\n",
            "  adding: content/yolo_dataset/train/images/dataq_166.jpg (deflated 0%)\n",
            "  adding: content/yolo_dataset/train/images/data_35.jpg (deflated 0%)\n",
            "  adding: content/yolo_dataset/train/images/S3NEX3WGG1T5_jpg.rf.69ff78a1d474ce84f363f597d6d28352.jpg (deflated 5%)\n",
            "  adding: content/yolo_dataset/train/images/YF1N3QSY4MUB_jpg.rf.0c1cf291460c99882266deb395795a4d.jpg (deflated 4%)\n",
            "  adding: content/yolo_dataset/train/images/CYSZU4EXSO3X_jpg.rf.09d459df973aeb29d1303a5ea6244d8d.jpg (deflated 6%)\n",
            "  adding: content/yolo_dataset/train/images/image_134.jpg (deflated 0%)\n",
            "  adding: content/yolo_dataset/train/images/data_212.jpg (deflated 0%)\n",
            "  adding: content/yolo_dataset/train/images/P84CZ2MLASEZ_jpg.rf.15df96dcdf02c16e227ffee835d53711.jpg (deflated 4%)\n",
            "  adding: content/yolo_dataset/train/images/data_117.jpg (deflated 0%)\n",
            "  adding: content/yolo_dataset/train/images/data_67.jpg (deflated 0%)\n",
            "  adding: content/yolo_dataset/train/images/data_165.jpg (deflated 0%)\n",
            "  adding: content/yolo_dataset/train/images/EB2UHJDEOVJY_jpg.rf.fb7c74028a8632321e684da30efbcbed.jpg (deflated 5%)\n",
            "  adding: content/yolo_dataset/train/images/image_167.jpg (deflated 0%)\n",
            "  adding: content/yolo_dataset/train/images/D8Q5OLA7OB6D_jpg.rf.25ca6d6c4d8664dd6e4c4987fa028c79.jpg (deflated 3%)\n",
            "  adding: content/yolo_dataset/train/images/data_280.jpg (deflated 0%)\n",
            "  adding: content/yolo_dataset/train/images/YZQKBUBHA9E9_jpg.rf.281e99a5a2797d74088e8daeeb51460c.jpg (deflated 4%)\n",
            "  adding: content/yolo_dataset/train/images/data_209.jpg (deflated 1%)\n",
            "  adding: content/yolo_dataset/train/images/UZBHPVVIXNC7_jpg.rf.2d540b1ab441a96ad92ebcde098ec2b5.jpg (deflated 4%)\n",
            "  adding: content/yolo_dataset/train/images/image_112.jpg (deflated 0%)\n",
            "  adding: content/yolo_dataset/train/images/image_164.jpg (deflated 0%)\n",
            "  adding: content/yolo_dataset/train/images/dataq_151.jpg (deflated 0%)\n",
            "  adding: content/yolo_dataset/train/images/data_234.jpg (deflated 0%)\n",
            "  adding: content/yolo_dataset/train/images/datax_118.jpg (deflated 0%)\n",
            "  adding: content/yolo_dataset/train/images/AEDEGSL64GH9_jpg.rf.e1cc57977017392b97b1c2f6e6775d39.jpg (deflated 4%)\n",
            "  adding: content/yolo_dataset/train/images/datax_82.jpg (deflated 1%)\n",
            "  adding: content/yolo_dataset/train/images/RE9TB10QGJ1K_jpg.rf.bc3cf0f08abd18362b792fe0f4605b28.jpg (deflated 4%)\n",
            "  adding: content/yolo_dataset/train/images/data_264.jpg (deflated 0%)\n",
            "  adding: content/yolo_dataset/train/images/F67VXFAH8U9F_jpg.rf.7b4dd8377183a43250bead3609f529e2.jpg (deflated 4%)\n",
            "  adding: content/yolo_dataset/train/images/image_192.jpg (deflated 0%)\n",
            "  adding: content/yolo_dataset/train/images/62LQY0VI1CKT_jpg.rf.76dbe484ee46acd3389ffd48fbdce9d6.jpg (deflated 5%)\n",
            "  adding: content/yolo_dataset/train/images/SQ1SU8KS5WNU_jpg.rf.1490e0727e20d7c0d5cbf62276817665.jpg (deflated 5%)\n",
            "  adding: content/yolo_dataset/train/images/data_198.jpg (deflated 0%)\n",
            "  adding: content/yolo_dataset/train/images/KDUZLTHRYNK4_jpg.rf.f3dc280b5a2f12e4ff264663d759d213.jpg (deflated 5%)\n",
            "  adding: content/yolo_dataset/train/images/A7LYTN2N8DZQ_jpg.rf.ddae6349fa54cc7209d7cf406f099631.jpg (deflated 5%)\n",
            "  adding: content/yolo_dataset/train/images/image_154.jpg (deflated 0%)\n",
            "  adding: content/yolo_dataset/train/images/datax_24.jpg (deflated 2%)\n",
            "  adding: content/yolo_dataset/train/images/datax_140.jpg (deflated 0%)\n",
            "  adding: content/yolo_dataset/train/images/data_73.jpg (deflated 0%)\n",
            "  adding: content/yolo_dataset/train/images/data_10.jpg (deflated 0%)\n",
            "  adding: content/yolo_dataset/train/images/data_199.jpg (deflated 0%)\n",
            "  adding: content/yolo_dataset/train/images/image_166.jpg (deflated 0%)\n",
            "  adding: content/yolo_dataset/train/images/dataq_172.jpg (deflated 0%)\n",
            "  adding: content/yolo_dataset/train/images/dataq_98.jpg (deflated 1%)\n",
            "  adding: content/yolo_dataset/train/images/data_275.jpg (deflated 0%)\n",
            "  adding: content/yolo_dataset/train/images/data_281.jpg (deflated 0%)\n",
            "  adding: content/yolo_dataset/train/images/dataq_103.jpg (deflated 1%)\n",
            "  adding: content/yolo_dataset/train/images/datax_40.jpg (deflated 1%)\n",
            "  adding: content/yolo_dataset/train/images/data_257.jpg (deflated 0%)\n",
            "  adding: content/yolo_dataset/train/images/data_96.jpg (deflated 1%)\n",
            "  adding: content/yolo_dataset/train/images/data_210.jpg (deflated 0%)\n",
            "  adding: content/yolo_dataset/train/images/dataq_61.jpg (deflated 1%)\n",
            "  adding: content/yolo_dataset/train/images/QHC4SD50LRK2_jpg.rf.8f436303155b54b0963b50c931af05f8.jpg (deflated 4%)\n",
            "  adding: content/yolo_dataset/train/images/data_205.jpg (deflated 1%)\n",
            "  adding: content/yolo_dataset/train/images/dataq_91.jpg (deflated 1%)\n",
            "  adding: content/yolo_dataset/train/images/dataq_34.jpg (deflated 0%)\n",
            "  adding: content/yolo_dataset/train/images/data_143.jpg (deflated 0%)\n",
            "  adding: content/yolo_dataset/train/images/data_120.jpg (deflated 0%)\n",
            "  adding: content/yolo_dataset/train/images/MV9PL3LER0UU_jpg.rf.1cd4eac99e5a0c019f182c4e86ba430f.jpg (deflated 6%)\n",
            "  adding: content/yolo_dataset/train/images/dataq_111.jpg (deflated 0%)\n",
            "  adding: content/yolo_dataset/train/images/dataq_47.jpg (deflated 0%)\n",
            "  adding: content/yolo_dataset/train/images/datax_15.jpg (deflated 1%)\n",
            "  adding: content/yolo_dataset/train/images/39CTE9EAHXHY_jpg.rf.764c2e1e2a180c457e902bee4f2e37a2.jpg (deflated 5%)\n",
            "  adding: content/yolo_dataset/train/images/ZCDXKH9FT9KV_jpg.rf.8c30705ef07c39a11d4691f2e6165b5a.jpg (deflated 4%)\n",
            "  adding: content/yolo_dataset/train/images/data_122.jpg (deflated 0%)\n",
            "  adding: content/yolo_dataset/train/images/data_260.jpg (deflated 0%)\n",
            "  adding: content/yolo_dataset/train/images/datax_143.jpg (deflated 0%)\n",
            "  adding: content/yolo_dataset/train/images/QSB2QBZHFMEP_jpg.rf.9ed510146de498487a58138f9650763d.jpg (deflated 6%)\n",
            "  adding: content/yolo_dataset/train/images/image_108.jpg (deflated 0%)\n",
            "  adding: content/yolo_dataset/train/images/DVV0R1ZWB0T4_jpg.rf.b0b085ea929a6d9da2424bcc458d1517.jpg (deflated 5%)\n",
            "  adding: content/yolo_dataset/train/images/dataq_125.jpg (deflated 0%)\n",
            "  adding: content/yolo_dataset/train/images/datax_69.jpg (deflated 0%)\n",
            "  adding: content/yolo_dataset/train/images/dataq_139.jpg (deflated 0%)\n",
            "  adding: content/yolo_dataset/train/images/dataq_129.jpg (deflated 0%)\n",
            "  adding: content/yolo_dataset/train/images/dataq_130.jpg (deflated 0%)\n",
            "  adding: content/yolo_dataset/train/images/datax_18.jpg (deflated 1%)\n",
            "  adding: content/yolo_dataset/train/images/datax_133.jpg (deflated 1%)\n",
            "  adding: content/yolo_dataset/train/images/GHK3D16K1LR4_jpg.rf.ce3bea80aea54e97a00f2e496f10c9c5.jpg (deflated 5%)\n",
            "  adding: content/yolo_dataset/train/images/datax_46.jpg (deflated 3%)\n",
            "  adding: content/yolo_dataset/train/images/dataq_48.jpg (deflated 0%)\n",
            "  adding: content/yolo_dataset/train/images/dataq_23.jpg (deflated 0%)\n",
            "  adding: content/yolo_dataset/train/images/FL3QPQ46X92C_jpg.rf.b21090647576749f483d788055499207.jpg (deflated 4%)\n",
            "  adding: content/yolo_dataset/train/images/datax_57.jpg (deflated 3%)\n",
            "  adding: content/yolo_dataset/train/images/3JZYZSJC4MC7_jpg.rf.fa8b9ce0b911a566ebf49ede2cb3c385.jpg (deflated 6%)\n",
            "  adding: content/yolo_dataset/train/images/datax_44.jpg (deflated 2%)\n",
            "  adding: content/yolo_dataset/train/images/J5Z515I5PZJL_jpg.rf.63963958f386b6a5b1a0b0129202db3c.jpg (deflated 5%)\n",
            "  adding: content/yolo_dataset/train/images/dataq_50.jpg (deflated 0%)\n",
            "  adding: content/yolo_dataset/train/images/data_6.jpg (deflated 0%)\n",
            "  adding: content/yolo_dataset/train/images/5GEH29PPLAYC_jpg.rf.f17ebcf9a0619d01597c406bb7205fd7.jpg (deflated 5%)\n",
            "  adding: content/yolo_dataset/train/images/image_144.jpg (deflated 0%)\n",
            "  adding: content/yolo_dataset/train/images/datax_32.jpg (deflated 1%)\n",
            "  adding: content/yolo_dataset/train/images/RRZW0OJLETZU_jpg.rf.476c844c905fb9fba1d2e94cd07b13b7.jpg (deflated 5%)\n",
            "  adding: content/yolo_dataset/train/images/dataq_5.jpg (deflated 0%)\n",
            "  adding: content/yolo_dataset/train/images/datax_76.jpg (deflated 0%)\n",
            "  adding: content/yolo_dataset/train/images/dataq_128.jpg (deflated 0%)\n",
            "  adding: content/yolo_dataset/train/images/dataq_87.jpg (deflated 1%)\n",
            "  adding: content/yolo_dataset/train/images/dataq_28.jpg (deflated 0%)\n",
            "  adding: content/yolo_dataset/train/images/image_127.jpg (deflated 0%)\n",
            "  adding: content/yolo_dataset/train/images/dataq_90.jpg (deflated 1%)\n",
            "  adding: content/yolo_dataset/train/images/data_44.jpg (deflated 1%)\n",
            "  adding: content/yolo_dataset/train/images/dataq_96.jpg (deflated 1%)\n",
            "  adding: content/yolo_dataset/train/images/S8OYO5MBFMJJ_jpg.rf.aaa36f9c3f52de73c3508d06274fc148.jpg (deflated 4%)\n",
            "  adding: content/yolo_dataset/train/images/data_187.jpg (deflated 0%)\n",
            "  adding: content/yolo_dataset/train/images/dataq_123.jpg (deflated 0%)\n",
            "  adding: content/yolo_dataset/train/images/LM324M9ASGHY_jpg.rf.22fe090ea98e851d1a3c332e92a662ca.jpg (deflated 4%)\n",
            "  adding: content/yolo_dataset/train/images/data_139.jpg (deflated 0%)\n",
            "  adding: content/yolo_dataset/train/images/data_256.jpg (deflated 0%)\n",
            "  adding: content/yolo_dataset/train/images/data_242.jpg (deflated 0%)\n",
            "  adding: content/yolo_dataset/train/images/RXPYYD9ZW5KH_jpg.rf.4417234dad9a1c01e7bc58d0c48141fd.jpg (deflated 5%)\n",
            "  adding: content/yolo_dataset/train/images/MW7788LHNP9N_jpg.rf.82735c44e6856cf341915ffd2d6dcca3.jpg (deflated 4%)\n",
            "  adding: content/yolo_dataset/train/images/RPZXJD3O5GLN_jpg.rf.e2e86a0051ebfd1fa25224535ab09614.jpg (deflated 4%)\n",
            "  adding: content/yolo_dataset/train/images/dataq_97.jpg (deflated 1%)\n",
            "  adding: content/yolo_dataset/train/images/data_258.jpg (deflated 0%)\n",
            "  adding: content/yolo_dataset/train/images/datax_125.jpg (deflated 0%)\n",
            "  adding: content/yolo_dataset/train/images/dataq_75.jpg (deflated 0%)\n",
            "  adding: content/yolo_dataset/train/images/dataq_118.jpg (deflated 0%)\n",
            "  adding: content/yolo_dataset/train/images/K1KP415JNH2S_jpg.rf.b61ffd65088d5928ea9c6e09af0e911f.jpg (deflated 5%)\n",
            "  adding: content/yolo_dataset/train/images/Q03LK3B3WF3E_jpg.rf.092c701a831e2a381bbe01e17c5eddd2.jpg (deflated 7%)\n",
            "  adding: content/yolo_dataset/train/images/TI7MLSL5RT4D_jpg.rf.302b5bb1acc2acaa4ffbf0a29bfc10f3.jpg (deflated 5%)\n",
            "  adding: content/yolo_dataset/train/images/data_173.jpg (deflated 0%)\n",
            "  adding: content/yolo_dataset/train/images/I2THEGI0PUST_jpg.rf.310d716f79969dd052f5b46efbf2904d.jpg (deflated 5%)\n",
            "  adding: content/yolo_dataset/train/images/datax_20.jpg (deflated 1%)\n",
            "  adding: content/yolo_dataset/train/images/image_143.jpg (deflated 1%)\n",
            "  adding: content/yolo_dataset/train/images/O4JB34D5BW0Q_jpg.rf.9928a17c35820a78c18843e68e50d855.jpg (deflated 4%)\n",
            "  adding: content/yolo_dataset/train/images/K33CQM6AF64F_jpg.rf.924698876b9d9f649d867e9439cdbf3e.jpg (deflated 5%)\n",
            "  adding: content/yolo_dataset/train/images/dataq_14.jpg (deflated 0%)\n",
            "  adding: content/yolo_dataset/train/images/datax_47.jpg (deflated 3%)\n",
            "  adding: content/yolo_dataset/train/images/datax_53.jpg (deflated 3%)\n",
            "  adding: content/yolo_dataset/train/images/X7LY4HTFT2XE_jpg.rf.b171bec13657347f0bd0af194cd38960.jpg (deflated 6%)\n",
            "  adding: content/yolo_dataset/train/images/datax_132.jpg (deflated 7%)\n",
            "  adding: content/yolo_dataset/train/images/datax_6.jpg (deflated 0%)\n",
            "  adding: content/yolo_dataset/train/images/BKSPW6S722PU_jpg.rf.6481f5e8012a615c0b4444689c2c82b0.jpg (deflated 6%)\n",
            "  adding: content/yolo_dataset/train/images/HLHO9S5T01KM_jpg.rf.4c7fd0a8705316493f84ea0632e66954.jpg (deflated 5%)\n",
            "  adding: content/yolo_dataset/train/images/datax_80.jpg (deflated 1%)\n",
            "  adding: content/yolo_dataset/train/images/image_16.jpg (deflated 0%)\n",
            "  adding: content/yolo_dataset/train/images/JTCM1X8BZSN2_jpg.rf.bed84c76e6fc7957db3a4136a2ea7114.jpg (deflated 5%)\n",
            "  adding: content/yolo_dataset/train/images/data_145.jpg (deflated 0%)\n",
            "  adding: content/yolo_dataset/train/images/data_51.jpg (deflated 0%)\n",
            "  adding: content/yolo_dataset/train/images/dataq_94.jpg (deflated 1%)\n",
            "  adding: content/yolo_dataset/train/images/datax_72.jpg (deflated 0%)\n",
            "  adding: content/yolo_dataset/train/images/ZCKROF0UR45E_jpg.rf.1ca089ca2f579e2576bb80588645c16b.jpg (deflated 6%)\n",
            "  adding: content/yolo_dataset/train/images/datax_19.jpg (deflated 1%)\n",
            "  adding: content/yolo_dataset/train/images/BQ1J39DG8EFC_jpg.rf.c73f86418f754cb4ae3e40a6f7eb92e2.jpg (deflated 4%)\n",
            "  adding: content/yolo_dataset/train/images/3L1GJ68D5QBZ_jpg.rf.75fc4440dd4ff85620051f73fadac950.jpg (deflated 4%)\n",
            "  adding: content/yolo_dataset/train/images/datax_90.jpg (deflated 0%)\n",
            "  adding: content/yolo_dataset/train/images/A5I41ONMH4X9_jpg.rf.1d506dc5f5bbfa0d7bd52e99746ab896.jpg (deflated 5%)\n",
            "  adding: content/yolo_dataset/train/images/data_25.jpg (deflated 0%)\n",
            "  adding: content/yolo_dataset/train/images/dataq_122.jpg (deflated 0%)\n",
            "  adding: content/yolo_dataset/train/images/VNNBSPZ8J2DR_jpg.rf.712d620307cee3a0c966ba41e451c21e.jpg (deflated 3%)\n",
            "  adding: content/yolo_dataset/train/images/data_20.jpg (deflated 0%)\n",
            "  adding: content/yolo_dataset/train/images/CGQYWW74UBH4_jpg.rf.7e591f9f8731dfaddab811c210ffd4e9.jpg (deflated 4%)\n",
            "  adding: content/yolo_dataset/train/images/datax_120.jpg (deflated 0%)\n",
            "  adding: content/yolo_dataset/train/images/image_128.jpg (deflated 0%)\n",
            "  adding: content/yolo_dataset/train/images/datax_30.jpg (deflated 1%)\n",
            "  adding: content/yolo_dataset/train/images/MN8O0XOXWRAL_jpg.rf.3d84a2e0c3ae6bee60e3f6eedc6fff58.jpg (deflated 4%)\n",
            "  adding: content/yolo_dataset/train/images/data_60.jpg (deflated 0%)\n",
            "  adding: content/yolo_dataset/train/images/QT10A4SD4PBY_jpg.rf.940a189a7bc52b2a24fbd5c12edc53ff.jpg (deflated 8%)\n",
            "  adding: content/yolo_dataset/train/images/data_38.jpg (deflated 1%)\n",
            "  adding: content/yolo_dataset/train/images/YV6W2UZOQXDM_jpg.rf.5524e0d82c123ef16434b8692c6a4ec5.jpg (deflated 5%)\n",
            "  adding: content/yolo_dataset/train/images/159NHJ4X1O6C_jpg.rf.f9368d111407fbcdb7a8a5701482fce6.jpg (deflated 5%)\n",
            "  adding: content/yolo_dataset/train/images/YNXXF05Z27WV_jpg.rf.5054095245b19f6c21eedc2fb65e6428.jpg (deflated 5%)\n",
            "  adding: content/yolo_dataset/train/images/0VE1OCAVLKMX_jpg.rf.dec9354f703dcc5640de737e852d21b1.jpg (deflated 4%)\n",
            "  adding: content/yolo_dataset/train/images/data_200.jpg (deflated 0%)\n",
            "  adding: content/yolo_dataset/train/images/dataq_33.jpg (deflated 0%)\n",
            "  adding: content/yolo_dataset/train/images/image_189.jpg (deflated 0%)\n",
            "  adding: content/yolo_dataset/train/images/data_155.jpg (deflated 0%)\n",
            "  adding: content/yolo_dataset/train/images/datax_126.jpg (deflated 0%)\n",
            "  adding: content/yolo_dataset/train/images/49GDHT7BA1NR_jpg.rf.70010631b1017d08a7b673979c6320ca.jpg (deflated 4%)\n",
            "  adding: content/yolo_dataset/train/images/dataq_175.jpg (deflated 0%)\n",
            "  adding: content/yolo_dataset/train/images/data_147.jpg (deflated 0%)\n",
            "  adding: content/yolo_dataset/train/images/data_105.jpg (deflated 0%)\n",
            "  adding: content/yolo_dataset/train/images/dataq_138.jpg (deflated 0%)\n",
            "  adding: content/yolo_dataset/train/images/image_15.jpg (deflated 0%)\n",
            "  adding: content/yolo_dataset/train/images/data_239.jpg (deflated 0%)\n",
            "  adding: content/yolo_dataset/train/images/image_120.jpg (deflated 0%)\n",
            "  adding: content/yolo_dataset/train/images/datax_157.jpg (deflated 0%)\n",
            "  adding: content/yolo_dataset/train/images/datax_106.jpg (deflated 0%)\n",
            "  adding: content/yolo_dataset/train/images/P08XRYYM03NL_jpg.rf.b20f7e8b74cfd7b004abe80dee17785c.jpg (deflated 6%)\n",
            "  adding: content/yolo_dataset/train/images/O0LGBOYUUI7J_jpg.rf.d5d3cba883a00852f980874651830c2b.jpg (deflated 3%)\n",
            "  adding: content/yolo_dataset/train/images/VMHRC1AX0XUM_jpg.rf.a21e66e89f1c670fae27f928c6e4416d.jpg (deflated 5%)\n",
            "  adding: content/yolo_dataset/train/images/image_182.jpg (deflated 0%)\n",
            "  adding: content/yolo_dataset/train/images/6LOT4117QFN2_jpg.rf.110f6e2eb11bdf3f9ad1e5ca5db73ce5.jpg (deflated 5%)\n",
            "  adding: content/yolo_dataset/train/images/image_174.jpg (deflated 0%)\n",
            "  adding: content/yolo_dataset/train/images/datax_37.jpg (deflated 1%)\n",
            "  adding: content/yolo_dataset/train/images/0PVKVE0CITYQ_jpg.rf.d803acad3a851f22fe52bd560bc2a37c.jpg (deflated 5%)\n",
            "  adding: content/yolo_dataset/train/images/data_89.jpg (deflated 1%)\n",
            "  adding: content/yolo_dataset/train/images/86CPNVRFXWD6_jpg.rf.e56a2ad8ed6c3ee116bba2772cac5252.jpg (deflated 4%)\n",
            "  adding: content/yolo_dataset/train/images/6FIV4WUB8IRH_jpg.rf.0bab8d64d5af527146d43d831664a15d.jpg (deflated 4%)\n",
            "  adding: content/yolo_dataset/train/images/4YADSLP6QWWA_jpg.rf.adfc3c0489075fc8c84bbc2479b6aa37.jpg (deflated 4%)\n",
            "  adding: content/yolo_dataset/train/images/datax_71.jpg (deflated 0%)\n",
            "  adding: content/yolo_dataset/train/images/data_15.jpg (deflated 0%)\n",
            "  adding: content/yolo_dataset/train/images/data_230.jpg (deflated 0%)\n",
            "  adding: content/yolo_dataset/train/images/data_185.jpg (deflated 0%)\n",
            "  adding: content/yolo_dataset/train/images/data_84.jpg (deflated 0%)\n",
            "  adding: content/yolo_dataset/train/images/IQ0JL0PHTGG5_jpg.rf.3a2d3489568072c0d8c75fc8bff525cb.jpg (deflated 5%)\n",
            "  adding: content/yolo_dataset/train/images/data_87.jpg (deflated 0%)\n",
            "  adding: content/yolo_dataset/train/images/dataq_19.jpg (deflated 0%)\n",
            "  adding: content/yolo_dataset/train/images/2P8CF1G4CVSU_jpg.rf.7bf88daa749fb877eadf8bddb3f7f59a.jpg (deflated 8%)\n",
            "  adding: content/yolo_dataset/train/images/TTF1451D6VP9_jpg.rf.b0567bbc98ab0810d562b8884515cb5b.jpg (deflated 8%)\n",
            "  adding: content/yolo_dataset/train/images/data_33.jpg (deflated 0%)\n",
            "  adding: content/yolo_dataset/train/images/P3G04BX2HDK4_jpg.rf.49778a358aff6d2934f131b0cbde9129.jpg (deflated 5%)\n",
            "  adding: content/yolo_dataset/train/images/data_55.jpg (deflated 0%)\n",
            "  adding: content/yolo_dataset/train/images/datax_139.jpg (deflated 0%)\n",
            "  adding: content/yolo_dataset/train/images/image_129.jpg (deflated 0%)\n",
            "  adding: content/yolo_dataset/train/images/ZGIOEFI2A67T_jpg.rf.840eefc04e892ddaaa2f5cb95798b2e7.jpg (deflated 5%)\n",
            "  adding: content/yolo_dataset/train/images/image_100.jpg (deflated 0%)\n",
            "  adding: content/yolo_dataset/train/images/data_114.jpg (deflated 0%)\n",
            "  adding: content/yolo_dataset/train/images/image_135.jpg (deflated 0%)\n",
            "  adding: content/yolo_dataset/train/images/dataq_157.jpg (deflated 0%)\n",
            "  adding: content/yolo_dataset/train/images/data_74.jpg (deflated 0%)\n",
            "  adding: content/yolo_dataset/train/images/data_201.jpg (deflated 0%)\n",
            "  adding: content/yolo_dataset/train/images/BTFOYCTP6PZD_jpg.rf.68f13fa36bcda015b5d53f325f4842ac.jpg (deflated 4%)\n",
            "  adding: content/yolo_dataset/train/images/data_79.jpg (deflated 1%)\n",
            "  adding: content/yolo_dataset/train/images/datax_91.jpg (deflated 0%)\n",
            "  adding: content/yolo_dataset/train/images/08R9ND0N8GXW_jpg.rf.dd5dcaceb6b502fdf2f795c428e84364.jpg (deflated 5%)\n",
            "  adding: content/yolo_dataset/train/images/836G7KZ7KH4P_jpg.rf.3407fa94db0bf485a20475f960ea4402.jpg (deflated 4%)\n",
            "  adding: content/yolo_dataset/train/images/Z7FVMQ9KVVQ4_jpg.rf.76af85b7af3fa747ddb375b4ec65f1bd.jpg (deflated 5%)\n",
            "  adding: content/yolo_dataset/train/images/data_167.jpg (deflated 0%)\n",
            "  adding: content/yolo_dataset/train/images/image_119.jpg (deflated 0%)\n",
            "  adding: content/yolo_dataset/train/images/image_184.jpg (deflated 0%)\n",
            "  adding: content/yolo_dataset/train/images/data_211.jpg (deflated 0%)\n",
            "  adding: content/yolo_dataset/train/images/data_138.jpg (deflated 0%)\n",
            "  adding: content/yolo_dataset/train/images/Y32JRLFRW6UD_jpg.rf.9b927bea08137222ec365ad8498762d2.jpg (deflated 5%)\n",
            "  adding: content/yolo_dataset/train/images/dataq_178.jpg (deflated 0%)\n",
            "  adding: content/yolo_dataset/train/images/data_235.jpg (deflated 0%)\n",
            "  adding: content/yolo_dataset/train/images/data_95.jpg (deflated 1%)\n",
            "  adding: content/yolo_dataset/train/images/JTBIAXQ7ML1C_jpg.rf.e4ab1405ed1a1b0b7399890239290275.jpg (deflated 5%)\n",
            "  adding: content/yolo_dataset/train/images/538PJ11WP67J_jpg.rf.e71740a26a7100c3378ed0f793da49a9.jpg (deflated 4%)\n",
            "  adding: content/yolo_dataset/train/images/datax_95.jpg (deflated 0%)\n",
            "  adding: content/yolo_dataset/train/images/image_198.jpg (deflated 1%)\n",
            "  adding: content/yolo_dataset/train/images/image_160.jpg (deflated 0%)\n",
            "  adding: content/yolo_dataset/train/images/dataq_78.jpg (deflated 0%)\n",
            "  adding: content/yolo_dataset/train/images/datax_119.jpg (deflated 0%)\n",
            "  adding: content/yolo_dataset/train/images/O54VSCTXSW3J_jpg.rf.2d825228547c8e29409f694fe94f5871.jpg (deflated 4%)\n",
            "  adding: content/yolo_dataset/train/images/datax_84.jpg (deflated 1%)\n",
            "  adding: content/yolo_dataset/train/images/data_188.jpg (deflated 0%)\n",
            "  adding: content/yolo_dataset/train/images/IV8TLVKXHSSF_jpg.rf.43f4c050ef2e0474cbaca786e4e67a5c.jpg (deflated 6%)\n",
            "  adding: content/yolo_dataset/train/images/RPUBT6GIO2GC_jpg.rf.693e39193fcfdad3e2840d515bb5604e.jpg (deflated 5%)\n",
            "  adding: content/yolo_dataset/train/images/data_163.jpg (deflated 0%)\n",
            "  adding: content/yolo_dataset/train/images/datax_134.jpg (deflated 0%)\n",
            "  adding: content/yolo_dataset/train/images/A49XU2OFO50J_jpg.rf.58f0270212cea4c1d4c876bc5215659e.jpg (deflated 6%)\n",
            "  adding: content/yolo_dataset/train/images/image_122.jpg (deflated 0%)\n",
            "  adding: content/yolo_dataset/train/images/YE5E5VJUJ61O_jpg.rf.c30a778caf181048980d339e21e8f37f.jpg (deflated 5%)\n",
            "  adding: content/yolo_dataset/train/images/data_31.jpg (deflated 1%)\n",
            "  adding: content/yolo_dataset/train/images/datax_79.jpg (deflated 0%)\n",
            "  adding: content/yolo_dataset/train/images/dataq_64.jpg (deflated 1%)\n",
            "  adding: content/yolo_dataset/train/images/data_279.jpg (deflated 0%)\n",
            "  adding: content/yolo_dataset/train/images/QMFL1WEQF1EH_jpg.rf.5d322c704a8c67f93df40179b4e166e0.jpg (deflated 4%)\n",
            "  adding: content/yolo_dataset/train/images/K4XTNJQSWHWP_jpg.rf.aef2513fd22e8568692bf316f4f158be.jpg (deflated 4%)\n",
            "  adding: content/yolo_dataset/train/images/data_45.jpg (deflated 0%)\n",
            "  adding: content/yolo_dataset/train/images/dataq_176.jpg (deflated 1%)\n",
            "  adding: content/yolo_dataset/train/images/VLHQCQLIBED6_jpg.rf.57b54fba8e0350044f5a13bc8c3da85d.jpg (deflated 5%)\n",
            "  adding: content/yolo_dataset/train/images/image_130.jpg (deflated 0%)\n",
            "  adding: content/yolo_dataset/train/images/data_203.jpg (deflated 1%)\n",
            "  adding: content/yolo_dataset/train/images/data_27.jpg (deflated 1%)\n",
            "  adding: content/yolo_dataset/train/images/P8YAHMOAPHW0_jpg.rf.84cdb3790cbecb9dac5ca7376d4100e1.jpg (deflated 5%)\n",
            "  adding: content/yolo_dataset/train/images/7NM9XVI2RLDJ_jpg.rf.18df9ad2a6cf2c281769ae99451cd097.jpg (deflated 5%)\n",
            "  adding: content/yolo_dataset/train/images/datax_31.jpg (deflated 1%)\n",
            "  adding: content/yolo_dataset/train/images/datax_127.jpg (deflated 0%)\n",
            "  adding: content/yolo_dataset/train/images/data_146.jpg (deflated 0%)\n",
            "  adding: content/yolo_dataset/train/images/dataq_107.jpg (deflated 0%)\n",
            "  adding: content/yolo_dataset/train/images/COQD0I9TAYIZ_jpg.rf.cf8c04ac0776f0ba9e03a5c60d71a88e.jpg (deflated 6%)\n",
            "  adding: content/yolo_dataset/train/images/image_197.jpg (deflated 1%)\n",
            "  adding: content/yolo_dataset/train/images/HPMATMGB7XCS_jpg.rf.5376713448d0e2b4c5bb4806153c114f.jpg (deflated 4%)\n",
            "  adding: content/yolo_dataset/train/images/data_80.jpg (deflated 1%)\n",
            "  adding: content/yolo_dataset/train/images/data_225.jpg (deflated 0%)\n",
            "  adding: content/yolo_dataset/train/images/image_177.jpg (deflated 1%)\n",
            "  adding: content/yolo_dataset/train/images/dataq_153.jpg (deflated 0%)\n",
            "  adding: content/yolo_dataset/train/images/dataq_110.jpg (deflated 0%)\n",
            "  adding: content/yolo_dataset/train/images/data_278.jpg (deflated 0%)\n",
            "  adding: content/yolo_dataset/train/images/data_179.jpg (deflated 0%)\n",
            "  adding: content/yolo_dataset/train/images/dataq_155.jpg (deflated 0%)\n",
            "  adding: content/yolo_dataset/train/images/dataq_121.jpg (deflated 0%)\n",
            "  adding: content/yolo_dataset/train/images/data_150.jpg (deflated 0%)\n",
            "  adding: content/yolo_dataset/train/images/JXFPTRHR122O_jpg.rf.a8ffd7b5721b67ff3f5543782042a408.jpg (deflated 4%)\n",
            "  adding: content/yolo_dataset/train/images/dataq_39.jpg (deflated 0%)\n",
            "  adding: content/yolo_dataset/train/images/data_174.jpg (deflated 0%)\n",
            "  adding: content/yolo_dataset/train/images/image_125.jpg (deflated 0%)\n",
            "  adding: content/yolo_dataset/train/images/data_169.jpg (deflated 0%)\n",
            "  adding: content/yolo_dataset/train/images/image_116.jpg (deflated 0%)\n",
            "  adding: content/yolo_dataset/train/images/E8JGRHSLXB8M_jpg.rf.ad3aff029253dca0868be248d96397ae.jpg (deflated 4%)\n",
            "  adding: content/yolo_dataset/train/images/data_42.jpg (deflated 2%)\n",
            "  adding: content/yolo_dataset/train/images/data_94.jpg (deflated 0%)\n",
            "  adding: content/yolo_dataset/train/images/datax_124.jpg (deflated 0%)\n",
            "  adding: content/yolo_dataset/train/images/FU46N5R9C6B3_jpg.rf.bae1afc6398d4d4572162904cdd52956.jpg (deflated 18%)\n",
            "  adding: content/yolo_dataset/train/images/data_43.jpg (deflated 0%)\n",
            "  adding: content/yolo_dataset/train/images/data_134.jpg (deflated 0%)\n",
            "  adding: content/yolo_dataset/train/images/data_12.jpg (deflated 0%)\n",
            "  adding: content/yolo_dataset/train/images/image_13.jpg (deflated 0%)\n",
            "  adding: content/yolo_dataset/train/images/NU2QXBMCMT62_jpg.rf.ffdda94abfb227112ff9893e60d4fd0a.jpg (deflated 4%)\n",
            "  adding: content/yolo_dataset/train/images/NZTA0I39NFW9_jpg.rf.562c5133af7203fdbd7cdd0ec6d27b9d.jpg (deflated 4%)\n",
            "  adding: content/yolo_dataset/train/images/BO40JH95XNW3_jpg.rf.86d3e71c2020e4ca945899b764d4d5e0.jpg (deflated 4%)\n",
            "  adding: content/yolo_dataset/train/images/NW1SRKMLFP1S_jpg.rf.af2b9913e8cbc7123e9e4311a7ae72d3.jpg (deflated 4%)\n",
            "  adding: content/yolo_dataset/train/images/XDWZW1MYORCB_jpg.rf.f61632f88d98f9db6a23656110ed93e4.jpg (deflated 4%)\n",
            "  adding: content/yolo_dataset/train/images/S6A3DS0KYLLO_jpg.rf.9910bf2382a3e6ded3177a2e30f1bab1.jpg (deflated 4%)\n",
            "  adding: content/yolo_dataset/train/images/datax_135.jpg (deflated 0%)\n",
            "  adding: content/yolo_dataset/train/images/9KJVN6G84JL2_jpg.rf.8d8220a48ca73186b8bd441bbe62ff77.jpg (deflated 5%)\n",
            "  adding: content/yolo_dataset/train/images/data_241.jpg (deflated 1%)\n",
            "  adding: content/yolo_dataset/train/images/Y4Y4IQOWJ9NM_jpg.rf.95aa4806f0a767b0ab8561493d4221c0.jpg (deflated 5%)\n",
            "  adding: content/yolo_dataset/train/images/datax_39.jpg (deflated 2%)\n",
            "  adding: content/yolo_dataset/train/images/data_83.jpg (deflated 2%)\n",
            "  adding: content/yolo_dataset/train/images/datax_9.jpg (deflated 0%)\n",
            "  adding: content/yolo_dataset/train/images/dataq_127.jpg (deflated 0%)\n",
            "  adding: content/yolo_dataset/train/images/data_16.jpg (deflated 0%)\n",
            "  adding: content/yolo_dataset/train/images/E2GAOUTOJRFX_jpg.rf.891aff0f48e7db1d72fab573f4f2ada9.jpg (deflated 6%)\n",
            "  adding: content/yolo_dataset/train/images/data_197.jpg (deflated 1%)\n",
            "  adding: content/yolo_dataset/train/images/dataq_133.jpg (deflated 0%)\n",
            "  adding: content/yolo_dataset/train/images/KVTAIUOFGV35_jpg.rf.ca3e30ffb3d04f52d3abdd3a300f5c73.jpg (deflated 4%)\n",
            "  adding: content/yolo_dataset/train/images/data_132.jpg (deflated 0%)\n",
            "  adding: content/yolo_dataset/train/images/4ZD5D5B6YEND_jpg.rf.114234902775594574f8bca8b01021b2.jpg (deflated 5%)\n",
            "  adding: content/yolo_dataset/train/images/data_29.jpg (deflated 0%)\n",
            "  adding: content/yolo_dataset/train/images/datax_58.jpg (deflated 3%)\n",
            "  adding: content/yolo_dataset/train/images/image_194.jpg (deflated 1%)\n",
            "  adding: content/yolo_dataset/train/images/image_150.jpg (deflated 0%)\n",
            "  adding: content/yolo_dataset/train/images/CA8AYOHAH0NE_jpg.rf.79a1c205b62993475731fce494d87197.jpg (deflated 6%)\n",
            "  adding: content/yolo_dataset/train/images/image_115.jpg (deflated 0%)\n",
            "  adding: content/yolo_dataset/train/images/B3OV5EXCX9TH_jpg.rf.a0b339082101ede7c07c0d08e2e4c9dc.jpg (deflated 4%)\n",
            "  adding: content/yolo_dataset/train/images/Y3VTQRM6PQOD_jpg.rf.895325c4b770c65c71cd2bccba46f993.jpg (deflated 5%)\n",
            "  adding: content/yolo_dataset/train/images/data_271.jpg (deflated 0%)\n",
            "  adding: content/yolo_dataset/train/images/XJ884TROR3EL_jpg.rf.804d5442e37da6fb6d45f2fe55e13784.jpg (deflated 4%)\n",
            "  adding: content/yolo_dataset/train/images/HTIB1XCJVBEW_jpg.rf.511db9336b1e473fd431d86ff928d630.jpg (deflated 5%)\n",
            "  adding: content/yolo_dataset/train/images/CU8C39JDIJ9X_jpg.rf.0f24471ab85b71c7333ebb7933a3933b.jpg (deflated 5%)\n",
            "  adding: content/yolo_dataset/train/images/dataq_95.jpg (deflated 1%)\n",
            "  adding: content/yolo_dataset/train/images/datax_25.jpg (deflated 2%)\n",
            "  adding: content/yolo_dataset/train/images/datax_14.jpg (deflated 1%)\n",
            "  adding: content/yolo_dataset/train/images/dataq_141.jpg (deflated 0%)\n",
            "  adding: content/yolo_dataset/train/images/dataq_92.jpg (deflated 1%)\n",
            "  adding: content/yolo_dataset/train/images/XAJ6ZAC975XQ_jpg.rf.62c3f8b8f1ecb3977a1665b258be0542.jpg (deflated 4%)\n",
            "  adding: content/yolo_dataset/train/images/D92FYEQMT0BY_jpg.rf.fe0f88a820073099eb9d6cc775c6ef71.jpg (deflated 4%)\n",
            "  adding: content/yolo_dataset/train/images/image_155.jpg (deflated 0%)\n",
            "  adding: content/yolo_dataset/train/images/image_157.jpg (deflated 0%)\n",
            "  adding: content/yolo_dataset/train/images/data_125.jpg (deflated 0%)\n",
            "  adding: content/yolo_dataset/train/images/image_109.jpg (deflated 0%)\n",
            "  adding: content/yolo_dataset/train/images/datax_62.jpg (deflated 2%)\n",
            "  adding: content/yolo_dataset/train/images/dataq_49.jpg (deflated 0%)\n",
            "  adding: content/yolo_dataset/train/images/image_121.jpg (deflated 0%)\n",
            "  adding: content/yolo_dataset/train/images/P773XJ9TA9IM_jpg.rf.00513d510bdca103f50f69d7ec7649d5.jpg (deflated 5%)\n",
            "  adding: content/yolo_dataset/train/images/dataq_89.jpg (deflated 1%)\n",
            "  adding: content/yolo_dataset/train/images/dataq_43.jpg (deflated 0%)\n",
            "  adding: content/yolo_dataset/train/images/datax_43.jpg (deflated 2%)\n",
            "  adding: content/yolo_dataset/train/images/HILZJIWVPORL_jpg.rf.26acc4deb2f0c0667ca4a09ca046c390.jpg (deflated 5%)\n",
            "  adding: content/yolo_dataset/train/images/image_145.jpg (deflated 0%)\n",
            "  adding: content/yolo_dataset/train/images/dataq_119.jpg (deflated 0%)\n",
            "  adding: content/yolo_dataset/train/images/dataq_136.jpg (deflated 0%)\n",
            "  adding: content/yolo_dataset/train/images/data_1.jpg (deflated 0%)\n",
            "  adding: content/yolo_dataset/train/images/CT0EQTGAECMD_jpg.rf.81bd3397137ef75dff832fc41b20387a.jpg (deflated 4%)\n",
            "  adding: content/yolo_dataset/train/images/dataq_114.jpg (deflated 0%)\n",
            "  adding: content/yolo_dataset/train/images/data_247.jpg (deflated 0%)\n",
            "  adding: content/yolo_dataset/train/images/dataq_180.jpg (deflated 0%)\n",
            "  adding: content/yolo_dataset/train/images/data_148.jpg (deflated 0%)\n",
            "  adding: content/yolo_dataset/train/images/data_8.jpg (deflated 1%)\n",
            "  adding: content/yolo_dataset/train/images/data_103.jpg (deflated 0%)\n",
            "  adding: content/yolo_dataset/train/images/TA8S8MRA9CO6_jpg.rf.2d4e55d85f04179641771fdd1896b3f7.jpg (deflated 4%)\n",
            "  adding: content/yolo_dataset/train/images/datax_97.jpg (deflated 0%)\n",
            "  adding: content/yolo_dataset/train/images/ED0QGZ9QBCIJ_jpg.rf.12c14230a0a1c92a5e9e0141a98aa32a.jpg (deflated 5%)\n",
            "  adding: content/yolo_dataset/train/images/D8MXVDW1HP24_jpg.rf.f0846facc9f4fc97b4d0c36e09b9a83e.jpg (deflated 10%)\n",
            "  adding: content/yolo_dataset/train/images/image_136.jpg (deflated 0%)\n",
            "  adding: content/yolo_dataset/train/images/data_130.jpg (deflated 0%)\n",
            "  adding: content/yolo_dataset/train/images/data_255.jpg (deflated 0%)\n",
            "  adding: content/yolo_dataset/train/images/data_236.jpg (deflated 0%)\n",
            "  adding: content/yolo_dataset/train/images/data_131.jpg (deflated 0%)\n",
            "  adding: content/yolo_dataset/train/images/image_110.jpg (deflated 0%)\n",
            "  adding: content/yolo_dataset/train/images/dataq_54.jpg (deflated 0%)\n",
            "  adding: content/yolo_dataset/train/images/data_162.jpg (deflated 0%)\n",
            "  adding: content/yolo_dataset/train/images/FC0LO1BEY9ME_jpg.rf.c4793fab237dc2d90ad78a89590d8b75.jpg (deflated 5%)\n",
            "  adding: content/yolo_dataset/train/images/image_142.jpg (deflated 0%)\n",
            "  adding: content/yolo_dataset/train/images/image_185.jpg (deflated 0%)\n",
            "  adding: content/yolo_dataset/train/images/data_136.jpg (deflated 0%)\n",
            "  adding: content/yolo_dataset/train/images/9IBST0ZJQXMB_jpg.rf.3775b6e77dc9710474925435071f0353.jpg (deflated 8%)\n",
            "  adding: content/yolo_dataset/train/images/image_123.jpg (deflated 0%)\n",
            "  adding: content/yolo_dataset/train/images/data_170.jpg (deflated 0%)\n",
            "  adding: content/yolo_dataset/train/images/dataq_152.jpg (deflated 0%)\n",
            "  adding: content/yolo_dataset/train/images/data_19.jpg (deflated 1%)\n",
            "  adding: content/yolo_dataset/train/images/data_23.jpg (deflated 0%)\n",
            "  adding: content/yolo_dataset/train/images/data_70.jpg (deflated 0%)\n",
            "  adding: content/yolo_dataset/train/images/datax_87.jpg (deflated 0%)\n",
            "  adding: content/yolo_dataset/train/images/dataq_84.jpg (deflated 1%)\n",
            "  adding: content/yolo_dataset/train/images/data_216.jpg (deflated 0%)\n",
            "  adding: content/yolo_dataset/train/images/dataq_88.jpg (deflated 1%)\n",
            "  adding: content/yolo_dataset/train/images/dataq_104.jpg (deflated 0%)\n",
            "  adding: content/yolo_dataset/train/images/dataq_56.jpg (deflated 1%)\n",
            "  adding: content/yolo_dataset/train/images/BEH607T8L0CW_jpg.rf.7522102c57b594081f21b0bb2cb3fd92.jpg (deflated 4%)\n",
            "  adding: content/yolo_dataset/train/images/DWGGM031MW2M_jpg.rf.2e47fd5320ad4825516e146d5590ae63.jpg (deflated 5%)\n",
            "  adding: content/yolo_dataset/train/images/9DUC3W8KLTSX_jpg.rf.22674b2547f1d8c6b2d058f3934e7ed4.jpg (deflated 5%)\n",
            "  adding: content/yolo_dataset/train/images/data_263.jpg (deflated 0%)\n",
            "  adding: content/yolo_dataset/train/images/image_149.jpg (deflated 1%)\n",
            "  adding: content/yolo_dataset/train/images/data_116.jpg (deflated 0%)\n",
            "  adding: content/yolo_dataset/train/images/dataq_30.jpg (deflated 0%)\n",
            "  adding: content/yolo_dataset/train/images/data_149.jpg (deflated 0%)\n",
            "  adding: content/yolo_dataset/train/images/data_57.jpg (deflated 1%)\n",
            "  adding: content/yolo_dataset/train/images/WVA72LIT2FCZ_jpg.rf.f789dc72a547f969db1eb852e5ac6e75.jpg (deflated 5%)\n",
            "  adding: content/yolo_dataset/train/images/datax_23.jpg (deflated 2%)\n",
            "  adding: content/yolo_dataset/train/images/dataq_63.jpg (deflated 0%)\n",
            "  adding: content/yolo_dataset/train/images/0Q86CMPW8GGE_jpg.rf.dabd33fe47142ec78a238a23d14592c7.jpg (deflated 5%)\n",
            "  adding: content/yolo_dataset/train/images/DBJKWHEXGQ1B_jpg.rf.b34f62a900b65f571d9082eef3c14af6.jpg (deflated 4%)\n",
            "  adding: content/yolo_dataset/train/images/data_248.jpg (deflated 0%)\n",
            "  adding: content/yolo_dataset/train/images/image_161.jpg (deflated 0%)\n",
            "  adding: content/yolo_dataset/train/images/7Y8VMEQ934RX_jpg.rf.e232eac3a352e683504947d37a4e25c1.jpg (deflated 5%)\n",
            "  adding: content/yolo_dataset/train/images/dataq_67.jpg (deflated 0%)\n",
            "  adding: content/yolo_dataset/train/images/COW60W8PPCQW_jpg.rf.6a9413ebcb209789c7137a9ae4725e04.jpg (deflated 6%)\n",
            "  adding: content/yolo_dataset/train/images/data_232.jpg (deflated 0%)\n",
            "  adding: content/yolo_dataset/train/images/7U7OK6PBK4X0_jpg.rf.981511d47da00ac949fae661a34a3706.jpg (deflated 5%)\n",
            "  adding: content/yolo_dataset/train/images/data_59.jpg (deflated 1%)\n",
            "  adding: content/yolo_dataset/train/images/datax_33.jpg (deflated 1%)\n",
            "  adding: content/yolo_dataset/train/images/6FEAR0NVGC6S_jpg.rf.7aabc56774e1458eff91f1c2b82b5ae8.jpg (deflated 5%)\n",
            "  adding: content/yolo_dataset/train/images/data_223.jpg (deflated 0%)\n",
            "  adding: content/yolo_dataset/train/images/KDX23LXHAQVK_jpg.rf.48e5134149e0774486f5cf31414b2e8d.jpg (deflated 5%)\n",
            "  adding: content/yolo_dataset/train/images/data_272.jpg (deflated 0%)\n",
            "  adding: content/yolo_dataset/train/images/data_64.jpg (deflated 1%)\n",
            "  adding: content/yolo_dataset/train/images/M9BJHHMZ7WTZ_jpg.rf.fb297f9ca9422f881c15e792c1dfe88e.jpg (deflated 7%)\n",
            "  adding: content/yolo_dataset/train/images/data_191.jpg (deflated 1%)\n",
            "  adding: content/yolo_dataset/train/images/LJ18KOWHMS4W_jpg.rf.86bd9b16c6d2faf79cf168064eed4cc1.jpg (deflated 5%)\n",
            "  adding: content/yolo_dataset/train/images/dataq_101.jpg (deflated 1%)\n",
            "  adding: content/yolo_dataset/train/images/JDU110AVBREE_jpg.rf.106ba2148cfd685e3ae7b3890e8974a0.jpg (deflated 4%)\n",
            "  adding: content/yolo_dataset/train/images/data_121.jpg (deflated 0%)\n",
            "  adding: content/yolo_dataset/train/images/RCLDXPA1L3O2_jpg.rf.26bc1f08646b59d5633cbcbf3fc64c9c.jpg (deflated 4%)\n",
            "  adding: content/yolo_dataset/train/images/datax_138.jpg (deflated 0%)\n",
            "  adding: content/yolo_dataset/train/images/datax_153.jpg (deflated 0%)\n",
            "  adding: content/yolo_dataset/train/images/DTL2QW4REEMH_jpg.rf.ce54c8a5bdcd9c2776a5459dd8944e6f.jpg (deflated 4%)\n",
            "  adding: content/yolo_dataset/train/images/data_56.jpg (deflated 1%)\n",
            "  adding: content/yolo_dataset/train/images/datax_104.jpg (deflated 0%)\n",
            "  adding: content/yolo_dataset/train/images/ET54G43B0F92_jpg.rf.f68ae7f92dabc3dcc4345b0f381adecf.jpg (deflated 5%)\n",
            "  adding: content/yolo_dataset/train/images/datax_147.jpg (deflated 0%)\n",
            "  adding: content/yolo_dataset/train/images/dataq_159.jpg (deflated 1%)\n",
            "  adding: content/yolo_dataset/train/images/8R2637B47YNB_jpg.rf.9399103580b3f39bc7cff59c6de90d13.jpg (deflated 7%)\n",
            "  adding: content/yolo_dataset/train/images/1DUOU2W1RCVI_jpg.rf.834c5eacbff2f12b18bd7c666ef7d218.jpg (deflated 6%)\n",
            "  adding: content/yolo_dataset/train/images/data_233.jpg (deflated 0%)\n",
            "  adding: content/yolo_dataset/train/images/image_163.jpg (deflated 0%)\n",
            "  adding: content/yolo_dataset/train/images/datax_122.jpg (deflated 0%)\n",
            "  adding: content/yolo_dataset/train/images/dataq_32.jpg (deflated 0%)\n",
            "  adding: content/yolo_dataset/train/images/678D6SF75N64_jpg.rf.0671093665f19a427d2730af8a62000f.jpg (deflated 5%)\n",
            "  adding: content/yolo_dataset/train/images/data_171.jpg (deflated 0%)\n",
            "  adding: content/yolo_dataset/train/images/data_62.jpg (deflated 0%)\n",
            "  adding: content/yolo_dataset/train/images/data_5.jpg (deflated 0%)\n",
            "  adding: content/yolo_dataset/train/images/datax_10.jpg (deflated 1%)\n",
            "  adding: content/yolo_dataset/train/images/1JR7XIDE4BF5_jpg.rf.474256f377911cb4ad555cf10f0bbfed.jpg (deflated 10%)\n",
            "  adding: content/yolo_dataset/train/images/dataq_52.jpg (deflated 0%)\n",
            "  adding: content/yolo_dataset/train/images/datax_123.jpg (deflated 0%)\n",
            "  adding: content/yolo_dataset/train/images/image_172.jpg (deflated 0%)\n",
            "  adding: content/yolo_dataset/train/images/datax_50.jpg (deflated 3%)\n",
            "  adding: content/yolo_dataset/train/images/5WHXJUOX6BH2_jpg.rf.4be681875b71f3b27ebd458625d8482b.jpg (deflated 4%)\n",
            "  adding: content/yolo_dataset/train/images/image_170.jpg (deflated 1%)\n",
            "  adding: content/yolo_dataset/train/images/LBU741FZX1OZ_jpg.rf.b8e8ed7b2d98f6a7a8c5066302631fed.jpg (deflated 10%)\n",
            "  adding: content/yolo_dataset/train/images/dataq_131.jpg (deflated 0%)\n",
            "  adding: content/yolo_dataset/train/images/data_53.jpg (deflated 0%)\n",
            "  adding: content/yolo_dataset/train/images/B5IBHEJZOKCH_jpg.rf.7b6edccd22c6dfeb9360b40abc32871b.jpg (deflated 5%)\n",
            "  adding: content/yolo_dataset/train/images/data_164.jpg (deflated 0%)\n",
            "  adding: content/yolo_dataset/train/images/image_106.jpg (deflated 0%)\n",
            "  adding: content/yolo_dataset/train/images/image_153.jpg (deflated 0%)\n",
            "  adding: content/yolo_dataset/train/images/VO83XQZF8H1R_jpg.rf.b46a4dabf5f9ea5fd8ac8cad9be2968d.jpg (deflated 4%)\n",
            "  adding: content/yolo_dataset/train/images/data_142.jpg (deflated 0%)\n",
            "  adding: content/yolo_dataset/train/images/dataq_85.jpg (deflated 1%)\n",
            "  adding: content/yolo_dataset/train/images/datax_137.jpg (deflated 2%)\n",
            "  adding: content/yolo_dataset/train/images/data_277.jpg (deflated 0%)\n",
            "  adding: content/yolo_dataset/train/images/Q2FFU22M82PS_jpg.rf.1d13865d4efd7b3d89121545dfecff22.jpg (deflated 4%)\n",
            "  adding: content/yolo_dataset/train/images/datax_36.jpg (deflated 1%)\n",
            "  adding: content/yolo_dataset/train/images/data_261.jpg (deflated 0%)\n",
            "  adding: content/yolo_dataset/train/images/data_108.jpg (deflated 0%)\n",
            "  adding: content/yolo_dataset/train/images/data_152.jpg (deflated 0%)\n",
            "  adding: content/yolo_dataset/train/images/dataq_158.jpg (deflated 0%)\n",
            "  adding: content/yolo_dataset/train/images/WT2U7751A11M_jpg.rf.28f660e7a98604eed3de5b9162d0389e.jpg (deflated 3%)\n",
            "  adding: content/yolo_dataset/train/images/6FW39Q68WR1F_jpg.rf.55f64f0ea377a6ad4e24cd9a7d367738.jpg (deflated 3%)\n",
            "  adding: content/yolo_dataset/train/images/image_183.jpg (deflated 0%)\n",
            "  adding: content/yolo_dataset/train/images/AZBJKOXZQ49X_jpg.rf.12a1af6e7e34383305fc877348b1d747.jpg (deflated 4%)\n",
            "  adding: content/yolo_dataset/train/images/image_140.jpg (deflated 0%)\n",
            "  adding: content/yolo_dataset/train/images/dataq_147.jpg (deflated 0%)\n",
            "  adding: content/yolo_dataset/train/images/datax_42.jpg (deflated 1%)\n",
            "  adding: content/yolo_dataset/train/images/image_187.jpg (deflated 0%)\n",
            "  adding: content/yolo_dataset/train/images/dataq_124.jpg (deflated 0%)\n",
            "  adding: content/yolo_dataset/train/images/UQ5KLWBW4QHF_jpg.rf.7f2b0e0b12d5202438a0ceb80da75867.jpg (deflated 4%)\n",
            "  adding: content/yolo_dataset/train/images/datax_99.jpg (deflated 0%)\n",
            "  adding: content/yolo_dataset/train/images/datax_112.jpg (deflated 0%)\n",
            "  adding: content/yolo_dataset/train/images/datax_113.jpg (deflated 0%)\n",
            "  adding: content/yolo_dataset/train/images/image_14.jpg (deflated 0%)\n",
            "  adding: content/yolo_dataset/train/images/data_186.jpg (deflated 0%)\n",
            "  adding: content/yolo_dataset/train/images/image_138.jpg (deflated 0%)\n",
            "  adding: content/yolo_dataset/train/images/datax_68.jpg (deflated 0%)\n",
            "  adding: content/yolo_dataset/train/images/ZNIMO19IHZOK_jpg.rf.d8a1bdb45a2cf0f9ee41cfe6679130a0.jpg (deflated 4%)\n",
            "  adding: content/yolo_dataset/train/images/DWW0BQXCK5CS_jpg.rf.95e2527faea0523963265b9dfc5cfd1a.jpg (deflated 5%)\n",
            "  adding: content/yolo_dataset/train/images/dataq_57.jpg (deflated 1%)\n",
            "  adding: content/yolo_dataset/train/images/data_189.jpg (deflated 1%)\n",
            "  adding: content/yolo_dataset/train/images/F3H1FDT1AIMA_jpg.rf.441b4b7f6f8e332ab049ad88a8563644.jpg (deflated 5%)\n",
            "  adding: content/yolo_dataset/train/images/image_190.jpg (deflated 0%)\n",
            "  adding: content/yolo_dataset/train/images/data_58.jpg (deflated 0%)\n",
            "  adding: content/yolo_dataset/train/images/data_41.jpg (deflated 1%)\n",
            "  adding: content/yolo_dataset/train/images/dataq_31.jpg (deflated 0%)\n",
            "  adding: content/yolo_dataset/train/images/image_113.jpg (deflated 0%)\n",
            "  adding: content/yolo_dataset/train/images/datax_144.jpg (deflated 0%)\n",
            "  adding: content/yolo_dataset/train/images/image_158.jpg (deflated 0%)\n",
            "  adding: content/yolo_dataset/train/images/DEC8KVTIU2G9_jpg.rf.06058b64f8858e21bc17588d831d2675.jpg (deflated 4%)\n",
            "  adding: content/yolo_dataset/train/images/data_214.jpg (deflated 0%)\n",
            "  adding: content/yolo_dataset/train/images/dataq_163.jpg (deflated 0%)\n",
            "  adding: content/yolo_dataset/train/images/data_253.jpg (deflated 0%)\n",
            "  adding: content/yolo_dataset/train/images/datax_111.jpg (deflated 0%)\n",
            "  adding: content/yolo_dataset/train/images/IO1OQLR0VHX3_jpg.rf.f0184e15e66914ccd7c0e9d0cf89638c.jpg (deflated 4%)\n",
            "  adding: content/yolo_dataset/train/images/dataq_41.jpg (deflated 0%)\n",
            "  adding: content/yolo_dataset/train/images/data_24.jpg (deflated 0%)\n",
            "  adding: content/yolo_dataset/train/images/datax_59.jpg (deflated 3%)\n",
            "  adding: content/yolo_dataset/train/images/datax_63.jpg (deflated 2%)\n",
            "  adding: content/yolo_dataset/train/images/dataq_59.jpg (deflated 0%)\n",
            "  adding: content/yolo_dataset/train/images/data_141.jpg (deflated 0%)\n",
            "  adding: content/yolo_dataset/train/images/data_49.jpg (deflated 0%)\n",
            "  adding: content/yolo_dataset/train/images/data_140.jpg (deflated 0%)\n",
            "  adding: content/yolo_dataset/train/images/NWY6NE0QBQTD_jpg.rf.6f4a93363f77876399c07240061cd1dd.jpg (deflated 5%)\n",
            "  adding: content/yolo_dataset/train/images/5LX6AEYSTTOX_jpg.rf.9d665077d62dda43d2acd02eb103f4b4.jpg (deflated 4%)\n",
            "  adding: content/yolo_dataset/train/images/data_221.jpg (deflated 0%)\n",
            "  adding: content/yolo_dataset/train/images/dataq_6.jpg (deflated 0%)\n",
            "  adding: content/yolo_dataset/train/images/data_93.jpg (deflated 1%)\n",
            "  adding: content/yolo_dataset/train/images/data_40.jpg (deflated 0%)\n",
            "  adding: content/yolo_dataset/train/images/72HAX054J94Q_jpg.rf.08964ac92336c0b211aedad01e4c4bb4.jpg (deflated 5%)\n",
            "  adding: content/yolo_dataset/train/images/data_4.jpg (deflated 0%)\n",
            "  adding: content/yolo_dataset/train/images/dataq_58.jpg (deflated 0%)\n",
            "  adding: content/yolo_dataset/train/images/1KILJRO4UDBB_jpg.rf.cd8d721dabf39a247ac44d2518a1dfc0.jpg (deflated 4%)\n",
            "  adding: content/yolo_dataset/train/images/1KXGJDQVOGTU_jpg.rf.15b09883a1a931d6de8b40029cef47f6.jpg (deflated 4%)\n",
            "  adding: content/yolo_dataset/train/images/data_106.jpg (deflated 0%)\n",
            "  adding: content/yolo_dataset/train/images/NFNL5ZEZHVMZ_jpg.rf.1e2254031841f92e9b3c6fdd38834740.jpg (deflated 4%)\n",
            "  adding: content/yolo_dataset/train/images/datax_2.jpg (deflated 0%)\n",
            "  adding: content/yolo_dataset/train/images/data_194.jpg (deflated 1%)\n",
            "  adding: content/yolo_dataset/train/images/GER9Y0HATREU_jpg.rf.a1fb41438d5b270f2c3231d9bf0b4952.jpg (deflated 4%)\n",
            "  adding: content/yolo_dataset/train/images/image_168.jpg (deflated 0%)\n",
            "  adding: content/yolo_dataset/train/images/dataq_3.jpg (deflated 0%)\n",
            "  adding: content/yolo_dataset/train/images/data_217.jpg (deflated 0%)\n",
            "  adding: content/yolo_dataset/train/images/NTQ9Q8LQVG7E_jpg.rf.a38c240af209562fab231f7365ee134e.jpg (deflated 4%)\n",
            "  adding: content/yolo_dataset/train/images/763BMAGH3BSH_jpg.rf.1c2a64bdc3f648c1605bc534b8dda1bb.jpg (deflated 5%)\n",
            "  adding: content/yolo_dataset/train/images/data_168.jpg (deflated 0%)\n",
            "  adding: content/yolo_dataset/train/images/datax_96.jpg (deflated 0%)\n",
            "  adding: content/yolo_dataset/train/images/dataq_77.jpg (deflated 0%)\n",
            "  adding: content/yolo_dataset/train/images/datax_81.jpg (deflated 1%)\n",
            "  adding: content/yolo_dataset/train/images/dataq_17.jpg (deflated 0%)\n",
            "  adding: content/yolo_dataset/train/images/O8OEYK11CI5G_jpg.rf.4edf386c5b8c63559371fcd403096012.jpg (deflated 4%)\n",
            "  adding: content/yolo_dataset/train/images/datax_56.jpg (deflated 3%)\n",
            "  adding: content/yolo_dataset/train/images/dataq_40.jpg (deflated 0%)\n",
            "  adding: content/yolo_dataset/train/images/dataq_24.jpg (deflated 0%)\n",
            "  adding: content/yolo_dataset/train/images/data_124.jpg (deflated 0%)\n",
            "  adding: content/yolo_dataset/train/images/ML0NSNEGZ1QK_jpg.rf.251ed0e307f6b3bb31e62a124aa8bf97.jpg (deflated 5%)\n",
            "  adding: content/yolo_dataset/train/images/dataq_12.jpg (deflated 0%)\n",
            "  adding: content/yolo_dataset/train/images/X1301M7WYHN4_jpg.rf.c6c9de660006dbdf831e341b565f7c1d.jpg (deflated 5%)\n",
            "  adding: content/yolo_dataset/train/images/data_7.jpg (deflated 0%)\n",
            "  adding: content/yolo_dataset/train/images/dataq_117.jpg (deflated 0%)\n",
            "  adding: content/yolo_dataset/train/images/dataq_154.jpg (deflated 0%)\n",
            "  adding: content/yolo_dataset/train/images/XSH9P3BVYYOT_jpg.rf.b247a1475e2e6272345a51849b3520f2.jpg (deflated 5%)\n",
            "  adding: content/yolo_dataset/train/images/data_47.jpg (deflated 0%)\n",
            "  adding: content/yolo_dataset/train/images/data_207.jpg (deflated 0%)\n",
            "  adding: content/yolo_dataset/train/images/data_118.jpg (deflated 0%)\n",
            "  adding: content/yolo_dataset/train/images/data_123.jpg (deflated 0%)\n",
            "  adding: content/yolo_dataset/train/images/data_160.jpg (deflated 0%)\n",
            "  adding: content/yolo_dataset/train/images/dataq_21.jpg (deflated 0%)\n",
            "  adding: content/yolo_dataset/train/images/data_213.jpg (deflated 0%)\n",
            "  adding: content/yolo_dataset/train/images/image_141.jpg (deflated 0%)\n",
            "  adding: content/yolo_dataset/train/images/datax_103.jpg (deflated 0%)\n",
            "  adding: content/yolo_dataset/train/images/62LXGO7FCDAQ_jpg.rf.466228aac3eae9cdb9408bd443c444c4.jpg (deflated 5%)\n",
            "  adding: content/yolo_dataset/train/images/image_156.jpg (deflated 0%)\n",
            "  adding: content/yolo_dataset/train/images/dataq_100.jpg (deflated 1%)\n",
            "  adding: content/yolo_dataset/train/images/Q4BPRQXQNGI5_jpg.rf.6e6625449ee084c6a86c6584cab08ff4.jpg (deflated 4%)\n",
            "  adding: content/yolo_dataset/train/images/WDEHB328UV9W_jpg.rf.6f017f93bdd2cee4c48d660050c18e9e.jpg (deflated 4%)\n",
            "  adding: content/yolo_dataset/train/images/image_171.jpg (deflated 0%)\n",
            "  adding: content/yolo_dataset/train/images/data_107.jpg (deflated 0%)\n",
            "  adding: content/yolo_dataset/train/images/0G9I5DS07WIS_jpg.rf.1bc3c57d9d180c6451a50511c93f6aa5.jpg (deflated 4%)\n",
            "  adding: content/yolo_dataset/train/images/data_104.jpg (deflated 0%)\n",
            "  adding: content/yolo_dataset/train/images/LM7V587BDJ37_jpg.rf.2fca458aa485655d62ef513f78955b20.jpg (deflated 4%)\n",
            "  adding: content/yolo_dataset/train/images/data_88.jpg (deflated 0%)\n",
            "  adding: content/yolo_dataset/train/images/data_85.jpg (deflated 0%)\n",
            "  adding: content/yolo_dataset/train/images/datax_150.jpg (deflated 0%)\n",
            "  adding: content/yolo_dataset/train/images/O1P0IK3IK3A1_jpg.rf.96c4d82ccf697654bef51f08b50b83e5.jpg (deflated 5%)\n",
            "  adding: content/yolo_dataset/train/images/CP48052GSNSS_jpg.rf.05de97259e34d87f6fbd41f0d5dc39b9.jpg (deflated 4%)\n",
            "  adding: content/yolo_dataset/train/images/data_99.jpg (deflated 1%)\n",
            "  adding: content/yolo_dataset/train/images/datax_55.jpg (deflated 3%)\n",
            "  adding: content/yolo_dataset/train/images/image_132.jpg (deflated 0%)\n",
            "  adding: content/yolo_dataset/train/images/Z690CTXIZ456_jpg.rf.02c97af535a56ef02945d904f5da08cb.jpg (deflated 5%)\n",
            "  adding: content/yolo_dataset/train/images/datax_29.jpg (deflated 1%)\n",
            "  adding: content/yolo_dataset/train/images/datax_117.jpg (deflated 0%)\n",
            "  adding: content/yolo_dataset/train/images/image_1.jpg (deflated 1%)\n",
            "  adding: content/yolo_dataset/train/images/data_220.jpg (deflated 0%)\n",
            "  adding: content/yolo_dataset/train/images/data_14.jpg (deflated 0%)\n",
            "  adding: content/yolo_dataset/train/images/data_129.jpg (deflated 0%)\n",
            "  adding: content/yolo_dataset/train/images/data_82.jpg (deflated 0%)\n",
            "  adding: content/yolo_dataset/train/images/TB4VLOPQQGWS_jpg.rf.79650197d0cc79cbe065d42343f48fc4.jpg (deflated 5%)\n",
            "  adding: content/yolo_dataset/train/images/datax_8.jpg (deflated 0%)\n",
            "  adding: content/yolo_dataset/train/images/datax_66.jpg (deflated 3%)\n",
            "  adding: content/yolo_dataset/train/images/dataq_177.jpg (deflated 0%)\n",
            "  adding: content/yolo_dataset/train/images/datax_28.jpg (deflated 2%)\n",
            "  adding: content/yolo_dataset/train/images/UOAH3FM819VX_jpg.rf.a85b165b1e77c79cb9c8d4ed00afafff.jpg (deflated 5%)\n",
            "  adding: content/yolo_dataset/train/images/data_36.jpg (deflated 0%)\n",
            "  adding: content/yolo_dataset/train/images/data_244.jpg (deflated 0%)\n",
            "  adding: content/yolo_dataset/train/images/datax_11.jpg (deflated 1%)\n",
            "  adding: content/yolo_dataset/train/images/dataq_29.jpg (deflated 0%)\n",
            "  adding: content/yolo_dataset/train/images/dataq_149.jpg (deflated 0%)\n",
            "  adding: content/yolo_dataset/train/images/P4I54EOIJE0U_jpg.rf.4ea2e0db8d30a4ea17b1cec155b0ba2e.jpg (deflated 5%)\n",
            "  adding: content/yolo_dataset/train/images/data_39.jpg (deflated 0%)\n",
            "  adding: content/yolo_dataset/train/images/data_172.jpg (deflated 0%)\n",
            "  adding: content/yolo_dataset/train/images/dataq_53.jpg (deflated 0%)\n",
            "  adding: content/yolo_dataset/train/images/TF2ZYE7IQENS_jpg.rf.4a5af6fd5884349cc5d5f74260fbf6c5.jpg (deflated 4%)\n",
            "  adding: content/yolo_dataset/train/images/image_147.jpg (deflated 0%)\n",
            "  adding: content/yolo_dataset/train/images/dataq_16.jpg (deflated 0%)\n",
            "  adding: content/yolo_dataset/train/images/dataq_162.jpg (deflated 1%)\n",
            "  adding: content/yolo_dataset/train/images/datax_92.jpg (deflated 0%)\n",
            "  adding: content/yolo_dataset/train/images/image_111.jpg (deflated 0%)\n",
            "  adding: content/yolo_dataset/train/images/CKBQWZS8TGOP_jpg.rf.ac644cc141ebadce5bb801aad5a637ae.jpg (deflated 5%)\n",
            "  adding: content/yolo_dataset/train/images/Y3CQCAW80H94_jpg.rf.f1643255043a07a26b505d98cd4803f3.jpg (deflated 6%)\n",
            "  adding: content/yolo_dataset/train/images/dataq_115.jpg (deflated 0%)\n",
            "  adding: content/yolo_dataset/train/images/ESOPR4IXWXEE_jpg.rf.5ed295e9a4ec04dafe886a9f90060467.jpg (deflated 5%)\n",
            "  adding: content/yolo_dataset/train/images/40RYVAAKAGDC_jpg.rf.56b57a3b86a3ae85d3ab3d65269bd8ec.jpg (deflated 4%)\n",
            "  adding: content/yolo_dataset/train/images/dataq_99.jpg (deflated 1%)\n",
            "  adding: content/yolo_dataset/train/images/datax_130.jpg (deflated 1%)\n",
            "  adding: content/yolo_dataset/train/images/datax_1.jpg (deflated 1%)\n",
            "  adding: content/yolo_dataset/train/images/datax_100.jpg (deflated 0%)\n",
            "  adding: content/yolo_dataset/train/images/datax_16.jpg (deflated 1%)\n",
            "  adding: content/yolo_dataset/train/images/dataq_8.jpg (deflated 1%)\n",
            "  adding: content/yolo_dataset/train/images/dataq_86.jpg (deflated 1%)\n",
            "  adding: content/yolo_dataset/train/images/QHT3U4AXROLF_jpg.rf.bb82c62b3582f0f8ec25a3a7939904cd.jpg (deflated 5%)\n",
            "  adding: content/yolo_dataset/train/images/datax_105.jpg (deflated 0%)\n",
            "  adding: content/yolo_dataset/train/images/image_188.jpg (deflated 0%)\n",
            "  adding: content/yolo_dataset/train/images/8GJBGVEOJD8P_jpg.rf.4e2219e7dd7b0ce993d448ad0895ac21.jpg (deflated 5%)\n",
            "  adding: content/yolo_dataset/train/images/image_162.jpg (deflated 0%)\n",
            "  adding: content/yolo_dataset/train/images/HYU3I5172K0I_jpg.rf.e95df8aaf283548aed65a21506d72a5d.jpg (deflated 5%)\n",
            "  adding: content/yolo_dataset/train/images/image_176.jpg (deflated 0%)\n",
            "  adding: content/yolo_dataset/train/images/RL4ECQ76XGJL_jpg.rf.ecad473d096b5d762836f2ca1f818196.jpg (deflated 6%)\n",
            "  adding: content/yolo_dataset/train/images/dataq_66.jpg (deflated 1%)\n",
            "  adding: content/yolo_dataset/train/images/data_206.jpg (deflated 1%)\n",
            "  adding: content/yolo_dataset/train/images/dataq_1.jpg (deflated 0%)\n",
            "  adding: content/yolo_dataset/train/images/data_137.jpg (deflated 0%)\n",
            "  adding: content/yolo_dataset/train/images/770S4VA5QUAX_jpg.rf.3c678368aa7ed51e0348d16f74f132c5.jpg (deflated 5%)\n",
            "  adding: content/yolo_dataset/train/images/datax_145.jpg (deflated 0%)\n",
            "  adding: content/yolo_dataset/train/images/data_68.jpg (deflated 0%)\n",
            "  adding: content/yolo_dataset/train/images/data_135.jpg (deflated 0%)\n",
            "  adding: content/yolo_dataset/train/images/data_182.jpg (deflated 0%)\n",
            "  adding: content/yolo_dataset/train/images/image_181.jpg (deflated 0%)\n",
            "  adding: content/yolo_dataset/train/images/datax_73.jpg (deflated 0%)\n",
            "  adding: content/yolo_dataset/train/images/datax_121.jpg (deflated 0%)\n",
            "  adding: content/yolo_dataset/train/images/dataq_156.jpg (deflated 0%)\n",
            "  adding: content/yolo_dataset/train/images/data_276.jpg (deflated 0%)\n",
            "  adding: content/yolo_dataset/train/images/data_81.jpg (deflated 0%)\n",
            "  adding: content/yolo_dataset/train/images/GGHN7T2R5XQG_jpg.rf.47daca3a922667f14f4ddc3857121a25.jpg (deflated 6%)\n",
            "  adding: content/yolo_dataset/train/images/image_186.jpg (deflated 0%)\n",
            "  adding: content/yolo_dataset/train/images/image_179.jpg (deflated 0%)\n",
            "  adding: content/yolo_dataset/train/images/data_190.jpg (deflated 0%)\n",
            "  adding: content/yolo_dataset/train/images/dataq_13.jpg (deflated 0%)\n",
            "  adding: content/yolo_dataset/train/images/image_151.jpg (deflated 0%)\n",
            "  adding: content/yolo_dataset/train/images/I01WFPT9SHJQ_jpg.rf.aa814ce1b7b755a931808b62a58ab7c7.jpg (deflated 5%)\n",
            "  adding: content/yolo_dataset/train/images/HMCZ8BJ51CR7_jpg.rf.2a555bbd1f2f40a3d571cdb9814b4cf0.jpg (deflated 4%)\n",
            "  adding: content/yolo_dataset/train/images/data_192.jpg (deflated 0%)\n",
            "  adding: content/yolo_dataset/train/images/dataq_120.jpg (deflated 0%)\n",
            "  adding: content/yolo_dataset/train/images/dataq_45.jpg (deflated 0%)\n",
            "  adding: content/yolo_dataset/train/images/data_34.jpg (deflated 0%)\n",
            "  adding: content/yolo_dataset/train/images/PH2LGQ76AMCK_jpg.rf.60ddc59620762f9081d72766dd9db8bf.jpg (deflated 4%)\n",
            "  adding: content/yolo_dataset/train/images/data_98.jpg (deflated 1%)\n",
            "  adding: content/yolo_dataset/train/images/ME0I4GI2F986_jpg.rf.e378acce6c3fc1d74c2fe1acbcb495b9.jpg (deflated 6%)\n",
            "  adding: content/yolo_dataset/train/images/dataq_73.jpg (deflated 0%)\n",
            "  adding: content/yolo_dataset/train/images/TIXFXMK7GTGU_jpg.rf.8e8b0b0d029bc11d87582cd1f11ebd60.jpg (deflated 4%)\n",
            "  adding: content/yolo_dataset/train/images/data_52.jpg (deflated 1%)\n",
            "  adding: content/yolo_dataset/train/images/datax_93.jpg (deflated 0%)\n",
            "  adding: content/yolo_dataset/train/images/R4UNYJMX3UHU_jpg.rf.9f7132f99e91ab2bf43236a0ff602545.jpg (deflated 6%)\n",
            "  adding: content/yolo_dataset/train/images/image_117.jpg (deflated 0%)\n",
            "  adding: content/yolo_dataset/train/images/data_177.jpg (deflated 0%)\n",
            "  adding: content/yolo_dataset/train/images/data_269.jpg (deflated 0%)\n",
            "  adding: content/yolo_dataset/train/images/data_66.jpg (deflated 0%)\n",
            "  adding: content/yolo_dataset/train/images/image_19.jpg (deflated 0%)\n",
            "  adding: content/yolo_dataset/train/images/data_2.jpg (deflated 0%)\n",
            "  adding: content/yolo_dataset/train/images/datax_35.jpg (deflated 1%)\n",
            "  adding: content/yolo_dataset/train/images/image_193.jpg (deflated 0%)\n",
            "  adding: content/yolo_dataset/train/images/datax_13.jpg (deflated 1%)\n",
            "  adding: content/yolo_dataset/train/images/dataq_146.jpg (deflated 0%)\n",
            "  adding: content/yolo_dataset/train/images/dataq_102.jpg (deflated 1%)\n",
            "  adding: content/yolo_dataset/train/images/8H6PR7AKW29O_jpg.rf.7e2c0ff4a52a61a1defef7a036e3c215.jpg (deflated 5%)\n",
            "  adding: content/yolo_dataset/train/images/AF4GT1WMLS49_jpg.rf.ea0c29bc111e600503da87e6d750108b.jpg (deflated 4%)\n",
            "  adding: content/yolo_dataset/train/images/datax_128.jpg (deflated 0%)\n",
            "  adding: content/yolo_dataset/train/images/SITAQO3FHUZD_jpg.rf.972dbb64b0690174651768ce9b16eff7.jpg (deflated 5%)\n",
            "  adding: content/yolo_dataset/train/images/HY9NCZ3KS3VW_jpg.rf.89837c6669e340f10a48f34acf1b5368.jpg (deflated 4%)\n",
            "  adding: content/yolo_dataset/train/images/datax_156.jpg (deflated 0%)\n",
            "  adding: content/yolo_dataset/train/images/NVL8YR7VSQ04_jpg.rf.5d32a227590c79db13af3f53bb45f5ae.jpg (deflated 5%)\n",
            "  adding: content/yolo_dataset/train/images/7B57Z09MAMWO_jpg.rf.62fea6f17201a316f767c90d5f252ebf.jpg (deflated 4%)\n",
            "  adding: content/yolo_dataset/train/images/ZBSHFC3OHSL5_jpg.rf.2d0351e8d6b3cd6cb45d75679f20b908.jpg (deflated 4%)\n",
            "  adding: content/yolo_dataset/train/images/image_11.jpg (deflated 0%)\n",
            "  adding: content/yolo_dataset/train/images/datax_26.jpg (deflated 2%)\n",
            "  adding: content/yolo_dataset/train/images/data_195.jpg (deflated 0%)\n",
            "  adding: content/yolo_dataset/train/images/5DQ7FF0WGW8Z_jpg.rf.47c0adf1379b33cd513181a297826dd2.jpg (deflated 6%)\n",
            "  adding: content/yolo_dataset/train/images/dataq_93.jpg (deflated 1%)\n",
            "  adding: content/yolo_dataset/train/images/WWZ21AAHCGUY_jpg.rf.f198f072bacdab36fe799ea60fa418fa.jpg (deflated 5%)\n",
            "  adding: content/yolo_dataset/train/images/dataq_18.jpg (deflated 0%)\n",
            "  adding: content/yolo_dataset/train/images/datax_102.jpg (deflated 0%)\n",
            "  adding: content/yolo_dataset/train/images/datax_85.jpg (deflated 0%)\n",
            "  adding: content/yolo_dataset/train/images/G67JOACJXYE5_jpg.rf.dc6cf1c326c7fc7ad67dd11ba2aa3db5.jpg (deflated 4%)\n",
            "  adding: content/yolo_dataset/train/images/data_262.jpg (deflated 0%)\n",
            "  adding: content/yolo_dataset/train/images/data_128.jpg (deflated 0%)\n",
            "  adding: content/yolo_dataset/train/images/datax_88.jpg (deflated 0%)\n",
            "  adding: content/yolo_dataset/train/images/VL70S53JI8ZM_jpg.rf.60d8f42954f5cca69581736f82ea5de9.jpg (deflated 4%)\n",
            "  adding: content/yolo_dataset/train/images/data_101.jpg (deflated 0%)\n",
            "  adding: content/yolo_dataset/train/images/image_104.jpg (deflated 0%)\n",
            "  adding: content/yolo_dataset/train/images/OPOED6W5KKC8_jpg.rf.a59840763525d19127044785c7f591d9.jpg (deflated 6%)\n",
            "  adding: content/yolo_dataset/train/images/BIGAAI46KMG1_jpg.rf.2ff347a9a279c86cb0476310e0fb23e1.jpg (deflated 5%)\n",
            "  adding: content/yolo_dataset/train/images/image_118.jpg (deflated 0%)\n",
            "  adding: content/yolo_dataset/train/images/data_274.jpg (deflated 0%)\n",
            "  adding: content/yolo_dataset/train/images/image_126.jpg (deflated 0%)\n",
            "  adding: content/yolo_dataset/train/images/data_48.jpg (deflated 1%)\n",
            "  adding: content/yolo_dataset/train/images/data_3.jpg (deflated 0%)\n",
            "  adding: content/yolo_dataset/train/images/image_101.jpg (deflated 0%)\n",
            "  adding: content/yolo_dataset/train/images/datax_94.jpg (deflated 0%)\n",
            "  adding: content/yolo_dataset/train/images/KRF2MXZHR7U3_jpg.rf.b44e6a2f5f6efc3f2d4b90d7afb27588.jpg (deflated 5%)\n",
            "  adding: content/yolo_dataset/train/images/data_110.jpg (deflated 1%)\n",
            "  adding: content/yolo_dataset/train/images/dataq_116.jpg (deflated 0%)\n",
            "  adding: content/yolo_dataset/train/images/data_243.jpg (deflated 0%)\n",
            "  adding: content/yolo_dataset/train/images/BFZKH8ZQMQXT_jpg.rf.6680a4038c815ac500b5ed4930ad8af4.jpg (deflated 4%)\n",
            "  adding: content/yolo_dataset/train/images/datax_61.jpg (deflated 2%)\n",
            "  adding: content/yolo_dataset/train/images/datax_154.jpg (deflated 0%)\n",
            "  adding: content/yolo_dataset/train/images/data_251.jpg (deflated 0%)\n",
            "  adding: content/yolo_dataset/train/images/dataq_160.jpg (deflated 0%)\n",
            "  adding: content/yolo_dataset/train/images/1JHQ0M6SUPZN_jpg.rf.59f03d96dda7ea598bfdc7aa0a4ab8d4.jpg (deflated 4%)\n",
            "  adding: content/yolo_dataset/train/images/S401A14VR21B_jpg.rf.32934433cc30cd425ff886ca7cf73efd.jpg (deflated 4%)\n",
            "  adding: content/yolo_dataset/train/images/data_72.jpg (deflated 0%)\n",
            "  adding: content/yolo_dataset/train/images/dataq_113.jpg (deflated 0%)\n",
            "  adding: content/yolo_dataset/train/images/datax_45.jpg (deflated 1%)\n",
            "  adding: content/yolo_dataset/train/images/data_91.jpg (deflated 0%)\n",
            "  adding: content/yolo_dataset/train/images/data_208.jpg (deflated 1%)\n",
            "  adding: content/yolo_dataset/train/images/data_102.jpg (deflated 0%)\n",
            "  adding: content/yolo_dataset/train/images/dataq_83.jpg (deflated 2%)\n",
            "  adding: content/yolo_dataset/train/images/data_193.jpg (deflated 0%)\n",
            "  adding: content/yolo_dataset/train/images/dataq_148.jpg (deflated 0%)\n",
            "  adding: content/yolo_dataset/train/images/data_154.jpg (deflated 0%)\n",
            "  adding: content/yolo_dataset/train/images/datax_60.jpg (deflated 2%)\n",
            "  adding: content/yolo_dataset/train/images/data_282.jpg (deflated 0%)\n",
            "  adding: content/yolo_dataset/train/images/RLBUPVCF7IK5_jpg.rf.c8ea9feaef8ca8a36e134ac79273a154.jpg (deflated 3%)\n",
            "  adding: content/yolo_dataset/train/images/datax_151.jpg (deflated 0%)\n",
            "  adding: content/yolo_dataset/train/images/dataq_70.jpg (deflated 1%)\n",
            "  adding: content/yolo_dataset/train/images/datax_12.jpg (deflated 2%)\n",
            "  adding: content/yolo_dataset/train/images/dataq_11.jpg (deflated 0%)\n",
            "  adding: content/yolo_dataset/train/images/data_115.jpg (deflated 0%)\n",
            "  adding: content/yolo_dataset/train/images/image_12.jpg (deflated 0%)\n",
            "  adding: content/yolo_dataset/train/images/0PJKAIHB0TLE_jpg.rf.da056805067b55bb6f11d6dc9ed37e7b.jpg (deflated 4%)\n",
            "  adding: content/yolo_dataset/data.yaml (deflated 24%)\n",
            "  adding: content/yolo_dataset/test/ (stored 0%)\n",
            "  adding: content/yolo_dataset/test/labels/ (stored 0%)\n",
            "  adding: content/yolo_dataset/test/labels/image_31.txt (deflated 28%)\n",
            "  adding: content/yolo_dataset/test/labels/image_336.txt (deflated 21%)\n",
            "  adding: content/yolo_dataset/test/labels/image_61.txt (deflated 15%)\n",
            "  adding: content/yolo_dataset/test/labels/image_44.txt (deflated 5%)\n",
            "  adding: content/yolo_dataset/test/labels/image_360.txt (deflated 8%)\n",
            "  adding: content/yolo_dataset/test/labels/image_76.txt (deflated 38%)\n",
            "  adding: content/yolo_dataset/test/labels/image_93.txt (deflated 27%)\n",
            "  adding: content/yolo_dataset/test/labels/image_51.txt (deflated 13%)\n",
            "  adding: content/yolo_dataset/test/labels/image_52.txt (deflated 27%)\n",
            "  adding: content/yolo_dataset/test/labels/image_324.txt (deflated 8%)\n",
            "  adding: content/yolo_dataset/test/labels/image_99.txt (deflated 10%)\n",
            "  adding: content/yolo_dataset/test/labels/image_55.txt (deflated 8%)\n",
            "  adding: content/yolo_dataset/test/labels/image_352.txt (deflated 8%)\n",
            "  adding: content/yolo_dataset/test/labels/image_60.txt (deflated 8%)\n",
            "  adding: content/yolo_dataset/test/labels/image_313.txt (deflated 8%)\n",
            "  adding: content/yolo_dataset/test/labels/image_355.txt (deflated 21%)\n",
            "  adding: content/yolo_dataset/test/labels/image_353.txt (deflated 10%)\n",
            "  adding: content/yolo_dataset/test/labels/image_97.txt (deflated 15%)\n",
            "  adding: content/yolo_dataset/test/labels/image_330.txt (deflated 15%)\n",
            "  adding: content/yolo_dataset/test/labels/image_91.txt (deflated 26%)\n",
            "  adding: content/yolo_dataset/test/labels/image_36.txt (deflated 28%)\n",
            "  adding: content/yolo_dataset/test/labels/image_85.txt (deflated 10%)\n",
            "  adding: content/yolo_dataset/test/labels/image_96.txt (deflated 15%)\n",
            "  adding: content/yolo_dataset/test/labels/image_341.txt (deflated 26%)\n",
            "  adding: content/yolo_dataset/test/labels/image_48.txt (deflated 13%)\n",
            "  adding: content/yolo_dataset/test/labels/image_349.txt (deflated 5%)\n",
            "  adding: content/yolo_dataset/test/labels/image_46.txt (deflated 10%)\n",
            "  adding: content/yolo_dataset/test/labels/image_54.txt (deflated 26%)\n",
            "  adding: content/yolo_dataset/test/labels/image_33.txt (deflated 28%)\n",
            "  adding: content/yolo_dataset/test/labels/image_58.txt (deflated 18%)\n",
            "  adding: content/yolo_dataset/test/labels/image_88.txt (deflated 21%)\n",
            "  adding: content/yolo_dataset/test/labels/image_339.txt (deflated 18%)\n",
            "  adding: content/yolo_dataset/test/labels/image_326.txt (deflated 8%)\n",
            "  adding: content/yolo_dataset/test/labels/image_310.txt (deflated 15%)\n",
            "  adding: content/yolo_dataset/test/labels/image_98.txt (deflated 21%)\n",
            "  adding: content/yolo_dataset/test/labels/image_84.txt (deflated 8%)\n",
            "  adding: content/yolo_dataset/test/labels/image_335.txt (deflated 10%)\n",
            "  adding: content/yolo_dataset/test/labels/image_317.txt (deflated 8%)\n",
            "  adding: content/yolo_dataset/test/labels/image_8.txt (deflated 26%)\n",
            "  adding: content/yolo_dataset/test/labels/image_329.txt (deflated 10%)\n",
            "  adding: content/yolo_dataset/test/labels/image_79.txt (deflated 29%)\n",
            "  adding: content/yolo_dataset/test/labels/image_32.txt (deflated 13%)\n",
            "  adding: content/yolo_dataset/test/labels/image_62.txt (deflated 46%)\n",
            "  adding: content/yolo_dataset/test/labels/image_42.txt (deflated 13%)\n",
            "  adding: content/yolo_dataset/test/labels/image_75.txt (deflated 5%)\n",
            "  adding: content/yolo_dataset/test/labels/image_87.txt (deflated 8%)\n",
            "  adding: content/yolo_dataset/test/labels/image_359.txt (deflated 10%)\n",
            "  adding: content/yolo_dataset/test/labels/image_53.txt (deflated 8%)\n",
            "  adding: content/yolo_dataset/test/labels/image_35.txt (deflated 24%)\n",
            "  adding: content/yolo_dataset/test/labels/image_80.txt (deflated 24%)\n",
            "  adding: content/yolo_dataset/test/labels/image_39.txt (deflated 28%)\n",
            "  adding: content/yolo_dataset/test/labels/image_325.txt (deflated 15%)\n",
            "  adding: content/yolo_dataset/test/labels/image_4.txt (deflated 27%)\n",
            "  adding: content/yolo_dataset/test/labels/image_73.txt (deflated 38%)\n",
            "  adding: content/yolo_dataset/test/labels/image_319.txt (deflated 13%)\n",
            "  adding: content/yolo_dataset/test/labels/image_318.txt (deflated 8%)\n",
            "  adding: content/yolo_dataset/test/labels/image_354.txt (deflated 8%)\n",
            "  adding: content/yolo_dataset/test/labels/image_328.txt (deflated 8%)\n",
            "  adding: content/yolo_dataset/test/labels/image_41.txt (deflated 21%)\n",
            "  adding: content/yolo_dataset/test/labels/image_314.txt (deflated 10%)\n",
            "  adding: content/yolo_dataset/test/labels/image_49.txt (deflated 18%)\n",
            "  adding: content/yolo_dataset/test/labels/image_78.txt (deflated 28%)\n",
            "  adding: content/yolo_dataset/test/labels/image_90.txt (deflated 5%)\n",
            "  adding: content/yolo_dataset/test/labels/image_34.txt (deflated 13%)\n",
            "  adding: content/yolo_dataset/test/labels/image_72.txt (deflated 27%)\n",
            "  adding: content/yolo_dataset/test/labels/image_348.txt (deflated 15%)\n",
            "  adding: content/yolo_dataset/test/labels/image_50.txt (deflated 13%)\n",
            "  adding: content/yolo_dataset/test/labels/image_82.txt (deflated 8%)\n",
            "  adding: content/yolo_dataset/test/labels/image_350.txt (deflated 8%)\n",
            "  adding: content/yolo_dataset/test/labels/image_56.txt (deflated 21%)\n",
            "  adding: content/yolo_dataset/test/labels/image_320.txt (deflated 13%)\n",
            "  adding: content/yolo_dataset/test/labels/image_333.txt (deflated 13%)\n",
            "  adding: content/yolo_dataset/test/labels/image_40.txt (deflated 31%)\n",
            "  adding: content/yolo_dataset/test/labels/image_6.txt (deflated 26%)\n",
            "  adding: content/yolo_dataset/test/labels/image_65.txt (deflated 29%)\n",
            "  adding: content/yolo_dataset/test/labels/image_67.txt (deflated 8%)\n",
            "  adding: content/yolo_dataset/test/labels/image_86.txt (deflated 18%)\n",
            "  adding: content/yolo_dataset/test/labels/image_347.txt (deflated 10%)\n",
            "  adding: content/yolo_dataset/test/labels/image_68.txt (deflated 28%)\n",
            "  adding: content/yolo_dataset/test/labels/image_342.txt (deflated 5%)\n",
            "  adding: content/yolo_dataset/test/labels/image_37.txt (deflated 27%)\n",
            "  adding: content/yolo_dataset/test/labels/image_332.txt (deflated 15%)\n",
            "  adding: content/yolo_dataset/test/labels/image_331.txt (deflated 10%)\n",
            "  adding: content/yolo_dataset/test/labels/image_38.txt (deflated 24%)\n",
            "  adding: content/yolo_dataset/test/labels/image_338.txt (deflated 18%)\n",
            "  adding: content/yolo_dataset/test/labels/image_351.txt (deflated 8%)\n",
            "  adding: content/yolo_dataset/test/labels/image_357.txt (deflated 10%)\n",
            "  adding: content/yolo_dataset/test/labels/image_43.txt (deflated 15%)\n",
            "  adding: content/yolo_dataset/test/labels/image_95.txt (deflated 15%)\n",
            "  adding: content/yolo_dataset/test/labels/image_327.txt (deflated 10%)\n",
            "  adding: content/yolo_dataset/test/labels/image_57.txt (deflated 27%)\n",
            "  adding: content/yolo_dataset/test/labels/image_358.txt (deflated 13%)\n",
            "  adding: content/yolo_dataset/test/labels/image_59.txt (deflated 8%)\n",
            "  adding: content/yolo_dataset/test/labels/image_69.txt (deflated 27%)\n",
            "  adding: content/yolo_dataset/test/labels/image_94.txt (deflated 15%)\n",
            "  adding: content/yolo_dataset/test/labels/image_344.txt (deflated 10%)\n",
            "  adding: content/yolo_dataset/test/labels/image_89.txt (deflated 15%)\n",
            "  adding: content/yolo_dataset/test/labels/image_315.txt (deflated 18%)\n",
            "  adding: content/yolo_dataset/test/labels/image_345.txt (deflated 10%)\n",
            "  adding: content/yolo_dataset/test/labels/image_321.txt (deflated 5%)\n",
            "  adding: content/yolo_dataset/test/labels/image_7.txt (deflated 38%)\n",
            "  adding: content/yolo_dataset/test/labels/image_77.txt (deflated 21%)\n",
            "  adding: content/yolo_dataset/test/labels/image_323.txt (deflated 23%)\n",
            "  adding: content/yolo_dataset/test/labels/image_343.txt (deflated 13%)\n",
            "  adding: content/yolo_dataset/test/labels/image_9.txt (deflated 18%)\n",
            "  adding: content/yolo_dataset/test/labels/image_70.txt (deflated 10%)\n",
            "  adding: content/yolo_dataset/test/labels/image_316.txt (deflated 10%)\n",
            "  adding: content/yolo_dataset/test/labels/image_356.txt (deflated 8%)\n",
            "  adding: content/yolo_dataset/test/labels/image_312.txt (deflated 18%)\n",
            "  adding: content/yolo_dataset/test/labels/image_311.txt (deflated 8%)\n",
            "  adding: content/yolo_dataset/test/labels/image_340.txt (deflated 5%)\n",
            "  adding: content/yolo_dataset/test/labels/image_71.txt (deflated 26%)\n",
            "  adding: content/yolo_dataset/test/labels/image_337.txt (deflated 13%)\n",
            "  adding: content/yolo_dataset/test/labels/image_63.txt (deflated 26%)\n",
            "  adding: content/yolo_dataset/test/labels/image_74.txt (deflated 23%)\n",
            "  adding: content/yolo_dataset/test/labels/image_322.txt (deflated 8%)\n",
            "  adding: content/yolo_dataset/test/labels/image_346.txt (deflated 13%)\n",
            "  adding: content/yolo_dataset/test/labels/image_83.txt (deflated 18%)\n",
            "  adding: content/yolo_dataset/test/labels/image_5.txt (deflated 5%)\n",
            "  adding: content/yolo_dataset/test/labels/image_81.txt (deflated 8%)\n",
            "  adding: content/yolo_dataset/test/labels/image_92.txt (deflated 26%)\n",
            "  adding: content/yolo_dataset/test/labels/image_47.txt (deflated 5%)\n",
            "  adding: content/yolo_dataset/test/labels/image_64.txt (deflated 8%)\n",
            "  adding: content/yolo_dataset/test/labels/image_66.txt (deflated 5%)\n",
            "  adding: content/yolo_dataset/test/labels/image_334.txt (deflated 13%)\n",
            "  adding: content/yolo_dataset/test/labels/image_45.txt (deflated 5%)\n",
            "  adding: content/yolo_dataset/test/images/ (stored 0%)\n",
            "  adding: content/yolo_dataset/test/images/image_6.jpg (deflated 0%)\n",
            "  adding: content/yolo_dataset/test/images/image_62.jpg (deflated 0%)\n",
            "  adding: content/yolo_dataset/test/images/image_316.jpg (deflated 0%)\n",
            "  adding: content/yolo_dataset/test/images/image_64.jpg (deflated 0%)\n",
            "  adding: content/yolo_dataset/test/images/image_45.jpg (deflated 0%)\n",
            "  adding: content/yolo_dataset/test/images/image_330.jpg (deflated 0%)\n",
            "  adding: content/yolo_dataset/test/images/image_31.jpg (deflated 0%)\n",
            "  adding: content/yolo_dataset/test/images/image_93.jpg (deflated 0%)\n",
            "  adding: content/yolo_dataset/test/images/image_48.jpg (deflated 0%)\n",
            "  adding: content/yolo_dataset/test/images/image_313.jpg (deflated 0%)\n",
            "  adding: content/yolo_dataset/test/images/image_92.jpg (deflated 1%)\n",
            "  adding: content/yolo_dataset/test/images/image_55.jpg (deflated 0%)\n",
            "  adding: content/yolo_dataset/test/images/image_88.jpg (deflated 0%)\n",
            "  adding: content/yolo_dataset/test/images/image_322.jpg (deflated 0%)\n",
            "  adding: content/yolo_dataset/test/images/image_76.jpg (deflated 0%)\n",
            "  adding: content/yolo_dataset/test/images/image_35.jpg (deflated 0%)\n",
            "  adding: content/yolo_dataset/test/images/image_345.jpg (deflated 0%)\n",
            "  adding: content/yolo_dataset/test/images/image_360.jpg (deflated 1%)\n",
            "  adding: content/yolo_dataset/test/images/image_350.jpg (deflated 1%)\n",
            "  adding: content/yolo_dataset/test/images/image_5.jpg (deflated 0%)\n",
            "  adding: content/yolo_dataset/test/images/image_90.jpg (deflated 0%)\n",
            "  adding: content/yolo_dataset/test/images/image_97.jpg (deflated 0%)\n",
            "  adding: content/yolo_dataset/test/images/image_38.jpg (deflated 0%)\n",
            "  adding: content/yolo_dataset/test/images/image_346.jpg (deflated 1%)\n",
            "  adding: content/yolo_dataset/test/images/image_347.jpg (deflated 5%)\n",
            "  adding: content/yolo_dataset/test/images/image_355.jpg (deflated 0%)\n",
            "  adding: content/yolo_dataset/test/images/image_349.jpg (deflated 6%)\n",
            "  adding: content/yolo_dataset/test/images/image_324.jpg (deflated 0%)\n",
            "  adding: content/yolo_dataset/test/images/image_359.jpg (deflated 0%)\n",
            "  adding: content/yolo_dataset/test/images/image_343.jpg (deflated 1%)\n",
            "  adding: content/yolo_dataset/test/images/image_36.jpg (deflated 0%)\n",
            "  adding: content/yolo_dataset/test/images/image_82.jpg (deflated 0%)\n",
            "  adding: content/yolo_dataset/test/images/image_318.jpg (deflated 0%)\n",
            "  adding: content/yolo_dataset/test/images/image_84.jpg (deflated 0%)\n",
            "  adding: content/yolo_dataset/test/images/image_43.jpg (deflated 0%)\n",
            "  adding: content/yolo_dataset/test/images/image_73.jpg (deflated 0%)\n",
            "  adding: content/yolo_dataset/test/images/image_53.jpg (deflated 0%)\n",
            "  adding: content/yolo_dataset/test/images/image_68.jpg (deflated 0%)\n",
            "  adding: content/yolo_dataset/test/images/image_32.jpg (deflated 0%)\n",
            "  adding: content/yolo_dataset/test/images/image_50.jpg (deflated 0%)\n",
            "  adding: content/yolo_dataset/test/images/image_4.jpg (deflated 0%)\n",
            "  adding: content/yolo_dataset/test/images/image_337.jpg (deflated 1%)\n",
            "  adding: content/yolo_dataset/test/images/image_74.jpg (deflated 0%)\n",
            "  adding: content/yolo_dataset/test/images/image_72.jpg (deflated 0%)\n",
            "  adding: content/yolo_dataset/test/images/image_334.jpg (deflated 1%)\n",
            "  adding: content/yolo_dataset/test/images/image_331.jpg (deflated 0%)\n",
            "  adding: content/yolo_dataset/test/images/image_71.jpg (deflated 0%)\n",
            "  adding: content/yolo_dataset/test/images/image_315.jpg (deflated 0%)\n",
            "  adding: content/yolo_dataset/test/images/image_77.jpg (deflated 0%)\n",
            "  adding: content/yolo_dataset/test/images/image_59.jpg (deflated 0%)\n",
            "  adding: content/yolo_dataset/test/images/image_85.jpg (deflated 0%)\n",
            "  adding: content/yolo_dataset/test/images/image_33.jpg (deflated 0%)\n",
            "  adding: content/yolo_dataset/test/images/image_46.jpg (deflated 0%)\n",
            "  adding: content/yolo_dataset/test/images/image_51.jpg (deflated 1%)\n",
            "  adding: content/yolo_dataset/test/images/image_98.jpg (deflated 0%)\n",
            "  adding: content/yolo_dataset/test/images/image_44.jpg (deflated 0%)\n",
            "  adding: content/yolo_dataset/test/images/image_75.jpg (deflated 0%)\n",
            "  adding: content/yolo_dataset/test/images/image_47.jpg (deflated 0%)\n",
            "  adding: content/yolo_dataset/test/images/image_320.jpg (deflated 1%)\n",
            "  adding: content/yolo_dataset/test/images/image_341.jpg (deflated 0%)\n",
            "  adding: content/yolo_dataset/test/images/image_311.jpg (deflated 0%)\n",
            "  adding: content/yolo_dataset/test/images/image_63.jpg (deflated 0%)\n",
            "  adding: content/yolo_dataset/test/images/image_317.jpg (deflated 1%)\n",
            "  adding: content/yolo_dataset/test/images/image_358.jpg (deflated 1%)\n",
            "  adding: content/yolo_dataset/test/images/image_338.jpg (deflated 1%)\n",
            "  adding: content/yolo_dataset/test/images/image_352.jpg (deflated 0%)\n",
            "  adding: content/yolo_dataset/test/images/image_325.jpg (deflated 0%)\n",
            "  adding: content/yolo_dataset/test/images/image_9.jpg (deflated 0%)\n",
            "  adding: content/yolo_dataset/test/images/image_91.jpg (deflated 0%)\n",
            "  adding: content/yolo_dataset/test/images/image_95.jpg (deflated 0%)\n",
            "  adding: content/yolo_dataset/test/images/image_335.jpg (deflated 0%)\n",
            "  adding: content/yolo_dataset/test/images/image_353.jpg (deflated 0%)\n",
            "  adding: content/yolo_dataset/test/images/image_56.jpg (deflated 0%)\n",
            "  adding: content/yolo_dataset/test/images/image_83.jpg (deflated 0%)\n",
            "  adding: content/yolo_dataset/test/images/image_79.jpg (deflated 0%)\n",
            "  adding: content/yolo_dataset/test/images/image_336.jpg (deflated 1%)\n",
            "  adding: content/yolo_dataset/test/images/image_314.jpg (deflated 0%)\n",
            "  adding: content/yolo_dataset/test/images/image_357.jpg (deflated 0%)\n",
            "  adding: content/yolo_dataset/test/images/image_332.jpg (deflated 0%)\n",
            "  adding: content/yolo_dataset/test/images/image_344.jpg (deflated 0%)\n",
            "  adding: content/yolo_dataset/test/images/image_351.jpg (deflated 0%)\n",
            "  adding: content/yolo_dataset/test/images/image_57.jpg (deflated 0%)\n",
            "  adding: content/yolo_dataset/test/images/image_80.jpg (deflated 0%)\n",
            "  adding: content/yolo_dataset/test/images/image_348.jpg (deflated 6%)\n",
            "  adding: content/yolo_dataset/test/images/image_94.jpg (deflated 0%)\n",
            "  adding: content/yolo_dataset/test/images/image_66.jpg (deflated 0%)\n",
            "  adding: content/yolo_dataset/test/images/image_312.jpg (deflated 0%)\n",
            "  adding: content/yolo_dataset/test/images/image_310.jpg (deflated 0%)\n",
            "  adding: content/yolo_dataset/test/images/image_39.jpg (deflated 0%)\n",
            "  adding: content/yolo_dataset/test/images/image_327.jpg (deflated 0%)\n",
            "  adding: content/yolo_dataset/test/images/image_342.jpg (deflated 0%)\n",
            "  adding: content/yolo_dataset/test/images/image_49.jpg (deflated 0%)\n",
            "  adding: content/yolo_dataset/test/images/image_58.jpg (deflated 0%)\n",
            "  adding: content/yolo_dataset/test/images/image_339.jpg (deflated 1%)\n",
            "  adding: content/yolo_dataset/test/images/image_7.jpg (deflated 0%)\n",
            "  adding: content/yolo_dataset/test/images/image_354.jpg (deflated 0%)\n",
            "  adding: content/yolo_dataset/test/images/image_70.jpg (deflated 0%)\n",
            "  adding: content/yolo_dataset/test/images/image_326.jpg (deflated 0%)\n",
            "  adding: content/yolo_dataset/test/images/image_329.jpg (deflated 0%)\n",
            "  adding: content/yolo_dataset/test/images/image_34.jpg (deflated 0%)\n",
            "  adding: content/yolo_dataset/test/images/image_86.jpg (deflated 0%)\n",
            "  adding: content/yolo_dataset/test/images/image_40.jpg (deflated 0%)\n",
            "  adding: content/yolo_dataset/test/images/image_69.jpg (deflated 0%)\n",
            "  adding: content/yolo_dataset/test/images/image_54.jpg (deflated 0%)\n",
            "  adding: content/yolo_dataset/test/images/image_87.jpg (deflated 0%)\n",
            "  adding: content/yolo_dataset/test/images/image_41.jpg (deflated 0%)\n",
            "  adding: content/yolo_dataset/test/images/image_96.jpg (deflated 0%)\n",
            "  adding: content/yolo_dataset/test/images/image_52.jpg (deflated 0%)\n",
            "  adding: content/yolo_dataset/test/images/image_61.jpg (deflated 0%)\n",
            "  adding: content/yolo_dataset/test/images/image_8.jpg (deflated 0%)\n",
            "  adding: content/yolo_dataset/test/images/image_67.jpg (deflated 0%)\n",
            "  adding: content/yolo_dataset/test/images/image_42.jpg (deflated 0%)\n",
            "  adding: content/yolo_dataset/test/images/image_81.jpg (deflated 1%)\n",
            "  adding: content/yolo_dataset/test/images/image_60.jpg (deflated 0%)\n",
            "  adding: content/yolo_dataset/test/images/image_319.jpg (deflated 0%)\n",
            "  adding: content/yolo_dataset/test/images/image_323.jpg (deflated 0%)\n",
            "  adding: content/yolo_dataset/test/images/image_356.jpg (deflated 0%)\n",
            "  adding: content/yolo_dataset/test/images/image_89.jpg (deflated 0%)\n",
            "  adding: content/yolo_dataset/test/images/image_328.jpg (deflated 0%)\n",
            "  adding: content/yolo_dataset/test/images/image_99.jpg (deflated 0%)\n",
            "  adding: content/yolo_dataset/test/images/image_78.jpg (deflated 0%)\n",
            "  adding: content/yolo_dataset/test/images/image_321.jpg (deflated 0%)\n",
            "  adding: content/yolo_dataset/test/images/image_340.jpg (deflated 0%)\n",
            "  adding: content/yolo_dataset/test/images/image_333.jpg (deflated 0%)\n",
            "  adding: content/yolo_dataset/test/images/image_37.jpg (deflated 0%)\n",
            "  adding: content/yolo_dataset/test/images/image_65.jpg (deflated 0%)\n"
          ]
        }
      ]
    },
    {
      "cell_type": "code",
      "source": [
        "from google.colab import files\n",
        "files.download(\"yolo_dataset.zip\")\n"
      ],
      "metadata": {
        "colab": {
          "base_uri": "https://localhost:8080/",
          "height": 17
        },
        "id": "fZ-xsw2ps4_Z",
        "outputId": "4773e29e-ca5e-43cc-be8d-6e3caec1c52b"
      },
      "execution_count": null,
      "outputs": [
        {
          "output_type": "display_data",
          "data": {
            "text/plain": [
              "<IPython.core.display.Javascript object>"
            ],
            "application/javascript": [
              "\n",
              "    async function download(id, filename, size) {\n",
              "      if (!google.colab.kernel.accessAllowed) {\n",
              "        return;\n",
              "      }\n",
              "      const div = document.createElement('div');\n",
              "      const label = document.createElement('label');\n",
              "      label.textContent = `Downloading \"${filename}\": `;\n",
              "      div.appendChild(label);\n",
              "      const progress = document.createElement('progress');\n",
              "      progress.max = size;\n",
              "      div.appendChild(progress);\n",
              "      document.body.appendChild(div);\n",
              "\n",
              "      const buffers = [];\n",
              "      let downloaded = 0;\n",
              "\n",
              "      const channel = await google.colab.kernel.comms.open(id);\n",
              "      // Send a message to notify the kernel that we're ready.\n",
              "      channel.send({})\n",
              "\n",
              "      for await (const message of channel.messages) {\n",
              "        // Send a message to notify the kernel that we're ready.\n",
              "        channel.send({})\n",
              "        if (message.buffers) {\n",
              "          for (const buffer of message.buffers) {\n",
              "            buffers.push(buffer);\n",
              "            downloaded += buffer.byteLength;\n",
              "            progress.value = downloaded;\n",
              "          }\n",
              "        }\n",
              "      }\n",
              "      const blob = new Blob(buffers, {type: 'application/binary'});\n",
              "      const a = document.createElement('a');\n",
              "      a.href = window.URL.createObjectURL(blob);\n",
              "      a.download = filename;\n",
              "      div.appendChild(a);\n",
              "      a.click();\n",
              "      div.remove();\n",
              "    }\n",
              "  "
            ]
          },
          "metadata": {}
        },
        {
          "output_type": "display_data",
          "data": {
            "text/plain": [
              "<IPython.core.display.Javascript object>"
            ],
            "application/javascript": [
              "download(\"download_664300f5-81ba-40b2-a225-c9eb89679742\", \"yolo_dataset.zip\", 173991993)"
            ]
          },
          "metadata": {}
        }
      ]
    },
    {
      "cell_type": "code",
      "source": [
        "files.download(\"/content/yolo_dataset/data.yaml\")\n"
      ],
      "metadata": {
        "colab": {
          "base_uri": "https://localhost:8080/",
          "height": 17
        },
        "id": "mLNOCe5hs6uE",
        "outputId": "2c840e80-a0cf-40a0-ed1f-65ff705a9b31"
      },
      "execution_count": null,
      "outputs": [
        {
          "output_type": "display_data",
          "data": {
            "text/plain": [
              "<IPython.core.display.Javascript object>"
            ],
            "application/javascript": [
              "\n",
              "    async function download(id, filename, size) {\n",
              "      if (!google.colab.kernel.accessAllowed) {\n",
              "        return;\n",
              "      }\n",
              "      const div = document.createElement('div');\n",
              "      const label = document.createElement('label');\n",
              "      label.textContent = `Downloading \"${filename}\": `;\n",
              "      div.appendChild(label);\n",
              "      const progress = document.createElement('progress');\n",
              "      progress.max = size;\n",
              "      div.appendChild(progress);\n",
              "      document.body.appendChild(div);\n",
              "\n",
              "      const buffers = [];\n",
              "      let downloaded = 0;\n",
              "\n",
              "      const channel = await google.colab.kernel.comms.open(id);\n",
              "      // Send a message to notify the kernel that we're ready.\n",
              "      channel.send({})\n",
              "\n",
              "      for await (const message of channel.messages) {\n",
              "        // Send a message to notify the kernel that we're ready.\n",
              "        channel.send({})\n",
              "        if (message.buffers) {\n",
              "          for (const buffer of message.buffers) {\n",
              "            buffers.push(buffer);\n",
              "            downloaded += buffer.byteLength;\n",
              "            progress.value = downloaded;\n",
              "          }\n",
              "        }\n",
              "      }\n",
              "      const blob = new Blob(buffers, {type: 'application/binary'});\n",
              "      const a = document.createElement('a');\n",
              "      a.href = window.URL.createObjectURL(blob);\n",
              "      a.download = filename;\n",
              "      div.appendChild(a);\n",
              "      a.click();\n",
              "      div.remove();\n",
              "    }\n",
              "  "
            ]
          },
          "metadata": {}
        },
        {
          "output_type": "display_data",
          "data": {
            "text/plain": [
              "<IPython.core.display.Javascript object>"
            ],
            "application/javascript": [
              "download(\"download_5e85b281-b780-435f-ae9e-bc831c6c4cac\", \"data.yaml\", 115)"
            ]
          },
          "metadata": {}
        }
      ]
    }
  ]
}